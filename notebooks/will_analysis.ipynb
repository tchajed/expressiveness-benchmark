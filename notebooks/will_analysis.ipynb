{
 "cells": [
  {
   "cell_type": "code",
   "execution_count": null,
   "metadata": {
    "ExecuteTime": {
     "end_time": "2020-12-14T19:18:18.770316Z",
     "start_time": "2020-12-14T19:18:18.626895Z"
    }
   },
   "outputs": [],
   "source": [
    "%load_ext autoreload\n",
    "%autoreload 2\n",
    "from expressiveness_benchmark.types import Plan, Task, Language, SourceRange, Program\n",
    "import pandas as pd\n",
    "import seaborn as sns\n",
    "import matplotlib.pyplot as plt\n",
    "import numpy as np\n",
    "from interval import interval\n",
    "from itertools import combinations\n",
    "sns.set(style='whitegrid')"
   ]
  },
  {
   "cell_type": "code",
   "execution_count": null,
   "metadata": {
    "ExecuteTime": {
     "end_time": "2020-12-10T19:46:56.521657Z",
     "start_time": "2020-12-10T19:46:56.280696Z"
    }
   },
   "outputs": [],
   "source": [
    "programs = Program.load_all()\n",
    "tasks = Task.load_all()\n",
    "\n",
    "programs = programs[programs.plan != {}] # filter where plan hasn't been labeled\n",
    "programs = programs[programs.task.isin(tasks.id.tolist())] # filter programs associated to a missing task\n",
    "programs['category'] = programs.task.map(lambda t: tasks[tasks.id == t].category.iloc[0])"
   ]
  },
  {
   "cell_type": "markdown",
   "metadata": {},
   "source": [
    "# Source metrics"
   ]
  },
  {
   "cell_type": "code",
   "execution_count": null,
   "metadata": {
    "ExecuteTime": {
     "end_time": "2020-12-10T19:46:56.777690Z",
     "start_time": "2020-12-10T19:46:56.525048Z"
    }
   },
   "outputs": [],
   "source": [
    "programs['nlines'] = programs.source.map(lambda s: len(s.split('\\n')))\n",
    "sns.boxplot(data=programs, x='language', y='nlines')"
   ]
  },
  {
   "cell_type": "code",
   "execution_count": null,
   "metadata": {
    "ExecuteTime": {
     "end_time": "2020-12-10T19:46:57.021480Z",
     "start_time": "2020-12-10T19:46:56.779730Z"
    }
   },
   "outputs": [],
   "source": [
    "programs['nchars'] = programs.source.map(len)\n",
    "sns.boxplot(data=programs, x='language', y='nchars')"
   ]
  },
  {
   "cell_type": "code",
   "execution_count": null,
   "metadata": {
    "ExecuteTime": {
     "end_time": "2020-12-10T20:11:52.722402Z",
     "start_time": "2020-12-10T20:11:52.697469Z"
    }
   },
   "outputs": [],
   "source": [
    "from scipy.stats import zscore, rankdata\n",
    "\n",
    "def bestworst(group, measure='nchars', score=rankdata):\n",
    "    df = programs.groupby('task', as_index=False).apply(\n",
    "        lambda rows: rows.assign(\n",
    "            metric=score(rows[measure]))).reset_index()\n",
    "\n",
    "    def f(df):\n",
    "        df = df.groupby('category').metric.mean()\n",
    "        return {'best': df.index[df.argmin()], 'worst': df.index[df.argmax()]}\n",
    "\n",
    "    return df.groupby('language').apply(f)"
   ]
  },
  {
   "cell_type": "code",
   "execution_count": null,
   "metadata": {
    "ExecuteTime": {
     "end_time": "2020-12-10T20:23:57.591667Z",
     "start_time": "2020-12-10T20:23:57.445534Z"
    }
   },
   "outputs": [],
   "source": [
    "def inv_zscore(x):\n",
    "    return -zscore(x)\n",
    "\n",
    "for group in ['category', 'task']:\n",
    "    for score in [rankdata, inv_zscore]:\n",
    "        print(f'GROUP: {group}, SCORE: {score.__name__}')\n",
    "        print(bestworst(group, score=score))\n",
    "        print()"
   ]
  },
  {
   "cell_type": "code",
   "execution_count": null,
   "metadata": {
    "ExecuteTime": {
     "end_time": "2020-12-10T20:21:54.068771Z",
     "start_time": "2020-12-10T20:21:54.006072Z"
    }
   },
   "outputs": [],
   "source": [
    "bestworst('category', score=rankdata)"
   ]
  },
  {
   "cell_type": "markdown",
   "metadata": {},
   "source": [
    "# Plan metrics"
   ]
  },
  {
   "cell_type": "code",
   "execution_count": null,
   "metadata": {
    "ExecuteTime": {
     "end_time": "2020-12-10T19:46:58.817712Z",
     "start_time": "2020-12-10T19:46:57.111071Z"
    }
   },
   "outputs": [],
   "source": [
    "def coord_to_1d(lines, line, column):\n",
    "    return sum([len(l) for l in lines[:line]]) + column        \n",
    "    \n",
    "def plan_overlap(row):\n",
    "    lines = row.source.split('\\n')\n",
    "    plan_df = pd.DataFrame([{'key': k, **v} for k, vs in row.plan.items() for v in vs])\n",
    "    plan_df['byte_start'] = plan_df.apply(lambda row: coord_to_1d(lines, row.line, row.start), axis=1)\n",
    "    plan_df['byte_end'] = plan_df.apply(lambda row: coord_to_1d(lines, row.line, row.end), axis=1)\n",
    "\n",
    "    full_intervals = plan_df.groupby('key').apply(\n",
    "        lambda rows: interval[rows.byte_start.min(), rows.byte_end.max()])\n",
    "    all_pairs = combinations(full_intervals.tolist(), r=2)\n",
    "    return sum([1 if l & r else 0 for (l, r) in all_pairs])\n",
    "\n",
    "programs['plan_overlap'] = programs.apply(plan_overlap, axis=1)\n",
    "order = programs.groupby('language').plan_overlap.mean().sort_values().index.values\n",
    "g = sns.FacetGrid(data=programs, row='language', aspect=2, height=2, row_order=order)\n",
    "g.map(sns.distplot, 'plan_overlap', kde=False, bins=np.arange(0, programs.plan_overlap.max()+1))\n",
    "for i, ax in enumerate(g.axes.flatten()):\n",
    "    ax.axvline(programs[programs.language == order[i]].plan_overlap.mean(), color='r')\n",
    "    ax.tick_params(labelbottom=True)    \n",
    "plt.tight_layout()"
   ]
  }
 ],
 "metadata": {
  "kernelspec": {
   "display_name": "Python 3",
   "language": "python",
   "name": "python3"
  },
  "language_info": {
   "codemirror_mode": {
    "name": "ipython",
    "version": 3
   },
   "file_extension": ".py",
   "mimetype": "text/x-python",
   "name": "python",
   "nbconvert_exporter": "python",
   "pygments_lexer": "ipython3",
   "version": "3.9.1"
  },
  "toc": {
   "base_numbering": 1,
   "nav_menu": {},
   "number_sections": true,
   "sideBar": true,
   "skip_h1_title": false,
   "title_cell": "Table of Contents",
   "title_sidebar": "Contents",
   "toc_cell": false,
   "toc_position": {},
   "toc_section_display": true,
   "toc_window_display": false
  },
  "varInspector": {
   "cols": {
    "lenName": 16,
    "lenType": 16,
    "lenVar": 40
   },
   "kernels_config": {
    "python": {
     "delete_cmd_postfix": "",
     "delete_cmd_prefix": "del ",
     "library": "var_list.py",
     "varRefreshCmd": "print(var_dic_list())"
    },
    "r": {
     "delete_cmd_postfix": ") ",
     "delete_cmd_prefix": "rm(",
     "library": "var_list.r",
     "varRefreshCmd": "cat(var_dic_list()) "
    }
   },
   "types_to_exclude": [
    "module",
    "function",
    "builtin_function_or_method",
    "instance",
    "_Feature"
   ],
   "window_display": false
  }
 },
 "nbformat": 4,
 "nbformat_minor": 4
}
