{
 "cells": [
  {
   "cell_type": "code",
   "execution_count": 1,
   "metadata": {},
   "outputs": [],
   "source": [
    "%load_ext autoreload\n",
    "%autoreload 2\n",
    "from expressiveness_benchmark.types import Plan, Task, Language, SourceRange, Program\n",
    "from code_widget.example import CodeWidget\n",
    "from dataclasses import replace\n",
    "import json\n",
    "import pandas as pd"
   ]
  },
  {
   "cell_type": "code",
   "execution_count": 2,
   "metadata": {},
   "outputs": [],
   "source": [
    "# CHANGE ME!\n",
    "TASK_ID = 'unique_product'\n",
    "AUTHOR = 'g'\n"
   ]
  },
  {
   "cell_type": "code",
   "execution_count": null,
   "metadata": {},
   "outputs": [],
   "source": [
    "task = Task(\n",
    "    id=TASK_ID,\n",
    "    name= \"Unique product\",\n",
    "    description=\"Find the name of any product whose value is different from all others\",\n",
    "    plan=[\n",
    "         {\n",
    "        \"id\": \"name\",\n",
    "        \"description\": \"Find the name\",\n",
    "    }, {\n",
    "        \"id\": \"check\",\n",
    "        \"description\": \"value is different from all others\",\n",
    "    } \n",
    "    ],\n",
    "    sample_input={\n",
    "       \"list\":[{\"id\":0,\"value\":\"Apple\"},{\"id\":1,\"value\":\"Banana\"},{\"id\":2,\"value\":\"Banana\"},\n",
    "               {\"id\":3,\"value\":\"Banana\"} ]\n",
    "    },\n",
    "    sample_output=\"Apple\",\n",
    "    category='First-order logic'\n",
    ")\n",
    "task.save()\n",
    "\n",
    "prototype = Program(\n",
    "    task=TASK_ID,\n",
    "    author=AUTHOR,\n",
    "    language=''    \n",
    ")"
   ]
  },
  {
   "cell_type": "code",
   "execution_count": 5,
   "metadata": {},
   "outputs": [],
   "source": [
    "imp = replace(prototype,\n",
    "    language='python-imperative',\n",
    "    source='''\n",
    "def unique_product(list):\n",
    "  values = [l[\"value\"] for l in list]\n",
    "  for elem in values:\n",
    "    if values.count(elem) == 1:\n",
    "      return elem\n",
    "  return None\n",
    "''').load_plan()\n",
    "imp.execute(task)\n",
    "imp.save()"
   ]
  },
  {
   "cell_type": "code",
   "execution_count": 6,
   "metadata": {},
   "outputs": [],
   "source": [
    "func = replace(prototype,\n",
    "    language='python-functional',\n",
    "    source='''\n",
    "def unique_product(list):\n",
    "  values = [l[\"value\"] for l in list]\n",
    "  return next(x for x in values if values.count(x) == 1)\n",
    "''').load_plan()\n",
    "func.execute(task)\n",
    "func.save()"
   ]
  },
  {
   "cell_type": "code",
   "execution_count": 7,
   "metadata": {},
   "outputs": [],
   "source": [
    "pandas = replace(prototype,\n",
    "    language='python-pandas',\n",
    "    source='''\n",
    "def unique_product(list):\n",
    "  return list[list.groupby('value').value.\n",
    "    transform(len) == 1].value\n",
    "''').load_plan()\n",
    "pandas.execute(task)\n",
    "pandas.save()"
   ]
  },
  {
   "cell_type": "code",
   "execution_count": 4,
   "metadata": {},
   "outputs": [],
   "source": [
    "sql = replace(prototype,\n",
    "    language='sql',\n",
    "    source='''\n",
    "SELECT value\n",
    "FROM list\n",
    "GROUP BY value\n",
    "HAVING Count(*) == 1\n",
    "''').load_plan()\n",
    "sql.execute(task)\n",
    "sql.save()"
   ]
  },
  {
   "cell_type": "code",
   "execution_count": 9,
   "metadata": {},
   "outputs": [],
   "source": [
    "datalog = replace(prototype,\n",
    "    language='datalog',\n",
    "    source='''\n",
    ".decl is_unique(Value:symbol)\n",
    "is_unique(Value) :-\n",
    "    list(_,Value), !not_unique(Value).\n",
    "    \n",
    ".decl not_unique(Value:symbol)\n",
    "not_unique(Value) :- \n",
    "    list(id1,Value), list(id2,Value), id1 != id2.\n",
    "\n",
    "unique_product(value) :- is_unique(value).\n",
    "''').load_plan()\n",
    "datalog.execute(task)\n",
    "datalog.save()"
   ]
  },
  {
   "cell_type": "code",
   "execution_count": 7,
   "metadata": {},
   "outputs": [
    {
     "data": {
      "application/vnd.jupyter.widget-view+json": {
       "model_id": "fd7d7a3ef7a44c11b7f42b60abe31b34",
       "version_major": 2,
       "version_minor": 0
      },
      "text/plain": [
       "Output()"
      ]
     },
     "metadata": {},
     "output_type": "display_data"
    },
    {
     "data": {
      "application/vnd.jupyter.widget-view+json": {
       "model_id": "6ec9f6bfd9f44ddc9ca9894acf60cf70",
       "version_major": 2,
       "version_minor": 0
      },
      "text/plain": [
       "CodeWidget(program='{\"task\": \"unique_product\", \"language\": \"sql\", \"plan\": {\"check\": [{\"line\": 4, \"start\": 0, \"…"
      ]
     },
     "metadata": {},
     "output_type": "display_data"
    }
   ],
   "source": [
    "program = sql\n",
    "program.widget(task)"
   ]
  },
  {
   "cell_type": "code",
   "execution_count": null,
   "metadata": {},
   "outputs": [],
   "source": []
  }
 ],
 "metadata": {
  "kernelspec": {
   "display_name": "Python 3",
   "language": "python",
   "name": "python3"
  },
  "language_info": {
   "codemirror_mode": {
    "name": "ipython",
    "version": 3
   },
   "file_extension": ".py",
   "mimetype": "text/x-python",
   "name": "python",
   "nbconvert_exporter": "python",
   "pygments_lexer": "ipython3",
   "version": "3.7.6"
  }
 },
 "nbformat": 4,
 "nbformat_minor": 2
}
