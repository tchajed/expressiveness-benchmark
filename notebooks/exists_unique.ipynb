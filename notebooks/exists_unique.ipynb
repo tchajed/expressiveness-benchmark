{
 "cells": [
  {
   "cell_type": "code",
   "execution_count": 1,
   "metadata": {},
   "outputs": [],
   "source": [
    "%load_ext autoreload\n",
    "%autoreload 2\n",
    "from expressiveness_benchmark.types import Plan, Task, Language, SourceRange, Program\n",
    "from code_widget.example import CodeWidget\n",
    "from dataclasses import replace\n",
    "import json\n",
    "import pandas as pd"
   ]
  },
  {
   "cell_type": "code",
   "execution_count": 2,
   "metadata": {},
   "outputs": [],
   "source": [
    "# CHANGE ME!\n",
    "TASK_ID = 'unique_product'\n",
    "AUTHOR = 'g'\n"
   ]
  },
  {
   "cell_type": "code",
   "execution_count": 4,
   "metadata": {},
   "outputs": [],
   "source": [
    "task = Task(\n",
    "    id=TASK_ID,\n",
    "    name= \"Unique product\",\n",
    "    description=\"Find if there is a product that is different from all other products on a shelf\",\n",
    "    plan=[\n",
    "         {\n",
    "        \"id\": \"count\",\n",
    "        \"description\": \"count each product\",\n",
    "    }, {\n",
    "        \"id\": \"check\",\n",
    "        \"description\": \"check if any count is 1\",\n",
    "    } \n",
    "    ],\n",
    "    sample_input={\n",
    "       \"list\":[{\"id\":0,\"value\":\"Apple\"},{\"id\":1,\"value\":\"Banana\"},{\"id\":2,\"value\":\"Banana\"},\n",
    "               {\"id\":3,\"value\":\"Banana\"} ]\n",
    "    },\n",
    "    sample_output=\"Apple\",\n",
    "    category='Basic'\n",
    ")\n",
    "task.save()\n",
    "\n",
    "prototype = Program(\n",
    "    task=TASK_ID,\n",
    "    author=AUTHOR,\n",
    "    language=''    \n",
    ")"
   ]
  },
  {
   "cell_type": "code",
   "execution_count": 6,
   "metadata": {},
   "outputs": [],
   "source": [
    "imp = replace(prototype,\n",
    "    language='python-imperative',\n",
    "    source='''\n",
    "def unique_product(list):\n",
    "  values = [l[\"value\"] for l in list]\n",
    "  for elem in values:\n",
    "    if values.count(elem) == 1:\n",
    "      return elem\n",
    "  return None\n",
    "''')\n",
    "imp.execute(task)\n",
    "imp.save()"
   ]
  },
  {
   "cell_type": "code",
   "execution_count": 10,
   "metadata": {},
   "outputs": [],
   "source": [
    "func = replace(prototype,\n",
    "    language='python-functional',\n",
    "    source='''\n",
    "def unique_product(list):\n",
    "  values = [l[\"value\"] for l in list]\n",
    "  return next(x for x in values if values.count(x) == 1)\n",
    "''')\n",
    "func.execute(task)\n",
    "func.save()"
   ]
  },
  {
   "cell_type": "code",
   "execution_count": 27,
   "metadata": {},
   "outputs": [],
   "source": [
    "pandas = replace(prototype,\n",
    "    language='python-pandas',\n",
    "    source='''\n",
    "def unique_product(list):\n",
    "  return list[list.groupby('value').value.\n",
    "    transform(len) == 1].value\n",
    "''')\n",
    "pandas.execute(task)\n",
    "pandas.save()"
   ]
  },
  {
   "cell_type": "code",
   "execution_count": 29,
   "metadata": {},
   "outputs": [],
   "source": [
    "func = replace(prototype,\n",
    "    language='sql',\n",
    "    source='''\n",
    "SELECT value\n",
    "FROM list\n",
    "GROUP BY value\n",
    "HAVING Count(*) == 1\n",
    "''')\n",
    "func.execute(task)\n",
    "func.save()"
   ]
  },
  {
   "cell_type": "code",
   "execution_count": 35,
   "metadata": {},
   "outputs": [],
   "source": [
    "datalog = replace(prototype,\n",
    "    language='datalog',\n",
    "    source='''\n",
    ".decl is_unique(Value:symbol)\n",
    "is_unique(Value) :-\n",
    "    list(_,Value), !not_unique(Value).\n",
    "    \n",
    ".decl not_unique(Value:symbol)\n",
    "not_unique(Value) :- \n",
    "    list(id1,Value), list(id2,Value), id1 != id2.\n",
    "\n",
    "unique_product(value) :- is_unique(value).\n",
    "''').load_plan()\n",
    "datalog.execute(task)\n",
    "datalog.save()"
   ]
  },
  {
   "cell_type": "code",
   "execution_count": null,
   "metadata": {},
   "outputs": [],
   "source": []
  }
 ],
 "metadata": {
  "kernelspec": {
   "display_name": "Python 3",
   "language": "python",
   "name": "python3"
  },
  "language_info": {
   "codemirror_mode": {
    "name": "ipython",
    "version": 3
   },
   "file_extension": ".py",
   "mimetype": "text/x-python",
   "name": "python",
   "nbconvert_exporter": "python",
   "pygments_lexer": "ipython3",
   "version": "3.7.6"
  }
 },
 "nbformat": 4,
 "nbformat_minor": 2
}
