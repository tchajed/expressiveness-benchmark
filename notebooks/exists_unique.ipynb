{
 "cells": [
  {
   "cell_type": "code",
   "execution_count": 2,
   "metadata": {},
   "outputs": [],
   "source": [
    "%load_ext autoreload\n",
    "%autoreload 2\n",
    "from expressiveness_benchmark.types import Plan, Task, Language, SourceRange, Program\n",
    "from code_widget.example import CodeWidget\n",
    "from dataclasses import replace\n",
    "import json\n",
    "import pandas as pd"
   ]
  },
  {
   "cell_type": "code",
   "execution_count": 3,
   "metadata": {},
   "outputs": [],
   "source": [
    "# CHANGE ME!\n",
    "TASK_ID = 'exists_unique'\n",
    "AUTHOR = 'g'\n"
   ]
  },
  {
   "cell_type": "code",
   "execution_count": 4,
   "metadata": {},
   "outputs": [],
   "source": [
    "task = Task(\n",
    "    id=TASK_ID,\n",
    "    description=\"Find if there exists an object that is different than all other objects\",\n",
    "    plan=[\n",
    "    ],\n",
    "    sample_input={\n",
    "       \"list\":[{\"id\":0,\"value\":1},{\"id\":1,\"value\":2},{\"id\":2,\"value\":3},{\"id\":3,\"value\":1}]\n",
    "    },\n",
    "    sample_output=1,\n",
    "    category='Basic'\n",
    ")\n",
    "task.save()\n",
    "\n",
    "prototype = Program(\n",
    "    task=TASK_ID,\n",
    "    author=AUTHOR,\n",
    "    language=''    \n",
    ")"
   ]
  },
  {
   "cell_type": "code",
   "execution_count": null,
   "metadata": {},
   "outputs": [],
   "source": [
    "imp = replace(prototype,\n",
    "    language='python-imperative',\n",
    "    source='''\n",
    "def exists_unique(list):\n",
    "    for elem in list:\n",
    "        e = elem[\"value\"]\n",
    "        if list.count(elem) == 1:\n",
    "            return 1\n",
    "    return 0\n",
    "''')\n",
    "imp.execute(task)\n",
    "imp.save()"
   ]
  },
  {
   "cell_type": "code",
   "execution_count": null,
   "metadata": {},
   "outputs": [],
   "source": [
    "func = replace(prototype,\n",
    "    language='python-functional',\n",
    "    source='''\n",
    "def exists_unique(list):\n",
    "    return int(any(list.count(x) == 1 for x in list))\n",
    "''')\n",
    "func.execute(task)\n",
    "func.save()"
   ]
  },
  {
   "cell_type": "code",
   "execution_count": null,
   "metadata": {},
   "outputs": [],
   "source": [
    "func = replace(prototype,\n",
    "    language='python-pandas',\n",
    "    source='''\n",
    "def exists_unique(list):\n",
    "    values = list.value.value_counts()\n",
    "    if 1 in values:\n",
    "        return 1\n",
    "    return 0\n",
    "''')\n",
    "func.execute(task)\n",
    "func.save()"
   ]
  },
  {
   "cell_type": "code",
   "execution_count": null,
   "metadata": {},
   "outputs": [],
   "source": [
    "func = replace(prototype,\n",
    "    language='sql',\n",
    "    source='''\n",
    "    SELECT Count(*) > 0 AS HasUnique\n",
    "    FROM (SELECT DISTINCT value FROM list)\n",
    "''')\n",
    "func.execute(task)\n",
    "func.save()"
   ]
  },
  {
   "cell_type": "code",
   "execution_count": 7,
   "metadata": {},
   "outputs": [],
   "source": [
    "datalog = replace(prototype,\n",
    "    language='datalog',\n",
    "    source='''\n",
    ".decl is_unique(Value:number)\n",
    "is_unique(Value) :-\n",
    "list(_,Value), !not_unique(Value).\n",
    ".decl not_unique(Value:number)\n",
    "not_unique(Value) :- list(Id1,Value), list(Id2,Value), Id1 != Id2.\n",
    "\n",
    "exists_unique(Value):-\n",
    "(is_unique(_),Value=1);\n",
    "(!is_unique(_),Value=0).\n",
    "\n",
    "''').load_plan()\n",
    "datalog.execute(task)\n",
    "datalog.save()"
   ]
  },
  {
   "cell_type": "code",
   "execution_count": null,
   "metadata": {},
   "outputs": [],
   "source": []
  }
 ],
 "metadata": {
  "kernelspec": {
   "display_name": "Python 3",
   "language": "python",
   "name": "python3"
  },
  "language_info": {
   "codemirror_mode": {
    "name": "ipython",
    "version": 3
   },
   "file_extension": ".py",
   "mimetype": "text/x-python",
   "name": "python",
   "nbconvert_exporter": "python",
   "pygments_lexer": "ipython3",
   "version": "3.6.3"
  }
 },
 "nbformat": 4,
 "nbformat_minor": 2
}
