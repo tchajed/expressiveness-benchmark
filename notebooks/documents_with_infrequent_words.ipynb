{
 "cells": [
  {
   "cell_type": "code",
   "execution_count": 3,
   "metadata": {
    "ExecuteTime": {
     "end_time": "2020-12-10T00:02:52.787991Z",
     "start_time": "2020-12-10T00:02:52.760838Z"
    }
   },
   "outputs": [
    {
     "name": "stdout",
     "output_type": "stream",
     "text": [
      "The autoreload extension is already loaded. To reload it, use:\n",
      "  %reload_ext autoreload\n"
     ]
    }
   ],
   "source": [
    "%load_ext autoreload\n",
    "%autoreload 2\n",
    "from expressiveness_benchmark.types import Plan, Task, Language, SourceRange, Program\n",
    "from code_widget.example import CodeWidget\n",
    "from dataclasses import replace\n",
    "import json\n",
    "import pandas as pd"
   ]
  },
  {
   "cell_type": "code",
   "execution_count": 4,
   "metadata": {
    "ExecuteTime": {
     "end_time": "2020-12-10T00:02:53.357661Z",
     "start_time": "2020-12-10T00:02:53.335040Z"
    }
   },
   "outputs": [],
   "source": [
    "# CHANGE ME!\n",
    "TASK_ID = 'documents_with_infrequent_words'\n",
    "AUTHOR = 'will'"
   ]
  },
  {
   "cell_type": "code",
   "execution_count": 5,
   "metadata": {
    "ExecuteTime": {
     "end_time": "2020-12-10T00:02:53.956625Z",
     "start_time": "2020-12-10T00:02:53.924386Z"
    }
   },
   "outputs": [],
   "source": [
    "task = Task(\n",
    "    id=TASK_ID,\n",
    "    category=\"Strings\",\n",
    "    name=\"Documents with infrequent words\",\n",
    "    description=\"Find the index of documents that contain a word that appears exactly once in the corpus, \\\n",
    "where a word is a case-sensitive string of characters separated by a space.\",\n",
    "    plan=[\n",
    "        Plan(id=\"word\", description=\"case-sensitive string of characters separated by a space\"),\n",
    "        Plan(id=\"frequency\", description=\"appears exactly once\"),\n",
    "        Plan(id=\"documents\", description=\"documents that contain a word\")\n",
    "    ],\n",
    "    sample_input={\n",
    "        \"documents\": [\n",
    "            {\"id\": 1, \"text\": \"Hello world\"},\n",
    "            {\"id\": 2, \"text\": \"Hello friend\"},\n",
    "            {\"id\": 3, \"text\": \"friend of the world\"},\n",
    "            {\"id\": 4, \"text\": \"Hola\"}\n",
    "        ]\n",
    "    },\n",
    "    sample_output=[3, 4],\n",
    ")\n",
    "task.save()\n",
    "\n",
    "prototype = Program(\n",
    "    task=TASK_ID,\n",
    "    author=AUTHOR,\n",
    "    language=''    \n",
    ")"
   ]
  },
  {
   "cell_type": "code",
   "execution_count": 19,
   "metadata": {
    "ExecuteTime": {
     "end_time": "2020-12-10T00:13:11.686147Z",
     "start_time": "2020-12-10T00:13:11.629358Z"
    }
   },
   "outputs": [],
   "source": [
    "r = replace(prototype,\n",
    "    language='r',\n",
    "    source='''documents_with_infrequent_words <- function(documents) {\n",
    "  split <- documents %>%\n",
    "    mutate(word = str_split(text, \" \")) %>%\n",
    "    unnest()\n",
    "  freq <- split %>% count(word)\n",
    "  unique_words <- freq %>% filter(n == 1)\n",
    "  split %>% \n",
    "    filter(word %in% unique_words$word) %>%\n",
    "    pull(id) %>%\n",
    "    unique()\n",
    "}''').load_plan()\n",
    "r.execute(task)\n",
    "r.save()"
   ]
  },
  {
   "cell_type": "code",
   "execution_count": 21,
   "metadata": {
    "ExecuteTime": {
     "end_time": "2020-12-10T00:13:22.675286Z",
     "start_time": "2020-12-10T00:13:22.637936Z"
    }
   },
   "outputs": [
    {
     "data": {
      "application/vnd.jupyter.widget-view+json": {
       "model_id": "df12ded2e41b4171a479d7b0167ad9fc",
       "version_major": 2,
       "version_minor": 0
      },
      "text/plain": [
       "Output()"
      ]
     },
     "metadata": {},
     "output_type": "display_data"
    },
    {
     "data": {
      "application/vnd.jupyter.widget-view+json": {
       "model_id": "57933609ea7745efbb1aec8160828b98",
       "version_major": 2,
       "version_minor": 0
      },
      "text/plain": [
       "CodeWidget(program='{\"task\": \"documents_with_infrequent_words\", \"language\": \"r\", \"plan\": {}, \"source\": \"docume…"
      ]
     },
     "metadata": {},
     "output_type": "display_data"
    }
   ],
   "source": [
    "r.widget(task)"
   ]
  },
  {
   "cell_type": "code",
   "execution_count": 4,
   "metadata": {
    "ExecuteTime": {
     "end_time": "2020-11-16T01:34:29.576112Z",
     "start_time": "2020-11-16T01:34:29.543518Z"
    }
   },
   "outputs": [],
   "source": [
    "python_imperative = replace(prototype,\n",
    "    language='python-imperative',\n",
    "    source='''def documents_with_infrequent_words(documents):\n",
    "  words = {}\n",
    "  freq = defaultdict(int)\n",
    "  for doc in documents:\n",
    "    words[doc[\"id\"]] = doc[\"text\"].split(\" \")\n",
    "    for word in words[doc[\"id\"]]:\n",
    "      freq[word] += 1\n",
    "      \n",
    "  infrequent_words = set()\n",
    "  for word, count in freq.items():\n",
    "    if count == 1:\n",
    "      infrequent_words.add(word)\n",
    "      \n",
    "  infrequent_docs = []\n",
    "  for doc in documents:\n",
    "    for word in words[doc[\"id\"]]:\n",
    "      if word in infrequent_words:\n",
    "        infrequent_docs.append(doc[\"id\"])\n",
    "        break\n",
    "        \n",
    "  return infrequent_docs''').load_plan()\n",
    "python_imperative.execute(task)\n",
    "python_imperative.save()"
   ]
  },
  {
   "cell_type": "code",
   "execution_count": 5,
   "metadata": {
    "ExecuteTime": {
     "end_time": "2020-11-16T01:34:34.593097Z",
     "start_time": "2020-11-16T01:34:34.552109Z"
    }
   },
   "outputs": [
    {
     "data": {
      "application/vnd.jupyter.widget-view+json": {
       "model_id": "025913a197f1462b84ab0f9070cb5597",
       "version_major": 2,
       "version_minor": 0
      },
      "text/plain": [
       "Output()"
      ]
     },
     "metadata": {},
     "output_type": "display_data"
    },
    {
     "data": {
      "application/vnd.jupyter.widget-view+json": {
       "model_id": "ec1c509e9be14582a521a31d30dee2ee",
       "version_major": 2,
       "version_minor": 0
      },
      "text/plain": [
       "CodeWidget(program='{\"task\": \"documents_with_infrequent_words\", \"language\": \"python-imperative\", \"plan\": {}, \"…"
      ]
     },
     "metadata": {},
     "output_type": "display_data"
    }
   ],
   "source": [
    "python_imperative.widget(task)"
   ]
  },
  {
   "cell_type": "code",
   "execution_count": 8,
   "metadata": {
    "ExecuteTime": {
     "end_time": "2020-11-16T01:36:06.978292Z",
     "start_time": "2020-11-16T01:36:06.954494Z"
    }
   },
   "outputs": [],
   "source": [
    "python_functional = replace(prototype,\n",
    "    language='python-functional',\n",
    "    source='''def documents_with_infrequent_words(documents):\n",
    "  words = [doc[\"text\"].split(\" \") for doc in documents]\n",
    "  words_flat = [w for ws in words for w in ws]\n",
    "  freq = {\n",
    "    word: words_flat.count(word) \n",
    "    for word in set(words_flat)\n",
    "  }\n",
    "  infrequent_words = set([\n",
    "    word for word, count in freq.items() \n",
    "    if count == 1\n",
    "  ])\n",
    "  infrequent_docs = [\n",
    "    documents[i][\"id\"] for i, ws in enumerate(words) \n",
    "    if len(set(ws) & infrequent_words) > 0\n",
    "  ]\n",
    "  return infrequent_docs''').load_plan()\n",
    "python_functional.execute(task)\n",
    "python_functional.save()"
   ]
  },
  {
   "cell_type": "code",
   "execution_count": 9,
   "metadata": {
    "ExecuteTime": {
     "end_time": "2020-11-16T01:36:07.751980Z",
     "start_time": "2020-11-16T01:36:07.703523Z"
    }
   },
   "outputs": [
    {
     "data": {
      "application/vnd.jupyter.widget-view+json": {
       "model_id": "e3086146c4b4478aaa49ca1210b260d3",
       "version_major": 2,
       "version_minor": 0
      },
      "text/plain": [
       "Output()"
      ]
     },
     "metadata": {},
     "output_type": "display_data"
    },
    {
     "data": {
      "application/vnd.jupyter.widget-view+json": {
       "model_id": "302dc82a6a6543a0b11d9656f9765f4f",
       "version_major": 2,
       "version_minor": 0
      },
      "text/plain": [
       "CodeWidget(program='{\"task\": \"documents_with_infrequent_words\", \"language\": \"python-functional\", \"plan\": {\"wor…"
      ]
     },
     "metadata": {},
     "output_type": "display_data"
    }
   ],
   "source": [
    "python_functional.widget(task)"
   ]
  },
  {
   "cell_type": "code",
   "execution_count": 10,
   "metadata": {
    "ExecuteTime": {
     "end_time": "2020-11-16T01:36:22.411604Z",
     "start_time": "2020-11-16T01:36:22.377132Z"
    }
   },
   "outputs": [],
   "source": [
    "python_pandas = replace(prototype,\n",
    "    language='python-pandas',\n",
    "    source='''def documents_with_infrequent_words(documents):\n",
    "  words = documents.text.str.split(\" \", expand=True)\n",
    "  freq = words.stack().value_counts()\n",
    "  infrequent_words = freq[freq == 1].index.values\n",
    "  infrequent_docs = documents[\n",
    "    np.isin(words.values, infrequent_words)]\n",
    "  return infrequent_docs.id.unique().tolist()''').load_plan()\n",
    "python_pandas.execute(task)\n",
    "python_pandas.save()"
   ]
  },
  {
   "cell_type": "code",
   "execution_count": 11,
   "metadata": {
    "ExecuteTime": {
     "end_time": "2020-11-16T01:36:25.804126Z",
     "start_time": "2020-11-16T01:36:25.767340Z"
    }
   },
   "outputs": [
    {
     "data": {
      "application/vnd.jupyter.widget-view+json": {
       "model_id": "e8075ba65b5e458484e5f7668f74a705",
       "version_major": 2,
       "version_minor": 0
      },
      "text/plain": [
       "Output()"
      ]
     },
     "metadata": {},
     "output_type": "display_data"
    },
    {
     "data": {
      "application/vnd.jupyter.widget-view+json": {
       "model_id": "a7d68e83001444ce93b943115a946f8d",
       "version_major": 2,
       "version_minor": 0
      },
      "text/plain": [
       "CodeWidget(program='{\"task\": \"documents_with_infrequent_words\", \"language\": \"python-pandas\", \"plan\": {}, \"sour…"
      ]
     },
     "metadata": {},
     "output_type": "display_data"
    }
   ],
   "source": [
    "python_pandas.widget(task)"
   ]
  },
  {
   "cell_type": "code",
   "execution_count": 12,
   "metadata": {
    "ExecuteTime": {
     "end_time": "2020-11-16T01:36:47.691276Z",
     "start_time": "2020-11-16T01:36:47.658149Z"
    }
   },
   "outputs": [],
   "source": [
    "sql = replace(prototype,\n",
    "    language='sql',\n",
    "    source='''-- NOTE: SQLite tokenize is case-insensitive by default, \n",
    "-- so this solution is NOT exactly like the others\n",
    "\n",
    "CREATE VIRTUAL TABLE doc_index USING fts4(\n",
    "  text, id, content=documents, tokenize=simple);    \n",
    "INSERT INTO doc_index(doc_index) VALUES('rebuild');\n",
    "CREATE VIRTUAL TABLE words USING fts4aux(doc_index);    \n",
    "\n",
    "SELECT DISTINCT id\n",
    "FROM \n",
    "  documents\n",
    "  CROSS JOIN\n",
    "  (SELECT DISTINCT term\n",
    "   FROM words\n",
    "   WHERE occurrences = 1) unique_words\n",
    "WHERE\n",
    "  (LOWER(text) LIKE '% ' || term || ' %') OR\n",
    "  (LOWER(text) LIKE term || ' %') OR\n",
    "  (LOWER(text) LIKE '% ' || term) OR\n",
    "  (LOWER(text) LIKE term)''').load_plan()\n",
    "sql.execute(task)\n",
    "sql.save()"
   ]
  },
  {
   "cell_type": "code",
   "execution_count": 13,
   "metadata": {
    "ExecuteTime": {
     "end_time": "2020-11-16T01:36:51.254196Z",
     "start_time": "2020-11-16T01:36:51.214702Z"
    }
   },
   "outputs": [
    {
     "data": {
      "application/vnd.jupyter.widget-view+json": {
       "model_id": "539215fbc65a4b32baeccdb83d042dd2",
       "version_major": 2,
       "version_minor": 0
      },
      "text/plain": [
       "Output()"
      ]
     },
     "metadata": {},
     "output_type": "display_data"
    },
    {
     "data": {
      "application/vnd.jupyter.widget-view+json": {
       "model_id": "59c42bcc8a61402f935a3c4e08f344a8",
       "version_major": 2,
       "version_minor": 0
      },
      "text/plain": [
       "CodeWidget(program='{\"task\": \"documents_with_infrequent_words\", \"language\": \"sql\", \"plan\": {}, \"source\": \"-- N…"
      ]
     },
     "metadata": {},
     "output_type": "display_data"
    }
   ],
   "source": [
    "sql.widget(task)"
   ]
  },
  {
   "cell_type": "code",
   "execution_count": 14,
   "metadata": {
    "ExecuteTime": {
     "end_time": "2020-11-16T01:38:05.974414Z",
     "start_time": "2020-11-16T01:38:05.855030Z"
    }
   },
   "outputs": [],
   "source": [
    "datalog = replace(prototype,\n",
    "    language='datalog',\n",
    "    source='''.decl substrs(Text:symbol, Idx:number, Len:number)\n",
    "substrs(Text, 0, 1) :- \n",
    "  documents(_, Text), strlen(Text) > 0.\n",
    "substrs(Text, 0, Len+1) :- \n",
    "  substrs(Text, 0, Len), Len + 1 <= strlen(Text).\n",
    "substrs(Text, Idx+1, Len) :- \n",
    "  substrs(Text, Idx, Len), Idx + Len + 1 <= strlen(Text).\n",
    "\n",
    ".decl token(Docid:number, Text:symbol, Idx:number, Word:symbol)\n",
    "token(Docid, Text, Idx, Word) :-\n",
    "  documents(Docid, Text),\n",
    "  substrs(Text, Idx, Len),\n",
    "  Prev = Idx - 1, Next = Idx + Len,\n",
    "  (Prev < 0; \" \" = substr(Text, Prev, 1)),\n",
    "  (Next = strlen(Text); \" \" = substr(Text, Next, 1)),\n",
    "  Word = substr(Text, Idx, Len),\n",
    "  !contains(\" \", Word).\n",
    "\n",
    "documents_with_infrequent_words(Id) :-\n",
    "  documents(Id, _),\n",
    "  token(Id, _, _, Word),\n",
    "  1 = count : token(_, _, _, Word).''').load_plan()\n",
    "datalog.execute(task)\n",
    "datalog.save()"
   ]
  },
  {
   "cell_type": "code",
   "execution_count": 15,
   "metadata": {
    "ExecuteTime": {
     "end_time": "2020-11-16T01:38:08.091579Z",
     "start_time": "2020-11-16T01:38:08.052175Z"
    }
   },
   "outputs": [
    {
     "data": {
      "application/vnd.jupyter.widget-view+json": {
       "model_id": "bd2186546894454994ff33683b382f79",
       "version_major": 2,
       "version_minor": 0
      },
      "text/plain": [
       "Output()"
      ]
     },
     "metadata": {},
     "output_type": "display_data"
    },
    {
     "data": {
      "application/vnd.jupyter.widget-view+json": {
       "model_id": "b6bbaba3130c4cfc9053d57537391fce",
       "version_major": 2,
       "version_minor": 0
      },
      "text/plain": [
       "CodeWidget(program='{\"task\": \"documents_with_infrequent_words\", \"language\": \"datalog\", \"plan\": {}, \"source\": \"…"
      ]
     },
     "metadata": {},
     "output_type": "display_data"
    }
   ],
   "source": [
    "datalog.widget(task)"
   ]
  }
 ],
 "metadata": {
  "kernelspec": {
   "display_name": "Python 3",
   "language": "python",
   "name": "python3"
  },
  "language_info": {
   "codemirror_mode": {
    "name": "ipython",
    "version": 3
   },
   "file_extension": ".py",
   "mimetype": "text/x-python",
   "name": "python",
   "nbconvert_exporter": "python",
   "pygments_lexer": "ipython3",
   "version": "3.9.0"
  },
  "toc": {
   "base_numbering": 1,
   "nav_menu": {},
   "number_sections": true,
   "sideBar": true,
   "skip_h1_title": false,
   "title_cell": "Table of Contents",
   "title_sidebar": "Contents",
   "toc_cell": false,
   "toc_position": {},
   "toc_section_display": true,
   "toc_window_display": false
  },
  "varInspector": {
   "cols": {
    "lenName": 16,
    "lenType": 16,
    "lenVar": 40
   },
   "kernels_config": {
    "python": {
     "delete_cmd_postfix": "",
     "delete_cmd_prefix": "del ",
     "library": "var_list.py",
     "varRefreshCmd": "print(var_dic_list())"
    },
    "r": {
     "delete_cmd_postfix": ") ",
     "delete_cmd_prefix": "rm(",
     "library": "var_list.r",
     "varRefreshCmd": "cat(var_dic_list()) "
    }
   },
   "types_to_exclude": [
    "module",
    "function",
    "builtin_function_or_method",
    "instance",
    "_Feature"
   ],
   "window_display": false
  }
 },
 "nbformat": 4,
 "nbformat_minor": 4
}
