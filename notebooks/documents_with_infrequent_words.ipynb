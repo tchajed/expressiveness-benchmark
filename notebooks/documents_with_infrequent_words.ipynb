{
 "cells": [
  {
   "cell_type": "code",
   "execution_count": 43,
   "metadata": {
    "ExecuteTime": {
     "end_time": "2020-11-01T20:58:42.417137Z",
     "start_time": "2020-11-01T20:58:42.392592Z"
    }
   },
   "outputs": [
    {
     "name": "stdout",
     "output_type": "stream",
     "text": [
      "The autoreload extension is already loaded. To reload it, use:\n",
      "  %reload_ext autoreload\n"
     ]
    }
   ],
   "source": [
    "%load_ext autoreload\n",
    "%autoreload 2\n",
    "from expressiveness_benchmark.types import Plan, Task, Language, SourceRange, Program, load_all_programs\n",
    "from code_widget.example import CodeWidget\n",
    "from dataclasses import replace\n",
    "import json\n",
    "import pandas as pd"
   ]
  },
  {
   "cell_type": "code",
   "execution_count": 44,
   "metadata": {
    "ExecuteTime": {
     "end_time": "2020-11-01T20:58:42.746216Z",
     "start_time": "2020-11-01T20:58:42.727576Z"
    }
   },
   "outputs": [],
   "source": [
    "# CHANGE ME!\n",
    "TASK_ID = 'documents_with_infrequent_words'\n",
    "AUTHOR = 'will'"
   ]
  },
  {
   "cell_type": "code",
   "execution_count": 209,
   "metadata": {
    "ExecuteTime": {
     "end_time": "2020-11-02T22:20:52.316601Z",
     "start_time": "2020-11-02T22:20:52.294926Z"
    }
   },
   "outputs": [],
   "source": [
    "task = Task(\n",
    "    id=TASK_ID,\n",
    "    category=\"Strings\",\n",
    "    description=\"Documents with infrequent words\",\n",
    "    plan=[],\n",
    "    sample_input={\n",
    "        \"documents\": [\n",
    "            {\"id\": 1, \"text\": \"Hello world\"},\n",
    "            {\"id\": 2, \"text\": \"Hello friend\"},\n",
    "            {\"id\": 3, \"text\": \"friend of the world\"},\n",
    "            {\"id\": 4, \"text\": \"Hola\"}\n",
    "        ]\n",
    "    },\n",
    "    sample_output=[3, 4],\n",
    ")\n",
    "task.save()\n",
    "\n",
    "prototype = Program(\n",
    "    task=TASK_ID,\n",
    "    author=AUTHOR,\n",
    "    language=''    \n",
    ")"
   ]
  },
  {
   "cell_type": "code",
   "execution_count": 206,
   "metadata": {
    "ExecuteTime": {
     "end_time": "2020-11-02T21:00:42.484404Z",
     "start_time": "2020-11-02T21:00:42.123757Z"
    }
   },
   "outputs": [],
   "source": [
    "python_imperative = replace(prototype,\n",
    "    language='python-imperative',\n",
    "    source='''\n",
    "def documents_with_infrequent_words(documents):\n",
    "  words = {}\n",
    "  freq = defaultdict(int)\n",
    "  for doc in documents:\n",
    "    words[doc[\"id\"]] = doc[\"text\"].split(\" \")\n",
    "    for word in words[doc[\"id\"]]:\n",
    "      freq[word] += 1\n",
    "      \n",
    "  infrequent_words = set()\n",
    "  for word, count in freq.items():\n",
    "    if count == 1:\n",
    "      infrequent_words.add(word)\n",
    "      \n",
    "  infrequent_docs = []\n",
    "  for doc in documents:\n",
    "    for word in words[doc[\"id\"]]:\n",
    "      if word in infrequent_words:\n",
    "        infrequent_docs.append(doc[\"id\"])\n",
    "        break\n",
    "        \n",
    "  return infrequent_docs\n",
    "'''\n",
    ").load_plan()\n",
    "python_imperative.execute(task)\n",
    "python_imperative.save()"
   ]
  },
  {
   "cell_type": "code",
   "execution_count": 47,
   "metadata": {
    "ExecuteTime": {
     "end_time": "2020-11-01T20:58:44.052310Z",
     "start_time": "2020-11-01T20:58:44.022929Z"
    }
   },
   "outputs": [],
   "source": [
    "python_functional = replace(prototype,\n",
    "    language='python-functional',\n",
    "    source='''\n",
    "def documents_with_infrequent_words(documents):\n",
    "  words = [doc[\"text\"].split(\" \") for doc in documents]\n",
    "  words_flat = [w for ws in words for w in ws]\n",
    "  freq = {word: words_flat.count(word) for word in set(words_flat)}\n",
    "  infrequent_words = set([word for word, count in freq.items() if count == 1])\n",
    "  infrequent_docs = [documents[i][\"id\"] for i, ws in enumerate(words) if len(set(ws) & infrequent_words) > 0]\n",
    "  return infrequent_docs\n",
    "''').load_plan()\n",
    "python_functional.execute(task)\n",
    "python_functional.save()"
   ]
  },
  {
   "cell_type": "code",
   "execution_count": 86,
   "metadata": {
    "ExecuteTime": {
     "end_time": "2020-11-01T21:05:49.828001Z",
     "start_time": "2020-11-01T21:05:49.789486Z"
    }
   },
   "outputs": [],
   "source": [
    "python_pandas = replace(prototype,\n",
    "    language='python-pandas',\n",
    "    source='''\n",
    "def documents_with_infrequent_words(documents):\n",
    "  words = documents.text.str.split(\" \", expand=True)\n",
    "  freq = words.stack().value_counts()\n",
    "  infrequent_words = freq[freq == 1].index.values\n",
    "  infrequent_docs = documents[np.isin(words.values, infrequent_words)]\n",
    "  return infrequent_docs.id.unique().tolist()  \n",
    "''').load_plan()\n",
    "python_pandas.execute(task)\n",
    "python_pandas.save()"
   ]
  },
  {
   "cell_type": "code",
   "execution_count": 162,
   "metadata": {
    "ExecuteTime": {
     "end_time": "2020-11-01T23:32:12.273745Z",
     "start_time": "2020-11-01T23:32:12.231434Z"
    }
   },
   "outputs": [],
   "source": [
    "sql = replace(prototype,\n",
    "    language='sql',\n",
    "    source='''\n",
    "CREATE VIRTUAL TABLE doc_index USING fts4(text, id, content=documents, tokenize=simple);    \n",
    "INSERT INTO doc_index(doc_index) VALUES('rebuild');\n",
    "CREATE VIRTUAL TABLE words USING fts4aux(doc_index);    \n",
    "\n",
    "SELECT DISTINCT id\n",
    "FROM \n",
    "  documents\n",
    "  CROSS JOIN\n",
    "  (SELECT DISTINCT term\n",
    "   FROM words\n",
    "   WHERE occurrences = 1) unique_words\n",
    "WHERE\n",
    "  (LOWER(text) LIKE '% ' || term || ' %') OR\n",
    "  (LOWER(text) LIKE term || ' %') OR\n",
    "  (LOWER(text) LIKE '% ' || term) OR\n",
    "  (LOWER(text) LIKE term)\n",
    "''').load_plan()\n",
    "sql.execute(task)\n",
    "sql.save()"
   ]
  },
  {
   "cell_type": "code",
   "execution_count": 210,
   "metadata": {
    "ExecuteTime": {
     "end_time": "2020-11-02T22:25:35.124534Z",
     "start_time": "2020-11-02T22:25:35.001961Z"
    }
   },
   "outputs": [],
   "source": [
    "datalog = replace(prototype,\n",
    "    language='datalog',\n",
    "    source='''\n",
    ".decl substrs(text:symbol, idx:number, len:number)\n",
    "substrs(Text, 0, 1) :- documents(_, Text), strlen(Text) > 0.\n",
    "substrs(Text, 0, Len+1) :- substrs(Text, 0, Len), Len + 1 <= strlen(Text).\n",
    "substrs(Text, Idx+1, Len) :- substrs(Text, Idx, Len), Idx + Len + 1 <= strlen(Text).\n",
    "\n",
    ".decl token(docid:number, text:symbol, idx:number, word:symbol)\n",
    "token(Docid, Text, Idx, Word) :-\n",
    "  documents(Docid, Text),\n",
    "  substrs(Text, Idx, Len),\n",
    "  Prev = Idx - 1, Next = Idx + Len,\n",
    "  (Prev < 0; \" \" = substr(Text, Prev, 1)),\n",
    "  (Next = strlen(Text); \" \" = substr(Text, Next, 1)),\n",
    "  Word = substr(Text, Idx, Len),\n",
    "  !contains(\" \", Word).\n",
    "\n",
    "documents_with_infrequent_words(Id) :-\n",
    "  documents(Id, _),\n",
    "  token(Id, _, _, Word),\n",
    "  1 = count : token(_, _, _, Word).\n",
    "''').load_plan()\n",
    "datalog.execute(task)\n",
    "datalog.save()"
   ]
  }
 ],
 "metadata": {
  "kernelspec": {
   "display_name": "Python 3",
   "language": "python",
   "name": "python3"
  },
  "language_info": {
   "codemirror_mode": {
    "name": "ipython",
    "version": 3
   },
   "file_extension": ".py",
   "mimetype": "text/x-python",
   "name": "python",
   "nbconvert_exporter": "python",
   "pygments_lexer": "ipython3",
   "version": "3.6.3"
  },
  "toc": {
   "base_numbering": 1,
   "nav_menu": {},
   "number_sections": true,
   "sideBar": true,
   "skip_h1_title": false,
   "title_cell": "Table of Contents",
   "title_sidebar": "Contents",
   "toc_cell": false,
   "toc_position": {},
   "toc_section_display": true,
   "toc_window_display": false
  },
  "varInspector": {
   "cols": {
    "lenName": 16,
    "lenType": 16,
    "lenVar": 40
   },
   "kernels_config": {
    "python": {
     "delete_cmd_postfix": "",
     "delete_cmd_prefix": "del ",
     "library": "var_list.py",
     "varRefreshCmd": "print(var_dic_list())"
    },
    "r": {
     "delete_cmd_postfix": ") ",
     "delete_cmd_prefix": "rm(",
     "library": "var_list.r",
     "varRefreshCmd": "cat(var_dic_list()) "
    }
   },
   "types_to_exclude": [
    "module",
    "function",
    "builtin_function_or_method",
    "instance",
    "_Feature"
   ],
   "window_display": false
  }
 },
 "nbformat": 4,
 "nbformat_minor": 4
}
