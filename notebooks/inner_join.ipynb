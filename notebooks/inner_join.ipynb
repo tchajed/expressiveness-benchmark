{
 "cells": [
  {
   "cell_type": "code",
   "execution_count": 1,
   "metadata": {},
   "outputs": [],
   "source": [
    "%load_ext autoreload\n",
    "%autoreload 2\n",
    "from expressiveness_benchmark.types import Plan, Task, Language, SourceRange, Program\n",
    "from code_widget.example import CodeWidget\n",
    "from dataclasses import replace\n",
    "import json\n",
    "import pandas as pd"
   ]
  },
  {
   "cell_type": "code",
   "execution_count": 2,
   "metadata": {},
   "outputs": [],
   "source": [
    "# CHANGE ME!\n",
    "TASK_ID = 'customer_orders'\n",
    "AUTHOR = 'g'"
   ]
  },
  {
   "cell_type": "code",
   "execution_count": 3,
   "metadata": {},
   "outputs": [],
   "source": [
    "task = Task(\n",
    "    id=TASK_ID,\n",
    "    description=\"Select all order ids from customers that live in California\",\n",
    "    name=\"Inner join on customers and orders\",\n",
    "    category=\"Aggregation\",\n",
    "    plan=[\n",
    "        {\n",
    "        \"id\": \"order_ids\",\n",
    "        \"description\": \"Select all order ids\",\n",
    "    }, {\n",
    "        \"id\": \"California\",\n",
    "        \"description\": \"live in California\",\n",
    "    },\n",
    "        {\n",
    "        \"id\": \"customer\",\n",
    "        \"description\": \"customers\",\n",
    "    }\n",
    "    ],\n",
    "    sample_input={\n",
    "       \"customers\":[{\"cid\":0,\"customer\":\"A\",\"location\":\"California\"},{\"cid\":1,\"customer\":\"B\",\"location\":\"California\"},\n",
    "                    {\"cid\":2,\"customer\":\"C\",\"location\":\"Virginia\"},{\"cid\":3,\"customer\":\"D\",\"location\":\"New York\"}],\n",
    "        \"orders\":[{\"cid\":0,\"oid\":4,\"customer\":\"A\",\"orderNum\":\"A1\"},{\"cid\":0,\"oid\":5,\"customer\":\"A\",\"orderNum\":\"A2\"},\n",
    "                  {\"cid\":1,\"oid\":6,\"customer\":\"B\",\"orderNum\":\"B1\"},\n",
    "                 {\"cid\":1,\"oid\":7,\"customer\":\"B\",\"orderNum\":\"B2\"},{\"cid\":2,\"oid\":8,\"customer\":\"C\",\"orderNum\":\"C1\"}],\n",
    "    },\n",
    "    sample_output=[4,5,6,7],\n",
    ")\n",
    "task.save()\n",
    "\n",
    "prototype = Program(\n",
    "    task=TASK_ID,\n",
    "    author=AUTHOR,\n",
    "    language=''    \n",
    ")"
   ]
  },
  {
   "cell_type": "code",
   "execution_count": 10,
   "metadata": {},
   "outputs": [],
   "source": [
    "sql = replace(prototype,\n",
    "    language='sql',\n",
    "    source='''  \n",
    "SELECT orders.oid \n",
    "FROM \n",
    "(orders INNER JOIN customers ON\n",
    "orders.cid = customers.cid) \n",
    "WHERE location=\"California\"\n",
    "''').load_plan()\n",
    "sql.execute(task)\n",
    "sql.save()"
   ]
  },
  {
   "cell_type": "code",
   "execution_count": 11,
   "metadata": {},
   "outputs": [],
   "source": [
    "datalog = replace(prototype,\n",
    "    language='datalog',\n",
    "    source='''  \n",
    "customer_orders(oid):-\n",
    "  customers(cid,customer,\"California\"),\n",
    "  orders(cid,_,oid,_).\n",
    "''').load_plan()\n",
    "datalog.execute(task)\n",
    "datalog.save()"
   ]
  },
  {
   "cell_type": "code",
   "execution_count": 12,
   "metadata": {},
   "outputs": [],
   "source": [
    "pandas = replace(prototype,\n",
    "    language='python-pandas',\n",
    "    source='''  \n",
    "def customer_orders(customers,orders):\n",
    "  joined = orders.join(customers, on=\"cid\",how=\"inner\",lsuffix=\"_j\")\n",
    "  joined = joined.loc[joined['location'] == \"California\"]\n",
    "  return joined.oid.tolist()\n",
    "\n",
    "''')\n",
    "pandas.execute(task)\n",
    "pandas.save()"
   ]
  },
  {
   "cell_type": "code",
   "execution_count": 13,
   "metadata": {},
   "outputs": [],
   "source": [
    "imp = replace(prototype,\n",
    "    language='python-imperative',\n",
    "    source='''  \n",
    "def customer_orders(customers,orders):\n",
    "  oids = []\n",
    "  for order in orders:\n",
    "    for customer in customers:\n",
    "      if customer['cid'] == order['cid']:\n",
    "        if customer['location'] == \"California\":\n",
    "          oids.append(order['oid'])\n",
    "  return oids\n",
    "''').load_plan()\n",
    "imp.execute(task)\n",
    "imp.save()"
   ]
  },
  {
   "cell_type": "code",
   "execution_count": 14,
   "metadata": {},
   "outputs": [],
   "source": [
    "func = replace(prototype,\n",
    "    language='python-functional',\n",
    "    source='''  \n",
    "def customer_orders(customers,orders):\n",
    "  oids = []\n",
    "  cids = [customer['cid'] for customer in customers\n",
    "    if customer['location'] == \"California\"]\n",
    "  oids = [order['oid'] for order in orders \n",
    "    if order['cid'] in cids]\n",
    "  return oids\n",
    "''').load_plan()\n",
    "func.execute(task)\n",
    "func.save()"
   ]
  },
  {
   "cell_type": "code",
   "execution_count": 20,
   "metadata": {},
   "outputs": [
    {
     "data": {
      "application/vnd.jupyter.widget-view+json": {
       "model_id": "8c86a186af874e9697da176d531b50fd",
       "version_major": 2,
       "version_minor": 0
      },
      "text/plain": [
       "Output()"
      ]
     },
     "metadata": {},
     "output_type": "display_data"
    },
    {
     "data": {
      "application/vnd.jupyter.widget-view+json": {
       "model_id": "9a426c3c89944bbcb92c5efaef1abde4",
       "version_major": 2,
       "version_minor": 0
      },
      "text/plain": [
       "CodeWidget(program='{\"task\": \"customer_orders\", \"language\": \"python-pandas\", \"plan\": {}, \"source\": \"  \\\\ndef c…"
      ]
     },
     "metadata": {},
     "output_type": "display_data"
    }
   ],
   "source": [
    "program = pandas\n",
    "program.widget(task)"
   ]
  },
  {
   "cell_type": "code",
   "execution_count": null,
   "metadata": {},
   "outputs": [],
   "source": []
  }
 ],
 "metadata": {
  "kernelspec": {
   "display_name": "Python 3",
   "language": "python",
   "name": "python3"
  },
  "language_info": {
   "codemirror_mode": {
    "name": "ipython",
    "version": 3
   },
   "file_extension": ".py",
   "mimetype": "text/x-python",
   "name": "python",
   "nbconvert_exporter": "python",
   "pygments_lexer": "ipython3",
   "version": "3.7.6"
  }
 },
 "nbformat": 4,
 "nbformat_minor": 4
}
