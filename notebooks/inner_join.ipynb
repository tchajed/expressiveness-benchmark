{
 "cells": [
  {
   "cell_type": "code",
   "execution_count": 1,
   "metadata": {},
   "outputs": [],
   "source": [
    "%load_ext autoreload\n",
    "%autoreload 2\n",
    "from expressiveness_benchmark.types import Plan, Task, Language, SourceRange, Program\n",
    "from code_widget.example import CodeWidget\n",
    "from dataclasses import replace\n",
    "import json\n",
    "import pandas as pd"
   ]
  },
  {
   "cell_type": "code",
   "execution_count": 2,
   "metadata": {},
   "outputs": [],
   "source": [
    "# CHANGE ME!\n",
    "TASK_ID = 'inner_join'\n",
    "AUTHOR = 'g'"
   ]
  },
  {
   "cell_type": "code",
   "execution_count": 34,
   "metadata": {},
   "outputs": [],
   "source": [
    "task = Task(\n",
    "    id=TASK_ID,\n",
    "    description=\"Select all order ids from customers that live in California\",\n",
    "    plan=[\n",
    "    ],\n",
    "    sample_input={\n",
    "       \"customers\":[{\"cid\":0,\"customer\":\"A\",\"location\":\"California\"},{\"cid\":1,\"customer\":\"B\",\"location\":\"California\"},\n",
    "                    {\"cid\":2,\"customer\":\"C\",\"location\":\"Virginia\"},{\"cid\":3,\"customer\":\"D\",\"location\":\"New York\"}],\n",
    "        \"orders\":[{\"cid\":0,\"oid\":4,\"customer\":\"A\",\"orderNum\":\"A1\"},{\"cid\":0,\"oid\":5,\"customer\":\"A\",\"orderNum\":\"A2\"},\n",
    "                  {\"cid\":1,\"oid\":6,\"customer\":\"B\",\"orderNum\":\"B1\"},\n",
    "                 {\"cid\":1,\"oid\":7,\"customer\":\"B\",\"orderNum\":\"B2\"},{\"cid\":2,\"oid\":8,\"customer\":\"C\",\"orderNum\":\"C1\"}],\n",
    "    },\n",
    "    sample_output=[4,5,6,7],\n",
    ")\n",
    "task.save()\n",
    "\n",
    "prototype = Program(\n",
    "    task=TASK_ID,\n",
    "    author=AUTHOR,\n",
    "    language=''    \n",
    ")"
   ]
  },
  {
   "cell_type": "code",
   "execution_count": 36,
   "metadata": {},
   "outputs": [],
   "source": [
    "func = replace(prototype,\n",
    "    language='sql',\n",
    "    source='''  \n",
    "    SELECT orders.oid \n",
    "    FROM \n",
    "    (orders INNER JOIN customers ON orders.cid = customers.cid) \n",
    "    WHERE location=\"California\"\n",
    "''')\n",
    "func.execute(task)\n",
    "func.save()"
   ]
  },
  {
   "cell_type": "code",
   "execution_count": 38,
   "metadata": {},
   "outputs": [],
   "source": [
    "func = replace(prototype,\n",
    "    language='datalog',\n",
    "    source='''  \n",
    "    inner_join(oid):-\n",
    "    customers(cid,customer,location),\n",
    "    location=\"California\",\n",
    "    orders(cid,_,oid,_).\n",
    "''')\n",
    "func.execute(task)\n",
    "func.save()"
   ]
  },
  {
   "cell_type": "code",
   "execution_count": 59,
   "metadata": {},
   "outputs": [],
   "source": [
    "func = replace(prototype,\n",
    "    language='python-pandas',\n",
    "    source='''  \n",
    "def inner_join(customers,orders):\n",
    "    joined = orders.join(customers, on=\"cid\",how=\"inner\",lsuffix=\"_j\")\n",
    "    joined = joined.loc[joined['location'] == \"California\"]\n",
    "    return pd.DataFrame({0: list(joined.oid)})\n",
    "\n",
    "''')\n",
    "func.execute(task)\n",
    "func.save()"
   ]
  },
  {
   "cell_type": "code",
   "execution_count": 61,
   "metadata": {},
   "outputs": [],
   "source": [
    "func = replace(prototype,\n",
    "    language='python-functional',\n",
    "    source='''  \n",
    "def inner_join(customers,orders):\n",
    "    oids = []\n",
    "    for order in orders:\n",
    "        for customer in customers:\n",
    "            if customer['cid'] == order['cid']:\n",
    "                if customer['location'] == \"California\":\n",
    "                    oids.append(order['oid'])\n",
    "    return oids\n",
    "''')\n",
    "func.execute(task)\n",
    "func.save()"
   ]
  },
  {
   "cell_type": "code",
   "execution_count": null,
   "metadata": {},
   "outputs": [],
   "source": [
    "func = replace(prototype,\n",
    "    language='python-imperative',\n",
    "    source='''  \n",
    "def inner_join(customers,orders):\n",
    "    oids = []\n",
    "    cids = [customer for customer in customers if customer['location'] == \"California\"]\n",
    "    oids = [order['oid'] for order in orders if order['cid'] in c]\n",
    "    for order in orders:\n",
    "        for customer in customers:\n",
    "            if customer['cid'] == order['cid']:\n",
    "                if customer['location'] == \"California\":\n",
    "                    oids.append(order['oid'])\n",
    "    return oids\n",
    "''')\n",
    "func.execute(task)\n",
    "func.save()"
   ]
  }
 ],
 "metadata": {
  "kernelspec": {
   "display_name": "Python 3",
   "language": "python",
   "name": "python3"
  },
  "language_info": {
   "codemirror_mode": {
    "name": "ipython",
    "version": 3
   },
   "file_extension": ".py",
   "mimetype": "text/x-python",
   "name": "python",
   "nbconvert_exporter": "python",
   "pygments_lexer": "ipython3",
   "version": "3.6.3"
  }
 },
 "nbformat": 4,
 "nbformat_minor": 4
}
