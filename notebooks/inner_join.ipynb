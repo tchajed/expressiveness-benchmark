{
 "cells": [
  {
   "cell_type": "code",
   "execution_count": 8,
   "metadata": {},
   "outputs": [
    {
     "name": "stdout",
     "output_type": "stream",
     "text": [
      "The autoreload extension is already loaded. To reload it, use:\n",
      "  %reload_ext autoreload\n"
     ]
    }
   ],
   "source": [
    "%load_ext autoreload\n",
    "%autoreload 2\n",
    "from expressiveness_benchmark.types import Plan, Task, Language, SourceRange, Program\n",
    "from code_widget.example import CodeWidget\n",
    "from dataclasses import replace\n",
    "import json\n",
    "import pandas as pd"
   ]
  },
  {
   "cell_type": "code",
   "execution_count": 9,
   "metadata": {},
   "outputs": [],
   "source": [
    "# CHANGE ME!\n",
    "TASK_ID = 'inner_join'\n",
    "AUTHOR = 'g'"
   ]
  },
  {
   "cell_type": "code",
   "execution_count": 10,
   "metadata": {},
   "outputs": [],
   "source": [
    "task = Task(\n",
    "    id=TASK_ID,\n",
    "    description=\"Select all order ids from customers that live in California\",\n",
    "    name=\"Inner join on customers and orders\",\n",
    "    category=\"Aggregation\",\n",
    "    plan=[\n",
    "        {\n",
    "        \"id\": \"order_ids\",\n",
    "        \"description\": \"select order ids\",\n",
    "    }, {\n",
    "        \"id\": \"California\",\n",
    "        \"description\": \"customer is in California\",\n",
    "    }, {\n",
    "        \"id\": \"join\",\n",
    "        \"description\": \"join the two tables together\",\n",
    "    },\n",
    "    ],\n",
    "    sample_input={\n",
    "       \"customers\":[{\"cid\":0,\"customer\":\"A\",\"location\":\"California\"},{\"cid\":1,\"customer\":\"B\",\"location\":\"California\"},\n",
    "                    {\"cid\":2,\"customer\":\"C\",\"location\":\"Virginia\"},{\"cid\":3,\"customer\":\"D\",\"location\":\"New York\"}],\n",
    "        \"orders\":[{\"cid\":0,\"oid\":4,\"customer\":\"A\",\"orderNum\":\"A1\"},{\"cid\":0,\"oid\":5,\"customer\":\"A\",\"orderNum\":\"A2\"},\n",
    "                  {\"cid\":1,\"oid\":6,\"customer\":\"B\",\"orderNum\":\"B1\"},\n",
    "                 {\"cid\":1,\"oid\":7,\"customer\":\"B\",\"orderNum\":\"B2\"},{\"cid\":2,\"oid\":8,\"customer\":\"C\",\"orderNum\":\"C1\"}],\n",
    "    },\n",
    "    sample_output=[4,5,6,7],\n",
    ")\n",
    "task.save()\n",
    "\n",
    "prototype = Program(\n",
    "    task=TASK_ID,\n",
    "    author=AUTHOR,\n",
    "    language=''    \n",
    ")"
   ]
  },
  {
   "cell_type": "code",
   "execution_count": 11,
   "metadata": {},
   "outputs": [],
   "source": [
    "sql = replace(prototype,\n",
    "    language='sql',\n",
    "    source='''  \n",
    "    SELECT orders.oid \n",
    "    FROM \n",
    "    (orders INNER JOIN customers ON orders.cid = customers.cid) \n",
    "    WHERE location=\"California\"\n",
    "''')\n",
    "sql.execute(task)\n",
    "sql.save()"
   ]
  },
  {
   "cell_type": "code",
   "execution_count": 13,
   "metadata": {},
   "outputs": [],
   "source": [
    "datalog = replace(prototype,\n",
    "    language='datalog',\n",
    "    source='''  \n",
    "    inner_join(oid):-\n",
    "    customers(cid,customer,location),\n",
    "    location=\"California\",\n",
    "    orders(cid,_,oid,_).\n",
    "''')\n",
    "datalog.execute(task)\n",
    "datalog.save()"
   ]
  },
  {
   "cell_type": "code",
   "execution_count": 14,
   "metadata": {},
   "outputs": [],
   "source": [
    "pandas = replace(prototype,\n",
    "    language='python-pandas',\n",
    "    source='''  \n",
    "def inner_join(customers,orders):\n",
    "    joined = orders.join(customers, on=\"cid\",how=\"inner\",lsuffix=\"_j\")\n",
    "    joined = joined.loc[joined['location'] == \"California\"]\n",
    "    return pd.DataFrame({0: list(joined.oid)})\n",
    "\n",
    "''')\n",
    "pandas.execute(task)\n",
    "pandas.save()"
   ]
  },
  {
   "cell_type": "code",
   "execution_count": 15,
   "metadata": {},
   "outputs": [],
   "source": [
    "functional = replace(prototype,\n",
    "    language='python-functional',\n",
    "    source='''  \n",
    "def inner_join(customers,orders):\n",
    "    oids = []\n",
    "    for order in orders:\n",
    "        for customer in customers:\n",
    "            if customer['cid'] == order['cid']:\n",
    "                if customer['location'] == \"California\":\n",
    "                    oids.append(order['oid'])\n",
    "    return oids\n",
    "''')\n",
    "functional.execute(task)\n",
    "functional.save()"
   ]
  },
  {
   "cell_type": "code",
   "execution_count": 16,
   "metadata": {},
   "outputs": [],
   "source": [
    "imperative = replace(prototype,\n",
    "    language='python-imperative',\n",
    "    source='''  \n",
    "def inner_join(customers,orders):\n",
    "    oids = []\n",
    "    cids = [customer['cid'] for customer in customers if customer['location'] == \"California\"]\n",
    "    oids = [order['oid'] for order in orders if order['cid'] in cids]\n",
    "    return oids\n",
    "''').load_plan()\n",
    "imperative.execute(task)\n",
    "imperative.save()"
   ]
  },
  {
   "cell_type": "code",
   "execution_count": 17,
   "metadata": {},
   "outputs": [
    {
     "data": {
      "application/vnd.jupyter.widget-view+json": {
       "model_id": "c9b8d8ebb9ce404e812dc89e76832489",
       "version_major": 2,
       "version_minor": 0
      },
      "text/plain": [
       "Output()"
      ]
     },
     "metadata": {},
     "output_type": "display_data"
    },
    {
     "data": {
      "application/vnd.jupyter.widget-view+json": {
       "model_id": "6f908f211b3e41de8cff082640da8635",
       "version_major": 2,
       "version_minor": 0
      },
      "text/plain": [
       "CodeWidget(program='{\"task\": \"inner_join\", \"language\": \"python-imperative\", \"plan\": {\"California\": [{\"line\": 3…"
      ]
     },
     "metadata": {},
     "output_type": "display_data"
    }
   ],
   "source": [
    "program = imperative\n",
    "program.widget(task)"
   ]
  },
  {
   "cell_type": "code",
   "execution_count": null,
   "metadata": {},
   "outputs": [],
   "source": []
  }
 ],
 "metadata": {
  "kernelspec": {
   "display_name": "Python 3",
   "language": "python",
   "name": "python3"
  },
  "language_info": {
   "codemirror_mode": {
    "name": "ipython",
    "version": 3
   },
   "file_extension": ".py",
   "mimetype": "text/x-python",
   "name": "python",
   "nbconvert_exporter": "python",
   "pygments_lexer": "ipython3",
   "version": "3.7.6"
  }
 },
 "nbformat": 4,
 "nbformat_minor": 4
}
