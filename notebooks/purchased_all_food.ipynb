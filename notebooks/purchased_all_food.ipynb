{
 "cells": [
  {
   "cell_type": "code",
   "execution_count": 1,
   "metadata": {
    "ExecuteTime": {
     "end_time": "2020-12-30T21:05:14.299507Z",
     "start_time": "2020-12-30T21:05:13.702945Z"
    }
   },
   "outputs": [],
   "source": [
    "%load_ext autoreload\n",
    "%autoreload 2\n",
    "from expressiveness_benchmark.types import Plan, Task, Language, SourceRange, Program\n",
    "from code_widget.example import CodeWidget\n",
    "from dataclasses import replace\n",
    "import json\n",
    "import pandas as pd"
   ]
  },
  {
   "cell_type": "code",
   "execution_count": 2,
   "metadata": {
    "ExecuteTime": {
     "end_time": "2020-12-30T21:05:14.359095Z",
     "start_time": "2020-12-30T21:05:14.341885Z"
    }
   },
   "outputs": [],
   "source": [
    "# CHANGE ME!\n",
    "TASK_ID = 'purchased_all_food'\n",
    "AUTHOR = 'will'"
   ]
  },
  {
   "cell_type": "code",
   "execution_count": 3,
   "metadata": {
    "ExecuteTime": {
     "end_time": "2020-12-30T21:05:15.029002Z",
     "start_time": "2020-12-30T21:05:14.996730Z"
    }
   },
   "outputs": [],
   "source": [
    "task = Task(\n",
    "    id=TASK_ID,\n",
    "    category=\"First-order logic\",\n",
    "    name=\"People that purchased all possible items\",\n",
    "    description=\"Find all buyers that ordered every food item at least once.\",\n",
    "    plan=[\n",
    "        Plan(id=\"iter\", description=\"all buyers\"),\n",
    "        Plan(id=\"ordered\", description=\"ordered\"),\n",
    "        Plan(id=\"all\", description=\"every food item at least once\")\n",
    "    ],\n",
    "    sample_input={\n",
    "        \"food\": [\n",
    "            {\"id\": 1, \"name\": \"Burrito\"},\n",
    "            {\"id\": 2, \"name\": \"Sushi\"}\n",
    "        ],\n",
    "        \"orders\": [\n",
    "            {\"id\": 1, \"buyer\": \"Will\", \"food\": 1},\n",
    "            {\"id\": 2, \"buyer\": \"Scott\", \"food\": 2},\n",
    "            {\"id\": 3, \"buyer\": \"Scott\", \"food\": 2},\n",
    "            {\"id\": 4, \"buyer\": \"Will\", \"food\": 2},\n",
    "        ]\n",
    "    },\n",
    "    sample_output=[\"Will\"],\n",
    ")\n",
    "task.save()\n",
    "\n",
    "prototype = Program(\n",
    "    task=TASK_ID,\n",
    "    author=AUTHOR,\n",
    "    language=''    \n",
    ")"
   ]
  },
  {
   "cell_type": "code",
   "execution_count": 15,
   "metadata": {
    "ExecuteTime": {
     "end_time": "2020-12-30T21:06:41.809143Z",
     "start_time": "2020-12-30T21:06:41.581631Z"
    }
   },
   "outputs": [],
   "source": [
    "q = replace(prototype,\n",
    "    language='q',\n",
    "    source='''buyers: `buyer xgroup orders;\n",
    "total: count food;\n",
    "purchased_all_food:\n",
    "  (where {(count distinct x[`food]) = total} each buyers) `buyer''').load_plan()\n",
    "q.execute(task)\n",
    "q.save()"
   ]
  },
  {
   "cell_type": "code",
   "execution_count": 16,
   "metadata": {
    "ExecuteTime": {
     "end_time": "2020-12-30T21:06:41.997847Z",
     "start_time": "2020-12-30T21:06:41.962871Z"
    }
   },
   "outputs": [
    {
     "data": {
      "application/vnd.jupyter.widget-view+json": {
       "model_id": "b69daadf21b24d0ca88156731e824e55",
       "version_major": 2,
       "version_minor": 0
      },
      "text/plain": [
       "Output()"
      ]
     },
     "metadata": {},
     "output_type": "display_data"
    },
    {
     "data": {
      "application/vnd.jupyter.widget-view+json": {
       "model_id": "fa1dc04e0ac345fda79ebec0ac15f195",
       "version_major": 2,
       "version_minor": 0
      },
      "text/plain": [
       "CodeWidget(program='{\"task\": \"purchased_all_food\", \"language\": \"q\", \"plan\": {}, \"source\": \"buyers: `buyer xgro…"
      ]
     },
     "metadata": {},
     "output_type": "display_data"
    }
   ],
   "source": [
    "q.widget(task)"
   ]
  },
  {
   "cell_type": "code",
   "execution_count": 13,
   "metadata": {
    "ExecuteTime": {
     "end_time": "2020-12-10T17:42:56.156991Z",
     "start_time": "2020-12-10T17:42:56.100781Z"
    }
   },
   "outputs": [],
   "source": [
    "r = replace(prototype,\n",
    "    language='r',\n",
    "    source='''purchased_all_food <- function(food, orders) {\n",
    "  n_food <- count(food)    \n",
    "  orders %>%\n",
    "    group_by(buyer) %>%\n",
    "    distinct(food) %>%\n",
    "    count() %>%\n",
    "    filter(n == n_food) %>%\n",
    "    pull(buyer)\n",
    "}''').load_plan()\n",
    "r.execute(task)\n",
    "r.save()"
   ]
  },
  {
   "cell_type": "code",
   "execution_count": 14,
   "metadata": {
    "ExecuteTime": {
     "end_time": "2020-12-10T17:43:01.425447Z",
     "start_time": "2020-12-10T17:43:01.386823Z"
    }
   },
   "outputs": [
    {
     "data": {
      "application/vnd.jupyter.widget-view+json": {
       "model_id": "c9bccc0a26fd4c93a51578981e2bb29c",
       "version_major": 2,
       "version_minor": 0
      },
      "text/plain": [
       "Output()"
      ]
     },
     "metadata": {},
     "output_type": "display_data"
    },
    {
     "data": {
      "application/vnd.jupyter.widget-view+json": {
       "model_id": "a9437dc36b7743d49ee54acb1b566f6f",
       "version_major": 2,
       "version_minor": 0
      },
      "text/plain": [
       "CodeWidget(program='{\"task\": \"purchased_all_food\", \"language\": \"r\", \"plan\": {}, \"source\": \"purchased_all_food …"
      ]
     },
     "metadata": {},
     "output_type": "display_data"
    }
   ],
   "source": [
    "r.widget(task)"
   ]
  },
  {
   "cell_type": "code",
   "execution_count": 7,
   "metadata": {
    "ExecuteTime": {
     "end_time": "2020-11-16T01:41:20.675209Z",
     "start_time": "2020-11-16T01:41:20.639521Z"
    }
   },
   "outputs": [],
   "source": [
    "sql = replace(prototype,\n",
    "    language='sql',\n",
    "    source='''SELECT DISTINCT buyer\n",
    "FROM orders o1\n",
    "WHERE \n",
    "  (SELECT COUNT(DISTINCT food) FROM orders o2 \n",
    "   WHERE o1.buyer = o2.buyer) = \n",
    "  (SELECT COUNT(*) FROM food)''').load_plan()\n",
    "sql.execute(task)\n",
    "sql.save()"
   ]
  },
  {
   "cell_type": "code",
   "execution_count": 8,
   "metadata": {
    "ExecuteTime": {
     "end_time": "2020-11-16T01:41:22.123873Z",
     "start_time": "2020-11-16T01:41:22.083508Z"
    }
   },
   "outputs": [
    {
     "data": {
      "application/vnd.jupyter.widget-view+json": {
       "model_id": "f8c86547aa2f4f5caaab0f125d5b724e",
       "version_major": 2,
       "version_minor": 0
      },
      "text/plain": [
       "Output()"
      ]
     },
     "metadata": {},
     "output_type": "display_data"
    },
    {
     "data": {
      "application/vnd.jupyter.widget-view+json": {
       "model_id": "2527c0842903491f95e5b220836a7964",
       "version_major": 2,
       "version_minor": 0
      },
      "text/plain": [
       "CodeWidget(program='{\"task\": \"purchased_all_food\", \"language\": \"sql\", \"plan\": {}, \"source\": \"SELECT DISTINCT b…"
      ]
     },
     "metadata": {},
     "output_type": "display_data"
    }
   ],
   "source": [
    "sql.widget(task)"
   ]
  },
  {
   "cell_type": "code",
   "execution_count": 14,
   "metadata": {
    "ExecuteTime": {
     "end_time": "2020-11-16T01:43:30.629430Z",
     "start_time": "2020-11-16T01:43:30.528111Z"
    }
   },
   "outputs": [],
   "source": [
    "datalog = replace(prototype,\n",
    "    language='datalog',\n",
    "    source='''.decl has_purchased(Buyer:symbol, Food:number)\n",
    "has_purchased(Buyer, Food) :- orders(Buyer, Food, _).\n",
    "\n",
    "purchased_all_food(Buyer) :-\n",
    "  orders(Buyer, _, _),\n",
    "  N_food = count : food(_, _),\n",
    "  N_unique_orders = count : has_purchased(Buyer, _),\n",
    "  N_food = N_unique_orders.''').load_plan()\n",
    "datalog.execute(task)\n",
    "datalog.save()"
   ]
  },
  {
   "cell_type": "code",
   "execution_count": 15,
   "metadata": {
    "ExecuteTime": {
     "end_time": "2020-11-16T01:43:31.380685Z",
     "start_time": "2020-11-16T01:43:31.346723Z"
    }
   },
   "outputs": [
    {
     "data": {
      "application/vnd.jupyter.widget-view+json": {
       "model_id": "8c139be0485941bbb98cc28883691859",
       "version_major": 2,
       "version_minor": 0
      },
      "text/plain": [
       "Output()"
      ]
     },
     "metadata": {},
     "output_type": "display_data"
    },
    {
     "data": {
      "application/vnd.jupyter.widget-view+json": {
       "model_id": "05c2ae8f8d6e49388b138f8728d06918",
       "version_major": 2,
       "version_minor": 0
      },
      "text/plain": [
       "CodeWidget(program='{\"task\": \"purchased_all_food\", \"language\": \"datalog\", \"plan\": {}, \"source\": \".decl has_pur…"
      ]
     },
     "metadata": {},
     "output_type": "display_data"
    }
   ],
   "source": [
    "datalog.widget(task)"
   ]
  },
  {
   "cell_type": "code",
   "execution_count": 18,
   "metadata": {
    "ExecuteTime": {
     "end_time": "2020-11-16T01:44:06.725746Z",
     "start_time": "2020-11-16T01:44:06.657659Z"
    }
   },
   "outputs": [],
   "source": [
    "pandas = replace(prototype,\n",
    "    language='python-pandas',\n",
    "    source='''def purchased_all_food(food, orders):\n",
    "  n_food = len(food)\n",
    "  n_unique_orders = (orders\n",
    "    .groupby('buyer')\n",
    "    .food.unique() \n",
    "    .map(len))\n",
    "  return n_unique_orders[n_unique_orders == n_food].index.values''').load_plan()\n",
    "pandas.execute(task)\n",
    "pandas.save()"
   ]
  },
  {
   "cell_type": "code",
   "execution_count": 19,
   "metadata": {
    "ExecuteTime": {
     "end_time": "2020-11-16T01:44:07.712783Z",
     "start_time": "2020-11-16T01:44:07.678748Z"
    }
   },
   "outputs": [
    {
     "data": {
      "application/vnd.jupyter.widget-view+json": {
       "model_id": "8344d605080e402cb2e2dc9aef80ce67",
       "version_major": 2,
       "version_minor": 0
      },
      "text/plain": [
       "Output()"
      ]
     },
     "metadata": {},
     "output_type": "display_data"
    },
    {
     "data": {
      "application/vnd.jupyter.widget-view+json": {
       "model_id": "37d1a0f833e84bc2a06d938263da2350",
       "version_major": 2,
       "version_minor": 0
      },
      "text/plain": [
       "CodeWidget(program='{\"task\": \"purchased_all_food\", \"language\": \"python-pandas\", \"plan\": {}, \"source\": \"def pur…"
      ]
     },
     "metadata": {},
     "output_type": "display_data"
    }
   ],
   "source": [
    "pandas.widget(task)"
   ]
  },
  {
   "cell_type": "code",
   "execution_count": 23,
   "metadata": {
    "ExecuteTime": {
     "end_time": "2020-11-16T01:45:12.323461Z",
     "start_time": "2020-11-16T01:45:12.295635Z"
    }
   },
   "outputs": [],
   "source": [
    "imperative = replace(prototype,\n",
    "    language='python-imperative',\n",
    "    source='''def purchased_all_food(food, orders):\n",
    "  n_food = len(food)\n",
    "  unique_orders = defaultdict(set)\n",
    "  for order in orders:\n",
    "    unique_orders[order[\"buyer\"]].add(order[\"food\"])\n",
    "      \n",
    "  buyers = []\n",
    "  for buyer, orders in unique_orders.items():\n",
    "    if len(orders) == n_food:\n",
    "      buyers.append(buyer)\n",
    "  return buyers''').load_plan()\n",
    "imperative.execute(task)\n",
    "imperative.save()"
   ]
  },
  {
   "cell_type": "code",
   "execution_count": 24,
   "metadata": {
    "ExecuteTime": {
     "end_time": "2020-11-16T01:45:13.151890Z",
     "start_time": "2020-11-16T01:45:13.087052Z"
    }
   },
   "outputs": [
    {
     "data": {
      "application/vnd.jupyter.widget-view+json": {
       "model_id": "edb175e260c7493f882adfbb2c8612ad",
       "version_major": 2,
       "version_minor": 0
      },
      "text/plain": [
       "Output()"
      ]
     },
     "metadata": {},
     "output_type": "display_data"
    },
    {
     "data": {
      "application/vnd.jupyter.widget-view+json": {
       "model_id": "86e9b64060de4d01ab8eb7f6ba3e73c6",
       "version_major": 2,
       "version_minor": 0
      },
      "text/plain": [
       "CodeWidget(program='{\"task\": \"purchased_all_food\", \"language\": \"python-imperative\", \"plan\": {}, \"source\": \"def…"
      ]
     },
     "metadata": {},
     "output_type": "display_data"
    }
   ],
   "source": [
    "imperative.widget(task)"
   ]
  },
  {
   "cell_type": "code",
   "execution_count": 25,
   "metadata": {
    "ExecuteTime": {
     "end_time": "2020-11-16T01:46:11.277410Z",
     "start_time": "2020-11-16T01:46:11.250765Z"
    }
   },
   "outputs": [],
   "source": [
    "functional = replace(prototype,\n",
    "    language='python-functional',\n",
    "    source='''def purchased_all_food(food, orders):\n",
    "    n_food = len(food)\n",
    "    buyers = set([order[\"buyer\"] for order in orders])\n",
    "    return [\n",
    "        buyer\n",
    "        for buyer in buyers\n",
    "        if len(set([order[\"food\"] for order in orders \n",
    "             if order[\"buyer\"] == buyer])) == n_food\n",
    "    ]''').load_plan()\n",
    "functional.execute(task)\n",
    "functional.save()"
   ]
  },
  {
   "cell_type": "code",
   "execution_count": 26,
   "metadata": {
    "ExecuteTime": {
     "end_time": "2020-11-16T01:46:13.641643Z",
     "start_time": "2020-11-16T01:46:13.607407Z"
    }
   },
   "outputs": [
    {
     "data": {
      "application/vnd.jupyter.widget-view+json": {
       "model_id": "ec781bacba404f3f829dff3397dcaa17",
       "version_major": 2,
       "version_minor": 0
      },
      "text/plain": [
       "Output()"
      ]
     },
     "metadata": {},
     "output_type": "display_data"
    },
    {
     "data": {
      "application/vnd.jupyter.widget-view+json": {
       "model_id": "6ca835a97d43438a82bd60c82286d610",
       "version_major": 2,
       "version_minor": 0
      },
      "text/plain": [
       "CodeWidget(program='{\"task\": \"purchased_all_food\", \"language\": \"python-functional\", \"plan\": {}, \"source\": \"def…"
      ]
     },
     "metadata": {},
     "output_type": "display_data"
    }
   ],
   "source": [
    "functional.widget(task)"
   ]
  }
 ],
 "metadata": {
  "kernelspec": {
   "display_name": "Python 3",
   "language": "python",
   "name": "python3"
  },
  "language_info": {
   "codemirror_mode": {
    "name": "ipython",
    "version": 3
   },
   "file_extension": ".py",
   "mimetype": "text/x-python",
   "name": "python",
   "nbconvert_exporter": "python",
   "pygments_lexer": "ipython3",
   "version": "3.9.1"
  },
  "toc": {
   "base_numbering": 1,
   "nav_menu": {},
   "number_sections": true,
   "sideBar": true,
   "skip_h1_title": false,
   "title_cell": "Table of Contents",
   "title_sidebar": "Contents",
   "toc_cell": false,
   "toc_position": {},
   "toc_section_display": true,
   "toc_window_display": false
  },
  "varInspector": {
   "cols": {
    "lenName": 16,
    "lenType": 16,
    "lenVar": 40
   },
   "kernels_config": {
    "python": {
     "delete_cmd_postfix": "",
     "delete_cmd_prefix": "del ",
     "library": "var_list.py",
     "varRefreshCmd": "print(var_dic_list())"
    },
    "r": {
     "delete_cmd_postfix": ") ",
     "delete_cmd_prefix": "rm(",
     "library": "var_list.r",
     "varRefreshCmd": "cat(var_dic_list()) "
    }
   },
   "types_to_exclude": [
    "module",
    "function",
    "builtin_function_or_method",
    "instance",
    "_Feature"
   ],
   "window_display": false
  }
 },
 "nbformat": 4,
 "nbformat_minor": 4
}
