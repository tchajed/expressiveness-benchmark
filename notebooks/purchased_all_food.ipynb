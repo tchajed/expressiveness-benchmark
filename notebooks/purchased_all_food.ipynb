{
 "cells": [
  {
   "cell_type": "code",
   "execution_count": 4,
   "metadata": {
    "ExecuteTime": {
     "end_time": "2020-11-04T22:47:45.331404Z",
     "start_time": "2020-11-04T22:47:44.835971Z"
    }
   },
   "outputs": [],
   "source": [
    "%load_ext autoreload\n",
    "%autoreload 2\n",
    "from expressiveness_benchmark.types import Plan, Task, Language, SourceRange, Program\n",
    "from code_widget.example import CodeWidget\n",
    "from dataclasses import replace\n",
    "import json\n",
    "import pandas as pd"
   ]
  },
  {
   "cell_type": "code",
   "execution_count": 5,
   "metadata": {
    "ExecuteTime": {
     "end_time": "2020-11-04T22:47:45.389163Z",
     "start_time": "2020-11-04T22:47:45.372703Z"
    }
   },
   "outputs": [],
   "source": [
    "# CHANGE ME!\n",
    "TASK_ID = 'purchased_all_food'\n",
    "AUTHOR = 'will'"
   ]
  },
  {
   "cell_type": "code",
   "execution_count": 43,
   "metadata": {
    "ExecuteTime": {
     "end_time": "2020-11-11T19:47:58.109256Z",
     "start_time": "2020-11-11T19:47:58.088381Z"
    }
   },
   "outputs": [],
   "source": [
    "task = Task(\n",
    "    id=TASK_ID,\n",
    "    category=\"First-order logic\",\n",
    "    name=\"People that purchased all possible items\",\n",
    "    description=\"Find the name of all buyers that ordered every food item at least once.\",\n",
    "    plan=[\n",
    "    ],\n",
    "    sample_input={\n",
    "        \"food\": [\n",
    "            {\"id\": 1, \"name\": \"Burrito\"},\n",
    "            {\"id\": 2, \"name\": \"Sushi\"}\n",
    "        ],\n",
    "        \"orders\": [\n",
    "            {\"id\": 1, \"buyer\": \"Will\", \"food\": 1},\n",
    "            {\"id\": 2, \"buyer\": \"Scott\", \"food\": 2},\n",
    "            {\"id\": 3, \"buyer\": \"Scott\", \"food\": 2},\n",
    "            {\"id\": 4, \"buyer\": \"Will\", \"food\": 2},\n",
    "        ]\n",
    "    },\n",
    "    sample_output=[\"Will\"],\n",
    ")\n",
    "task.save()\n",
    "\n",
    "prototype = Program(\n",
    "    task=TASK_ID,\n",
    "    author=AUTHOR,\n",
    "    language=''    \n",
    ")"
   ]
  },
  {
   "cell_type": "code",
   "execution_count": 14,
   "metadata": {
    "ExecuteTime": {
     "end_time": "2020-11-04T22:53:49.388603Z",
     "start_time": "2020-11-04T22:53:49.362083Z"
    }
   },
   "outputs": [],
   "source": [
    "sql = replace(prototype,\n",
    "    language='sql',\n",
    "    source='''SELECT DISTINCT buyer\n",
    "FROM orders o1\n",
    "WHERE \n",
    "  (SELECT COUNT(DISTINCT food) FROM orders o2 WHERE o1.buyer = o2.buyer) = \n",
    "  (SELECT COUNT(*) FROM food)\n",
    "''').load_plan()\n",
    "sql.execute(task)\n",
    "sql.save()"
   ]
  },
  {
   "cell_type": "code",
   "execution_count": 20,
   "metadata": {
    "ExecuteTime": {
     "end_time": "2020-11-04T22:55:24.099500Z",
     "start_time": "2020-11-04T22:55:23.985445Z"
    }
   },
   "outputs": [],
   "source": [
    "datalog = replace(prototype,\n",
    "    language='datalog',\n",
    "    source='''\n",
    ".decl has_purchased(buyer:symbol, food:number)\n",
    "has_purchased(buyer, food) :- orders(buyer, food, _).\n",
    "\n",
    "purchased_all_food(buyer) :-\n",
    "  orders(buyer, _, _),\n",
    "  n_food = count : food(_, _),\n",
    "  n_unique_orders = count : has_purchased(buyer, _),\n",
    "  n_food = n_unique_orders.''').load_plan()\n",
    "datalog.execute(task)\n",
    "datalog.save()"
   ]
  },
  {
   "cell_type": "code",
   "execution_count": 37,
   "metadata": {
    "ExecuteTime": {
     "end_time": "2020-11-04T22:59:00.760836Z",
     "start_time": "2020-11-04T22:59:00.685579Z"
    }
   },
   "outputs": [],
   "source": [
    "pandas = replace(prototype,\n",
    "    language='python-pandas',\n",
    "    source='''def purchased_all_food(food, orders):\n",
    "    n_food = len(food)\n",
    "    n_unique_orders = (orders\n",
    "        .groupby('buyer')\n",
    "        .food.unique() \n",
    "        .map(len))\n",
    "    return n_unique_orders[n_unique_orders == n_food].index.values''').load_plan()\n",
    "pandas.execute(task)\n",
    "pandas.save()"
   ]
  },
  {
   "cell_type": "code",
   "execution_count": 39,
   "metadata": {
    "ExecuteTime": {
     "end_time": "2020-11-04T23:45:01.186917Z",
     "start_time": "2020-11-04T23:45:01.145639Z"
    }
   },
   "outputs": [],
   "source": [
    "imperative = replace(prototype,\n",
    "    language='python-imperative',\n",
    "    source='''def purchased_all_food(food, orders):\n",
    "    n_food = len(food)\n",
    "    unique_orders = defaultdict(set)\n",
    "    for order in orders:\n",
    "      unique_orders[order[\"buyer\"]].add(order[\"food\"])\n",
    "      \n",
    "    buyers = []\n",
    "    for buyer, orders in unique_orders.items():\n",
    "      if len(orders) == n_food:\n",
    "        buyers.append(buyer)\n",
    "    return buyers\n",
    "    ''').load_plan()\n",
    "imperative.execute(task)\n",
    "imperative.save()"
   ]
  },
  {
   "cell_type": "code",
   "execution_count": 40,
   "metadata": {
    "ExecuteTime": {
     "end_time": "2020-11-04T23:46:20.985693Z",
     "start_time": "2020-11-04T23:46:20.952809Z"
    }
   },
   "outputs": [],
   "source": [
    "functional = replace(prototype,\n",
    "    language='python-functional',\n",
    "    source='''def purchased_all_food(food, orders):\n",
    "    n_food = len(food)\n",
    "    buyers = set([order[\"buyer\"] for order in orders])\n",
    "    return [\n",
    "        buyer\n",
    "        for buyer in buyers\n",
    "        if len(set([order[\"food\"] for order in orders \n",
    "             if order[\"buyer\"] == buyer])) == n_food\n",
    "    ]''').load_plan()\n",
    "functional.execute(task)\n",
    "functional.save()"
   ]
  }
 ],
 "metadata": {
  "kernelspec": {
   "display_name": "Python 3",
   "language": "python",
   "name": "python3"
  },
  "language_info": {
   "codemirror_mode": {
    "name": "ipython",
    "version": 3
   },
   "file_extension": ".py",
   "mimetype": "text/x-python",
   "name": "python",
   "nbconvert_exporter": "python",
   "pygments_lexer": "ipython3",
   "version": "3.8.5"
  },
  "toc": {
   "base_numbering": 1,
   "nav_menu": {},
   "number_sections": true,
   "sideBar": true,
   "skip_h1_title": false,
   "title_cell": "Table of Contents",
   "title_sidebar": "Contents",
   "toc_cell": false,
   "toc_position": {},
   "toc_section_display": true,
   "toc_window_display": false
  },
  "varInspector": {
   "cols": {
    "lenName": 16,
    "lenType": 16,
    "lenVar": 40
   },
   "kernels_config": {
    "python": {
     "delete_cmd_postfix": "",
     "delete_cmd_prefix": "del ",
     "library": "var_list.py",
     "varRefreshCmd": "print(var_dic_list())"
    },
    "r": {
     "delete_cmd_postfix": ") ",
     "delete_cmd_prefix": "rm(",
     "library": "var_list.r",
     "varRefreshCmd": "cat(var_dic_list()) "
    }
   },
   "types_to_exclude": [
    "module",
    "function",
    "builtin_function_or_method",
    "instance",
    "_Feature"
   ],
   "window_display": false
  }
 },
 "nbformat": 4,
 "nbformat_minor": 4
}
