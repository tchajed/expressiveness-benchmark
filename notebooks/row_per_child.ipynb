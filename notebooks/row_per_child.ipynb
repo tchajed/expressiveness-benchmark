{
 "cells": [
  {
   "cell_type": "code",
   "execution_count": 146,
   "metadata": {
    "ExecuteTime": {
     "end_time": "2020-12-03T03:40:27.481284Z",
     "start_time": "2020-12-03T03:40:27.458933Z"
    }
   },
   "outputs": [
    {
     "name": "stdout",
     "output_type": "stream",
     "text": [
      "The autoreload extension is already loaded. To reload it, use:\n",
      "  %reload_ext autoreload\n"
     ]
    }
   ],
   "source": [
    "%load_ext autoreload\n",
    "%autoreload 2\n",
    "from expressiveness_benchmark.types import Plan, Task, Language, SourceRange, Program, save_languages\n",
    "from code_widget.example import CodeWidget\n",
    "from dataclasses import replace\n",
    "import json\n",
    "import pandas as pd"
   ]
  },
  {
   "cell_type": "code",
   "execution_count": 2,
   "metadata": {
    "ExecuteTime": {
     "end_time": "2020-12-02T03:28:25.637668Z",
     "start_time": "2020-12-02T03:28:25.621695Z"
    }
   },
   "outputs": [],
   "source": [
    "# CHANGE ME!\n",
    "TASK_ID = 'row_per_child'\n",
    "AUTHOR = 'will'"
   ]
  },
  {
   "cell_type": "code",
   "execution_count": 115,
   "metadata": {
    "ExecuteTime": {
     "end_time": "2020-12-03T02:58:18.353111Z",
     "start_time": "2020-12-03T02:58:18.329217Z"
    }
   },
   "outputs": [],
   "source": [
    "task = Task(\n",
    "    id=TASK_ID,\n",
    "    category=\"Joins\",\n",
    "    name=\"Row per family to row per child\",\n",
    "    description=\"TODO\",\n",
    "    plan=[],\n",
    "    sample_input={\n",
    "        \"families\": [\n",
    "            {\"family\": 1, \"dob_child1\": \"1998\", \"dob_child2\": \"1999\", \"dob_child3\": \"2000\", \"height_child1\": \"5_11\", \"height_child2\": \"5_10\",  \"height_child3\": \"5_9\"},\n",
    "            {\"family\": 2, \"dob_child1\": \"1997\", \"dob_child2\": \"1995\", \"dob_child3\": \"1996\", \"height_child1\": \"5_3\", \"height_child2\": \"5_5\", \"height_child3\": \"5_1\"}\n",
    "        ]\n",
    "    },\n",
    "    sample_output=[\n",
    "        {\"family\": 1, \"child\": \"child1\", \"dob\": \"1998\", \"height\": \"5_11\"},\n",
    "        {\"family\": 1, \"child\": \"child2\", \"dob\": \"1999\", \"height\": \"5_10\"},\n",
    "        {\"family\": 1, \"child\": \"child3\", \"dob\": \"2000\", \"height\": \"5_9\"},\n",
    "        {\"family\": 2, \"child\": \"child1\", \"dob\": \"1997\", \"height\": \"5_3\"},\n",
    "        {\"family\": 2, \"child\": \"child2\", \"dob\": \"1995\", \"height\": \"5_5\"},\n",
    "        {\"family\": 2, \"child\": \"child3\", \"dob\": \"1996\", \"height\": \"5_1\"},\n",
    "    ]\n",
    ")\n",
    "task.save()\n",
    "\n",
    "prototype = Program(\n",
    "    task=TASK_ID,\n",
    "    author=AUTHOR,\n",
    "    language=''    \n",
    ")"
   ]
  },
  {
   "cell_type": "code",
   "execution_count": 116,
   "metadata": {
    "ExecuteTime": {
     "end_time": "2020-12-03T02:58:20.224433Z",
     "start_time": "2020-12-03T02:58:20.174974Z"
    }
   },
   "outputs": [],
   "source": [
    "r = replace(\n",
    "    prototype,\n",
    "    language='r',\n",
    "    source='''\n",
    "row_per_child <- function(families) {\n",
    "  families %>%\n",
    "    pivot_longer(\n",
    "      !family,\n",
    "      names_to = c(\".value\", \"child\"),\n",
    "      names_sep = \"_\",\n",
    "    )\n",
    "}''')\n",
    "r.execute(task)\n",
    "r.save()"
   ]
  },
  {
   "cell_type": "code",
   "execution_count": 122,
   "metadata": {
    "ExecuteTime": {
     "end_time": "2020-12-03T02:59:28.202925Z",
     "start_time": "2020-12-03T02:59:28.163713Z"
    }
   },
   "outputs": [],
   "source": [
    "sql = replace(\n",
    "    prototype,\n",
    "    language='sql',\n",
    "    source='''\n",
    "SELECT \n",
    "  family,\n",
    "  ('child' || child) AS child,\n",
    "  (CASE child \n",
    "    WHEN 1 THEN dob_child1 \n",
    "    WHEN 2 THEN dob_child2 \n",
    "    WHEN 3 THEN dob_child3 \n",
    "   END) AS dob,\n",
    "  (CASE child \n",
    "    WHEN 1 THEN height_child1 \n",
    "    WHEN 2 THEN height_child2 \n",
    "    WHEN 3 THEN height_child3 \n",
    "   END) AS height\n",
    "FROM \n",
    "  families\n",
    "  CROSS JOIN\n",
    "  (SELECT 1 as child UNION VALUES (2), (3))\n",
    "''')\n",
    "sql.execute(task)\n",
    "sql.save()"
   ]
  },
  {
   "cell_type": "code",
   "execution_count": 17,
   "metadata": {
    "ExecuteTime": {
     "end_time": "2020-11-16T01:56:24.861367Z",
     "start_time": "2020-11-16T01:56:24.822260Z"
    }
   },
   "outputs": [
    {
     "data": {
      "application/vnd.jupyter.widget-view+json": {
       "model_id": "9d6a3d7599b84e5b9f73d98c00fd9e41",
       "version_major": 2,
       "version_minor": 0
      },
      "text/plain": [
       "Output()"
      ]
     },
     "metadata": {},
     "output_type": "display_data"
    },
    {
     "data": {
      "application/vnd.jupyter.widget-view+json": {
       "model_id": "e18e909cfa764a7ea817baa80b7d362f",
       "version_major": 2,
       "version_minor": 0
      },
      "text/plain": [
       "CodeWidget(program='{\"task\": \"unique_beer_drinkers\", \"language\": \"sql\", \"plan\": {}, \"source\": \"SELECT DISTINCT…"
      ]
     },
     "metadata": {},
     "output_type": "display_data"
    }
   ],
   "source": [
    "sql.widget(task)"
   ]
  },
  {
   "cell_type": "code",
   "execution_count": 134,
   "metadata": {
    "ExecuteTime": {
     "end_time": "2020-12-03T03:10:36.297746Z",
     "start_time": "2020-12-03T03:10:36.202869Z"
    }
   },
   "outputs": [],
   "source": [
    "datalog1 = replace(\n",
    "    prototype,\n",
    "    language='datalog',\n",
    "    source='''\n",
    "row_per_child(\"child1\", dob, family, height) :-\n",
    "  families(dob, _, _, family, height, _, _).\n",
    "row_per_child(\"child2\", dob, family, height) :-\n",
    "  families(_, dob, _, family, _, height, _).\n",
    "row_per_child(\"child3\", dob, family, height) :-\n",
    "  families(_, _, dob, family, _, _, height).\n",
    "''')\n",
    "datalog1.execute(task)\n",
    "datalog1.save()"
   ]
  },
  {
   "cell_type": "code",
   "execution_count": 26,
   "metadata": {
    "ExecuteTime": {
     "end_time": "2020-11-16T01:59:49.796345Z",
     "start_time": "2020-11-16T01:59:49.741112Z"
    }
   },
   "outputs": [
    {
     "data": {
      "application/vnd.jupyter.widget-view+json": {
       "model_id": "b9040918ca7d4e84b014562dc1e69366",
       "version_major": 2,
       "version_minor": 0
      },
      "text/plain": [
       "Output()"
      ]
     },
     "metadata": {},
     "output_type": "display_data"
    },
    {
     "data": {
      "application/vnd.jupyter.widget-view+json": {
       "model_id": "1b8ae74f841844ff89ff2bc3ace8a896",
       "version_major": 2,
       "version_minor": 0
      },
      "text/plain": [
       "CodeWidget(program='{\"task\": \"unique_beer_drinkers\", \"language\": \"datalog\", \"plan\": {}, \"source\": \".decl diffe…"
      ]
     },
     "metadata": {},
     "output_type": "display_data"
    }
   ],
   "source": [
    "datalog2.widget(task)"
   ]
  },
  {
   "cell_type": "code",
   "execution_count": 142,
   "metadata": {
    "ExecuteTime": {
     "end_time": "2020-12-03T03:24:12.220127Z",
     "start_time": "2020-12-03T03:24:12.161912Z"
    }
   },
   "outputs": [],
   "source": [
    "pandas = replace(\n",
    "    prototype,\n",
    "    language='python-pandas',\n",
    "    author='will',\n",
    "    source='''def row_per_child(families):\n",
    "  df = pd.wide_to_long(\n",
    "    families, \n",
    "    stubnames=['dob', 'height'], \n",
    "    sep=\"_child\", \n",
    "    i='family', \n",
    "    j='child').reset_index()\n",
    "  df.child = df.child.map(lambda c: f'child{c}')\n",
    "  return df\n",
    "  ''')\n",
    "pandas.execute(task)\n",
    "pandas.save()"
   ]
  },
  {
   "cell_type": "code",
   "execution_count": 15,
   "metadata": {
    "ExecuteTime": {
     "end_time": "2020-11-16T01:55:33.638978Z",
     "start_time": "2020-11-16T01:55:33.600726Z"
    }
   },
   "outputs": [
    {
     "data": {
      "application/vnd.jupyter.widget-view+json": {
       "model_id": "b46a0732e9034f8490e8942d46a66fc3",
       "version_major": 2,
       "version_minor": 0
      },
      "text/plain": [
       "Output()"
      ]
     },
     "metadata": {},
     "output_type": "display_data"
    },
    {
     "data": {
      "application/vnd.jupyter.widget-view+json": {
       "model_id": "27718d098feb4f969965a7923f124e3d",
       "version_major": 2,
       "version_minor": 0
      },
      "text/plain": [
       "CodeWidget(program='{\"task\": \"unique_beer_drinkers\", \"language\": \"python-pandas\", \"plan\": {}, \"source\": \"def u…"
      ]
     },
     "metadata": {},
     "output_type": "display_data"
    }
   ],
   "source": [
    "pandas.widget(task)"
   ]
  },
  {
   "cell_type": "code",
   "execution_count": 143,
   "metadata": {
    "ExecuteTime": {
     "end_time": "2020-12-03T03:39:08.763948Z",
     "start_time": "2020-12-03T03:39:08.726822Z"
    }
   },
   "outputs": [],
   "source": [
    "python_functional = replace(\n",
    "    prototype,\n",
    "    language='python-functional',\n",
    "    source='''def row_per_child(families):\n",
    "  return [\n",
    "    {\n",
    "      'family': family['family'],\n",
    "      'child': f'child{i}',\n",
    "      'dob': family[f'dob_child{i}'],\n",
    "      'height': family[f'height_child{i}']\n",
    "    }\n",
    "    for family in families    \n",
    "    for i in [1, 2, 3]\n",
    "  ]\n",
    "  ''')\n",
    "python_functional.execute(task)\n",
    "python_functional.save()"
   ]
  },
  {
   "cell_type": "code",
   "execution_count": 11,
   "metadata": {
    "ExecuteTime": {
     "end_time": "2020-11-16T01:50:35.607647Z",
     "start_time": "2020-11-16T01:50:35.572877Z"
    }
   },
   "outputs": [
    {
     "data": {
      "application/vnd.jupyter.widget-view+json": {
       "model_id": "9f0dfe92cfe84f41b9be19a5e7bb40ad",
       "version_major": 2,
       "version_minor": 0
      },
      "text/plain": [
       "Output()"
      ]
     },
     "metadata": {},
     "output_type": "display_data"
    },
    {
     "data": {
      "application/vnd.jupyter.widget-view+json": {
       "model_id": "acde9be1ccc144c6b605195a4f8d1159",
       "version_major": 2,
       "version_minor": 0
      },
      "text/plain": [
       "CodeWidget(program='{\"task\": \"unique_beer_drinkers\", \"language\": \"python-functional\", \"plan\": {}, \"source\": \"d…"
      ]
     },
     "metadata": {},
     "output_type": "display_data"
    }
   ],
   "source": [
    "python_functional.widget(task)"
   ]
  },
  {
   "cell_type": "code",
   "execution_count": 145,
   "metadata": {
    "ExecuteTime": {
     "end_time": "2020-12-03T03:40:15.170046Z",
     "start_time": "2020-12-03T03:40:15.136893Z"
    }
   },
   "outputs": [],
   "source": [
    "python_imperative = replace(\n",
    "    prototype,\n",
    "    language='python-imperative',\n",
    "    source='''\n",
    "def row_per_child(families):\n",
    "  children = []\n",
    "  for family in families:\n",
    "    for i in [1, 2, 3]:\n",
    "      children.append({\n",
    "        'family': family['family'],\n",
    "        'child': f'child{i}',\n",
    "        'dob': family[f'dob_child{i}'],\n",
    "        'height': family[f'height_child{i}']\n",
    "      })\n",
    "  return children\n",
    "''')\n",
    "python_imperative.execute(task)\n",
    "python_imperative.save()"
   ]
  },
  {
   "cell_type": "code",
   "execution_count": 13,
   "metadata": {
    "ExecuteTime": {
     "end_time": "2020-11-16T01:52:28.104933Z",
     "start_time": "2020-11-16T01:52:28.065358Z"
    }
   },
   "outputs": [
    {
     "data": {
      "application/vnd.jupyter.widget-view+json": {
       "model_id": "08c3c0fcbfe94ddbbd9ad0c8874888be",
       "version_major": 2,
       "version_minor": 0
      },
      "text/plain": [
       "Output()"
      ]
     },
     "metadata": {},
     "output_type": "display_data"
    },
    {
     "data": {
      "application/vnd.jupyter.widget-view+json": {
       "model_id": "6c583936482647dc87aabf0ec08ef95b",
       "version_major": 2,
       "version_minor": 0
      },
      "text/plain": [
       "CodeWidget(program='{\"task\": \"unique_beer_drinkers\", \"language\": \"python-imperative\", \"plan\": {}, \"source\": \"d…"
      ]
     },
     "metadata": {},
     "output_type": "display_data"
    }
   ],
   "source": [
    "python_imperative.widget(task)"
   ]
  }
 ],
 "metadata": {
  "kernelspec": {
   "display_name": "Python 3",
   "language": "python",
   "name": "python3"
  },
  "language_info": {
   "codemirror_mode": {
    "name": "ipython",
    "version": 3
   },
   "file_extension": ".py",
   "mimetype": "text/x-python",
   "name": "python",
   "nbconvert_exporter": "python",
   "pygments_lexer": "ipython3",
   "version": "3.8.5"
  },
  "toc": {
   "base_numbering": 1,
   "nav_menu": {},
   "number_sections": true,
   "sideBar": true,
   "skip_h1_title": false,
   "title_cell": "Table of Contents",
   "title_sidebar": "Contents",
   "toc_cell": false,
   "toc_position": {},
   "toc_section_display": true,
   "toc_window_display": false
  },
  "varInspector": {
   "cols": {
    "lenName": 16,
    "lenType": 16,
    "lenVar": 40
   },
   "kernels_config": {
    "python": {
     "delete_cmd_postfix": "",
     "delete_cmd_prefix": "del ",
     "library": "var_list.py",
     "varRefreshCmd": "print(var_dic_list())"
    },
    "r": {
     "delete_cmd_postfix": ") ",
     "delete_cmd_prefix": "rm(",
     "library": "var_list.r",
     "varRefreshCmd": "cat(var_dic_list()) "
    }
   },
   "types_to_exclude": [
    "module",
    "function",
    "builtin_function_or_method",
    "instance",
    "_Feature"
   ],
   "window_display": false
  }
 },
 "nbformat": 4,
 "nbformat_minor": 4
}
