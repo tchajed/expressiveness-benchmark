{
 "cells": [
  {
   "cell_type": "code",
   "execution_count": 2,
   "metadata": {
    "ExecuteTime": {
     "end_time": "2020-12-30T19:06:25.008471Z",
     "start_time": "2020-12-30T19:06:24.441644Z"
    }
   },
   "outputs": [],
   "source": [
    "%load_ext autoreload\n",
    "%autoreload 2\n",
    "from expressiveness_benchmark.types import Plan, Task, Language, SourceRange, Program, save_languages\n",
    "from code_widget.example import CodeWidget\n",
    "from dataclasses import replace\n",
    "import json\n",
    "import pandas as pd"
   ]
  },
  {
   "cell_type": "code",
   "execution_count": 3,
   "metadata": {
    "ExecuteTime": {
     "end_time": "2020-12-30T19:06:25.065753Z",
     "start_time": "2020-12-30T19:06:25.049595Z"
    }
   },
   "outputs": [],
   "source": [
    "# CHANGE ME!\n",
    "TASK_ID = 'row_per_child'\n",
    "AUTHOR = 'will'"
   ]
  },
  {
   "cell_type": "code",
   "execution_count": 5,
   "metadata": {
    "ExecuteTime": {
     "end_time": "2020-12-30T19:07:52.747037Z",
     "start_time": "2020-12-30T19:07:52.723972Z"
    }
   },
   "outputs": [],
   "source": [
    "task = Task(\n",
    "    id=TASK_ID,\n",
    "    category=\"Joins\",\n",
    "    name=\"Row per family to row per child\",\n",
    "    description=\"For each family, return a row for each child containing the family ID, child ID, DOB, and height.\",\n",
    "    plan=[\n",
    "        {\"id\": \"each-family\", \"description\": \"For each family\"},\n",
    "        {\"id\": \"each-child\", \"description\": \"for each child\"},\n",
    "        {\"id\": \"family-ID\", \"description\": \"family ID\"},\n",
    "        {\"id\": \"child-ID\", \"description\": \"child ID\"},\n",
    "        {\"id\": \"dob-height\", \"description\": \"DOB, and height\"}\n",
    "    ],\n",
    "    sample_input={\n",
    "        \"families\": [\n",
    "            {\"family\": 1, \"dob_child1\": \"1998\", \"dob_child2\": \"1999\", \"dob_child3\": \"2000\", \"height_child1\": \"5_11\", \"height_child2\": \"5_10\",  \"height_child3\": \"5_9\"},\n",
    "            {\"family\": 2, \"dob_child1\": \"1997\", \"dob_child2\": \"1995\", \"dob_child3\": \"1996\", \"height_child1\": \"5_3\", \"height_child2\": \"5_5\", \"height_child3\": \"5_1\"}\n",
    "        ]\n",
    "    },\n",
    "    sample_output=[\n",
    "        {\"family\": 1, \"child\": \"child1\", \"dob\": \"1998\", \"height\": \"5_11\"},\n",
    "        {\"family\": 1, \"child\": \"child2\", \"dob\": \"1999\", \"height\": \"5_10\"},\n",
    "        {\"family\": 1, \"child\": \"child3\", \"dob\": \"2000\", \"height\": \"5_9\"},\n",
    "        {\"family\": 2, \"child\": \"child1\", \"dob\": \"1997\", \"height\": \"5_3\"},\n",
    "        {\"family\": 2, \"child\": \"child2\", \"dob\": \"1995\", \"height\": \"5_5\"},\n",
    "        {\"family\": 2, \"child\": \"child3\", \"dob\": \"1996\", \"height\": \"5_1\"},\n",
    "    ]\n",
    ")\n",
    "task.save()\n",
    "\n",
    "prototype = Program(\n",
    "    task=TASK_ID,\n",
    "    author=AUTHOR,\n",
    "    language=''    \n",
    ")"
   ]
  },
  {
   "cell_type": "code",
   "execution_count": 22,
   "metadata": {
    "ExecuteTime": {
     "end_time": "2020-12-30T19:18:48.688583Z",
     "start_time": "2020-12-30T19:18:48.243119Z"
    }
   },
   "outputs": [
    {
     "name": "stdout",
     "output_type": "stream",
     "text": [
      "/var/folders/6p/3bzglbgn2ts3v16zf_27zq3r0000gn/T/tmp9zcb8aht\n",
      "families:(\"***I***\"; enlist \",\") 0:`:/var/folders/6p/3bzglbgn2ts3v16zf_27zq3r0000gn/T/tmp9zcb8aht/families.csv\n",
      "child_rows: {[child] \n",
      "  rows: ?[families; (); 0b; `family`dob`height ! \n",
      "    (`family; `$(\"dob_child\",child); `$(\"height_child\", child))];\n",
      "  update child: (count families)#enlist (\"child\", child) from rows}\n",
      "      \n",
      "row_per_child: (child_rows each (\"1\"; \"2\"; \"3\")) ,/;\n",
      "\n",
      "output: row_per_child\n",
      "output: output\n",
      "output: (asc cols output) xcols output\n",
      "save `:output.csv\n",
      "\n"
     ]
    }
   ],
   "source": [
    "q = replace(\n",
    "    prototype,\n",
    "    language='q',\n",
    "    source='''child_rows: {[child] \n",
    "  rows: ?[families; (); 0b; `family`dob`height ! \n",
    "    (`family; `$(\"dob_child\",child); `$(\"height_child\", child))];\n",
    "  update child: (count families)#enlist (\"child\", child) from rows}\n",
    "      \n",
    "row_per_child: (child_rows each (\"1\"; \"2\"; \"3\")) ,/;''').load_plan()\n",
    "q.execute(task, debug=True)\n",
    "q.save()"
   ]
  },
  {
   "cell_type": "code",
   "execution_count": 23,
   "metadata": {
    "ExecuteTime": {
     "end_time": "2020-12-30T19:19:15.467322Z",
     "start_time": "2020-12-30T19:19:15.433778Z"
    }
   },
   "outputs": [
    {
     "data": {
      "application/vnd.jupyter.widget-view+json": {
       "model_id": "f9f237d68d55418fb417e0f9675df9be",
       "version_major": 2,
       "version_minor": 0
      },
      "text/plain": [
       "Output()"
      ]
     },
     "metadata": {},
     "output_type": "display_data"
    },
    {
     "data": {
      "application/vnd.jupyter.widget-view+json": {
       "model_id": "001da5ba980d401cafd9bfe888975766",
       "version_major": 2,
       "version_minor": 0
      },
      "text/plain": [
       "CodeWidget(program='{\"task\": \"row_per_child\", \"language\": \"q\", \"plan\": {}, \"source\": \"child_rows: {[child] \\\\n…"
      ]
     },
     "metadata": {},
     "output_type": "display_data"
    }
   ],
   "source": [
    "q.widget(task)"
   ]
  },
  {
   "cell_type": "code",
   "execution_count": 26,
   "metadata": {
    "ExecuteTime": {
     "end_time": "2020-12-30T19:20:46.954553Z",
     "start_time": "2020-12-30T19:20:46.874665Z"
    }
   },
   "outputs": [],
   "source": [
    "r = replace(\n",
    "    prototype,\n",
    "    language='r',\n",
    "    source='''row_per_child <- function(families) {\n",
    "  families %>%\n",
    "    pivot_longer(\n",
    "      !family,\n",
    "      names_to = c(\".value\", \"child\"),\n",
    "      names_sep = \"_\",\n",
    "    )\n",
    "}''').load_plan()\n",
    "r.execute(task)\n",
    "r.save()"
   ]
  },
  {
   "cell_type": "code",
   "execution_count": 27,
   "metadata": {
    "ExecuteTime": {
     "end_time": "2020-12-30T19:20:47.541984Z",
     "start_time": "2020-12-30T19:20:47.506199Z"
    }
   },
   "outputs": [
    {
     "data": {
      "application/vnd.jupyter.widget-view+json": {
       "model_id": "dfde641108ec49aa93bc9446f214e78d",
       "version_major": 2,
       "version_minor": 0
      },
      "text/plain": [
       "Output()"
      ]
     },
     "metadata": {},
     "output_type": "display_data"
    },
    {
     "data": {
      "application/vnd.jupyter.widget-view+json": {
       "model_id": "42c5f7095e974817b7d75e18608a076d",
       "version_major": 2,
       "version_minor": 0
      },
      "text/plain": [
       "CodeWidget(program='{\"task\": \"row_per_child\", \"language\": \"r\", \"plan\": {}, \"source\": \"row_per_child <- functio…"
      ]
     },
     "metadata": {},
     "output_type": "display_data"
    }
   ],
   "source": [
    "r.widget(task)"
   ]
  },
  {
   "cell_type": "code",
   "execution_count": 47,
   "metadata": {
    "ExecuteTime": {
     "end_time": "2020-12-30T19:28:13.744484Z",
     "start_time": "2020-12-30T19:28:13.699776Z"
    }
   },
   "outputs": [],
   "source": [
    "sql = replace(\n",
    "    prototype,\n",
    "    language='sql',\n",
    "    source='''SELECT \n",
    "  family,\n",
    "  ('child' || child) AS child,\n",
    "  (CASE child \n",
    "    WHEN 1 THEN dob_child1 \n",
    "    WHEN 2 THEN dob_child2 \n",
    "    WHEN 3 THEN dob_child3 \n",
    "   END) AS dob,\n",
    "  (CASE child \n",
    "    WHEN 1 THEN height_child1 \n",
    "    WHEN 2 THEN height_child2 \n",
    "    WHEN 3 THEN height_child3 \n",
    "   END) AS height\n",
    "FROM \n",
    "  families\n",
    "  CROSS JOIN\n",
    "  (SELECT 1 as child UNION VALUES (2), (3))''').load_plan()\n",
    "sql.execute(task)\n",
    "sql.save()"
   ]
  },
  {
   "cell_type": "code",
   "execution_count": 48,
   "metadata": {
    "ExecuteTime": {
     "end_time": "2020-12-30T19:28:14.401510Z",
     "start_time": "2020-12-30T19:28:14.364687Z"
    }
   },
   "outputs": [
    {
     "data": {
      "application/vnd.jupyter.widget-view+json": {
       "model_id": "9779226d622842b88106bbf133a72e9e",
       "version_major": 2,
       "version_minor": 0
      },
      "text/plain": [
       "Output()"
      ]
     },
     "metadata": {},
     "output_type": "display_data"
    },
    {
     "data": {
      "application/vnd.jupyter.widget-view+json": {
       "model_id": "2d5233a087024285be267ad5235d2506",
       "version_major": 2,
       "version_minor": 0
      },
      "text/plain": [
       "CodeWidget(program='{\"task\": \"row_per_child\", \"language\": \"sql\", \"plan\": {\"child-ID\": [{\"line\": 2, \"start\": 2,…"
      ]
     },
     "metadata": {},
     "output_type": "display_data"
    }
   ],
   "source": [
    "sql.widget(task)"
   ]
  },
  {
   "cell_type": "code",
   "execution_count": 34,
   "metadata": {
    "ExecuteTime": {
     "end_time": "2020-12-30T19:22:56.416295Z",
     "start_time": "2020-12-30T19:22:56.392056Z"
    }
   },
   "outputs": [],
   "source": [
    "datalog = replace(\n",
    "    prototype,\n",
    "    language='datalog',\n",
    "    source='''row_per_child(\"child1\", dob, family, height) :-\n",
    "  families(dob, _, _, family, height, _, _).\n",
    "row_per_child(\"child2\", dob, family, height) :-\n",
    "  families(_, dob, _, family, _, height, _).\n",
    "row_per_child(\"child3\", dob, family, height) :-\n",
    "  families(_, _, dob, family, _, _, height).''').load_plan()\n",
    "datalog.execute(task, debug=True)\n",
    "datalog.save()"
   ]
  },
  {
   "cell_type": "code",
   "execution_count": 35,
   "metadata": {
    "ExecuteTime": {
     "end_time": "2020-12-30T19:22:59.690917Z",
     "start_time": "2020-12-30T19:22:59.651794Z"
    }
   },
   "outputs": [
    {
     "data": {
      "application/vnd.jupyter.widget-view+json": {
       "model_id": "bbce772c6c0d42e690f11e3509f85c29",
       "version_major": 2,
       "version_minor": 0
      },
      "text/plain": [
       "Output()"
      ]
     },
     "metadata": {},
     "output_type": "display_data"
    },
    {
     "data": {
      "application/vnd.jupyter.widget-view+json": {
       "model_id": "c6ad92cc0ac548e5832b6183fc46f4c4",
       "version_major": 2,
       "version_minor": 0
      },
      "text/plain": [
       "CodeWidget(program='{\"task\": \"row_per_child\", \"language\": \"datalog\", \"plan\": {}, \"source\": \"row_per_child(\\\\\"c…"
      ]
     },
     "metadata": {},
     "output_type": "display_data"
    }
   ],
   "source": [
    "datalog.widget(task)"
   ]
  },
  {
   "cell_type": "code",
   "execution_count": 36,
   "metadata": {
    "ExecuteTime": {
     "end_time": "2020-12-30T19:24:39.042366Z",
     "start_time": "2020-12-30T19:24:38.981225Z"
    }
   },
   "outputs": [],
   "source": [
    "pandas = replace(\n",
    "    prototype,\n",
    "    language='python-pandas',\n",
    "    author='will',\n",
    "    source='''def row_per_child(families):\n",
    "  df = pd.wide_to_long(\n",
    "    families, \n",
    "    stubnames=['dob', 'height'], \n",
    "    sep=\"_child\", \n",
    "    i='family', \n",
    "    j='child').reset_index()\n",
    "  df.child = df.child.map(lambda c: f'child{c}')\n",
    "  return df''').load_plan()\n",
    "pandas.execute(task)\n",
    "pandas.save()"
   ]
  },
  {
   "cell_type": "code",
   "execution_count": 37,
   "metadata": {
    "ExecuteTime": {
     "end_time": "2020-12-30T19:24:40.086089Z",
     "start_time": "2020-12-30T19:24:40.044662Z"
    }
   },
   "outputs": [
    {
     "data": {
      "application/vnd.jupyter.widget-view+json": {
       "model_id": "1079d90944d1447694c25ac14a7af35f",
       "version_major": 2,
       "version_minor": 0
      },
      "text/plain": [
       "Output()"
      ]
     },
     "metadata": {},
     "output_type": "display_data"
    },
    {
     "data": {
      "application/vnd.jupyter.widget-view+json": {
       "model_id": "d789a17f195b4c86a9800269979a2015",
       "version_major": 2,
       "version_minor": 0
      },
      "text/plain": [
       "CodeWidget(program='{\"task\": \"row_per_child\", \"language\": \"python-pandas\", \"plan\": {}, \"source\": \"def row_per_…"
      ]
     },
     "metadata": {},
     "output_type": "display_data"
    }
   ],
   "source": [
    "pandas.widget(task)"
   ]
  },
  {
   "cell_type": "code",
   "execution_count": 43,
   "metadata": {
    "ExecuteTime": {
     "end_time": "2020-12-30T19:26:05.381194Z",
     "start_time": "2020-12-30T19:26:05.341950Z"
    }
   },
   "outputs": [],
   "source": [
    "python_functional = replace(\n",
    "    prototype,\n",
    "    language='python-functional',\n",
    "    source='''def row_per_child(families):\n",
    "  return [\n",
    "    {'family': family['family'],\n",
    "     'child': f'child{i}',\n",
    "     'dob': family[f'dob_child{i}'],\n",
    "     'height': family[f'height_child{i}']}\n",
    "    for family in families    \n",
    "    for i in [1, 2, 3]\n",
    "  ]''').load_plan()\n",
    "python_functional.execute(task)\n",
    "python_functional.save()"
   ]
  },
  {
   "cell_type": "code",
   "execution_count": 44,
   "metadata": {
    "ExecuteTime": {
     "end_time": "2020-12-30T19:26:06.200397Z",
     "start_time": "2020-12-30T19:26:06.155665Z"
    }
   },
   "outputs": [
    {
     "data": {
      "application/vnd.jupyter.widget-view+json": {
       "model_id": "4c6f325215b04575977aa8ee8e2064b4",
       "version_major": 2,
       "version_minor": 0
      },
      "text/plain": [
       "Output()"
      ]
     },
     "metadata": {},
     "output_type": "display_data"
    },
    {
     "data": {
      "application/vnd.jupyter.widget-view+json": {
       "model_id": "66a16dfa52124975a2ecce08e266f1c1",
       "version_major": 2,
       "version_minor": 0
      },
      "text/plain": [
       "CodeWidget(program='{\"task\": \"row_per_child\", \"language\": \"python-functional\", \"plan\": {}, \"source\": \"def row_…"
      ]
     },
     "metadata": {},
     "output_type": "display_data"
    }
   ],
   "source": [
    "python_functional.widget(task)"
   ]
  },
  {
   "cell_type": "code",
   "execution_count": 45,
   "metadata": {
    "ExecuteTime": {
     "end_time": "2020-12-30T19:27:09.603605Z",
     "start_time": "2020-12-30T19:27:09.568763Z"
    }
   },
   "outputs": [],
   "source": [
    "python_imperative = replace(\n",
    "    prototype,\n",
    "    language='python-imperative',\n",
    "    source='''\n",
    "def row_per_child(families):\n",
    "  children = []\n",
    "  for family in families:\n",
    "    for i in [1, 2, 3]:\n",
    "      children.append({\n",
    "        'family': family['family'],\n",
    "        'child': f'child{i}',\n",
    "        'dob': family[f'dob_child{i}'],\n",
    "        'height': family[f'height_child{i}']\n",
    "      })\n",
    "  return children\n",
    "''').load_plan()\n",
    "python_imperative.execute(task)\n",
    "python_imperative.save()"
   ]
  },
  {
   "cell_type": "code",
   "execution_count": 46,
   "metadata": {
    "ExecuteTime": {
     "end_time": "2020-12-30T19:27:10.391056Z",
     "start_time": "2020-12-30T19:27:10.355165Z"
    }
   },
   "outputs": [
    {
     "data": {
      "application/vnd.jupyter.widget-view+json": {
       "model_id": "7b0d34c0237946209561ecab330b9594",
       "version_major": 2,
       "version_minor": 0
      },
      "text/plain": [
       "Output()"
      ]
     },
     "metadata": {},
     "output_type": "display_data"
    },
    {
     "data": {
      "application/vnd.jupyter.widget-view+json": {
       "model_id": "a71b89e1bdb947a8bebef2340ecf4089",
       "version_major": 2,
       "version_minor": 0
      },
      "text/plain": [
       "CodeWidget(program='{\"task\": \"row_per_child\", \"language\": \"python-imperative\", \"plan\": {}, \"source\": \"\\\\ndef r…"
      ]
     },
     "metadata": {},
     "output_type": "display_data"
    }
   ],
   "source": [
    "python_imperative.widget(task)"
   ]
  }
 ],
 "metadata": {
  "kernelspec": {
   "display_name": "Python 3",
   "language": "python",
   "name": "python3"
  },
  "language_info": {
   "codemirror_mode": {
    "name": "ipython",
    "version": 3
   },
   "file_extension": ".py",
   "mimetype": "text/x-python",
   "name": "python",
   "nbconvert_exporter": "python",
   "pygments_lexer": "ipython3",
   "version": "3.9.1"
  },
  "toc": {
   "base_numbering": 1,
   "nav_menu": {},
   "number_sections": true,
   "sideBar": true,
   "skip_h1_title": false,
   "title_cell": "Table of Contents",
   "title_sidebar": "Contents",
   "toc_cell": false,
   "toc_position": {},
   "toc_section_display": true,
   "toc_window_display": false
  },
  "varInspector": {
   "cols": {
    "lenName": 16,
    "lenType": 16,
    "lenVar": 40
   },
   "kernels_config": {
    "python": {
     "delete_cmd_postfix": "",
     "delete_cmd_prefix": "del ",
     "library": "var_list.py",
     "varRefreshCmd": "print(var_dic_list())"
    },
    "r": {
     "delete_cmd_postfix": ") ",
     "delete_cmd_prefix": "rm(",
     "library": "var_list.r",
     "varRefreshCmd": "cat(var_dic_list()) "
    }
   },
   "types_to_exclude": [
    "module",
    "function",
    "builtin_function_or_method",
    "instance",
    "_Feature"
   ],
   "window_display": false
  }
 },
 "nbformat": 4,
 "nbformat_minor": 4
}
