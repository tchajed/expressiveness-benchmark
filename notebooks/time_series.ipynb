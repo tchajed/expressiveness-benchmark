{
 "cells": [
  {
   "cell_type": "code",
   "execution_count": 184,
   "metadata": {
    "ExecuteTime": {
     "end_time": "2020-10-28T23:52:54.228684Z",
     "start_time": "2020-10-28T23:52:53.908677Z"
    }
   },
   "outputs": [
    {
     "name": "stdout",
     "output_type": "stream",
     "text": [
      "The autoreload extension is already loaded. To reload it, use:\n",
      "  %reload_ext autoreload\n"
     ]
    }
   ],
   "source": [
    "%load_ext autoreload\n",
    "%autoreload 2\n",
    "from expressiveness_benchmark.types import Program, Task\n",
    "import pandas as pd\n",
    "from dataclasses import replace"
   ]
  },
  {
   "cell_type": "code",
   "execution_count": 185,
   "metadata": {
    "ExecuteTime": {
     "end_time": "2020-10-28T23:52:54.248549Z",
     "start_time": "2020-10-28T23:52:54.231333Z"
    }
   },
   "outputs": [],
   "source": [
    "# CHANGE ME!\n",
    "TASK_ID = 'average_adjacent'\n",
    "AUTHOR = 'scott'"
   ]
  },
  {
   "cell_type": "code",
   "execution_count": 250,
   "metadata": {
    "ExecuteTime": {
     "end_time": "2020-10-28T23:52:54.268868Z",
     "start_time": "2020-10-28T23:52:54.252064Z"
    }
   },
   "outputs": [],
   "source": [
    "task = Task(\n",
    "    id=TASK_ID,\n",
    "    description=\"compute averages of adjacent values in time-ordering\",\n",
    "    category='Time Series',\n",
    "    plan=[],\n",
    "    sample_input={\n",
    "        \"data\": [\n",
    "            {\"time\": 20, \"x\": 14.0},\n",
    "            {\"time\": 3, \"x\": 3.0},\n",
    "            {\"time\": 1, \"x\": 1.0},\n",
    "            {\"time\": 9, \"x\": 7.0},\n",
    "            {\"time\": 10, \"x\": 9.0},\n",
    "            {\"time\": 11, \"x\": 11.0},\n",
    "        ]\n",
    "    },\n",
    "    sample_output=[2.0, 5.0, 8.0, 10.0, 12.5]\n",
    ")\n",
    "task.save()\n",
    "\n",
    "prototype = Program(\n",
    "    task=TASK_ID,\n",
    "    author=AUTHOR,\n",
    "    language=''    \n",
    ")"
   ]
  },
  {
   "cell_type": "code",
   "execution_count": 251,
   "metadata": {
    "ExecuteTime": {
     "end_time": "2020-10-28T23:52:54.290013Z",
     "start_time": "2020-10-28T23:52:54.270985Z"
    }
   },
   "outputs": [],
   "source": [
    "python_imp = replace(prototype,\n",
    "    language='python-imperative',\n",
    "    implementation='',\n",
    "    source='''def average_adjacent(data):\n",
    "    if len(data) == 0:\n",
    "        return []\n",
    "    if len(data) == 1:\n",
    "        return [data[0][\"x\"]]\n",
    "    data = sorted(data, key=lambda v: v[\"time\"])\n",
    "    a, b = None, data[0][\"x\"]\n",
    "    result = []\n",
    "    for value in data[1:]:\n",
    "        a = b; b = value[\"x\"]\n",
    "        result.append((a+b)/2)\n",
    "    return result\n",
    "''').load_plan()\n",
    "python_imp.execute(task)\n",
    "python_imp.save()"
   ]
  },
  {
   "cell_type": "code",
   "execution_count": 252,
   "metadata": {},
   "outputs": [],
   "source": [
    "python_fun = replace(prototype,\n",
    "    language='python-functional',\n",
    "    implementation='',\n",
    "    source='''# from itertools import zip\n",
    "def average_adjacent(data):\n",
    "    data = sorted(data, key=lambda v: v[\"time\"])\n",
    "    return [(a[\"x\"]+b[\"x\"])/2 for a, b in zip(data[1:], data[:-1])]\n",
    "''').load_plan()\n",
    "python_fun.execute(task)\n",
    "python_fun.save()"
   ]
  },
  {
   "cell_type": "code",
   "execution_count": 253,
   "metadata": {
    "ExecuteTime": {
     "end_time": "2020-10-28T23:52:54.290013Z",
     "start_time": "2020-10-28T23:52:54.270985Z"
    }
   },
   "outputs": [],
   "source": [
    "pandas = replace(prototype,\n",
    "    language='python-pandas',\n",
    "    implementation='',\n",
    "    source='''import pandas as pd\n",
    "import math\n",
    "def average_adjacent(data):\n",
    "    data = data.sort_values(\"time\").set_index(\"time\")\n",
    "    d1 = data[1:].reset_index(drop=True)\n",
    "    d2 = data[:-1].reset_index(drop=True)\n",
    "    result = (d1.x + d2.x)/2\n",
    "    return result.tolist()\n",
    "''').load_plan()\n",
    "pandas.execute(task)\n",
    "pandas.save()"
   ]
  },
  {
   "cell_type": "code",
   "execution_count": 255,
   "metadata": {},
   "outputs": [
    {
     "name": "stdout",
     "output_type": "stream",
     "text": [
      "Path: /tmp/tmpw_oajhcz\n",
      ".decl data(time:number, x:float)\n",
      ".input data\n",
      ".decl average_adjacent(x0:float)\n",
      ".output average_adjacent\n",
      "\n",
      ".decl less(x: number, y: number)\n",
      ".decl immediate(x: number, y: number)\n",
      ".decl intermediate(x: number, y: number)\n",
      "less(x, y) :- data(x, _), data(y, _), x < y.\n",
      "intermediate(x, y) :- less(x, z), less(z, y).\n",
      "immediate(x, y) :- less(x, y), !intermediate(x, y).\n",
      "average_adjacent(v) :- immediate(x, y), data(x, v1), data(y, v2), v = (v1+v2)/2.\n",
      "\n"
     ]
    }
   ],
   "source": [
    "datalog = replace(prototype,\n",
    "    language='datalog',\n",
    "    source='''\n",
    ".decl less(x: number, y: number)\n",
    ".decl immediate(x: number, y: number)\n",
    ".decl intermediate(x: number, y: number)\n",
    "less(x, y) :- data(x, _), data(y, _), x < y.\n",
    "intermediate(x, y) :- less(x, z), less(z, y).\n",
    "immediate(x, y) :- less(x, y), !intermediate(x, y).\n",
    "average_adjacent(v) :- immediate(x, y), data(x, v1), data(y, v2), v = (v1+v2)/2.\n",
    "''').load_plan()\n",
    "datalog.execute(task, debug=True)\n",
    "datalog.save()"
   ]
  },
  {
   "cell_type": "code",
   "execution_count": 306,
   "metadata": {},
   "outputs": [],
   "source": [
    "sql = replace(prototype,\n",
    "    language='sql',\n",
    "    source='''SELECT\n",
    "  (x + previous) / 2\n",
    "FROM (SELECT\n",
    "  x, LAG(x, 1) OVER (ORDER BY time) as previous\n",
    "  FROM data)\n",
    "WHERE previous is not null\n",
    "''').load_plan()\n",
    "sql.execute(task)\n",
    "sql.save()"
   ]
  },
  {
   "cell_type": "code",
   "execution_count": 111,
   "metadata": {},
   "outputs": [
    {
     "data": {
      "application/vnd.jupyter.widget-view+json": {
       "model_id": "52004af0da2c468e84cc48aced137145",
       "version_major": 2,
       "version_minor": 0
      },
      "text/plain": [
       "Output()"
      ]
     },
     "metadata": {},
     "output_type": "display_data"
    },
    {
     "data": {
      "application/vnd.jupyter.widget-view+json": {
       "model_id": "8a2d689da8b9498497244c78a2ae1487",
       "version_major": 2,
       "version_minor": 0
      },
      "text/plain": [
       "CodeWidget(program='{\"task\": \"time_series\", \"language\": \"sql\", \"plan\": {}, \"source\": \" \\\\n    \\\\nSELECT AVG(x)…"
      ]
     },
     "metadata": {},
     "output_type": "display_data"
    }
   ],
   "source": [
    "program = sql\n",
    "program.widget(task)"
   ]
  }
 ],
 "metadata": {
  "kernelspec": {
   "display_name": "Python 3",
   "language": "python",
   "name": "python3"
  },
  "language_info": {
   "codemirror_mode": {
    "name": "ipython",
    "version": 3
   },
   "file_extension": ".py",
   "mimetype": "text/x-python",
   "name": "python",
   "nbconvert_exporter": "python",
   "pygments_lexer": "ipython3",
   "version": "3.6.3"
  },
  "toc": {
   "base_numbering": 1,
   "nav_menu": {},
   "number_sections": true,
   "sideBar": true,
   "skip_h1_title": false,
   "title_cell": "Table of Contents",
   "title_sidebar": "Contents",
   "toc_cell": false,
   "toc_position": {},
   "toc_section_display": true,
   "toc_window_display": false
  },
  "varInspector": {
   "cols": {
    "lenName": 16,
    "lenType": 16,
    "lenVar": 40
   },
   "kernels_config": {
    "python": {
     "delete_cmd_postfix": "",
     "delete_cmd_prefix": "del ",
     "library": "var_list.py",
     "varRefreshCmd": "print(var_dic_list())"
    },
    "r": {
     "delete_cmd_postfix": ") ",
     "delete_cmd_prefix": "rm(",
     "library": "var_list.r",
     "varRefreshCmd": "cat(var_dic_list()) "
    }
   },
   "types_to_exclude": [
    "module",
    "function",
    "builtin_function_or_method",
    "instance",
    "_Feature"
   ],
   "window_display": false
  }
 },
 "nbformat": 4,
 "nbformat_minor": 4
}
