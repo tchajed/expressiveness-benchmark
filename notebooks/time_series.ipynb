{
 "cells": [
  {
   "cell_type": "code",
   "execution_count": 2,
   "metadata": {
    "ExecuteTime": {
     "end_time": "2020-10-28T23:52:54.228684Z",
     "start_time": "2020-10-28T23:52:53.908677Z"
    }
   },
   "outputs": [],
   "source": [
    "%load_ext autoreload\n",
    "%autoreload 2\n",
    "from expressiveness_benchmark.types import Program, Task\n",
    "import pandas as pd\n",
    "from dataclasses import replace"
   ]
  },
  {
   "cell_type": "code",
   "execution_count": 1,
   "metadata": {
    "ExecuteTime": {
     "end_time": "2020-10-28T23:52:54.248549Z",
     "start_time": "2020-10-28T23:52:54.231333Z"
    }
   },
   "outputs": [],
   "source": [
    "# CHANGE ME!\n",
    "TASK_ID = 'time_series'\n",
    "AUTHOR = 'scott'"
   ]
  },
  {
   "cell_type": "code",
   "execution_count": 170,
   "metadata": {
    "ExecuteTime": {
     "end_time": "2020-10-28T23:52:54.268868Z",
     "start_time": "2020-10-28T23:52:54.252064Z"
    }
   },
   "outputs": [],
   "source": [
    "task = Task(\n",
    "    id=TASK_ID,\n",
    "    description=\"compute windowed averages ordered by time\",\n",
    "    plan=[],\n",
    "    sample_input={\n",
    "        \"data\": [\n",
    "            {\"time\": 20, \"x\": 7.0},\n",
    "            {\"time\": 3, \"x\": 1.0},\n",
    "            {\"time\": 1, \"x\": 2.0},\n",
    "            {\"time\": 9, \"x\": 4.0},\n",
    "            {\"time\": 10, \"x\": 5.0},\n",
    "            {\"time\": 11, \"x\": 6.0},\n",
    "        ]\n",
    "    },\n",
    "    sample_output=[1.5, 5.0, 7.0],\n",
    ")\n",
    "task.save()\n",
    "\n",
    "prototype = Program(\n",
    "    task=TASK_ID,\n",
    "    author=AUTHOR,\n",
    "    language=''    \n",
    ")"
   ]
  },
  {
   "cell_type": "code",
   "execution_count": 159,
   "metadata": {
    "ExecuteTime": {
     "end_time": "2020-10-28T23:52:54.290013Z",
     "start_time": "2020-10-28T23:52:54.270985Z"
    }
   },
   "outputs": [],
   "source": [
    "pandas = replace(prototype,\n",
    "    language='python-pandas',\n",
    "    implementation='',\n",
    "    source='''import pandas as pd\n",
    "import math\n",
    "def time_series(data):\n",
    "    def window(t):\n",
    "        return math.floor(t / 7)\n",
    "    result = pd.DataFrame(data).sort_values(\"time\").set_index(\"time\").groupby(window).mean()\n",
    "    return result['x'].tolist()\n",
    "''').load_plan()\n",
    "pandas.execute(task)\n",
    "pandas.save()"
   ]
  },
  {
   "cell_type": "code",
   "execution_count": 160,
   "metadata": {
    "ExecuteTime": {
     "end_time": "2020-10-28T23:52:54.290013Z",
     "start_time": "2020-10-28T23:52:54.270985Z"
    }
   },
   "outputs": [],
   "source": [
    "python_imp = replace(prototype,\n",
    "    language='python-imperative',\n",
    "    implementation='',\n",
    "    source='''import pandas as pd\n",
    "import math\n",
    "def time_series(data):\n",
    "    def window(value):\n",
    "        return math.floor(value[\"time\"] / 7)\n",
    "    if len(data) < 1:\n",
    "        return []\n",
    "    data = sorted(data, key=lambda v: v[\"time\"])\n",
    "    result = []\n",
    "    current_window, total, count = window(data[0]), data[0][\"x\"], 1\n",
    "    for value in data[1:]:\n",
    "        time_window = window(value)\n",
    "        if time_window != current_window:\n",
    "            result.append(total / count)\n",
    "            current_window, total, count = time_window, 0, 0\n",
    "        total += value[\"x\"]\n",
    "        count += 1\n",
    "    result.append(total / count)\n",
    "    return result\n",
    "''').load_plan()\n",
    "python_imp.execute(task)\n",
    "python_imp.save()"
   ]
  },
  {
   "cell_type": "code",
   "execution_count": 168,
   "metadata": {},
   "outputs": [],
   "source": [
    "python_fun = replace(prototype,\n",
    "    language='python-functional',\n",
    "    implementation='',\n",
    "    source='''import math\n",
    "from itertools import groupby\n",
    "def time_series(data):\n",
    "    def window(value):\n",
    "        return math.floor(value[\"time\"] / 7)\n",
    "    data = sorted(data, key=lambda d: d[\"time\"])\n",
    "    groups = [list(values) for _, values in groupby(data, key=window)]\n",
    "    return [sum([v[\"x\"] for v in values]) / len(values) for values in groups]\n",
    "''').load_plan()\n",
    "python_fun.execute(task)\n",
    "python_fun.save()"
   ]
  },
  {
   "cell_type": "code",
   "execution_count": 169,
   "metadata": {},
   "outputs": [],
   "source": [
    "datalog = replace(prototype,\n",
    "    language='datalog',\n",
    "    source='''\n",
    ".decl window(w: number)\n",
    ".decl windowed(w: number, x: float)\n",
    ".decl windowed_total(w: number, x: float)\n",
    "window(t/7) :- data(t, _).\n",
    "windowed(t/7, x) :- data(t, x).\n",
    "// division by result of count (has type `number`) didn't work\n",
    "windowed_total(w, total/(n)) :- window(w), total = sum x : { windowed(w, x) },\n",
    "                              n = sum z : { windowed(w,x), z=1.0 }.\n",
    "time_series(v) :- windowed_total(_, v).\n",
    "''').load_plan()\n",
    "datalog.execute(task)\n",
    "datalog.save()"
   ]
  },
  {
   "cell_type": "code",
   "execution_count": 163,
   "metadata": {},
   "outputs": [],
   "source": [
    "sql = replace(prototype,\n",
    "    language='sql',\n",
    "    source='''SELECT AVG(x) as x\n",
    "FROM data\n",
    "GROUP BY cast(time / 7 as int)\n",
    "ORDER BY time\n",
    "''').load_plan()\n",
    "sql.execute(task)\n",
    "sql.save()"
   ]
  },
  {
   "cell_type": "code",
   "execution_count": 111,
   "metadata": {},
   "outputs": [
    {
     "data": {
      "application/vnd.jupyter.widget-view+json": {
       "model_id": "52004af0da2c468e84cc48aced137145",
       "version_major": 2,
       "version_minor": 0
      },
      "text/plain": [
       "Output()"
      ]
     },
     "metadata": {},
     "output_type": "display_data"
    },
    {
     "data": {
      "application/vnd.jupyter.widget-view+json": {
       "model_id": "8a2d689da8b9498497244c78a2ae1487",
       "version_major": 2,
       "version_minor": 0
      },
      "text/plain": [
       "CodeWidget(program='{\"task\": \"time_series\", \"language\": \"sql\", \"plan\": {}, \"source\": \" \\\\n    \\\\nSELECT AVG(x)…"
      ]
     },
     "metadata": {},
     "output_type": "display_data"
    }
   ],
   "source": [
    "program = sql\n",
    "program.widget(task)"
   ]
  }
 ],
 "metadata": {
  "kernelspec": {
   "display_name": "Python 3",
   "language": "python",
   "name": "python3"
  },
  "language_info": {
   "codemirror_mode": {
    "name": "ipython",
    "version": 3
   },
   "file_extension": ".py",
   "mimetype": "text/x-python",
   "name": "python",
   "nbconvert_exporter": "python",
   "pygments_lexer": "ipython3",
   "version": "3.6.3"
  },
  "toc": {
   "base_numbering": 1,
   "nav_menu": {},
   "number_sections": true,
   "sideBar": true,
   "skip_h1_title": false,
   "title_cell": "Table of Contents",
   "title_sidebar": "Contents",
   "toc_cell": false,
   "toc_position": {},
   "toc_section_display": true,
   "toc_window_display": false
  },
  "varInspector": {
   "cols": {
    "lenName": 16,
    "lenType": 16,
    "lenVar": 40
   },
   "kernels_config": {
    "python": {
     "delete_cmd_postfix": "",
     "delete_cmd_prefix": "del ",
     "library": "var_list.py",
     "varRefreshCmd": "print(var_dic_list())"
    },
    "r": {
     "delete_cmd_postfix": ") ",
     "delete_cmd_prefix": "rm(",
     "library": "var_list.r",
     "varRefreshCmd": "cat(var_dic_list()) "
    }
   },
   "types_to_exclude": [
    "module",
    "function",
    "builtin_function_or_method",
    "instance",
    "_Feature"
   ],
   "window_display": false
  }
 },
 "nbformat": 4,
 "nbformat_minor": 4
}
