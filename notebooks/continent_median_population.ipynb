{
 "cells": [
  {
   "cell_type": "code",
   "execution_count": 1,
   "metadata": {
    "ExecuteTime": {
     "end_time": "2020-11-16T00:57:01.668859Z",
     "start_time": "2020-11-16T00:57:01.036336Z"
    }
   },
   "outputs": [],
   "source": [
    "%load_ext autoreload\n",
    "%autoreload 2\n",
    "from expressiveness_benchmark.types import Plan, Task, Language, SourceRange, Program\n",
    "from code_widget.example import CodeWidget\n",
    "from dataclasses import replace\n",
    "import json\n",
    "import pandas as pd"
   ]
  },
  {
   "cell_type": "code",
   "execution_count": 2,
   "metadata": {
    "ExecuteTime": {
     "end_time": "2020-11-16T00:57:02.423509Z",
     "start_time": "2020-11-16T00:57:02.400411Z"
    }
   },
   "outputs": [],
   "source": [
    "# CHANGE ME!\n",
    "TASK_ID = 'continent_median_population'\n",
    "AUTHOR = 'will'"
   ]
  },
  {
   "cell_type": "code",
   "execution_count": 3,
   "metadata": {
    "ExecuteTime": {
     "end_time": "2020-11-16T00:57:03.661850Z",
     "start_time": "2020-11-16T00:57:03.630823Z"
    }
   },
   "outputs": [],
   "source": [
    "task = Task(\n",
    "    id=TASK_ID,\n",
    "    category=\"Aggregation\",\n",
    "    name=\"Median population for each continent\",\n",
    "    description=\"For each continent, return its name and the median population of its countries.\",\n",
    "    plan=[\n",
    "        Plan(id=\"iter\", description=\"For each continent\"),\n",
    "        Plan(id=\"name\", description=\"its name\"),\n",
    "        Plan(id=\"group\", description=\"of its countries\"),\n",
    "        Plan(id=\"agg\", description=\"median population\")\n",
    "    ],    \n",
    "    sample_input={\n",
    "        \"countries\": [\n",
    "            {\"name\": \"USA\", \"population\": 328.0, \"continent\": \"North America\"},\n",
    "            {\"name\": \"USA2\", \"population\": 37.0, \"continent\": \"North America\"},\n",
    "            {\"name\": \"Canada\", \"population\": 37.0, \"continent\": \"North America\"},\n",
    "            {\"name\": \"Ethiopia\", \"population\": 109.0, \"continent\": \"Africa\"},\n",
    "        ]\n",
    "    },\n",
    "    sample_output=[\n",
    "        #{\"continent\": \"North America\", \"population\": 182.5},\n",
    "        {\"continent\": \"North America\", \"population\": 37.0},\n",
    "        {\"continent\": \"Africa\", \"population\": 109.0},\n",
    "    ],\n",
    ")\n",
    "task.save()\n",
    "\n",
    "\n",
    "prototype = Program(\n",
    "    task=TASK_ID,\n",
    "    author=AUTHOR,\n",
    "    language=''    \n",
    ")"
   ]
  },
  {
   "cell_type": "code",
   "execution_count": 19,
   "metadata": {
    "ExecuteTime": {
     "end_time": "2020-11-16T00:44:38.626847Z",
     "start_time": "2020-11-16T00:44:38.589146Z"
    }
   },
   "outputs": [],
   "source": [
    "sql = replace(prototype,\n",
    "    language='sql',\n",
    "    source='''SELECT continent, AVG(population) as population\n",
    "FROM\n",
    "  (SELECT *, \n",
    "    row_number() OVER \n",
    "      (PARTITION BY continent ORDER BY population) AS rank, \n",
    "    count() OVER \n",
    "      (PARTITION BY continent) as count\n",
    "  FROM countries)\n",
    "WHERE \n",
    "  (count % 2 = 1 AND rank = (count + 1) / 2) OR \n",
    "  (count % 2 = 0 AND ABS(rank - 0.5 - count / 2) = 0.5)\n",
    "GROUP BY continent''').load_plan()\n",
    "sql.execute(task)\n",
    "sql.save()"
   ]
  },
  {
   "cell_type": "code",
   "execution_count": 20,
   "metadata": {
    "ExecuteTime": {
     "end_time": "2020-11-16T00:44:38.950088Z",
     "start_time": "2020-11-16T00:44:38.888108Z"
    }
   },
   "outputs": [
    {
     "data": {
      "application/vnd.jupyter.widget-view+json": {
       "model_id": "c7b43a5b53324a15a249f8db4bb9d12d",
       "version_major": 2,
       "version_minor": 0
      },
      "text/plain": [
       "Output()"
      ]
     },
     "metadata": {},
     "output_type": "display_data"
    },
    {
     "data": {
      "application/vnd.jupyter.widget-view+json": {
       "model_id": "3068bbbac14a4a4f8bcae7053f37dc51",
       "version_major": 2,
       "version_minor": 0
      },
      "text/plain": [
       "CodeWidget(program='{\"task\": \"continent_median_population\", \"language\": \"sql\", \"plan\": {\"name\": [{\"line\": 0, \"…"
      ]
     },
     "metadata": {},
     "output_type": "display_data"
    }
   ],
   "source": [
    "sql.widget(task)"
   ]
  },
  {
   "cell_type": "code",
   "execution_count": 24,
   "metadata": {
    "ExecuteTime": {
     "end_time": "2020-11-13T18:45:14.265617Z",
     "start_time": "2020-11-13T18:45:14.093685Z"
    }
   },
   "outputs": [
    {
     "name": "stdout",
     "output_type": "stream",
     "text": [
      "Path: /var/folders/6p/3bzglbgn2ts3v16zf_27zq3r0000gn/T/tmpv2sl2fmn\n",
      "Mismatch between target and actual output.\n",
      "Target:         continent  population\n",
      "0         Africa       109.0\n",
      "1  North America        37.0\n",
      "Actual:         continent  population\n",
      "0         Africa         109\n",
      "1  North America         328\n"
     ]
    },
    {
     "ename": "AssertionError",
     "evalue": "",
     "output_type": "error",
     "traceback": [
      "\u001b[0;31m---------------------------------------------------------------------------\u001b[0m",
      "\u001b[0;31mAssertionError\u001b[0m                            Traceback (most recent call last)",
      "\u001b[0;32m<ipython-input-24-2baf45b3c7ef>\u001b[0m in \u001b[0;36m<module>\u001b[0;34m\u001b[0m\n\u001b[1;32m     28\u001b[0m     \u001b[0mrank\u001b[0m\u001b[0;34m(\u001b[0m\u001b[0mContinent\u001b[0m\u001b[0;34m,\u001b[0m \u001b[0m_\u001b[0m\u001b[0;34m,\u001b[0m \u001b[0mNum_countries\u001b[0m \u001b[0;34m/\u001b[0m \u001b[0;36m2\u001b[0m\u001b[0;34m,\u001b[0m \u001b[0mP2\u001b[0m\u001b[0;34m)\u001b[0m\u001b[0;34m,\u001b[0m\u001b[0;34m\u001b[0m\u001b[0;34m\u001b[0m\u001b[0m\n\u001b[1;32m     29\u001b[0m     Median = (P1 + P2) / 2)).''')\n\u001b[0;32m---> 30\u001b[0;31m \u001b[0mdatalog\u001b[0m\u001b[0;34m.\u001b[0m\u001b[0mexecute\u001b[0m\u001b[0;34m(\u001b[0m\u001b[0mtask\u001b[0m\u001b[0;34m,\u001b[0m \u001b[0mdebug\u001b[0m\u001b[0;34m=\u001b[0m\u001b[0;32mTrue\u001b[0m\u001b[0;34m)\u001b[0m\u001b[0;34m\u001b[0m\u001b[0;34m\u001b[0m\u001b[0m\n\u001b[0m\u001b[1;32m     31\u001b[0m \u001b[0mdatalog\u001b[0m\u001b[0;34m.\u001b[0m\u001b[0msave\u001b[0m\u001b[0;34m(\u001b[0m\u001b[0;34m)\u001b[0m\u001b[0;34m\u001b[0m\u001b[0;34m\u001b[0m\u001b[0m\n",
      "\u001b[0;32m~/Code/expressiveness-benchmark/expressiveness_benchmark/types.py\u001b[0m in \u001b[0;36mexecute\u001b[0;34m(self, task, debug)\u001b[0m\n\u001b[1;32m    285\u001b[0m                     \u001b[0mret\u001b[0m \u001b[0;34m=\u001b[0m \u001b[0mpd\u001b[0m\u001b[0;34m.\u001b[0m\u001b[0mDataFrame\u001b[0m\u001b[0;34m(\u001b[0m\u001b[0;34m)\u001b[0m\u001b[0;34m\u001b[0m\u001b[0;34m\u001b[0m\u001b[0m\n\u001b[1;32m    286\u001b[0m \u001b[0;34m\u001b[0m\u001b[0m\n\u001b[0;32m--> 287\u001b[0;31m         \u001b[0mself\u001b[0m\u001b[0;34m.\u001b[0m\u001b[0mcheck_equals\u001b[0m\u001b[0;34m(\u001b[0m\u001b[0mtask\u001b[0m\u001b[0;34m.\u001b[0m\u001b[0msample_output\u001b[0m\u001b[0;34m,\u001b[0m \u001b[0mret\u001b[0m\u001b[0;34m)\u001b[0m\u001b[0;34m\u001b[0m\u001b[0;34m\u001b[0m\u001b[0m\n\u001b[0m\u001b[1;32m    288\u001b[0m \u001b[0;34m\u001b[0m\u001b[0m\n\u001b[1;32m    289\u001b[0m \u001b[0;34m\u001b[0m\u001b[0m\n",
      "\u001b[0;32m~/Code/expressiveness-benchmark/expressiveness_benchmark/types.py\u001b[0m in \u001b[0;36mcheck_equals\u001b[0;34m(self, target, actual)\u001b[0m\n\u001b[1;32m    152\u001b[0m \u001b[0;34m\u001b[0m\u001b[0m\n\u001b[1;32m    153\u001b[0m             \u001b[0;32mif\u001b[0m \u001b[0;32mnot\u001b[0m \u001b[0mtarget\u001b[0m\u001b[0;34m.\u001b[0m\u001b[0mequals\u001b[0m\u001b[0;34m(\u001b[0m\u001b[0mactual\u001b[0m\u001b[0;34m)\u001b[0m\u001b[0;34m:\u001b[0m\u001b[0;34m\u001b[0m\u001b[0;34m\u001b[0m\u001b[0m\n\u001b[0;32m--> 154\u001b[0;31m                 \u001b[0;32massert\u001b[0m \u001b[0;32mFalse\u001b[0m\u001b[0;34m\u001b[0m\u001b[0;34m\u001b[0m\u001b[0m\n\u001b[0m\u001b[1;32m    155\u001b[0m         \u001b[0;32mexcept\u001b[0m \u001b[0mException\u001b[0m\u001b[0;34m:\u001b[0m\u001b[0;34m\u001b[0m\u001b[0;34m\u001b[0m\u001b[0m\n\u001b[1;32m    156\u001b[0m             \u001b[0mprint\u001b[0m\u001b[0;34m(\u001b[0m\u001b[0;34m\"Mismatch between target and actual output.\"\u001b[0m\u001b[0;34m)\u001b[0m\u001b[0;34m\u001b[0m\u001b[0;34m\u001b[0m\u001b[0m\n",
      "\u001b[0;31mAssertionError\u001b[0m: "
     ]
    }
   ],
   "source": [
    "datalog = replace(prototype,\n",
    "    language='datalog',\n",
    "    source='''\n",
    "/* .decl unique_id(Country:symbol, Id:number)    \n",
    "unique_id(Country, $) :- countries(_, Country, _).\n",
    "\n",
    ".decl rank(Continent:symbol, Country:symbol, R:number, Population:float)\n",
    "rank(Continent, Country, 0, Population) :-\n",
    "  countries(Continent, Country, Population),\n",
    "  unique_id(Country, Id),\n",
    "  Population = min P : countries(Continent, _, P),\n",
    "  Id = min Id2 : { countries(Continent, C, Population), unique_id(C, Id2) }.\n",
    "  \n",
    "rank(Continent, Country, R + 1, Population) :-\n",
    "  countries(Continent, Country, Population),\n",
    "  unique_id(Country, Id),  \n",
    "  rank(Continent, _, R, Other_pop),\n",
    "  Population = min P : { countries(Continent, _, P), P > Other_pop },\n",
    "  Id_min = min Id2 : { countries(Continent, C, Population), unique_id(C, Id2) }.\n",
    "\n",
    "continent_median_population(Continent, Median) :-\n",
    "  countries(Continent, _, _),\n",
    "  Num_countries = count : countries(Continent, _, _),\n",
    "  ((Num_countries % 2 = 1, \n",
    "    rank(Continent, _, (Num_countries - 1) / 2, Median));\n",
    "   (Num_countries % 2 = 0,\n",
    "    rank(Continent, _, Num_countries / 2 - 1, P1),\n",
    "    rank(Continent, _, Num_countries / 2, P2),\n",
    "    Median = (P1 + P2) / 2)). */\n",
    "    \n",
    "    \n",
    "\n",
    "    \n",
    "''')\n",
    "datalog.execute(task, debug=True)\n",
    "datalog.save()"
   ]
  },
  {
   "cell_type": "code",
   "execution_count": 4,
   "metadata": {
    "ExecuteTime": {
     "end_time": "2020-11-16T00:57:05.542498Z",
     "start_time": "2020-11-16T00:57:05.506086Z"
    }
   },
   "outputs": [],
   "source": [
    "pandas = replace(prototype,\n",
    "    language='python-pandas',\n",
    "    source='''def continent_median_population(countries):\n",
    "  return (countries\n",
    "      .groupby('continent')\n",
    "      .population.median()\n",
    "      .reset_index())''').load_plan()\n",
    "pandas.execute(task)\n",
    "pandas.save()"
   ]
  },
  {
   "cell_type": "code",
   "execution_count": 7,
   "metadata": {
    "ExecuteTime": {
     "end_time": "2020-11-16T01:07:51.188945Z",
     "start_time": "2020-11-16T01:07:51.156769Z"
    }
   },
   "outputs": [
    {
     "data": {
      "application/vnd.jupyter.widget-view+json": {
       "model_id": "76e17c0003864350a00983b4fccc594c",
       "version_major": 2,
       "version_minor": 0
      },
      "text/plain": [
       "Output()"
      ]
     },
     "metadata": {},
     "output_type": "display_data"
    },
    {
     "data": {
      "application/vnd.jupyter.widget-view+json": {
       "model_id": "62b3281c20fb4553b8a1ee94ae17bf1b",
       "version_major": 2,
       "version_minor": 0
      },
      "text/plain": [
       "CodeWidget(program='{\"task\": \"continent_median_population\", \"language\": \"python-pandas\", \"plan\": {\"name\": [{\"l…"
      ]
     },
     "metadata": {},
     "output_type": "display_data"
    }
   ],
   "source": [
    "pandas.widget(task)"
   ]
  },
  {
   "cell_type": "code",
   "execution_count": 79,
   "metadata": {
    "ExecuteTime": {
     "end_time": "2020-11-11T18:57:17.044529Z",
     "start_time": "2020-11-11T18:57:17.011099Z"
    }
   },
   "outputs": [],
   "source": [
    "imperative = replace(prototype,\n",
    "    language='python-imperative',\n",
    "    source='''def continent_median_population(countries):\n",
    "  populations = defaultdict(list)\n",
    "  for country in countries:\n",
    "    populations[country['continent']].append(country['population'])\n",
    "  \n",
    "  output = []  \n",
    "  for continent, pops in populations.items():\n",
    "    pops.sort()\n",
    "    N = len(pops)\n",
    "    if N % 2 == 1:\n",
    "      median = pops[(N - 1) // 2]\n",
    "    else:\n",
    "      median = (pops[N // 2 - 1] + pops[N // 2]) / 2\n",
    "    output.append({\n",
    "      \"continent\": continent,\n",
    "      \"population\": median\n",
    "    })\n",
    "    \n",
    "  return output''')\n",
    "imperative.execute(task)\n",
    "imperative.save()"
   ]
  },
  {
   "cell_type": "code",
   "execution_count": 80,
   "metadata": {
    "ExecuteTime": {
     "end_time": "2020-11-11T18:57:20.445206Z",
     "start_time": "2020-11-11T18:57:20.409766Z"
    }
   },
   "outputs": [],
   "source": [
    "functional = replace(\n",
    "    prototype,\n",
    "    language='python-functional',\n",
    "    source='''def continent_median_population(countries):\n",
    "  continents = set([c['continent'] for c in countries])\n",
    "  populations = {\n",
    "    continent: [c['population'] for c in countries if c['continent'] == continent]\n",
    "    for continent in continents\n",
    "  }\n",
    "  \n",
    "  def compute_median(pops):\n",
    "    pops = sorted(pops)\n",
    "    N = len(pops)\n",
    "    if N % 2 == 1:\n",
    "      return pops[(N - 1) // 2]\n",
    "    else:\n",
    "      return (pops[N // 2 - 1] + pops[N // 2]) / 2  \n",
    "   \n",
    "  return [\n",
    "    {\"continent\": continent, \"population\": compute_median(pops)}\n",
    "    for continent, pops in populations.items()\n",
    "  ]''')\n",
    "functional.execute(task)\n",
    "functional.save()"
   ]
  }
 ],
 "metadata": {
  "kernelspec": {
   "display_name": "Python 3",
   "language": "python",
   "name": "python3"
  },
  "language_info": {
   "codemirror_mode": {
    "name": "ipython",
    "version": 3
   },
   "file_extension": ".py",
   "mimetype": "text/x-python",
   "name": "python",
   "nbconvert_exporter": "python",
   "pygments_lexer": "ipython3",
   "version": "3.8.5"
  },
  "toc": {
   "base_numbering": 1,
   "nav_menu": {},
   "number_sections": true,
   "sideBar": true,
   "skip_h1_title": false,
   "title_cell": "Table of Contents",
   "title_sidebar": "Contents",
   "toc_cell": false,
   "toc_position": {},
   "toc_section_display": true,
   "toc_window_display": false
  },
  "varInspector": {
   "cols": {
    "lenName": 16,
    "lenType": 16,
    "lenVar": 40
   },
   "kernels_config": {
    "python": {
     "delete_cmd_postfix": "",
     "delete_cmd_prefix": "del ",
     "library": "var_list.py",
     "varRefreshCmd": "print(var_dic_list())"
    },
    "r": {
     "delete_cmd_postfix": ") ",
     "delete_cmd_prefix": "rm(",
     "library": "var_list.r",
     "varRefreshCmd": "cat(var_dic_list()) "
    }
   },
   "types_to_exclude": [
    "module",
    "function",
    "builtin_function_or_method",
    "instance",
    "_Feature"
   ],
   "window_display": false
  }
 },
 "nbformat": 4,
 "nbformat_minor": 4
}
