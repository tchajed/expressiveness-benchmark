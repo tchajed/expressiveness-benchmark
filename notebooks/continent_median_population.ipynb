{
 "cells": [
  {
   "cell_type": "code",
   "execution_count": 1,
   "metadata": {
    "ExecuteTime": {
     "end_time": "2020-12-30T20:53:35.607742Z",
     "start_time": "2020-12-30T20:53:35.054729Z"
    }
   },
   "outputs": [],
   "source": [
    "%load_ext autoreload\n",
    "%autoreload 2\n",
    "from expressiveness_benchmark.types import Plan, Task, Language, SourceRange, Program\n",
    "from code_widget.example import CodeWidget\n",
    "from dataclasses import replace\n",
    "import json\n",
    "import pandas as pd"
   ]
  },
  {
   "cell_type": "code",
   "execution_count": 2,
   "metadata": {
    "ExecuteTime": {
     "end_time": "2020-12-30T20:53:35.665052Z",
     "start_time": "2020-12-30T20:53:35.648239Z"
    }
   },
   "outputs": [],
   "source": [
    "# CHANGE ME!\n",
    "TASK_ID = 'continent_median_population'\n",
    "AUTHOR = 'will'"
   ]
  },
  {
   "cell_type": "code",
   "execution_count": 3,
   "metadata": {
    "ExecuteTime": {
     "end_time": "2020-12-30T20:53:36.270989Z",
     "start_time": "2020-12-30T20:53:36.246689Z"
    }
   },
   "outputs": [],
   "source": [
    "task = Task(\n",
    "    id=TASK_ID,\n",
    "    category=\"Aggregation\",\n",
    "    name=\"Median population for each continent\",\n",
    "    description=\"For each continent, return its name and the median population of its countries.\",\n",
    "    plan=[\n",
    "        Plan(id=\"iter\", description=\"For each continent\"),\n",
    "        Plan(id=\"name\", description=\"its name\"),\n",
    "        Plan(id=\"group\", description=\"of its countries\"),\n",
    "        Plan(id=\"agg\", description=\"median population\")\n",
    "    ],    \n",
    "    sample_input={\n",
    "        \"countries\": [\n",
    "            {\"name\": \"USA\", \"population\": 328.0, \"continent\": \"North America\"},\n",
    "            {\"name\": \"USA2\", \"population\": 37.0, \"continent\": \"North America\"},\n",
    "            {\"name\": \"Canada\", \"population\": 37.0, \"continent\": \"North America\"},\n",
    "            {\"name\": \"Ethiopia\", \"population\": 109.0, \"continent\": \"Africa\"},\n",
    "        ]\n",
    "    },\n",
    "    sample_output=[\n",
    "        #{\"continent\": \"North America\", \"population\": 182.5},\n",
    "        {\"continent\": \"North America\", \"population\": 37.0},\n",
    "        {\"continent\": \"Africa\", \"population\": 109.0},\n",
    "    ],\n",
    ")\n",
    "task.save()\n",
    "\n",
    "\n",
    "prototype = Program(\n",
    "    task=TASK_ID,\n",
    "    author=AUTHOR,\n",
    "    language=''    \n",
    ")"
   ]
  },
  {
   "cell_type": "code",
   "execution_count": 8,
   "metadata": {
    "ExecuteTime": {
     "end_time": "2020-12-30T20:56:09.828279Z",
     "start_time": "2020-12-30T20:56:09.601151Z"
    }
   },
   "outputs": [],
   "source": [
    "q = replace(prototype,\n",
    "    language='q',\n",
    "    source='''continent_median_population:\n",
    "  () xkey select med[population] by continent from countries''').load_plan()\n",
    "q.execute(task)\n",
    "q.save()"
   ]
  },
  {
   "cell_type": "code",
   "execution_count": 9,
   "metadata": {
    "ExecuteTime": {
     "end_time": "2020-12-30T20:56:14.619167Z",
     "start_time": "2020-12-30T20:56:14.580690Z"
    }
   },
   "outputs": [
    {
     "data": {
      "application/vnd.jupyter.widget-view+json": {
       "model_id": "f741a46525414f699262d2df2b6054d0",
       "version_major": 2,
       "version_minor": 0
      },
      "text/plain": [
       "Output()"
      ]
     },
     "metadata": {},
     "output_type": "display_data"
    },
    {
     "data": {
      "application/vnd.jupyter.widget-view+json": {
       "model_id": "ca34e565d98a49179db4c449c99c3d09",
       "version_major": 2,
       "version_minor": 0
      },
      "text/plain": [
       "CodeWidget(program='{\"task\": \"continent_median_population\", \"language\": \"q\", \"plan\": {}, \"source\": \"continent_…"
      ]
     },
     "metadata": {},
     "output_type": "display_data"
    }
   ],
   "source": [
    "q.widget(task)"
   ]
  },
  {
   "cell_type": "code",
   "execution_count": 4,
   "metadata": {
    "ExecuteTime": {
     "end_time": "2020-12-16T17:39:51.213559Z",
     "start_time": "2020-12-16T17:39:49.637654Z"
    }
   },
   "outputs": [
    {
     "name": "stderr",
     "output_type": "stream",
     "text": [
      "R[write to console]: ── \u001b[1mAttaching packages\u001b[22m ─────────────────────────────────────────────────────────────────────────────────────────────────────────────────────────────────────────────────────────────────────── tidyverse 1.3.0 ──\n",
      "\n",
      "R[write to console]: \u001b[32m✔\u001b[39m \u001b[34mggplot2\u001b[39m 3.3.2     \u001b[32m✔\u001b[39m \u001b[34mpurrr  \u001b[39m 0.3.4\n",
      "\u001b[32m✔\u001b[39m \u001b[34mtibble \u001b[39m 3.0.4     \u001b[32m✔\u001b[39m \u001b[34mdplyr  \u001b[39m 1.0.2\n",
      "\u001b[32m✔\u001b[39m \u001b[34mtidyr  \u001b[39m 1.1.2     \u001b[32m✔\u001b[39m \u001b[34mstringr\u001b[39m 1.4.0\n",
      "\u001b[32m✔\u001b[39m \u001b[34mreadr  \u001b[39m 1.4.0     \u001b[32m✔\u001b[39m \u001b[34mforcats\u001b[39m 0.5.0\n",
      "\n",
      "R[write to console]: ── \u001b[1mConflicts\u001b[22m ────────────────────────────────────────────────────────────────────────────────────────────────────────────────────────────────────────────────────────────────────────── tidyverse_conflicts() ──\n",
      "\u001b[31m✖\u001b[39m \u001b[34mdplyr\u001b[39m::\u001b[32mfilter()\u001b[39m masks \u001b[34mstats\u001b[39m::filter()\n",
      "\u001b[31m✖\u001b[39m \u001b[34mdplyr\u001b[39m::\u001b[32mlag()\u001b[39m    masks \u001b[34mstats\u001b[39m::lag()\n",
      "\n"
     ]
    },
    {
     "name": "stdout",
     "output_type": "stream",
     "text": [
      "`summarise()` ungrouping output (override with `.groups` argument)\n"
     ]
    }
   ],
   "source": [
    "r = replace(prototype,\n",
    "    language='r',\n",
    "    source='''continent_median_population <- function(countries) {\n",
    "  countries %>%\n",
    "    group_by(continent) %>%\n",
    "    summarize(population = median(population))\n",
    "}''').load_plan()\n",
    "r.execute(task)\n",
    "r.save()"
   ]
  },
  {
   "cell_type": "code",
   "execution_count": 6,
   "metadata": {
    "ExecuteTime": {
     "end_time": "2020-12-09T22:11:58.205339Z",
     "start_time": "2020-12-09T22:11:58.168275Z"
    }
   },
   "outputs": [
    {
     "data": {
      "application/vnd.jupyter.widget-view+json": {
       "model_id": "3d402468993c48778826e71da383a1b6",
       "version_major": 2,
       "version_minor": 0
      },
      "text/plain": [
       "Output()"
      ]
     },
     "metadata": {},
     "output_type": "display_data"
    },
    {
     "data": {
      "application/vnd.jupyter.widget-view+json": {
       "model_id": "b648a537a91d47ab8edeed1af3d7d06c",
       "version_major": 2,
       "version_minor": 0
      },
      "text/plain": [
       "CodeWidget(program='{\"task\": \"continent_median_population\", \"language\": \"r\", \"plan\": {}, \"source\": \"continent_…"
      ]
     },
     "metadata": {},
     "output_type": "display_data"
    }
   ],
   "source": [
    "r.widget(task)"
   ]
  },
  {
   "cell_type": "code",
   "execution_count": 19,
   "metadata": {
    "ExecuteTime": {
     "end_time": "2020-11-16T00:44:38.626847Z",
     "start_time": "2020-11-16T00:44:38.589146Z"
    }
   },
   "outputs": [],
   "source": [
    "sql = replace(prototype,\n",
    "    language='sql',\n",
    "    source='''SELECT continent, AVG(population) as population\n",
    "FROM\n",
    "  (SELECT *, \n",
    "    row_number() OVER \n",
    "      (PARTITION BY continent ORDER BY population) AS rank, \n",
    "    count() OVER \n",
    "      (PARTITION BY continent) as count\n",
    "  FROM countries)\n",
    "WHERE \n",
    "  (count % 2 = 1 AND rank = (count + 1) / 2) OR \n",
    "  (count % 2 = 0 AND ABS(rank - 0.5 - count / 2) = 0.5)\n",
    "GROUP BY continent''').load_plan()\n",
    "sql.execute(task)\n",
    "sql.save()"
   ]
  },
  {
   "cell_type": "code",
   "execution_count": 20,
   "metadata": {
    "ExecuteTime": {
     "end_time": "2020-11-16T00:44:38.950088Z",
     "start_time": "2020-11-16T00:44:38.888108Z"
    }
   },
   "outputs": [
    {
     "data": {
      "application/vnd.jupyter.widget-view+json": {
       "model_id": "c7b43a5b53324a15a249f8db4bb9d12d",
       "version_major": 2,
       "version_minor": 0
      },
      "text/plain": [
       "Output()"
      ]
     },
     "metadata": {},
     "output_type": "display_data"
    },
    {
     "data": {
      "application/vnd.jupyter.widget-view+json": {
       "model_id": "3068bbbac14a4a4f8bcae7053f37dc51",
       "version_major": 2,
       "version_minor": 0
      },
      "text/plain": [
       "CodeWidget(program='{\"task\": \"continent_median_population\", \"language\": \"sql\", \"plan\": {\"name\": [{\"line\": 0, \"…"
      ]
     },
     "metadata": {},
     "output_type": "display_data"
    }
   ],
   "source": [
    "sql.widget(task)"
   ]
  },
  {
   "cell_type": "code",
   "execution_count": 28,
   "metadata": {
    "ExecuteTime": {
     "end_time": "2020-11-16T01:29:35.049271Z",
     "start_time": "2020-11-16T01:29:35.027204Z"
    }
   },
   "outputs": [],
   "source": [
    "datalog = replace(prototype,\n",
    "    language='datalog',\n",
    "    source='''.decl unique_id(Country:symbol, Id:number)    \n",
    "unique_id(Country, $) :- countries(_, Country, _).\n",
    "\n",
    ".decl rank(Continent:symbol, R:number, Population:float)\n",
    "rank(Continent, R, Population) :-\n",
    "  countries(Continent, Country, Population),\n",
    "  unique_id(Country, Id),\n",
    "  R_less = count : { \n",
    "    countries(Continent, C, P2), \n",
    "    P2 < Population\n",
    "  },\n",
    "  R_eq = count : {\n",
    "    countries(Continent, C, Population), \n",
    "    unique_id(C, Id2),\n",
    "    Id2 < Id\n",
    "  },\n",
    "  R = R_less + R_eq.\n",
    "\n",
    "continent_median_population(Continent, Median) :-\n",
    "  countries(Continent, _, _),\n",
    "  Num_countries = count : countries(Continent, _, _),\n",
    "  ((Num_countries % 2 = 1, \n",
    "    rank(Continent, (Num_countries - 1) / 2, Median));\n",
    "   (Num_countries % 2 = 0,\n",
    "    rank(Continent, Num_countries / 2 - 1, P1),\n",
    "    rank(Continent, Num_countries / 2, P2),\n",
    "    Median = (P1 + P2) / 2)).''')\n",
    "#datalog.execute(task, debug=True)\n",
    "datalog.save()"
   ]
  },
  {
   "cell_type": "code",
   "execution_count": 21,
   "metadata": {
    "ExecuteTime": {
     "end_time": "2020-11-16T01:27:51.764255Z",
     "start_time": "2020-11-16T01:27:51.726500Z"
    }
   },
   "outputs": [
    {
     "data": {
      "application/vnd.jupyter.widget-view+json": {
       "model_id": "a920090cb19f48848830b465b6e17ba7",
       "version_major": 2,
       "version_minor": 0
      },
      "text/plain": [
       "Output()"
      ]
     },
     "metadata": {},
     "output_type": "display_data"
    },
    {
     "data": {
      "application/vnd.jupyter.widget-view+json": {
       "model_id": "867e7099829146c0961bcd48564f2936",
       "version_major": 2,
       "version_minor": 0
      },
      "text/plain": [
       "CodeWidget(program='{\"task\": \"continent_median_population\", \"language\": \"datalog\", \"plan\": {}, \"source\": \".dec…"
      ]
     },
     "metadata": {},
     "output_type": "display_data"
    }
   ],
   "source": [
    "datalog.widget(task)"
   ]
  },
  {
   "cell_type": "code",
   "execution_count": 4,
   "metadata": {
    "ExecuteTime": {
     "end_time": "2020-11-16T00:57:05.542498Z",
     "start_time": "2020-11-16T00:57:05.506086Z"
    }
   },
   "outputs": [],
   "source": [
    "pandas = replace(prototype,\n",
    "    language='python-pandas',\n",
    "    source='''def continent_median_population(countries):\n",
    "  return (countries\n",
    "      .groupby('continent')\n",
    "      .population.median()\n",
    "      .reset_index())''').load_plan()\n",
    "pandas.execute(task)\n",
    "pandas.save()"
   ]
  },
  {
   "cell_type": "code",
   "execution_count": 7,
   "metadata": {
    "ExecuteTime": {
     "end_time": "2020-11-16T01:07:51.188945Z",
     "start_time": "2020-11-16T01:07:51.156769Z"
    }
   },
   "outputs": [
    {
     "data": {
      "application/vnd.jupyter.widget-view+json": {
       "model_id": "76e17c0003864350a00983b4fccc594c",
       "version_major": 2,
       "version_minor": 0
      },
      "text/plain": [
       "Output()"
      ]
     },
     "metadata": {},
     "output_type": "display_data"
    },
    {
     "data": {
      "application/vnd.jupyter.widget-view+json": {
       "model_id": "62b3281c20fb4553b8a1ee94ae17bf1b",
       "version_major": 2,
       "version_minor": 0
      },
      "text/plain": [
       "CodeWidget(program='{\"task\": \"continent_median_population\", \"language\": \"python-pandas\", \"plan\": {\"name\": [{\"l…"
      ]
     },
     "metadata": {},
     "output_type": "display_data"
    }
   ],
   "source": [
    "pandas.widget(task)"
   ]
  },
  {
   "cell_type": "code",
   "execution_count": 8,
   "metadata": {
    "ExecuteTime": {
     "end_time": "2020-11-16T01:18:00.751309Z",
     "start_time": "2020-11-16T01:18:00.724822Z"
    }
   },
   "outputs": [],
   "source": [
    "imperative = replace(prototype,\n",
    "    language='python-imperative',\n",
    "    source='''def continent_median_population(countries):\n",
    "  populations = defaultdict(list)\n",
    "  for country in countries:\n",
    "    populations[country['continent']].append(country['population'])\n",
    "  \n",
    "  output = []  \n",
    "  for continent, pops in populations.items():\n",
    "    pops.sort()\n",
    "    N = len(pops)\n",
    "    if N % 2 == 1:\n",
    "      median = pops[(N - 1) // 2]\n",
    "    else:\n",
    "      median = (pops[N // 2 - 1] + pops[N // 2]) / 2\n",
    "    output.append({\n",
    "      \"continent\": continent,\n",
    "      \"population\": median\n",
    "    })\n",
    "    \n",
    "  return output''').load_plan()\n",
    "imperative.execute(task)\n",
    "imperative.save()"
   ]
  },
  {
   "cell_type": "code",
   "execution_count": 9,
   "metadata": {
    "ExecuteTime": {
     "end_time": "2020-11-16T01:18:03.511743Z",
     "start_time": "2020-11-16T01:18:03.472275Z"
    }
   },
   "outputs": [
    {
     "data": {
      "application/vnd.jupyter.widget-view+json": {
       "model_id": "2d8236c82aaa46d98647b32e4d442739",
       "version_major": 2,
       "version_minor": 0
      },
      "text/plain": [
       "Output()"
      ]
     },
     "metadata": {},
     "output_type": "display_data"
    },
    {
     "data": {
      "application/vnd.jupyter.widget-view+json": {
       "model_id": "202a0944ef844a40943c22fd3d41193d",
       "version_major": 2,
       "version_minor": 0
      },
      "text/plain": [
       "CodeWidget(program='{\"task\": \"continent_median_population\", \"language\": \"python-imperative\", \"plan\": {}, \"sour…"
      ]
     },
     "metadata": {},
     "output_type": "display_data"
    }
   ],
   "source": [
    "imperative.widget(task)"
   ]
  },
  {
   "cell_type": "code",
   "execution_count": 30,
   "metadata": {
    "ExecuteTime": {
     "end_time": "2020-11-16T01:31:17.929300Z",
     "start_time": "2020-11-16T01:31:17.899941Z"
    }
   },
   "outputs": [],
   "source": [
    "functional = replace(\n",
    "    prototype,\n",
    "    language='python-functional',\n",
    "    source='''def continent_median_population(countries):\n",
    "  continents = set([c['continent'] for c in countries])\n",
    "  populations = {\n",
    "    continent: [\n",
    "      c['population'] for c in countries \n",
    "      if c['continent'] == continent\n",
    "    ]\n",
    "    for continent in continents\n",
    "  }\n",
    "  \n",
    "  def compute_median(pops):\n",
    "    pops = sorted(pops)\n",
    "    N = len(pops)\n",
    "    if N % 2 == 1:\n",
    "      return pops[(N - 1) // 2]\n",
    "    else:\n",
    "      return (pops[N // 2 - 1] + pops[N // 2]) / 2  \n",
    "   \n",
    "  return [\n",
    "    {\"continent\": continent, \"population\": compute_median(pops)}\n",
    "    for continent, pops in populations.items()\n",
    "  ]''').load_plan()\n",
    "functional.execute(task)\n",
    "functional.save()"
   ]
  },
  {
   "cell_type": "code",
   "execution_count": 31,
   "metadata": {
    "ExecuteTime": {
     "end_time": "2020-11-16T01:31:18.324408Z",
     "start_time": "2020-11-16T01:31:18.277984Z"
    }
   },
   "outputs": [
    {
     "data": {
      "application/vnd.jupyter.widget-view+json": {
       "model_id": "d0948b4bef934e828c957d2cb993d7a5",
       "version_major": 2,
       "version_minor": 0
      },
      "text/plain": [
       "Output()"
      ]
     },
     "metadata": {},
     "output_type": "display_data"
    },
    {
     "data": {
      "application/vnd.jupyter.widget-view+json": {
       "model_id": "b63b7124ce4c4e0a85f8efd1308279b8",
       "version_major": 2,
       "version_minor": 0
      },
      "text/plain": [
       "CodeWidget(program='{\"task\": \"continent_median_population\", \"language\": \"python-functional\", \"plan\": {}, \"sour…"
      ]
     },
     "metadata": {},
     "output_type": "display_data"
    }
   ],
   "source": [
    "functional.widget(task)"
   ]
  }
 ],
 "metadata": {
  "kernelspec": {
   "display_name": "Python 3",
   "language": "python",
   "name": "python3"
  },
  "language_info": {
   "codemirror_mode": {
    "name": "ipython",
    "version": 3
   },
   "file_extension": ".py",
   "mimetype": "text/x-python",
   "name": "python",
   "nbconvert_exporter": "python",
   "pygments_lexer": "ipython3",
   "version": "3.9.1"
  },
  "toc": {
   "base_numbering": 1,
   "nav_menu": {},
   "number_sections": true,
   "sideBar": true,
   "skip_h1_title": false,
   "title_cell": "Table of Contents",
   "title_sidebar": "Contents",
   "toc_cell": false,
   "toc_position": {},
   "toc_section_display": true,
   "toc_window_display": false
  },
  "varInspector": {
   "cols": {
    "lenName": 16,
    "lenType": 16,
    "lenVar": 40
   },
   "kernels_config": {
    "python": {
     "delete_cmd_postfix": "",
     "delete_cmd_prefix": "del ",
     "library": "var_list.py",
     "varRefreshCmd": "print(var_dic_list())"
    },
    "r": {
     "delete_cmd_postfix": ") ",
     "delete_cmd_prefix": "rm(",
     "library": "var_list.r",
     "varRefreshCmd": "cat(var_dic_list()) "
    }
   },
   "types_to_exclude": [
    "module",
    "function",
    "builtin_function_or_method",
    "instance",
    "_Feature"
   ],
   "window_display": false
  }
 },
 "nbformat": 4,
 "nbformat_minor": 4
}
