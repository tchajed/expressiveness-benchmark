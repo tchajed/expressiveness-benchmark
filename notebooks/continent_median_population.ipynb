{
 "cells": [
  {
   "cell_type": "code",
   "execution_count": 9,
   "metadata": {
    "ExecuteTime": {
     "end_time": "2020-10-29T23:39:27.558064Z",
     "start_time": "2020-10-29T23:39:27.537004Z"
    }
   },
   "outputs": [
    {
     "name": "stdout",
     "output_type": "stream",
     "text": [
      "The autoreload extension is already loaded. To reload it, use:\n",
      "  %reload_ext autoreload\n"
     ]
    }
   ],
   "source": [
    "%load_ext autoreload\n",
    "%autoreload 2\n",
    "from expressiveness_benchmark.types import Plan, Task, Language, SourceRange, Program\n",
    "from code_widget.example import CodeWidget\n",
    "from dataclasses import replace\n",
    "import json\n",
    "import pandas as pd"
   ]
  },
  {
   "cell_type": "code",
   "execution_count": 10,
   "metadata": {
    "ExecuteTime": {
     "end_time": "2020-10-29T23:39:27.850526Z",
     "start_time": "2020-10-29T23:39:27.829985Z"
    }
   },
   "outputs": [],
   "source": [
    "# CHANGE ME!\n",
    "TASK_ID = 'continent_median_population'\n",
    "AUTHOR = 'will'"
   ]
  },
  {
   "cell_type": "code",
   "execution_count": 17,
   "metadata": {
    "ExecuteTime": {
     "end_time": "2020-10-29T23:43:58.728761Z",
     "start_time": "2020-10-29T23:43:58.709466Z"
    }
   },
   "outputs": [],
   "source": [
    "task = Task(\n",
    "    id=TASK_ID,\n",
    "    description=\"Get the median population continent for each continent\",\n",
    "    sample_input={\n",
    "        \"countries\": [\n",
    "            {\"name\": \"USA\", \"population\": 328, \"continent\": \"North America\"},\n",
    "            {\"name\": \"Canada\", \"population\": 37, \"continent\": \"North America\"},\n",
    "            {\"name\": \"Ethiopia\", \"population\": 109, \"continent\": \"Africa\"},\n",
    "        ]\n",
    "    },\n",
    "    sample_output=[\n",
    "        {\"continent\": \"North America\", \"population\": 182.5},\n",
    "        {\"continent\": \"Africa\", \"population\": 109.0},\n",
    "    ],\n",
    ")\n",
    "\n"
   ]
  },
  {
   "cell_type": "code",
   "execution_count": 12,
   "metadata": {
    "ExecuteTime": {
     "end_time": "2020-10-29T23:39:42.087694Z",
     "start_time": "2020-10-29T23:39:42.048322Z"
    }
   },
   "outputs": [],
   "source": [
    "sql = replace(prototype,\n",
    "    language='sql',\n",
    "    source='''\n",
    "SELECT continent, AVG(population) as population\n",
    "FROM\n",
    "  (SELECT *, \n",
    "    row_number() OVER (PARTITION BY continent ORDER BY population) AS rank, \n",
    "    count() OVER (PARTITION BY continent) as count\n",
    "  FROM countries)\n",
    "WHERE \n",
    "  (count % 2 = 1 AND rank = (count + 1) / 2) OR \n",
    "  (count % 2 = 0 AND ABS(rank - 0.5 - count / 2) = 0.5)\n",
    "GROUP BY continent\n",
    "''')\n",
    "sql.execute(task)\n",
    "sql.save()"
   ]
  },
  {
   "cell_type": "code",
   "execution_count": 15,
   "metadata": {
    "ExecuteTime": {
     "end_time": "2020-10-29T23:40:04.845753Z",
     "start_time": "2020-10-29T23:40:04.818002Z"
    }
   },
   "outputs": [],
   "source": [
    "datalog = replace(prototype,\n",
    "    language='datalog',\n",
    "    source='''\n",
    ".decl rank(continent:symbol, name:symbol, r:float, population:float)\n",
    "rank(continent, name, r, population) :-\n",
    "  countries(continent, name, population),\n",
    "  m = min p : countries(continent, _, p),\n",
    "  ((population = m, r = 1.0); \n",
    "  (rank(continent, other1, r2, p2),\n",
    "   p2 < population,\n",
    "   countries(continent, other2, p3),\n",
    "   !(p3 > p2),\n",
    "   r = r2 + 1.0)).\n",
    "   \n",
    ".decl near_median(continent:symbol, population:float)\n",
    "near_median(continent, population) :-\n",
    "  rank(continent, _, r, population),\n",
    "  c = sum x : { countries(continent, _, _), x = 1.0 },\n",
    "  ((c % 2 = 1, r = (c + 1) / 2);\n",
    "  (c % 2 = 0, v = r - 0.5 - c/2, (v = 0.5; v = -0.5))).\n",
    "  \n",
    "continent_median_population(continent, median) :-\n",
    "  countries(continent, _, _),\n",
    "  median = sum p : near_median(continent, p).\n",
    "''')\n",
    "#datalog.execute(task)\n",
    "#datalog.save()"
   ]
  },
  {
   "cell_type": "code",
   "execution_count": 19,
   "metadata": {
    "ExecuteTime": {
     "end_time": "2020-10-29T23:44:58.976214Z",
     "start_time": "2020-10-29T23:44:58.947934Z"
    }
   },
   "outputs": [],
   "source": [
    "pandas = replace(prototype,\n",
    "    language='python-pandas',\n",
    "    source='''\n",
    "def continent_median_population(countries):\n",
    "  return (countries\n",
    "      .groupby('continent')\n",
    "      .population.median()\n",
    "      .reset_index())\n",
    "''')\n",
    "pandas.execute(task)\n",
    "pandas.save()"
   ]
  },
  {
   "cell_type": "code",
   "execution_count": 36,
   "metadata": {
    "ExecuteTime": {
     "end_time": "2020-10-29T23:50:31.948851Z",
     "start_time": "2020-10-29T23:50:31.922264Z"
    }
   },
   "outputs": [],
   "source": [
    "imperative = replace(prototype,\n",
    "    language='python-imperative',\n",
    "    source='''\n",
    "def continent_median_population(countries):\n",
    "  populations = defaultdict(list)\n",
    "  for country in countries:\n",
    "    populations[country['continent']].append(country['population'])\n",
    "  \n",
    "  output = []  \n",
    "  for continent, pops in populations.items():\n",
    "    pops.sort()\n",
    "    N = len(pops)\n",
    "    if N % 2 == 1:\n",
    "      median = pops[(N - 1) // 2]\n",
    "    else:\n",
    "      median = (pops[N // 2 - 1] + pops[N // 2]) / 2\n",
    "    output.append({\n",
    "      \"continent\": continent,\n",
    "      \"population\": median\n",
    "    })\n",
    "    \n",
    "  return output\n",
    "''')\n",
    "imperative.execute(task)\n",
    "imperative.save()"
   ]
  },
  {
   "cell_type": "code",
   "execution_count": 35,
   "metadata": {
    "ExecuteTime": {
     "end_time": "2020-10-29T23:50:27.854426Z",
     "start_time": "2020-10-29T23:50:27.828359Z"
    }
   },
   "outputs": [],
   "source": [
    "functional = replace(\n",
    "    prototype,\n",
    "    language='python-functional',\n",
    "    source='''\n",
    "def continent_median_population(countries):\n",
    "  continents = set([c['continent'] for c in countries])\n",
    "  populations = {\n",
    "    continent: [c['population'] for c in countries if c['continent'] == continent]\n",
    "    for continent in continents\n",
    "  }\n",
    "  \n",
    "  def compute_median(pops):\n",
    "    pops = sorted(pops)\n",
    "    N = len(pops)\n",
    "    if N % 2 == 1:\n",
    "      return pops[(N - 1) // 2]\n",
    "    else:\n",
    "      return (pops[N // 2 - 1] + pops[N // 2]) / 2  \n",
    "   \n",
    "  return [\n",
    "    {\"continent\": continent, \"population\": compute_median(pops)}\n",
    "    for continent, pops in populations.items()\n",
    "  ]''')\n",
    "functional.execute(task)\n",
    "functional.save()"
   ]
  }
 ],
 "metadata": {
  "kernelspec": {
   "display_name": "Python 3",
   "language": "python",
   "name": "python3"
  },
  "language_info": {
   "codemirror_mode": {
    "name": "ipython",
    "version": 3
   },
   "file_extension": ".py",
   "mimetype": "text/x-python",
   "name": "python",
   "nbconvert_exporter": "python",
   "pygments_lexer": "ipython3",
   "version": "3.8.5"
  },
  "toc": {
   "base_numbering": 1,
   "nav_menu": {},
   "number_sections": true,
   "sideBar": true,
   "skip_h1_title": false,
   "title_cell": "Table of Contents",
   "title_sidebar": "Contents",
   "toc_cell": false,
   "toc_position": {},
   "toc_section_display": true,
   "toc_window_display": false
  },
  "varInspector": {
   "cols": {
    "lenName": 16,
    "lenType": 16,
    "lenVar": 40
   },
   "kernels_config": {
    "python": {
     "delete_cmd_postfix": "",
     "delete_cmd_prefix": "del ",
     "library": "var_list.py",
     "varRefreshCmd": "print(var_dic_list())"
    },
    "r": {
     "delete_cmd_postfix": ") ",
     "delete_cmd_prefix": "rm(",
     "library": "var_list.r",
     "varRefreshCmd": "cat(var_dic_list()) "
    }
   },
   "types_to_exclude": [
    "module",
    "function",
    "builtin_function_or_method",
    "instance",
    "_Feature"
   ],
   "window_display": false
  }
 },
 "nbformat": 4,
 "nbformat_minor": 4
}
