{
 "cells": [
  {
   "cell_type": "code",
   "execution_count": 1,
   "metadata": {},
   "outputs": [],
   "source": [
    "%load_ext autoreload\n",
    "%autoreload 2\n",
    "from expressiveness_benchmark.types import Plan, Task, Language, SourceRange, Program\n",
    "from code_widget.example import CodeWidget\n",
    "from dataclasses import replace\n",
    "import json\n",
    "import pandas as pd"
   ]
  },
  {
   "cell_type": "code",
   "execution_count": 2,
   "metadata": {},
   "outputs": [],
   "source": [
    "# CHANGE ME!\n",
    "TASK_ID = 'tom_hanks'\n",
    "AUTHOR = 'g'\n"
   ]
  },
  {
   "cell_type": "code",
   "execution_count": 3,
   "metadata": {},
   "outputs": [],
   "source": [
    "task = Task(\n",
    "    id=TASK_ID,\n",
    "    description=\"Find directors of movies that Tom Hanks starred in\",\n",
    "    plan=[\n",
    "    ],\n",
    "    sample_input={\n",
    "        \"movies\":[\n",
    "            {\"director\":\"A\",\"movie\":\"AM\",\"actor\":\"Tom Hanks\"},\n",
    "            {\"director\":\"B\",\"movie\":\"BM\",\"actor\":\"Other Actor\"}\n",
    "        ],\n",
    "    },\n",
    "    sample_output=[\"A\"],\n",
    "    category='Basic'\n",
    ")\n",
    "task.save()\n",
    "\n",
    "prototype = Program(\n",
    "    task=TASK_ID,\n",
    "    author=AUTHOR,\n",
    "    language=''    \n",
    ")"
   ]
  },
  {
   "cell_type": "code",
   "execution_count": 31,
   "metadata": {},
   "outputs": [],
   "source": [
    "imp = replace(prototype,\n",
    "    language='python-imperative',\n",
    "    source='''\n",
    "def tom_hanks(movies):\n",
    "    r_directors = []\n",
    "    for m in movies:\n",
    "        if 'Tom Hanks' in m['actor']:\n",
    "            r_directors.append(m['director'])\n",
    "    return r_directors\n",
    "''')\n",
    "imp.execute(task)\n",
    "imp.save()"
   ]
  },
  {
   "cell_type": "code",
   "execution_count": 40,
   "metadata": {},
   "outputs": [],
   "source": [
    "func = replace(prototype,\n",
    "    language='python-functional',\n",
    "    source='''\n",
    "def tom_hanks(movies):\n",
    "    directors = [m['director'] for m in movies if m['actor'] == 'Tom Hanks']\n",
    "    return directors\n",
    "''')\n",
    "func.execute(task)\n",
    "func.save()"
   ]
  },
  {
   "cell_type": "code",
   "execution_count": 43,
   "metadata": {},
   "outputs": [],
   "source": [
    "func = replace(prototype,\n",
    "    language='python-pandas',\n",
    "    source='''\n",
    "def tom_hanks(movies):\n",
    "    return movies.loc[movies['actor'] == 'Tom Hanks', 'director']\n",
    "''')\n",
    "func.execute(task)\n",
    "func.save()"
   ]
  },
  {
   "cell_type": "code",
   "execution_count": 44,
   "metadata": {},
   "outputs": [],
   "source": [
    "func = replace(prototype,\n",
    "    language='sql',\n",
    "    source='''\n",
    "    SELECT director FROM movies WHERE \"Tom Hanks\" IS actor\n",
    "''')\n",
    "func.execute(task)\n",
    "func.save()"
   ]
  },
  {
   "cell_type": "code",
   "execution_count": 25,
   "metadata": {},
   "outputs": [],
   "source": [
    "func = replace(prototype,\n",
    "    language='datalog',\n",
    "    source='''\n",
    "    tom_hanks(director):-\n",
    "    movies(actor,director,_),\n",
    "    actor = \"Tom Hanks\".\n",
    "''')\n",
    "func.execute(task)\n",
    "func.save()"
   ]
  },
  {
   "cell_type": "code",
   "execution_count": null,
   "metadata": {},
   "outputs": [],
   "source": []
  }
 ],
 "metadata": {
  "kernelspec": {
   "display_name": "Python 3",
   "language": "python",
   "name": "python3"
  },
  "language_info": {
   "codemirror_mode": {
    "name": "ipython",
    "version": 3
   },
   "file_extension": ".py",
   "mimetype": "text/x-python",
   "name": "python",
   "nbconvert_exporter": "python",
   "pygments_lexer": "ipython3",
   "version": "3.6.3"
  }
 },
 "nbformat": 4,
 "nbformat_minor": 2
}
