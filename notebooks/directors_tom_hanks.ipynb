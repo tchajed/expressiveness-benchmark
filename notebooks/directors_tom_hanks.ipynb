{
 "cells": [
  {
   "cell_type": "code",
   "execution_count": 2,
   "metadata": {
    "ExecuteTime": {
     "end_time": "2020-12-30T20:57:14.981564Z",
     "start_time": "2020-12-30T20:57:14.957314Z"
    }
   },
   "outputs": [
    {
     "name": "stdout",
     "output_type": "stream",
     "text": [
      "The autoreload extension is already loaded. To reload it, use:\n",
      "  %reload_ext autoreload\n"
     ]
    }
   ],
   "source": [
    "%load_ext autoreload\n",
    "%autoreload 2\n",
    "from expressiveness_benchmark.types import Plan, Task, Language, SourceRange, Program\n",
    "from code_widget.example import CodeWidget\n",
    "from dataclasses import replace\n",
    "import json\n",
    "import pandas as pd"
   ]
  },
  {
   "cell_type": "code",
   "execution_count": 3,
   "metadata": {
    "ExecuteTime": {
     "end_time": "2020-12-30T20:57:15.198786Z",
     "start_time": "2020-12-30T20:57:15.178078Z"
    }
   },
   "outputs": [],
   "source": [
    "# CHANGE ME!\n",
    "TASK_ID = 'tom_hanks'\n",
    "AUTHOR = 'g'\n"
   ]
  },
  {
   "cell_type": "code",
   "execution_count": 4,
   "metadata": {
    "ExecuteTime": {
     "end_time": "2020-12-30T20:57:15.584507Z",
     "start_time": "2020-12-30T20:57:15.554139Z"
    }
   },
   "outputs": [],
   "source": [
    "task = Task(\n",
    "    id=TASK_ID,\n",
    "    name=\"Directors of movies Tom Hanks starred in\",\n",
    "    description=\"Find directors of movies that Tom Hanks starred in\",\n",
    "    plan=[\n",
    "        {\n",
    "        \"id\": \"director\",\n",
    "        \"description\": \"Find directors\",\n",
    "    }, {\n",
    "        \"id\": \"actor\",\n",
    "        \"description\": \"Tom Hanks starred in\",\n",
    "    },\n",
    "        {\n",
    "        \"id\": \"movies\",\n",
    "        \"description\": \"of movies\",\n",
    "    } \n",
    "    ],\n",
    "    sample_input={\n",
    "        \"actors\":[\n",
    "            {\"movie\":\"AM\",\"actor\":\"Tom Hanks\"},\n",
    "            {\"movie\":\"AM\",\"actor\":\"Not Tom Hanks\"},\n",
    "            {\"movie\":\"AM\",\"actor\":\"Also not Tom Hanks\"},\n",
    "            {\"movie\":\"BM\",\"actor\":\"Other actor\"},\n",
    "            {\"movie\":\"CM\",\"actor\":\"Other actor\"},\n",
    "        ],\n",
    "        \"directors\":[\n",
    "            {\"director\":\"A\",\"movie\":\"AM\"},\n",
    "            {\"director\":\"A\",\"movie\":\"BM\"},\n",
    "            {\"director\":\"C\",\"movie\":\"CM\"},\n",
    "        ],\n",
    "    },\n",
    "    sample_output=[\"A\"],\n",
    "    category='Joins'\n",
    ")\n",
    "task.save()\n",
    "\n",
    "prototype = Program(\n",
    "    task=TASK_ID,\n",
    "    author=AUTHOR,\n",
    "    language=''    \n",
    ")"
   ]
  },
  {
   "cell_type": "code",
   "execution_count": 13,
   "metadata": {
    "ExecuteTime": {
     "end_time": "2020-12-30T20:57:48.725803Z",
     "start_time": "2020-12-30T20:57:48.505432Z"
    }
   },
   "outputs": [],
   "source": [
    "q = replace(prototype,\n",
    "    language='q',\n",
    "    source='''tom_hanks:\n",
    "  (select director from actors ij (`movie xkey directors) \n",
    "   where actor ~\\: \"Tom Hanks\") `director''').load_plan()\n",
    "q.execute(task)\n",
    "q.save()"
   ]
  },
  {
   "cell_type": "code",
   "execution_count": 14,
   "metadata": {
    "ExecuteTime": {
     "end_time": "2020-12-30T20:57:49.251103Z",
     "start_time": "2020-12-30T20:57:49.219538Z"
    }
   },
   "outputs": [
    {
     "data": {
      "application/vnd.jupyter.widget-view+json": {
       "model_id": "4b86c410c8c94a72adb17ab6c37882b1",
       "version_major": 2,
       "version_minor": 0
      },
      "text/plain": [
       "Output()"
      ]
     },
     "metadata": {},
     "output_type": "display_data"
    },
    {
     "data": {
      "application/vnd.jupyter.widget-view+json": {
       "model_id": "96512809bc1b458f879f5add37e0aa7c",
       "version_major": 2,
       "version_minor": 0
      },
      "text/plain": [
       "CodeWidget(program='{\"task\": \"tom_hanks\", \"language\": \"q\", \"plan\": {}, \"source\": \"tom_hanks:\\\\n  (select direc…"
      ]
     },
     "metadata": {},
     "output_type": "display_data"
    }
   ],
   "source": [
    "q.widget(task)"
   ]
  },
  {
   "cell_type": "code",
   "execution_count": 5,
   "metadata": {
    "ExecuteTime": {
     "end_time": "2020-12-10T19:20:33.363354Z",
     "start_time": "2020-12-10T19:20:33.320273Z"
    }
   },
   "outputs": [],
   "source": [
    "r = replace(prototype,\n",
    "    language='r',\n",
    "    source='''tom_hanks <- function(actors, directors) {\n",
    "  actors %>%\n",
    "    filter(actor == \"Tom Hanks\") %>%\n",
    "    inner_join(directors, by = \"movie\") %>%\n",
    "    pull(director)\n",
    "}''').load_plan()\n",
    "r.execute(task)\n",
    "r.save()"
   ]
  },
  {
   "cell_type": "code",
   "execution_count": 6,
   "metadata": {
    "ExecuteTime": {
     "end_time": "2020-12-10T19:20:37.763376Z",
     "start_time": "2020-12-10T19:20:37.730968Z"
    }
   },
   "outputs": [
    {
     "data": {
      "application/vnd.jupyter.widget-view+json": {
       "model_id": "ae32696253b14148be9b8bce217da11c",
       "version_major": 2,
       "version_minor": 0
      },
      "text/plain": [
       "Output()"
      ]
     },
     "metadata": {},
     "output_type": "display_data"
    },
    {
     "data": {
      "application/vnd.jupyter.widget-view+json": {
       "model_id": "1b5ce9170c3d4e568ea59956f91faaf4",
       "version_major": 2,
       "version_minor": 0
      },
      "text/plain": [
       "CodeWidget(program='{\"task\": \"tom_hanks\", \"language\": \"r\", \"plan\": {}, \"source\": \"tom_hanks <- function(actors…"
      ]
     },
     "metadata": {},
     "output_type": "display_data"
    }
   ],
   "source": [
    "r.widget(task)"
   ]
  },
  {
   "cell_type": "code",
   "execution_count": 5,
   "metadata": {},
   "outputs": [],
   "source": [
    "imp = replace(prototype,\n",
    "    language='python-imperative',\n",
    "    source='''\n",
    "def tom_hanks(actors,directors):\n",
    "  r_directors = set()\n",
    "  for a in actors:\n",
    "    if 'Tom Hanks' == a['actor']:\n",
    "      for d in directors:\n",
    "        if a['movie'] == d['movie']:\n",
    "          r_directors.add(d['director'])\n",
    "    return r_directors\n",
    "''').load_plan()\n",
    "imp.execute(task)\n",
    "imp.save()"
   ]
  },
  {
   "cell_type": "code",
   "execution_count": 6,
   "metadata": {},
   "outputs": [],
   "source": [
    "func = replace(prototype,\n",
    "    language='python-functional',\n",
    "    source='''\n",
    "def tom_hanks(actors,directors):\n",
    "  movies = [a['movie'] for a in actors \\\n",
    "    if a['actor'] == 'Tom Hanks']\n",
    "  directors = [d['director'] for d in directors \\\n",
    "    if d['movie'] in movies]\n",
    "  return directors\n",
    "''').load_plan()\n",
    "func.execute(task)\n",
    "func.save()"
   ]
  },
  {
   "cell_type": "code",
   "execution_count": 7,
   "metadata": {},
   "outputs": [],
   "source": [
    "pandas = replace(prototype,\n",
    "    language='python-pandas',\n",
    "    source='''\n",
    "def tom_hanks(actors,directors):\n",
    "  movies = list(actors.loc[\n",
    "    actors['actor'] == 'Tom Hanks', 'movie'])\n",
    "  return directors[directors['movie'].\n",
    "    isin(movies)]['director']\n",
    "''').load_plan()\n",
    "pandas.execute(task)\n",
    "pandas.save()"
   ]
  },
  {
   "cell_type": "code",
   "execution_count": 8,
   "metadata": {},
   "outputs": [],
   "source": [
    "sql = replace(prototype,\n",
    "    language='sql',\n",
    "    source='''\n",
    "SELECT directors.director\n",
    "FROM \n",
    "  directors \n",
    "  INNER JOIN actors\n",
    "  ON directors.movie = \n",
    "  actors.movie\n",
    "WHERE actors.actor=\"Tom Hanks\"\n",
    "''').load_plan()\n",
    "sql.execute(task)\n",
    "sql.save()"
   ]
  },
  {
   "cell_type": "code",
   "execution_count": 9,
   "metadata": {},
   "outputs": [],
   "source": [
    "datalog = replace(prototype,\n",
    "    language='datalog',\n",
    "    source='''\n",
    "tom_hanks(Director):-\n",
    "  actors(\"Tom Hanks\",movie),\n",
    "  directors(Director,movie).\n",
    "''').load_plan()\n",
    "datalog.execute(task)\n",
    "datalog.save()"
   ]
  },
  {
   "cell_type": "code",
   "execution_count": 14,
   "metadata": {
    "scrolled": true
   },
   "outputs": [
    {
     "data": {
      "application/vnd.jupyter.widget-view+json": {
       "model_id": "6be2cdaf9c2b4234bfa66567004d6090",
       "version_major": 2,
       "version_minor": 0
      },
      "text/plain": [
       "Output()"
      ]
     },
     "metadata": {},
     "output_type": "display_data"
    },
    {
     "data": {
      "application/vnd.jupyter.widget-view+json": {
       "model_id": "1ef658570a794f1baeed83b41fc33758",
       "version_major": 2,
       "version_minor": 0
      },
      "text/plain": [
       "CodeWidget(program='{\"task\": \"tom_hanks\", \"language\": \"datalog\", \"plan\": {\"director\": [{\"line\": 3, \"start\": 2,…"
      ]
     },
     "metadata": {},
     "output_type": "display_data"
    }
   ],
   "source": [
    "program = datalog\n",
    "program.widget(task)"
   ]
  },
  {
   "cell_type": "code",
   "execution_count": null,
   "metadata": {},
   "outputs": [],
   "source": []
  }
 ],
 "metadata": {
  "kernelspec": {
   "display_name": "Python 3",
   "language": "python",
   "name": "python3"
  },
  "language_info": {
   "codemirror_mode": {
    "name": "ipython",
    "version": 3
   },
   "file_extension": ".py",
   "mimetype": "text/x-python",
   "name": "python",
   "nbconvert_exporter": "python",
   "pygments_lexer": "ipython3",
   "version": "3.9.1"
  },
  "toc": {
   "base_numbering": 1,
   "nav_menu": {},
   "number_sections": true,
   "sideBar": true,
   "skip_h1_title": false,
   "title_cell": "Table of Contents",
   "title_sidebar": "Contents",
   "toc_cell": false,
   "toc_position": {},
   "toc_section_display": true,
   "toc_window_display": false
  },
  "varInspector": {
   "cols": {
    "lenName": 16,
    "lenType": 16,
    "lenVar": 40
   },
   "kernels_config": {
    "python": {
     "delete_cmd_postfix": "",
     "delete_cmd_prefix": "del ",
     "library": "var_list.py",
     "varRefreshCmd": "print(var_dic_list())"
    },
    "r": {
     "delete_cmd_postfix": ") ",
     "delete_cmd_prefix": "rm(",
     "library": "var_list.r",
     "varRefreshCmd": "cat(var_dic_list()) "
    }
   },
   "types_to_exclude": [
    "module",
    "function",
    "builtin_function_or_method",
    "instance",
    "_Feature"
   ],
   "window_display": false
  }
 },
 "nbformat": 4,
 "nbformat_minor": 2
}
