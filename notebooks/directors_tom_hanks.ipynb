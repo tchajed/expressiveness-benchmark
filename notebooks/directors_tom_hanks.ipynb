{
 "cells": [
  {
   "cell_type": "code",
   "execution_count": 1,
   "metadata": {},
   "outputs": [],
   "source": [
    "%load_ext autoreload\n",
    "%autoreload 2\n",
    "from expressiveness_benchmark.types import Plan, Task, Language, SourceRange, Program\n",
    "from code_widget.example import CodeWidget\n",
    "from dataclasses import replace\n",
    "import json\n",
    "import pandas as pd"
   ]
  },
  {
   "cell_type": "code",
   "execution_count": 2,
   "metadata": {},
   "outputs": [],
   "source": [
    "# CHANGE ME!\n",
    "TASK_ID = 'tom_hanks'\n",
    "AUTHOR = 'g'\n"
   ]
  },
  {
   "cell_type": "code",
   "execution_count": 3,
   "metadata": {},
   "outputs": [],
   "source": [
    "task = Task(\n",
    "    id=TASK_ID,\n",
    "    name=\"Directors of movies Tom Hanks starred in\",\n",
    "    description=\"Find directors of movies that Tom Hanks starred in\",\n",
    "    plan=[\n",
    "        {\n",
    "        \"id\": \"director\",\n",
    "        \"description\": \"Find director\",\n",
    "    }, {\n",
    "        \"id\": \"actor\",\n",
    "        \"description\": \"Tom Hanks starred in\",\n",
    "    } \n",
    "    ],\n",
    "    sample_input={\n",
    "        \"actors\":[\n",
    "            {\"movie\":\"AM\",\"actor\":\"Tom Hanks\"},\n",
    "            {\"movie\":\"AM\",\"actor\":\"Not Tom Hanks\"},\n",
    "            {\"movie\":\"AM\",\"actor\":\"Also not Tom Hanks\"},\n",
    "            {\"movie\":\"BM\",\"actor\":\"Other actor\"},\n",
    "            {\"movie\":\"CM\",\"actor\":\"Other actor\"},\n",
    "        ],\n",
    "        \"directors\":[\n",
    "            {\"director\":\"A\",\"movie\":\"AM\"},\n",
    "            {\"director\":\"A\",\"movie\":\"BM\"},\n",
    "            {\"director\":\"C\",\"movie\":\"CM\"},\n",
    "        ],\n",
    "    },\n",
    "    sample_output=[\"A\"],\n",
    "    category='Basic'\n",
    ")\n",
    "task.save()\n",
    "\n",
    "prototype = Program(\n",
    "    task=TASK_ID,\n",
    "    author=AUTHOR,\n",
    "    language=''    \n",
    ")"
   ]
  },
  {
   "cell_type": "code",
   "execution_count": 4,
   "metadata": {},
   "outputs": [],
   "source": [
    "imp = replace(prototype,\n",
    "    language='python-imperative',\n",
    "    source='''\n",
    "def tom_hanks(actors,directors):\n",
    "  r_directors = set()\n",
    "  for a in actors:\n",
    "    if 'Tom Hanks' == a['actor']:\n",
    "      for d in directors:\n",
    "        if a['movie'] == d['movie']:\n",
    "          r_directors.add(d['director'])\n",
    "    return r_directors\n",
    "''').load_plan()\n",
    "imp.execute(task)\n",
    "imp.save()"
   ]
  },
  {
   "cell_type": "code",
   "execution_count": 5,
   "metadata": {},
   "outputs": [],
   "source": [
    "func = replace(prototype,\n",
    "    language='python-functional',\n",
    "    source='''\n",
    "def tom_hanks(actors,directors):\n",
    "  movies = [a['movie'] for a in actors \\\n",
    "    if a['actor'] == 'Tom Hanks']\n",
    "  directors = [d['director'] for d in directors \\\n",
    "    if d['movie'] in movies]\n",
    "  return directors\n",
    "''').load_plan()\n",
    "func.execute(task)\n",
    "func.save()"
   ]
  },
  {
   "cell_type": "code",
   "execution_count": 6,
   "metadata": {},
   "outputs": [],
   "source": [
    "pandas = replace(prototype,\n",
    "    language='python-pandas',\n",
    "    source='''\n",
    "def tom_hanks(actors,directors):\n",
    "  movies = list(actors.loc[\n",
    "    actors['actor'] == 'Tom Hanks', 'movie'])\n",
    "  return directors[directors['movie'].\n",
    "    isin(movies)]['director']\n",
    "''').load_plan()\n",
    "pandas.execute(task)\n",
    "pandas.save()"
   ]
  },
  {
   "cell_type": "code",
   "execution_count": 7,
   "metadata": {},
   "outputs": [],
   "source": [
    "sql = replace(prototype,\n",
    "    language='sql',\n",
    "    source='''\n",
    "SELECT directors.director\n",
    "FROM \n",
    "  directors \n",
    "  INNER JOIN actors\n",
    "  ON directors.movie = \n",
    "  actors.movie\n",
    "WHERE actors.actor=\"Tom Hanks\"\n",
    "''').load_plan()\n",
    "sql.execute(task)\n",
    "sql.save()"
   ]
  },
  {
   "cell_type": "code",
   "execution_count": 8,
   "metadata": {},
   "outputs": [],
   "source": [
    "datalog = replace(prototype,\n",
    "    language='datalog',\n",
    "    source='''\n",
    "tom_hanks(Director):-\n",
    "  actors(\"Tom Hanks\",movie),\n",
    "  directors(Director,movie).\n",
    "''').load_plan()\n",
    "datalog.execute(task)\n",
    "datalog.save()"
   ]
  },
  {
   "cell_type": "code",
   "execution_count": 13,
   "metadata": {
    "scrolled": true
   },
   "outputs": [
    {
     "data": {
      "application/vnd.jupyter.widget-view+json": {
       "model_id": "45f88a494c22474caeb78e873fb95bae",
       "version_major": 2,
       "version_minor": 0
      },
      "text/plain": [
       "Output()"
      ]
     },
     "metadata": {},
     "output_type": "display_data"
    },
    {
     "data": {
      "application/vnd.jupyter.widget-view+json": {
       "model_id": "c2d1c4f31a5d48e39585b008cd79ad76",
       "version_major": 2,
       "version_minor": 0
      },
      "text/plain": [
       "CodeWidget(program='{\"task\": \"tom_hanks\", \"language\": \"python-imperative\", \"plan\": {}, \"source\": \"\\\\ndef tom_h…"
      ]
     },
     "metadata": {},
     "output_type": "display_data"
    }
   ],
   "source": [
    "program = imp\n",
    "program.widget(task)"
   ]
  },
  {
   "cell_type": "code",
   "execution_count": null,
   "metadata": {},
   "outputs": [],
   "source": []
  }
 ],
 "metadata": {
  "kernelspec": {
   "display_name": "Python 3",
   "language": "python",
   "name": "python3"
  },
  "language_info": {
   "codemirror_mode": {
    "name": "ipython",
    "version": 3
   },
   "file_extension": ".py",
   "mimetype": "text/x-python",
   "name": "python",
   "nbconvert_exporter": "python",
   "pygments_lexer": "ipython3",
   "version": "3.7.6"
  }
 },
 "nbformat": 4,
 "nbformat_minor": 2
}
