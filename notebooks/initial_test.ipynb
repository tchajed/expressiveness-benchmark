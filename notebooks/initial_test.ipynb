{
 "cells": [
  {
   "cell_type": "code",
   "execution_count": 17,
   "metadata": {
    "ExecuteTime": {
     "end_time": "2020-10-23T17:53:07.026087Z",
     "start_time": "2020-10-23T17:53:06.933491Z"
    }
   },
   "outputs": [
    {
     "name": "stdout",
     "output_type": "stream",
     "text": [
      "The autoreload extension is already loaded. To reload it, use:\n",
      "  %reload_ext autoreload\n"
     ]
    }
   ],
   "source": [
    "%load_ext autoreload\n",
    "%autoreload 2\n",
    "from expressiveness_benchmark.types import Plan, Task, Language, SourceRange, Program, TASKS, load_all_programs, save_languages_and_tasks\n",
    "from code_widget.example import CodeWidget\n",
    "from dataclasses import replace\n",
    "import json"
   ]
  },
  {
   "cell_type": "code",
   "execution_count": 21,
   "metadata": {
    "ExecuteTime": {
     "end_time": "2020-10-23T17:53:41.531834Z",
     "start_time": "2020-10-23T17:53:41.513862Z"
    }
   },
   "outputs": [],
   "source": [
    "save_languages_and_tasks()"
   ]
  },
  {
   "cell_type": "code",
   "execution_count": 2,
   "metadata": {
    "ExecuteTime": {
     "end_time": "2020-10-23T17:17:32.829144Z",
     "start_time": "2020-10-23T17:17:32.813338Z"
    }
   },
   "outputs": [],
   "source": [
    "# program = Program(\n",
    "#     task='youngest_over_35',\n",
    "#     language='python',\n",
    "#     plan={},\n",
    "#     prelude='''people = [{'age': 35, 'name': 'John'}, {'age': 36, 'name': 'Mary'}, {'age': 37, 'name': 'Jane'}]''',\n",
    "#     source='''def youngest_over_35(people):\n",
    "#   youngest = None\n",
    "#   for person in people:\n",
    "#     if person['age'] > 35 and (youngest is None or person['age'] < youngest['age']):\n",
    "#       youngest = person\n",
    "#   return youngest['name'] if youngest is not None else None''')"
   ]
  },
  {
   "cell_type": "code",
   "execution_count": 11,
   "metadata": {
    "ExecuteTime": {
     "end_time": "2020-10-23T17:26:28.719051Z",
     "start_time": "2020-10-23T17:26:28.699353Z"
    }
   },
   "outputs": [],
   "source": [
    "program = Program(\n",
    "    task='youngest_over_35',\n",
    "    language='sql',\n",
    "    plan={},\n",
    "    prelude='',\n",
    "    source='''SELECT name\n",
    "FROM people\n",
    "WHERE age = (\n",
    "  SELECT MIN(age)\n",
    "  FROM people\n",
    "  WHERE age > 18)\n",
    "LIMIT 1''')"
   ]
  },
  {
   "cell_type": "code",
   "execution_count": 12,
   "metadata": {
    "ExecuteTime": {
     "end_time": "2020-10-23T17:26:29.250631Z",
     "start_time": "2020-10-23T17:26:29.223812Z"
    },
    "scrolled": false
   },
   "outputs": [
    {
     "data": {
      "application/vnd.jupyter.widget-view+json": {
       "model_id": "633b6a814d5f4784884339f463253b26",
       "version_major": 2,
       "version_minor": 0
      },
      "text/plain": [
       "CodeWidget(program='{\"task\": \"youngest_over_35\", \"language\": \"sql\", \"plan\": {}, \"prelude\": \"\", \"source\": \"SELE…"
      ]
     },
     "metadata": {},
     "output_type": "display_data"
    }
   ],
   "source": [
    "widget = CodeWidget(program=program.to_json(), task=TASKS[0].to_json())\n",
    "widget"
   ]
  },
  {
   "cell_type": "code",
   "execution_count": 13,
   "metadata": {
    "ExecuteTime": {
     "end_time": "2020-10-23T17:30:03.995318Z",
     "start_time": "2020-10-23T17:30:03.973135Z"
    }
   },
   "outputs": [],
   "source": [
    "new_program = replace(program, plan=json.loads(widget.plans))\n",
    "new_program.save()"
   ]
  },
  {
   "cell_type": "code",
   "execution_count": 7,
   "metadata": {
    "ExecuteTime": {
     "end_time": "2020-10-23T17:17:59.936676Z",
     "start_time": "2020-10-23T17:17:59.919297Z"
    }
   },
   "outputs": [
    {
     "data": {
      "text/plain": [
       "Program(task='youngest_over_35', language='python', plan={'filter': [SourceRange(line=3, start=7, end=25)], 'min': [SourceRange(line=3, start=30, end=83), SourceRange(line=1, start=2, end=17), SourceRange(line=4, start=6, end=23)], 'name': [SourceRange(line=5, start=9, end=25)]}, prelude=\"people = [{'age': 35, 'name': 'John'}, {'age': 36, 'name': 'Mary'}, {'age': 37, 'name': 'Jane'}]\", source=\"def youngest_over_35(people):\\n  youngest = None\\n  for person in people:\\n    if person['age'] > 35 and (youngest is None or person['age'] < youngest['age']):\\n      youngest = person\\n  return youngest['name'] if youngest is not None else None\")"
      ]
     },
     "execution_count": 7,
     "metadata": {},
     "output_type": "execute_result"
    }
   ],
   "source": [
    "Program(task='youngest_over_35', language='python').load()"
   ]
  }
 ],
 "metadata": {
  "kernelspec": {
   "display_name": "Python 3",
   "language": "python",
   "name": "python3"
  },
  "language_info": {
   "codemirror_mode": {
    "name": "ipython",
    "version": 3
   },
   "file_extension": ".py",
   "mimetype": "text/x-python",
   "name": "python",
   "nbconvert_exporter": "python",
   "pygments_lexer": "ipython3",
   "version": "3.8.5"
  },
  "toc": {
   "base_numbering": 1,
   "nav_menu": {},
   "number_sections": true,
   "sideBar": true,
   "skip_h1_title": false,
   "title_cell": "Table of Contents",
   "title_sidebar": "Contents",
   "toc_cell": false,
   "toc_position": {},
   "toc_section_display": true,
   "toc_window_display": false
  },
  "varInspector": {
   "cols": {
    "lenName": 16,
    "lenType": 16,
    "lenVar": 40
   },
   "kernels_config": {
    "python": {
     "delete_cmd_postfix": "",
     "delete_cmd_prefix": "del ",
     "library": "var_list.py",
     "varRefreshCmd": "print(var_dic_list())"
    },
    "r": {
     "delete_cmd_postfix": ") ",
     "delete_cmd_prefix": "rm(",
     "library": "var_list.r",
     "varRefreshCmd": "cat(var_dic_list()) "
    }
   },
   "types_to_exclude": [
    "module",
    "function",
    "builtin_function_or_method",
    "instance",
    "_Feature"
   ],
   "window_display": false
  }
 },
 "nbformat": 4,
 "nbformat_minor": 4
}
