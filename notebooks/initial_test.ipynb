{
 "cells": [
  {
   "cell_type": "code",
   "execution_count": 1,
   "metadata": {
    "ExecuteTime": {
     "end_time": "2020-10-26T23:04:40.157280Z",
     "start_time": "2020-10-26T23:04:39.686662Z"
    }
   },
   "outputs": [],
   "source": [
    "%load_ext autoreload\n",
    "%autoreload 2\n",
    "from expressiveness_benchmark.types import Plan, Task, Language, SourceRange, Program, TASKS, load_all_programs, save_languages_and_tasks\n",
    "from code_widget.example import CodeWidget\n",
    "from dataclasses import replace\n",
    "import json\n",
    "import pandas as pd"
   ]
  },
  {
   "cell_type": "code",
   "execution_count": 2,
   "metadata": {
    "ExecuteTime": {
     "end_time": "2020-10-26T23:04:40.184862Z",
     "start_time": "2020-10-26T23:04:40.159899Z"
    }
   },
   "outputs": [],
   "source": [
    "task_id = 'youngest_over_35'\n",
    "task = TASKS[task_id]"
   ]
  },
  {
   "cell_type": "code",
   "execution_count": 30,
   "metadata": {
    "ExecuteTime": {
     "end_time": "2020-10-27T01:16:26.518465Z",
     "start_time": "2020-10-27T01:16:26.497199Z"
    }
   },
   "outputs": [],
   "source": [
    "program = Program(\n",
    "    task='youngest_over_35',\n",
    "    language='python',\n",
    "    plan={},\n",
    "    source='''def youngest_over_35(people):\n",
    "  youngest = None\n",
    "  for person in people:\n",
    "    if person['age'] > 35 and (youngest is None or person['age'] < youngest['age']):\n",
    "      youngest = person\n",
    "  return youngest['name'] if youngest is not None else None''')"
   ]
  },
  {
   "cell_type": "code",
   "execution_count": 31,
   "metadata": {
    "ExecuteTime": {
     "end_time": "2020-10-27T01:16:30.616915Z",
     "start_time": "2020-10-27T01:16:30.588894Z"
    }
   },
   "outputs": [],
   "source": [
    "program = Program(\n",
    "    task='youngest_over_35',\n",
    "    language='sql',\n",
    "    plan={},\n",
    "    source='''SELECT name\n",
    "FROM people\n",
    "WHERE age = (\n",
    "  SELECT MIN(age)\n",
    "  FROM people\n",
    "  WHERE age > 35)\n",
    "LIMIT 1''')"
   ]
  },
  {
   "cell_type": "code",
   "execution_count": 32,
   "metadata": {
    "ExecuteTime": {
     "end_time": "2020-10-27T01:16:42.514264Z",
     "start_time": "2020-10-27T01:16:42.490188Z"
    }
   },
   "outputs": [],
   "source": [
    "program = Program(\n",
    "    task='youngest_over_35',\n",
    "    language='datalog',\n",
    "    plan={},\n",
    "    source='''\n",
    "youngest_over_35(name) :- people(age, name), age = min age : { people(age, _), age > 35 }.\n",
    "    ''')"
   ]
  },
  {
   "cell_type": "code",
   "execution_count": 8,
   "metadata": {
    "ExecuteTime": {
     "end_time": "2020-10-26T23:04:40.482862Z",
     "start_time": "2020-10-26T23:04:40.418209Z"
    },
    "scrolled": false
   },
   "outputs": [
    {
     "data": {
      "application/vnd.jupyter.widget-view+json": {
       "model_id": "095cdf75bcb24555af2ba5ddfbcc8889",
       "version_major": 2,
       "version_minor": 0
      },
      "text/plain": [
       "CodeWidget(program='{\"task\": \"youngest_over_35\", \"language\": \"datalog\", \"plan\": {}, \"source\": \"\\\\nyoungest_ove…"
      ]
     },
     "metadata": {},
     "output_type": "display_data"
    }
   ],
   "source": [
    "widget = CodeWidget(program=program.to_json(), task=TASKS['youngest_over_35'].to_json())\n",
    "widget"
   ]
  },
  {
   "cell_type": "code",
   "execution_count": 9,
   "metadata": {
    "ExecuteTime": {
     "end_time": "2020-10-26T23:04:40.519242Z",
     "start_time": "2020-10-26T23:04:40.490777Z"
    }
   },
   "outputs": [],
   "source": [
    "new_program = replace(program, plan=json.loads(widget.plans))\n",
    "# new_program.save()"
   ]
  },
  {
   "cell_type": "code",
   "execution_count": 10,
   "metadata": {
    "ExecuteTime": {
     "end_time": "2020-10-26T23:04:40.553616Z",
     "start_time": "2020-10-26T23:04:40.523680Z"
    }
   },
   "outputs": [
    {
     "data": {
      "text/plain": [
       "Program(task='youngest_over_35', language='python', plan={'filter': [SourceRange(line=3, start=7, end=25)], 'min': [SourceRange(line=3, start=30, end=83), SourceRange(line=1, start=2, end=17), SourceRange(line=4, start=6, end=23)], 'name': [SourceRange(line=5, start=9, end=25)]}, source=\"def youngest_over_35(people):\\n  youngest = None\\n  for person in people:\\n    if person['age'] > 35 and (youngest is None or person['age'] < youngest['age']):\\n      youngest = person\\n  return youngest['name'] if youngest is not None else None\")"
      ]
     },
     "execution_count": 10,
     "metadata": {},
     "output_type": "execute_result"
    }
   ],
   "source": [
    "Program(task='youngest_over_35', language='python').load()"
   ]
  }
 ],
 "metadata": {
  "kernelspec": {
   "display_name": "Python 3",
   "language": "python",
   "name": "python3"
  },
  "language_info": {
   "codemirror_mode": {
    "name": "ipython",
    "version": 3
   },
   "file_extension": ".py",
   "mimetype": "text/x-python",
   "name": "python",
   "nbconvert_exporter": "python",
   "pygments_lexer": "ipython3",
   "version": "3.8.5"
  },
  "toc": {
   "base_numbering": 1,
   "nav_menu": {},
   "number_sections": true,
   "sideBar": true,
   "skip_h1_title": false,
   "title_cell": "Table of Contents",
   "title_sidebar": "Contents",
   "toc_cell": false,
   "toc_position": {},
   "toc_section_display": true,
   "toc_window_display": false
  },
  "varInspector": {
   "cols": {
    "lenName": 16,
    "lenType": 16,
    "lenVar": 40
   },
   "kernels_config": {
    "python": {
     "delete_cmd_postfix": "",
     "delete_cmd_prefix": "del ",
     "library": "var_list.py",
     "varRefreshCmd": "print(var_dic_list())"
    },
    "r": {
     "delete_cmd_postfix": ") ",
     "delete_cmd_prefix": "rm(",
     "library": "var_list.r",
     "varRefreshCmd": "cat(var_dic_list()) "
    }
   },
   "types_to_exclude": [
    "module",
    "function",
    "builtin_function_or_method",
    "instance",
    "_Feature"
   ],
   "window_display": false
  }
 },
 "nbformat": 4,
 "nbformat_minor": 4
}
