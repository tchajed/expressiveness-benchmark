{
 "cells": [
  {
   "cell_type": "code",
   "execution_count": 1,
   "metadata": {
    "ExecuteTime": {
     "end_time": "2020-10-30T23:35:16.371729Z",
     "start_time": "2020-10-30T23:35:16.066437Z"
    }
   },
   "outputs": [],
   "source": [
    "%load_ext autoreload\n",
    "%autoreload 2\n",
    "from expressiveness_benchmark.types import Plan, Task, Language, SourceRange, Program, load_all_programs\n",
    "from code_widget.example import CodeWidget\n",
    "from dataclasses import replace\n",
    "import json\n",
    "import pandas as pd"
   ]
  },
  {
   "cell_type": "code",
   "execution_count": 2,
   "metadata": {
    "ExecuteTime": {
     "end_time": "2020-10-30T23:35:16.405545Z",
     "start_time": "2020-10-30T23:35:16.374770Z"
    }
   },
   "outputs": [],
   "source": [
    "# CHANGE ME!\n",
    "TASK_ID = 'youngest_over_35'\n",
    "AUTHOR = 'will'"
   ]
  },
  {
   "cell_type": "code",
   "execution_count": 3,
   "metadata": {
    "ExecuteTime": {
     "end_time": "2020-10-30T23:35:16.435788Z",
     "start_time": "2020-10-30T23:35:16.410123Z"
    }
   },
   "outputs": [],
   "source": [
    "task = Task(\n",
    "    id=TASK_ID,\n",
    "    description=\"Find the name of the youngest person over 35\",\n",
    "    plan=[\n",
    "        Plan(id=\"filter\", description=\"Filter >35\"),\n",
    "        Plan(id=\"min\", description=\"Min by age\"),\n",
    "        Plan(id=\"name\", description=\"Get the name\"),\n",
    "    ],\n",
    "    sample_input={\n",
    "        \"people\": [\n",
    "            {\"age\": 35, \"name\": \"John\"},\n",
    "            {\"age\": 36, \"name\": \"Mary\"},\n",
    "            {\"age\": 37, \"name\": \"Jane\"},\n",
    "        ]\n",
    "    },\n",
    "    sample_output=\"Mary\",\n",
    ")\n",
    "task.save()\n",
    "\n",
    "prototype = Program(\n",
    "    task=TASK_ID,\n",
    "    author=AUTHOR,\n",
    "    language=''    \n",
    ")"
   ]
  },
  {
   "cell_type": "code",
   "execution_count": 17,
   "metadata": {
    "ExecuteTime": {
     "end_time": "2020-10-30T23:51:36.011741Z",
     "start_time": "2020-10-30T23:51:35.978378Z"
    }
   },
   "outputs": [],
   "source": [
    "python_imperative_fused = replace(prototype,\n",
    "    language='python-imperative',\n",
    "    implementation='fused',\n",
    "    source='''def youngest_over_35(people):\n",
    "  youngest = None\n",
    "  for person in people:\n",
    "    if person['age'] > 35 and (youngest is None or person['age'] < youngest['age']):\n",
    "      youngest = person\n",
    "  return youngest['name'] if youngest is not None else None''').load_plan()\n",
    "python_imperative_fused.execute(task)\n",
    "python_imperative_fused.save()"
   ]
  },
  {
   "cell_type": "code",
   "execution_count": 18,
   "metadata": {
    "ExecuteTime": {
     "end_time": "2020-10-30T23:51:36.811792Z",
     "start_time": "2020-10-30T23:51:36.777775Z"
    },
    "scrolled": false
   },
   "outputs": [
    {
     "data": {
      "application/vnd.jupyter.widget-view+json": {
       "model_id": "7ad59f7baccd4fce8851b9eed0b41f82",
       "version_major": 2,
       "version_minor": 0
      },
      "text/plain": [
       "Output()"
      ]
     },
     "metadata": {},
     "output_type": "display_data"
    },
    {
     "data": {
      "application/vnd.jupyter.widget-view+json": {
       "model_id": "85a61ff4d45e42d89a8301949f60b2f4",
       "version_major": 2,
       "version_minor": 0
      },
      "text/plain": [
       "CodeWidget(program='{\"task\": \"youngest_over_35\", \"language\": \"python-imperative\", \"plan\": {\"filter\": [{\"line\":…"
      ]
     },
     "metadata": {},
     "output_type": "display_data"
    }
   ],
   "source": [
    "widget = python_imperative_fused.widget(task)\n",
    "widget"
   ]
  },
  {
   "cell_type": "code",
   "execution_count": null,
   "metadata": {
    "ExecuteTime": {
     "end_time": "2020-10-30T20:25:52.980952Z",
     "start_time": "2020-10-30T20:25:52.951125Z"
    }
   },
   "outputs": [],
   "source": [
    "python_imperative_separate = replace(prototype,\n",
    "    language='python-imperative',\n",
    "    implementation='separate',\n",
    "    source='''def youngest_over_35(people):\n",
    "  over_35 = []\n",
    "  for person in people:\n",
    "    if person['age'] > 35:\n",
    "      over_35.append(person)\n",
    "    \n",
    "  youngest = None\n",
    "  for person in over_35:\n",
    "    if youngest is None or person['age'] < youngest['age']:\n",
    "      youngest = person\n",
    "  return youngest['name'] if youngest is not None else None''').load_plan()\n",
    "python_imperative_separate.execute(task)\n",
    "python_imperative_separate.save()"
   ]
  },
  {
   "cell_type": "code",
   "execution_count": null,
   "metadata": {
    "ExecuteTime": {
     "end_time": "2020-10-30T20:49:48.561318Z",
     "start_time": "2020-10-30T20:49:48.533118Z"
    }
   },
   "outputs": [],
   "source": [
    "#python_imperative_separate.widget(task)"
   ]
  },
  {
   "cell_type": "code",
   "execution_count": null,
   "metadata": {
    "ExecuteTime": {
     "end_time": "2020-10-30T20:25:48.956155Z",
     "start_time": "2020-10-30T20:25:48.921333Z"
    }
   },
   "outputs": [],
   "source": [
    "python_functional = replace(prototype,\n",
    "    language='python-functional',\n",
    "    source='''def youngest_over_35(people):\n",
    "  over_35 = [p for p in people if p['age'] > 35]\n",
    "  youngest = min(over_35, default=None, key=lambda p: p['age'])\n",
    "  return youngest['name'] if youngest is not None else None''').load_plan()\n",
    "python_functional.execute(task)\n",
    "python_functional.save()"
   ]
  },
  {
   "cell_type": "code",
   "execution_count": null,
   "metadata": {
    "ExecuteTime": {
     "end_time": "2020-10-30T20:49:51.630200Z",
     "start_time": "2020-10-30T20:49:51.601065Z"
    }
   },
   "outputs": [],
   "source": [
    "#python_functional.widget(task)"
   ]
  },
  {
   "cell_type": "code",
   "execution_count": null,
   "metadata": {
    "ExecuteTime": {
     "end_time": "2020-10-30T20:26:04.740666Z",
     "start_time": "2020-10-30T20:26:04.705901Z"
    }
   },
   "outputs": [],
   "source": [
    "python_pandas = replace(prototype,\n",
    "    language='python-pandas',\n",
    "    source='''def youngest_over_35(people):\n",
    "  over_35 = people[people.age > 35]\n",
    "  youngest = over_35.loc[over_35.age.idxmin()]\n",
    "  return youngest['name']''').load_plan()\n",
    "python_pandas.execute(task)\n",
    "python_pandas.save()"
   ]
  },
  {
   "cell_type": "code",
   "execution_count": null,
   "metadata": {
    "ExecuteTime": {
     "end_time": "2020-10-30T20:49:54.188935Z",
     "start_time": "2020-10-30T20:49:54.166083Z"
    }
   },
   "outputs": [],
   "source": [
    "#python_pandas.widget(task)"
   ]
  },
  {
   "cell_type": "code",
   "execution_count": null,
   "metadata": {
    "ExecuteTime": {
     "end_time": "2020-10-30T20:26:25.948946Z",
     "start_time": "2020-10-30T20:26:25.894656Z"
    }
   },
   "outputs": [],
   "source": [
    "sql = replace(prototype,\n",
    "    language='sql',\n",
    "    source='''SELECT name\n",
    "FROM people\n",
    "WHERE age = (\n",
    "  SELECT MIN(age)\n",
    "  FROM people\n",
    "  WHERE age > 35)\n",
    "LIMIT 1''').load_plan()\n",
    "sql.execute(task)\n",
    "sql.save()"
   ]
  },
  {
   "cell_type": "code",
   "execution_count": null,
   "metadata": {
    "ExecuteTime": {
     "end_time": "2020-10-30T20:49:56.644958Z",
     "start_time": "2020-10-30T20:49:56.623535Z"
    }
   },
   "outputs": [],
   "source": [
    "#sql.widget(task)"
   ]
  },
  {
   "cell_type": "code",
   "execution_count": null,
   "metadata": {
    "ExecuteTime": {
     "end_time": "2020-10-30T20:27:27.126083Z",
     "start_time": "2020-10-30T20:27:26.971838Z"
    }
   },
   "outputs": [],
   "source": [
    "datalog = replace(prototype,\n",
    "    language='datalog',\n",
    "    source='''\n",
    "youngest_over_35(Name) :- people(Age, Name), Age = min Age : { people(Age, _), Age > 35 }.\n",
    "    ''').load_plan()\n",
    "datalog.execute(task)\n",
    "datalog.save()"
   ]
  },
  {
   "cell_type": "code",
   "execution_count": null,
   "metadata": {
    "ExecuteTime": {
     "end_time": "2020-10-30T20:49:58.515546Z",
     "start_time": "2020-10-30T20:49:58.493284Z"
    }
   },
   "outputs": [],
   "source": [
    "#datalog.widget(task)"
   ]
  }
 ],
 "metadata": {
  "kernelspec": {
   "display_name": "Python 3",
   "language": "python",
   "name": "python3"
  },
  "language_info": {
   "codemirror_mode": {
    "name": "ipython",
    "version": 3
   },
   "file_extension": ".py",
   "mimetype": "text/x-python",
   "name": "python",
   "nbconvert_exporter": "python",
   "pygments_lexer": "ipython3",
   "version": "3.8.5"
  },
  "toc": {
   "base_numbering": 1,
   "nav_menu": {},
   "number_sections": true,
   "sideBar": true,
   "skip_h1_title": false,
   "title_cell": "Table of Contents",
   "title_sidebar": "Contents",
   "toc_cell": false,
   "toc_position": {},
   "toc_section_display": true,
   "toc_window_display": false
  },
  "varInspector": {
   "cols": {
    "lenName": 16,
    "lenType": 16,
    "lenVar": 40
   },
   "kernels_config": {
    "python": {
     "delete_cmd_postfix": "",
     "delete_cmd_prefix": "del ",
     "library": "var_list.py",
     "varRefreshCmd": "print(var_dic_list())"
    },
    "r": {
     "delete_cmd_postfix": ") ",
     "delete_cmd_prefix": "rm(",
     "library": "var_list.r",
     "varRefreshCmd": "cat(var_dic_list()) "
    }
   },
   "types_to_exclude": [
    "module",
    "function",
    "builtin_function_or_method",
    "instance",
    "_Feature"
   ],
   "window_display": false
  }
 },
 "nbformat": 4,
 "nbformat_minor": 4
}
