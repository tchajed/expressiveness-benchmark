{
 "cells": [
  {
   "cell_type": "code",
   "execution_count": 3,
   "metadata": {
    "ExecuteTime": {
     "end_time": "2020-10-29T22:01:11.511244Z",
     "start_time": "2020-10-29T22:01:11.489011Z"
    }
   },
   "outputs": [
    {
     "name": "stdout",
     "output_type": "stream",
     "text": [
      "The autoreload extension is already loaded. To reload it, use:\n",
      "  %reload_ext autoreload\n"
     ]
    }
   ],
   "source": [
    "%load_ext autoreload\n",
    "%autoreload 2\n",
    "from expressiveness_benchmark.types import Plan, Task, Language, SourceRange, Program, load_all_programs\n",
    "from code_widget.example import CodeWidget\n",
    "from dataclasses import replace\n",
    "import json\n",
    "import pandas as pd"
   ]
  },
  {
   "cell_type": "code",
   "execution_count": 4,
   "metadata": {
    "ExecuteTime": {
     "end_time": "2020-10-29T22:01:11.536939Z",
     "start_time": "2020-10-29T22:01:11.514173Z"
    }
   },
   "outputs": [],
   "source": [
    "# CHANGE ME!\n",
    "TASK_ID = 'youngest_over_35'\n",
    "AUTHOR = 'will'"
   ]
  },
  {
   "cell_type": "code",
   "execution_count": 5,
   "metadata": {
    "ExecuteTime": {
     "end_time": "2020-10-29T22:01:11.574503Z",
     "start_time": "2020-10-29T22:01:11.542403Z"
    }
   },
   "outputs": [],
   "source": [
    "task = Task(\n",
    "    id=TASK_ID,\n",
    "    description=\"Find the name of the youngest person over 35\",\n",
    "    plan=[\n",
    "        Plan(id=\"filter\", description=\"Filter >35\"),\n",
    "        Plan(id=\"min\", description=\"Min by age\"),\n",
    "        Plan(id=\"name\", description=\"Get the name\"),\n",
    "    ],\n",
    "    sample_input={\n",
    "        \"people\": [\n",
    "            {\"age\": 35, \"name\": \"John\"},\n",
    "            {\"age\": 36, \"name\": \"Mary\"},\n",
    "            {\"age\": 37, \"name\": \"Jane\"},\n",
    "        ]\n",
    "    },\n",
    "    sample_output=\"Mary\",\n",
    ")\n",
    "task.save()\n",
    "\n",
    "prototype = Program(\n",
    "    task=TASK_ID,\n",
    "    author=AUTHOR,\n",
    "    language=''    \n",
    ")"
   ]
  },
  {
   "cell_type": "code",
   "execution_count": 6,
   "metadata": {
    "ExecuteTime": {
     "end_time": "2020-10-29T22:01:11.612146Z",
     "start_time": "2020-10-29T22:01:11.578405Z"
    }
   },
   "outputs": [],
   "source": [
    "python_imperative_fused = replace(prototype,\n",
    "    language='python-imperative',\n",
    "    implementation='fused',\n",
    "    source='''def youngest_over_35(people):\n",
    "  youngest = None\n",
    "  for person in people:\n",
    "    if person['age'] > 35 and (youngest is None or person['age'] < youngest['age']):\n",
    "      youngest = person\n",
    "  return youngest['name'] if youngest is not None else None''')\n",
    "python_imperative_fused.execute(task)\n",
    "python_imperative_fused.save()"
   ]
  },
  {
   "cell_type": "code",
   "execution_count": 7,
   "metadata": {
    "ExecuteTime": {
     "end_time": "2020-10-29T22:01:11.641208Z",
     "start_time": "2020-10-29T22:01:11.614683Z"
    }
   },
   "outputs": [],
   "source": [
    "python_imperative_separate = replace(prototype,\n",
    "    language='python-imperative',\n",
    "    implementation='separate',\n",
    "    source='''def youngest_over_35(people):\n",
    "  over_35 = []\n",
    "  for person in people:\n",
    "    if person['age'] > 35:\n",
    "      over_35.append(person)\n",
    "    \n",
    "  youngest = None\n",
    "  for person in over_35:\n",
    "    if youngest is None or person['age'] < youngest['age']:\n",
    "      youngest = person\n",
    "  return youngest['name'] if youngest is not None else None''')\n",
    "python_imperative_separate.execute(task)\n",
    "python_imperative_separate.save()"
   ]
  },
  {
   "cell_type": "code",
   "execution_count": 8,
   "metadata": {
    "ExecuteTime": {
     "end_time": "2020-10-29T22:01:11.666991Z",
     "start_time": "2020-10-29T22:01:11.643131Z"
    }
   },
   "outputs": [],
   "source": [
    "python_functional = replace(prototype,\n",
    "    language='python-functional',\n",
    "    source='''def youngest_over_35(people):\n",
    "  over_35 = [p for p in people if p['age'] > 35]\n",
    "  youngest = min(over_35, default=None, key=lambda p: p['age'])\n",
    "  return youngest['name'] if youngest is not None else None''')\n",
    "python_functional.execute(task)\n",
    "python_functional.save()"
   ]
  },
  {
   "cell_type": "code",
   "execution_count": 9,
   "metadata": {
    "ExecuteTime": {
     "end_time": "2020-10-29T22:01:11.696481Z",
     "start_time": "2020-10-29T22:01:11.669574Z"
    }
   },
   "outputs": [],
   "source": [
    "python_pandas = replace(prototype,\n",
    "    language='python-pandas',\n",
    "    source='''def youngest_over_35(people):\n",
    "  over_35 = people[people.age > 35]\n",
    "  youngest = over_35.loc[over_35.age.idxmin()]\n",
    "  return youngest['name']''')\n",
    "python_pandas.execute(task)\n",
    "python_pandas.save()"
   ]
  },
  {
   "cell_type": "code",
   "execution_count": 10,
   "metadata": {
    "ExecuteTime": {
     "end_time": "2020-10-29T22:01:11.725790Z",
     "start_time": "2020-10-29T22:01:11.699898Z"
    }
   },
   "outputs": [],
   "source": [
    "sql = replace(prototype,\n",
    "    language='sql',\n",
    "    source='''SELECT name\n",
    "FROM people\n",
    "WHERE age = (\n",
    "  SELECT MIN(age)\n",
    "  FROM people\n",
    "  WHERE age > 35)\n",
    "LIMIT 1''')\n",
    "sql.execute(task)\n",
    "sql.save()"
   ]
  },
  {
   "cell_type": "code",
   "execution_count": 11,
   "metadata": {
    "ExecuteTime": {
     "end_time": "2020-10-29T22:01:11.803694Z",
     "start_time": "2020-10-29T22:01:11.728957Z"
    }
   },
   "outputs": [],
   "source": [
    "datalog = replace(prototype,\n",
    "    language='datalog',\n",
    "    source='''\n",
    "youngest_over_35(name) :- people(age, name), age = min age : { people(age, _), age > 35 }.\n",
    "    ''')\n",
    "datalog.execute(task)\n",
    "datalog.save()"
   ]
  }
 ],
 "metadata": {
  "kernelspec": {
   "display_name": "Python 3",
   "language": "python",
   "name": "python3"
  },
  "language_info": {
   "codemirror_mode": {
    "name": "ipython",
    "version": 3
   },
   "file_extension": ".py",
   "mimetype": "text/x-python",
   "name": "python",
   "nbconvert_exporter": "python",
   "pygments_lexer": "ipython3",
   "version": "3.8.5"
  },
  "toc": {
   "base_numbering": 1,
   "nav_menu": {},
   "number_sections": true,
   "sideBar": true,
   "skip_h1_title": false,
   "title_cell": "Table of Contents",
   "title_sidebar": "Contents",
   "toc_cell": false,
   "toc_position": {},
   "toc_section_display": true,
   "toc_window_display": false
  },
  "varInspector": {
   "cols": {
    "lenName": 16,
    "lenType": 16,
    "lenVar": 40
   },
   "kernels_config": {
    "python": {
     "delete_cmd_postfix": "",
     "delete_cmd_prefix": "del ",
     "library": "var_list.py",
     "varRefreshCmd": "print(var_dic_list())"
    },
    "r": {
     "delete_cmd_postfix": ") ",
     "delete_cmd_prefix": "rm(",
     "library": "var_list.r",
     "varRefreshCmd": "cat(var_dic_list()) "
    }
   },
   "types_to_exclude": [
    "module",
    "function",
    "builtin_function_or_method",
    "instance",
    "_Feature"
   ],
   "window_display": false
  }
 },
 "nbformat": 4,
 "nbformat_minor": 4
}
