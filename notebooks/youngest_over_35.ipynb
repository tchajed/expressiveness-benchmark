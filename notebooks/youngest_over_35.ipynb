{
 "cells": [
  {
   "cell_type": "code",
   "execution_count": 1,
   "metadata": {
    "ExecuteTime": {
     "end_time": "2020-11-01T22:47:52.119944Z",
     "start_time": "2020-11-01T22:47:51.610494Z"
    }
   },
   "outputs": [],
   "source": [
    "%load_ext autoreload\n",
    "%autoreload 2\n",
    "from expressiveness_benchmark.types import Plan, Task, Language, SourceRange, Program, load_all_programs\n",
    "from code_widget.example import CodeWidget\n",
    "from dataclasses import replace\n",
    "import json\n",
    "import pandas as pd"
   ]
  },
  {
   "cell_type": "code",
   "execution_count": 2,
   "metadata": {
    "ExecuteTime": {
     "end_time": "2020-11-01T22:47:52.223603Z",
     "start_time": "2020-11-01T22:47:52.198137Z"
    }
   },
   "outputs": [],
   "source": [
    "# CHANGE ME!\n",
    "TASK_ID = 'youngest_over_35'\n",
    "AUTHOR = 'will'"
   ]
  },
  {
   "cell_type": "code",
   "execution_count": 7,
   "metadata": {
    "ExecuteTime": {
     "end_time": "2020-11-02T22:20:42.709496Z",
     "start_time": "2020-11-02T22:20:42.686521Z"
    }
   },
   "outputs": [],
   "source": [
    "task = Task(\n",
    "    id=TASK_ID,\n",
    "    category=\"Basic\",\n",
    "    description=\"Name of the youngest person over 35\",\n",
    "    plan=[\n",
    "        Plan(id=\"filter\", description=\"Filter >35\"),\n",
    "        Plan(id=\"min\", description=\"Min by age\"),\n",
    "        Plan(id=\"name\", description=\"Get the name\"),\n",
    "    ],\n",
    "    sample_input={\n",
    "        \"people\": [\n",
    "            {\"age\": 35, \"name\": \"John\"},\n",
    "            {\"age\": 36, \"name\": \"Mary\"},\n",
    "            {\"age\": 37, \"name\": \"Jane\"},\n",
    "        ]\n",
    "    },\n",
    "    sample_output=\"Mary\",\n",
    ")\n",
    "task.save()\n",
    "\n",
    "prototype = Program(\n",
    "    task=TASK_ID,\n",
    "    author=AUTHOR,\n",
    "    language=''    \n",
    ")"
   ]
  },
  {
   "cell_type": "code",
   "execution_count": 4,
   "metadata": {
    "ExecuteTime": {
     "end_time": "2020-11-01T22:47:53.693364Z",
     "start_time": "2020-11-01T22:47:53.655277Z"
    }
   },
   "outputs": [],
   "source": [
    "python_imperative_fused = replace(prototype,\n",
    "    language='python-imperative',\n",
    "    implementation='fused',\n",
    "    source='''def youngest_over_35(people):\n",
    "  youngest = None\n",
    "  for person in people:\n",
    "    if person['age'] > 35 and (youngest is None or person['age'] < youngest['age']):\n",
    "      youngest = person\n",
    "  return youngest['name'] if youngest is not None else None''').load_plan()\n",
    "python_imperative_fused.execute(task)\n",
    "python_imperative_fused.save()"
   ]
  },
  {
   "cell_type": "code",
   "execution_count": 5,
   "metadata": {
    "ExecuteTime": {
     "end_time": "2020-11-01T22:47:54.323979Z",
     "start_time": "2020-11-01T22:47:54.282047Z"
    },
    "scrolled": false
   },
   "outputs": [
    {
     "data": {
      "application/vnd.jupyter.widget-view+json": {
       "model_id": "616494404d28426eb92cb945757cb471",
       "version_major": 2,
       "version_minor": 0
      },
      "text/plain": [
       "Output()"
      ]
     },
     "metadata": {},
     "output_type": "display_data"
    },
    {
     "data": {
      "application/vnd.jupyter.widget-view+json": {
       "model_id": "8ba605032c714c4798f801d018d24d4a",
       "version_major": 2,
       "version_minor": 0
      },
      "text/plain": [
       "CodeWidget(program='{\"task\": \"youngest_over_35\", \"language\": \"python-imperative\", \"plan\": {\"filter\": [{\"line\":…"
      ]
     },
     "metadata": {},
     "output_type": "display_data"
    }
   ],
   "source": [
    "python_imperative_fused.widget(task)"
   ]
  },
  {
   "cell_type": "code",
   "execution_count": null,
   "metadata": {
    "ExecuteTime": {
     "end_time": "2020-10-30T20:25:52.980952Z",
     "start_time": "2020-10-30T20:25:52.951125Z"
    }
   },
   "outputs": [],
   "source": [
    "python_imperative_separate = replace(prototype,\n",
    "    language='python-imperative',\n",
    "    implementation='separate',\n",
    "    source='''def youngest_over_35(people):\n",
    "  over_35 = []\n",
    "  for person in people:\n",
    "    if person['age'] > 35:\n",
    "      over_35.append(person)\n",
    "    \n",
    "  youngest = None\n",
    "  for person in over_35:\n",
    "    if youngest is None or person['age'] < youngest['age']:\n",
    "      youngest = person\n",
    "  return youngest['name'] if youngest is not None else None''').load_plan()\n",
    "python_imperative_separate.execute(task)\n",
    "python_imperative_separate.save()"
   ]
  },
  {
   "cell_type": "code",
   "execution_count": null,
   "metadata": {
    "ExecuteTime": {
     "end_time": "2020-10-30T20:49:48.561318Z",
     "start_time": "2020-10-30T20:49:48.533118Z"
    }
   },
   "outputs": [],
   "source": [
    "#python_imperative_separate.widget(task)"
   ]
  },
  {
   "cell_type": "code",
   "execution_count": null,
   "metadata": {
    "ExecuteTime": {
     "end_time": "2020-10-30T20:25:48.956155Z",
     "start_time": "2020-10-30T20:25:48.921333Z"
    }
   },
   "outputs": [],
   "source": [
    "python_functional = replace(prototype,\n",
    "    language='python-functional',\n",
    "    source='''def youngest_over_35(people):\n",
    "  over_35 = [p for p in people if p['age'] > 35]\n",
    "  youngest = min(over_35, default=None, key=lambda p: p['age'])\n",
    "  return youngest['name'] if youngest is not None else None''').load_plan()\n",
    "python_functional.execute(task)\n",
    "python_functional.save()"
   ]
  },
  {
   "cell_type": "code",
   "execution_count": 18,
   "metadata": {
    "ExecuteTime": {
     "end_time": "2020-11-02T23:05:59.904526Z",
     "start_time": "2020-11-02T23:05:59.874845Z"
    }
   },
   "outputs": [
    {
     "data": {
      "text/plain": [
       "array([188., 189.,  34.])"
      ]
     },
     "execution_count": 18,
     "metadata": {},
     "output_type": "execute_result"
    }
   ],
   "source": [
    "import seaborn as sns\n",
    "import numpy as np\n",
    "255 * np.array(sns.color_palette('tab10')[8])"
   ]
  },
  {
   "cell_type": "code",
   "execution_count": null,
   "metadata": {
    "ExecuteTime": {
     "end_time": "2020-10-30T20:49:51.630200Z",
     "start_time": "2020-10-30T20:49:51.601065Z"
    }
   },
   "outputs": [],
   "source": [
    "#python_functional.widget(task)"
   ]
  },
  {
   "cell_type": "code",
   "execution_count": null,
   "metadata": {
    "ExecuteTime": {
     "end_time": "2020-10-30T20:26:04.740666Z",
     "start_time": "2020-10-30T20:26:04.705901Z"
    }
   },
   "outputs": [],
   "source": [
    "python_pandas = replace(prototype,\n",
    "    language='python-pandas',\n",
    "    source='''def youngest_over_35(people):\n",
    "  over_35 = people[people.age > 35]\n",
    "  youngest = over_35.loc[over_35.age.idxmin()]\n",
    "  return youngest['name']''').load_plan()\n",
    "python_pandas.execute(task)\n",
    "python_pandas.save()"
   ]
  },
  {
   "cell_type": "code",
   "execution_count": null,
   "metadata": {
    "ExecuteTime": {
     "end_time": "2020-10-30T20:49:54.188935Z",
     "start_time": "2020-10-30T20:49:54.166083Z"
    }
   },
   "outputs": [],
   "source": [
    "#python_pandas.widget(task)"
   ]
  },
  {
   "cell_type": "code",
   "execution_count": null,
   "metadata": {
    "ExecuteTime": {
     "end_time": "2020-10-30T20:26:25.948946Z",
     "start_time": "2020-10-30T20:26:25.894656Z"
    }
   },
   "outputs": [],
   "source": [
    "sql = replace(prototype,\n",
    "    language='sql',\n",
    "    source='''SELECT name\n",
    "FROM people\n",
    "WHERE age = (\n",
    "  SELECT MIN(age)\n",
    "  FROM people\n",
    "  WHERE age > 35)\n",
    "LIMIT 1''').load_plan()\n",
    "sql.execute(task)\n",
    "sql.save()"
   ]
  },
  {
   "cell_type": "code",
   "execution_count": null,
   "metadata": {
    "ExecuteTime": {
     "end_time": "2020-10-30T20:49:56.644958Z",
     "start_time": "2020-10-30T20:49:56.623535Z"
    }
   },
   "outputs": [],
   "source": [
    "#sql.widget(task)"
   ]
  },
  {
   "cell_type": "code",
   "execution_count": 9,
   "metadata": {
    "ExecuteTime": {
     "end_time": "2020-11-02T22:26:44.715323Z",
     "start_time": "2020-11-02T22:26:44.627498Z"
    }
   },
   "outputs": [],
   "source": [
    "datalog = replace(prototype,\n",
    "    language='datalog',\n",
    "    source='''youngest_over_35(Name) :- \n",
    "  people(Age, Name), \n",
    "  Age = min Age : { people(Age, _), Age > 35 }.''').load_plan()\n",
    "datalog.execute(task)\n",
    "datalog.save()"
   ]
  },
  {
   "cell_type": "code",
   "execution_count": null,
   "metadata": {
    "ExecuteTime": {
     "end_time": "2020-10-30T20:49:58.515546Z",
     "start_time": "2020-10-30T20:49:58.493284Z"
    }
   },
   "outputs": [],
   "source": [
    "#datalog.widget(task)"
   ]
  }
 ],
 "metadata": {
  "kernelspec": {
   "display_name": "Python 3",
   "language": "python",
   "name": "python3"
  },
  "language_info": {
   "codemirror_mode": {
    "name": "ipython",
    "version": 3
   },
   "file_extension": ".py",
   "mimetype": "text/x-python",
   "name": "python",
   "nbconvert_exporter": "python",
   "pygments_lexer": "ipython3",
   "version": "3.8.5"
  },
  "toc": {
   "base_numbering": 1,
   "nav_menu": {},
   "number_sections": true,
   "sideBar": true,
   "skip_h1_title": false,
   "title_cell": "Table of Contents",
   "title_sidebar": "Contents",
   "toc_cell": false,
   "toc_position": {},
   "toc_section_display": true,
   "toc_window_display": false
  },
  "varInspector": {
   "cols": {
    "lenName": 16,
    "lenType": 16,
    "lenVar": 40
   },
   "kernels_config": {
    "python": {
     "delete_cmd_postfix": "",
     "delete_cmd_prefix": "del ",
     "library": "var_list.py",
     "varRefreshCmd": "print(var_dic_list())"
    },
    "r": {
     "delete_cmd_postfix": ") ",
     "delete_cmd_prefix": "rm(",
     "library": "var_list.r",
     "varRefreshCmd": "cat(var_dic_list()) "
    }
   },
   "types_to_exclude": [
    "module",
    "function",
    "builtin_function_or_method",
    "instance",
    "_Feature"
   ],
   "window_display": false
  }
 },
 "nbformat": 4,
 "nbformat_minor": 4
}
