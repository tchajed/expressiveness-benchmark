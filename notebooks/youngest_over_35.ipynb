{
 "cells": [
  {
   "cell_type": "code",
   "execution_count": 3,
   "metadata": {
    "ExecuteTime": {
     "end_time": "2020-12-18T22:32:22.005962Z",
     "start_time": "2020-12-18T22:32:21.633563Z"
    }
   },
   "outputs": [],
   "source": [
    "%load_ext autoreload\n",
    "%autoreload 2\n",
    "from expressiveness_benchmark.types import Plan, Task, Language, SourceRange, Program\n",
    "from code_widget.example import CodeWidget\n",
    "from dataclasses import replace\n",
    "import json\n",
    "import pandas as pd"
   ]
  },
  {
   "cell_type": "code",
   "execution_count": 2,
   "metadata": {
    "ExecuteTime": {
     "end_time": "2020-12-18T22:32:19.988628Z",
     "start_time": "2020-12-18T22:32:19.229448Z"
    }
   },
   "outputs": [
    {
     "name": "stdout",
     "output_type": "stream",
     "text": [
      ".color-0 {\n",
      "  background-image: repeating-linear-gradient(45deg, rgb(161, 201, 244) 0px, rgb(161, 201, 244) 10px)\n",
      "}\n",
      ".color-1 {\n",
      "  background-image: repeating-linear-gradient(45deg, rgb(255, 180, 130) 0px, rgb(255, 180, 130) 10px)\n",
      "}\n",
      ".color-2 {\n",
      "  background-image: repeating-linear-gradient(45deg, rgb(141, 229, 161) 0px, rgb(141, 229, 161) 10px)\n",
      "}\n",
      ".color-3 {\n",
      "  background-image: repeating-linear-gradient(45deg, rgb(255, 159, 155) 0px, rgb(255, 159, 155) 10px)\n",
      "}\n",
      ".color-4 {\n",
      "  background-image: repeating-linear-gradient(45deg, rgb(208, 187, 255) 0px, rgb(208, 187, 255) 10px)\n",
      "}\n",
      ".color-0-1 {\n",
      "  background-image: repeating-linear-gradient(45deg, rgb(161, 201, 244) 0px, rgb(161, 201, 244) 10px, rgb(255, 180, 130) 10px, rgb(255, 180, 130) 20px)\n",
      "}\n",
      ".color-0-2 {\n",
      "  background-image: repeating-linear-gradient(45deg, rgb(161, 201, 244) 0px, rgb(161, 201, 244) 10px, rgb(141, 229, 161) 10px, rgb(141, 229, 161) 20px)\n",
      "}\n",
      ".color-0-3 {\n",
      "  background-image: repeating-linear-gradient(45deg, rgb(161, 201, 244) 0px, rgb(161, 201, 244) 10px, rgb(255, 159, 155) 10px, rgb(255, 159, 155) 20px)\n",
      "}\n",
      ".color-0-4 {\n",
      "  background-image: repeating-linear-gradient(45deg, rgb(161, 201, 244) 0px, rgb(161, 201, 244) 10px, rgb(208, 187, 255) 10px, rgb(208, 187, 255) 20px)\n",
      "}\n",
      ".color-1-2 {\n",
      "  background-image: repeating-linear-gradient(45deg, rgb(255, 180, 130) 0px, rgb(255, 180, 130) 10px, rgb(141, 229, 161) 10px, rgb(141, 229, 161) 20px)\n",
      "}\n",
      ".color-1-3 {\n",
      "  background-image: repeating-linear-gradient(45deg, rgb(255, 180, 130) 0px, rgb(255, 180, 130) 10px, rgb(255, 159, 155) 10px, rgb(255, 159, 155) 20px)\n",
      "}\n",
      ".color-1-4 {\n",
      "  background-image: repeating-linear-gradient(45deg, rgb(255, 180, 130) 0px, rgb(255, 180, 130) 10px, rgb(208, 187, 255) 10px, rgb(208, 187, 255) 20px)\n",
      "}\n",
      ".color-2-3 {\n",
      "  background-image: repeating-linear-gradient(45deg, rgb(141, 229, 161) 0px, rgb(141, 229, 161) 10px, rgb(255, 159, 155) 10px, rgb(255, 159, 155) 20px)\n",
      "}\n",
      ".color-2-4 {\n",
      "  background-image: repeating-linear-gradient(45deg, rgb(141, 229, 161) 0px, rgb(141, 229, 161) 10px, rgb(208, 187, 255) 10px, rgb(208, 187, 255) 20px)\n",
      "}\n",
      ".color-3-4 {\n",
      "  background-image: repeating-linear-gradient(45deg, rgb(255, 159, 155) 0px, rgb(255, 159, 155) 10px, rgb(208, 187, 255) 10px, rgb(208, 187, 255) 20px)\n",
      "}\n"
     ]
    }
   ],
   "source": [
    "import seaborn\n",
    "import itertools\n",
    "palette = seaborn.color_palette('pastel')[:5]\n",
    "for c in range(1, 2+1):\n",
    "    for idxs in itertools.combinations(range(len(palette)), c):\n",
    "        colors = [f'rgb({round(r*255)}, {round(g*255)}, {round(b*255)})'\n",
    "                  for (r, g, b) in [palette[i] for i in idxs]]\n",
    "        incr = 10\n",
    "        gradient = [f'{colors[i]} {i*incr}px, {colors[i]} {(i+1)*incr}px'\n",
    "                    for i in range(len(colors))]\n",
    "        print(f\"\"\"\n",
    ".color-{\"-\".join(map(str, idxs))} {{\n",
    "  background-image: repeating-linear-gradient(45deg, {\", \".join(gradient)})\n",
    "}}\n",
    "\"\"\".strip())"
   ]
  },
  {
   "cell_type": "code",
   "execution_count": 4,
   "metadata": {
    "ExecuteTime": {
     "end_time": "2020-12-18T22:32:23.645777Z",
     "start_time": "2020-12-18T22:32:23.619534Z"
    }
   },
   "outputs": [],
   "source": [
    "# CHANGE ME!\n",
    "TASK_ID = 'youngest_over_35'\n",
    "AUTHOR = 'will'"
   ]
  },
  {
   "cell_type": "code",
   "execution_count": 5,
   "metadata": {
    "ExecuteTime": {
     "end_time": "2020-12-18T22:32:24.003495Z",
     "start_time": "2020-12-18T22:32:23.974278Z"
    }
   },
   "outputs": [],
   "source": [
    "task = Task(\n",
    "    id=TASK_ID,\n",
    "    category=\"Aggregation\",\n",
    "    name=\"Youngest person over 35\",\n",
    "    description=\"Find the name of the youngest person older than 35, returning null if none exists.\",\n",
    "    plan=[\n",
    "        Plan(id=\"filter\", description=\"older than 35\"),\n",
    "        Plan(id=\"min\", description=\"youngest person\"),\n",
    "        Plan(id=\"name\", description=\"the name\"),\n",
    "        Plan(id=\"null\", description=\"returning null\")\n",
    "    ],\n",
    "    sample_input={\n",
    "        \"people\": [\n",
    "            {\"age\": 35, \"name\": \"John\"},\n",
    "            {\"age\": 36, \"name\": \"Mary\"},\n",
    "            {\"age\": 37, \"name\": \"Jane\"},\n",
    "        ]\n",
    "    },\n",
    "    sample_output=\"Mary\",\n",
    ")\n",
    "task.save()\n",
    "\n",
    "prototype = Program(\n",
    "    task=TASK_ID,\n",
    "    author=AUTHOR,\n",
    "    language=''    \n",
    ")"
   ]
  },
  {
   "cell_type": "code",
   "execution_count": 32,
   "metadata": {
    "ExecuteTime": {
     "end_time": "2020-12-15T17:29:02.086040Z",
     "start_time": "2020-12-15T17:28:56.815640Z"
    }
   },
   "outputs": [
    {
     "name": "stdout",
     "output_type": "stream",
     "text": [
      "/var/folders/6p/3bzglbgn2ts3v16zf_27zq3r0000gn/T/tmp_5ob_cpp\n"
     ]
    }
   ],
   "source": [
    "q = replace(prototype,\n",
    "    language='q',\n",
    "    source='''old_enough: select from people where age > 35\n",
    "youngest_over_35: select name from old_enough where age = min(age)''').load_plan()\n",
    "q.execute(task)\n",
    "q.save()"
   ]
  },
  {
   "cell_type": "code",
   "execution_count": 33,
   "metadata": {
    "ExecuteTime": {
     "end_time": "2020-12-15T17:29:03.820879Z",
     "start_time": "2020-12-15T17:29:03.784992Z"
    }
   },
   "outputs": [
    {
     "data": {
      "application/vnd.jupyter.widget-view+json": {
       "model_id": "7cd25fe408b949c6b956e8f5673b2547",
       "version_major": 2,
       "version_minor": 0
      },
      "text/plain": [
       "Output()"
      ]
     },
     "metadata": {},
     "output_type": "display_data"
    },
    {
     "data": {
      "application/vnd.jupyter.widget-view+json": {
       "model_id": "915c381a50174b16962ee30bfefa7037",
       "version_major": 2,
       "version_minor": 0
      },
      "text/plain": [
       "CodeWidget(program='{\"task\": \"youngest_over_35\", \"language\": \"q\", \"plan\": {}, \"source\": \"old_enough: select fr…"
      ]
     },
     "metadata": {},
     "output_type": "display_data"
    }
   ],
   "source": [
    "q.widget(task)"
   ]
  },
  {
   "cell_type": "code",
   "execution_count": null,
   "metadata": {
    "ExecuteTime": {
     "end_time": "2020-12-14T19:19:06.199192Z",
     "start_time": "2020-12-14T19:19:06.137160Z"
    }
   },
   "outputs": [],
   "source": [
    "r = replace(prototype,\n",
    "    language='r',\n",
    "    source='''youngest_over_35 <- function(people) {\n",
    "  people %>%\n",
    "    filter(age > 35) %>%\n",
    "    slice(which.min(age)) %>%\n",
    "    pull(name)\n",
    "}''').load_plan()\n",
    "r.execute(task)\n",
    "#r.save()"
   ]
  },
  {
   "cell_type": "code",
   "execution_count": null,
   "metadata": {
    "ExecuteTime": {
     "end_time": "2020-12-10T00:15:56.771202Z",
     "start_time": "2020-12-10T00:15:56.737089Z"
    }
   },
   "outputs": [],
   "source": [
    "r.widget(task)"
   ]
  },
  {
   "cell_type": "code",
   "execution_count": null,
   "metadata": {
    "ExecuteTime": {
     "end_time": "2020-12-14T19:19:53.335518Z",
     "start_time": "2020-12-14T19:19:53.276873Z"
    }
   },
   "outputs": [],
   "source": [
    "python_imperative_fused = replace(prototype,\n",
    "    language='python-imperative',\n",
    "    implementation='fused',\n",
    "    source='''def youngest_over_35(people):\n",
    "  youngest = None\n",
    "  for person in people:\n",
    "    if (person['age'] > 35 and \n",
    "       (youngest is None or person['age'] < youngest['age'])):\n",
    "      youngest = person\n",
    "  return youngest['name'] if youngest is not None else None''').load_plan()\n",
    "python_imperative_fused.execute(task)\n",
    "python_imperative_fused.save()"
   ]
  },
  {
   "cell_type": "code",
   "execution_count": null,
   "metadata": {
    "ExecuteTime": {
     "end_time": "2020-11-15T00:45:07.565243Z",
     "start_time": "2020-11-15T00:45:07.527348Z"
    },
    "scrolled": false
   },
   "outputs": [],
   "source": [
    "python_imperative_fused.widget(task)"
   ]
  },
  {
   "cell_type": "code",
   "execution_count": null,
   "metadata": {
    "ExecuteTime": {
     "end_time": "2020-12-14T19:19:56.727770Z",
     "start_time": "2020-12-14T19:19:56.689079Z"
    }
   },
   "outputs": [],
   "source": [
    "python_imperative_separate = replace(prototype,\n",
    "    language='python-imperative',\n",
    "    implementation='separate',\n",
    "    source='''def youngest_over_35(people):\n",
    "  over_35 = []\n",
    "  for person in people:\n",
    "    if person['age'] > 35:\n",
    "      over_35.append(person)\n",
    "    \n",
    "  youngest = None\n",
    "  for person in over_35:\n",
    "    if youngest is None or person['age'] < youngest['age']:\n",
    "      youngest = person\n",
    "  return youngest['name'] if youngest is not None else None''').load_plan()\n",
    "python_imperative_separate.execute(task)\n",
    "python_imperative_separate.save()"
   ]
  },
  {
   "cell_type": "code",
   "execution_count": null,
   "metadata": {
    "ExecuteTime": {
     "end_time": "2020-11-15T00:45:38.107858Z",
     "start_time": "2020-11-15T00:45:38.059455Z"
    }
   },
   "outputs": [],
   "source": [
    "python_imperative_separate.widget(task)"
   ]
  },
  {
   "cell_type": "code",
   "execution_count": null,
   "metadata": {
    "ExecuteTime": {
     "end_time": "2020-12-14T19:19:57.616766Z",
     "start_time": "2020-12-14T19:19:57.579359Z"
    }
   },
   "outputs": [],
   "source": [
    "python_functional = replace(prototype,\n",
    "    language='python-functional',\n",
    "    source='''def youngest_over_35(people):\n",
    "  over_35 = [p for p in people if p['age'] > 35]\n",
    "  youngest = min(over_35, default=None, key=lambda p: p['age'])\n",
    "  return youngest['name'] if youngest is not None else None''').load_plan()\n",
    "python_functional.execute(task)\n",
    "python_functional.save()"
   ]
  },
  {
   "cell_type": "code",
   "execution_count": null,
   "metadata": {
    "ExecuteTime": {
     "end_time": "2020-11-15T00:45:44.346486Z",
     "start_time": "2020-11-15T00:45:44.310515Z"
    }
   },
   "outputs": [],
   "source": [
    "python_functional.widget(task)"
   ]
  },
  {
   "cell_type": "code",
   "execution_count": null,
   "metadata": {
    "ExecuteTime": {
     "end_time": "2020-12-14T19:19:58.685164Z",
     "start_time": "2020-12-14T19:19:58.642797Z"
    }
   },
   "outputs": [],
   "source": [
    "python_pandas = replace(prototype,\n",
    "    language='python-pandas',\n",
    "    source='''def youngest_over_35(people):\n",
    "  over_35 = people[people.age > 35]\n",
    "  if len(over_35) == 0: \n",
    "    return None\n",
    "  else:\n",
    "    youngest = over_35.loc[over_35.age.idxmin()]\n",
    "    return youngest['name']''').load_plan()\n",
    "python_pandas.execute(task)\n",
    "python_pandas.save()"
   ]
  },
  {
   "cell_type": "code",
   "execution_count": null,
   "metadata": {
    "ExecuteTime": {
     "end_time": "2020-11-15T00:45:46.571616Z",
     "start_time": "2020-11-15T00:45:46.531074Z"
    }
   },
   "outputs": [],
   "source": [
    "python_pandas.widget(task)"
   ]
  },
  {
   "cell_type": "code",
   "execution_count": null,
   "metadata": {
    "ExecuteTime": {
     "end_time": "2020-12-14T19:20:00.314743Z",
     "start_time": "2020-12-14T19:20:00.274854Z"
    }
   },
   "outputs": [],
   "source": [
    "sql = replace(prototype,\n",
    "    language='sql',\n",
    "    source='''SELECT name\n",
    "FROM people\n",
    "WHERE age = (\n",
    "  SELECT MIN(age)\n",
    "  FROM people\n",
    "  WHERE age > 35)\n",
    "LIMIT 1''').load_plan()\n",
    "sql.execute(task)\n",
    "sql.save()"
   ]
  },
  {
   "cell_type": "code",
   "execution_count": null,
   "metadata": {
    "ExecuteTime": {
     "end_time": "2020-11-15T00:45:48.154190Z",
     "start_time": "2020-11-15T00:45:48.119635Z"
    }
   },
   "outputs": [],
   "source": [
    "sql.widget(task)"
   ]
  },
  {
   "cell_type": "code",
   "execution_count": null,
   "metadata": {
    "ExecuteTime": {
     "end_time": "2020-12-14T19:20:09.306553Z",
     "start_time": "2020-12-14T19:20:09.155363Z"
    }
   },
   "outputs": [],
   "source": [
    "datalog = replace(prototype,\n",
    "    language='datalog',\n",
    "    source='''youngest_over_35(Name) :- \n",
    "  people(Age, Name), \n",
    "  Age = min Age : { people(Age, _), Age > 35 }.''').load_plan()\n",
    "datalog.execute(task)\n",
    "datalog.save()"
   ]
  },
  {
   "cell_type": "code",
   "execution_count": null,
   "metadata": {
    "ExecuteTime": {
     "end_time": "2020-11-15T00:45:49.343509Z",
     "start_time": "2020-11-15T00:45:49.310830Z"
    }
   },
   "outputs": [],
   "source": [
    "datalog.widget(task)"
   ]
  }
 ],
 "metadata": {
  "kernelspec": {
   "display_name": "Python 3",
   "language": "python",
   "name": "python3"
  },
  "language_info": {
   "codemirror_mode": {
    "name": "ipython",
    "version": 3
   },
   "file_extension": ".py",
   "mimetype": "text/x-python",
   "name": "python",
   "nbconvert_exporter": "python",
   "pygments_lexer": "ipython3",
   "version": "3.9.1"
  },
  "toc": {
   "base_numbering": 1,
   "nav_menu": {},
   "number_sections": true,
   "sideBar": true,
   "skip_h1_title": false,
   "title_cell": "Table of Contents",
   "title_sidebar": "Contents",
   "toc_cell": false,
   "toc_position": {},
   "toc_section_display": true,
   "toc_window_display": false
  },
  "varInspector": {
   "cols": {
    "lenName": 16,
    "lenType": 16,
    "lenVar": 40
   },
   "kernels_config": {
    "python": {
     "delete_cmd_postfix": "",
     "delete_cmd_prefix": "del ",
     "library": "var_list.py",
     "varRefreshCmd": "print(var_dic_list())"
    },
    "r": {
     "delete_cmd_postfix": ") ",
     "delete_cmd_prefix": "rm(",
     "library": "var_list.r",
     "varRefreshCmd": "cat(var_dic_list()) "
    }
   },
   "types_to_exclude": [
    "module",
    "function",
    "builtin_function_or_method",
    "instance",
    "_Feature"
   ],
   "window_display": false
  }
 },
 "nbformat": 4,
 "nbformat_minor": 4
}
