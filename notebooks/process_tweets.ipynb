{
 "cells": [
  {
   "cell_type": "code",
   "execution_count": 42,
   "metadata": {
    "ExecuteTime": {
     "end_time": "2020-12-30T21:04:19.891803Z",
     "start_time": "2020-12-30T21:04:19.861584Z"
    }
   },
   "outputs": [
    {
     "name": "stdout",
     "output_type": "stream",
     "text": [
      "The autoreload extension is already loaded. To reload it, use:\n",
      "  %reload_ext autoreload\n"
     ]
    }
   ],
   "source": [
    "%load_ext autoreload\n",
    "%autoreload 2\n",
    "from expressiveness_benchmark.types import Program, Task\n",
    "import pandas as pd\n",
    "from dataclasses import replace\n",
    "\n",
    "from code_widget.example import CodeWidget\n",
    "import json"
   ]
  },
  {
   "cell_type": "code",
   "execution_count": 43,
   "metadata": {
    "ExecuteTime": {
     "end_time": "2020-12-30T21:04:20.378012Z",
     "start_time": "2020-12-30T21:04:20.359683Z"
    }
   },
   "outputs": [],
   "source": [
    "# CHANGE ME!\n",
    "TASK_ID = 'process_tweets'\n",
    "AUTHOR = 'scott'"
   ]
  },
  {
   "cell_type": "code",
   "execution_count": 44,
   "metadata": {
    "ExecuteTime": {
     "end_time": "2020-12-30T21:04:20.856887Z",
     "start_time": "2020-12-30T21:04:20.825954Z"
    }
   },
   "outputs": [],
   "source": [
    "task = Task(\n",
    "    id=TASK_ID,\n",
    "    name=\"Filter and clean tweets\",\n",
    "    description=\"Select the lower-case body and timestamp of tweets that are in English and not retweets\",\n",
    "    category=\"Strings\",\n",
    "    plan=[{\n",
    "        \"id\": \"filter\",\n",
    "        \"description\": \"in English and not retweets\",\n",
    "    }, {\n",
    "        \"id\": \"lowercase\",\n",
    "        \"description\": \"lower-case\"\n",
    "    }, {\n",
    "        \"id\": \"select\",\n",
    "        \"description\": \"body and timestamp\"\n",
    "    }, {\n",
    "        \"id\": \"iter\",\n",
    "        \"description\": \"of tweets\",\n",
    "    }\n",
    "    ],\n",
    "    sample_input={\n",
    "        \"data\": [\n",
    "            {\"language\": \"en\", \"is_retweet\": \"false\", \"likes\": 8, \"body\": \"Some Text\", \"ts\": 1604534320 },\n",
    "            {\"language\": \"en\", \"is_retweet\": \"true\", \"likes\": 8, \"body\": \"some Text\", \"ts\": 1604534321 },\n",
    "            {\"language\": \"en\", \"is_retweet\": \"false\", \"likes\": 8, \"body\": \"some Text\", \"ts\": 1604534322 },\n",
    "            {\"language\": \"fr\", \"is_retweet\": \"false\", \"likes\": 8, \"body\": \"some Text\", \"ts\": 1604534322 }\n",
    "        ],\n",
    "    },\n",
    "    sample_output=[\n",
    "        { \"body\": \"some text\", \"ts\": 1604534320 },\n",
    "        { \"body\": \"some text\", \"ts\": 1604534322 },\n",
    "    ]\n",
    ")\n",
    "task.save()\n",
    "prototype = Program(\n",
    "    task=TASK_ID,\n",
    "    author=AUTHOR,\n",
    "    language=''\n",
    ")"
   ]
  },
  {
   "cell_type": "code",
   "execution_count": 47,
   "metadata": {
    "ExecuteTime": {
     "end_time": "2020-12-30T21:04:31.391553Z",
     "start_time": "2020-12-30T21:04:31.167383Z"
    }
   },
   "outputs": [],
   "source": [
    "q = replace(prototype,\n",
    "    language='q',\n",
    "    implementation='',\n",
    "    source='''process_tweets:\n",
    "  select lower[body], ts from data \n",
    "  where (is_retweet ~\\: \"false\") and (language ~\\: \"en\")''').load_plan()\n",
    "q.execute(task)\n",
    "q.save()"
   ]
  },
  {
   "cell_type": "code",
   "execution_count": 48,
   "metadata": {
    "ExecuteTime": {
     "end_time": "2020-12-30T21:04:31.656397Z",
     "start_time": "2020-12-30T21:04:31.619428Z"
    }
   },
   "outputs": [
    {
     "data": {
      "application/vnd.jupyter.widget-view+json": {
       "model_id": "f0b7df2635684052868e2c5d37d30acf",
       "version_major": 2,
       "version_minor": 0
      },
      "text/plain": [
       "Output()"
      ]
     },
     "metadata": {},
     "output_type": "display_data"
    },
    {
     "data": {
      "application/vnd.jupyter.widget-view+json": {
       "model_id": "c5f5b37ba85a463e8183f9402108aef2",
       "version_major": 2,
       "version_minor": 0
      },
      "text/plain": [
       "CodeWidget(program='{\"task\": \"process_tweets\", \"language\": \"q\", \"plan\": {}, \"source\": \"process_tweets:\\\\n  sel…"
      ]
     },
     "metadata": {},
     "output_type": "display_data"
    }
   ],
   "source": [
    "q.widget(task)"
   ]
  },
  {
   "cell_type": "code",
   "execution_count": 15,
   "metadata": {
    "ExecuteTime": {
     "end_time": "2020-12-30T18:52:06.251914Z",
     "start_time": "2020-12-30T18:52:06.199518Z"
    }
   },
   "outputs": [],
   "source": [
    "r = replace(prototype,\n",
    "    language='r',\n",
    "    implementation='',\n",
    "    source='''process_tweets <- function(data) {\n",
    "  data %>%\n",
    "    filter(language == \"en\" & is_retweet == \"false\") %>%\n",
    "    mutate(body = tolower(body)) %>%\n",
    "    select(ts, body)\n",
    "}''').load_plan()\n",
    "r.execute(task)\n",
    "r.save()"
   ]
  },
  {
   "cell_type": "code",
   "execution_count": 16,
   "metadata": {
    "ExecuteTime": {
     "end_time": "2020-12-30T18:52:07.266213Z",
     "start_time": "2020-12-30T18:52:07.228043Z"
    }
   },
   "outputs": [
    {
     "data": {
      "application/vnd.jupyter.widget-view+json": {
       "model_id": "75fa1ee0a83045f6bcc861a6356d4d71",
       "version_major": 2,
       "version_minor": 0
      },
      "text/plain": [
       "Output()"
      ]
     },
     "metadata": {},
     "output_type": "display_data"
    },
    {
     "data": {
      "application/vnd.jupyter.widget-view+json": {
       "model_id": "a8e86dbb0c2f4fbdb82e3a674c5a1dcb",
       "version_major": 2,
       "version_minor": 0
      },
      "text/plain": [
       "CodeWidget(program='{\"task\": \"process_tweets\", \"language\": \"r\", \"plan\": {}, \"source\": \"process_tweets <- funct…"
      ]
     },
     "metadata": {},
     "output_type": "display_data"
    }
   ],
   "source": [
    "r.widget(task)"
   ]
  },
  {
   "cell_type": "code",
   "execution_count": 18,
   "metadata": {
    "ExecuteTime": {
     "end_time": "2020-12-30T18:52:39.553703Z",
     "start_time": "2020-12-30T18:52:39.517981Z"
    }
   },
   "outputs": [],
   "source": [
    "python_imperative = replace(prototype,\n",
    "    language='python-imperative',\n",
    "    implementation='',\n",
    "    source='''def process_tweets(data):\n",
    "  result = []\n",
    "  for value in data:\n",
    "    if (value[\"language\"] == \"en\" and\n",
    "        value[\"is_retweet\"] == \"false\"):\n",
    "      result.append({\n",
    "        \"body\": value[\"body\"].lower(),\n",
    "        \"ts\": value[\"ts\"]\n",
    "      })\n",
    "  return result''').load_plan()\n",
    "python_imperative.execute(task)\n",
    "python_imperative.save()"
   ]
  },
  {
   "cell_type": "code",
   "execution_count": 20,
   "metadata": {
    "ExecuteTime": {
     "end_time": "2020-12-30T18:52:44.003181Z",
     "start_time": "2020-12-30T18:52:43.966314Z"
    }
   },
   "outputs": [],
   "source": [
    "python_functional = replace(prototype,\n",
    "    language='python-functional',\n",
    "    implementation='',\n",
    "    source='''def process_tweets(data):\n",
    "  return [\n",
    "    {\"body\": value[\"body\"].lower(),\n",
    "     \"ts\": value[\"ts\"]}\n",
    "    for value in data\n",
    "    if value[\"language\"] == \"en\" and\n",
    "       value[\"is_retweet\"] == \"false\" \n",
    "  ]''').load_plan()\n",
    "python_functional.execute(task)\n",
    "python_functional.save()"
   ]
  },
  {
   "cell_type": "code",
   "execution_count": 198,
   "metadata": {
    "ExecuteTime": {
     "end_time": "2020-10-28T23:52:54.357843Z",
     "start_time": "2020-10-28T23:52:54.292098Z"
    }
   },
   "outputs": [],
   "source": [
    "# ignoring datalog; missing string primitives"
   ]
  },
  {
   "cell_type": "code",
   "execution_count": 22,
   "metadata": {
    "ExecuteTime": {
     "end_time": "2020-12-30T18:52:53.169085Z",
     "start_time": "2020-12-30T18:52:53.139656Z"
    }
   },
   "outputs": [],
   "source": [
    "python_pandas = replace(prototype,\n",
    "    language='python-pandas',\n",
    "    implementation='',\n",
    "    source='''def process_tweets(data):\n",
    "  result = data[\n",
    "    (data.language == 'en') &\n",
    "    (data.is_retweet == 'false')]\n",
    "  result.body = result.body.apply(lambda s: s.lower())\n",
    "  return result[[\"body\", \"ts\"]]''').load_plan()\n",
    "python_pandas.execute(task)\n",
    "python_pandas.save()"
   ]
  },
  {
   "cell_type": "code",
   "execution_count": 37,
   "metadata": {
    "ExecuteTime": {
     "end_time": "2020-12-30T18:56:20.499318Z",
     "start_time": "2020-12-30T18:56:20.465531Z"
    }
   },
   "outputs": [],
   "source": [
    "sql = replace(prototype,\n",
    "    language='sql',\n",
    "    source='''SELECT LOWER(body) as body, ts\n",
    "FROM data\n",
    "WHERE language = \"en\" and is_retweet = \"false\"''').load_plan()\n",
    "sql.execute(task)\n",
    "sql.save()"
   ]
  },
  {
   "cell_type": "code",
   "execution_count": 38,
   "metadata": {
    "ExecuteTime": {
     "end_time": "2020-12-30T18:56:20.856706Z",
     "start_time": "2020-12-30T18:56:20.825600Z"
    }
   },
   "outputs": [
    {
     "data": {
      "application/vnd.jupyter.widget-view+json": {
       "model_id": "064e8567b743497cafe7ea0b62f1c6ef",
       "version_major": 2,
       "version_minor": 0
      },
      "text/plain": [
       "Output()"
      ]
     },
     "metadata": {},
     "output_type": "display_data"
    },
    {
     "data": {
      "application/vnd.jupyter.widget-view+json": {
       "model_id": "6de766887dcf4a1b951014f22c2aac3c",
       "version_major": 2,
       "version_minor": 0
      },
      "text/plain": [
       "CodeWidget(program='{\"task\": \"process_tweets\", \"language\": \"sql\", \"plan\": {}, \"source\": \"SELECT LOWER(body) as…"
      ]
     },
     "metadata": {},
     "output_type": "display_data"
    }
   ],
   "source": [
    "sql.widget(task)"
   ]
  },
  {
   "cell_type": "code",
   "execution_count": 39,
   "metadata": {
    "ExecuteTime": {
     "end_time": "2020-12-30T18:56:36.003736Z",
     "start_time": "2020-12-30T18:56:35.964864Z"
    }
   },
   "outputs": [
    {
     "data": {
      "application/vnd.jupyter.widget-view+json": {
       "model_id": "04caa9e9e36b4a089223bea7224b21af",
       "version_major": 2,
       "version_minor": 0
      },
      "text/plain": [
       "Output()"
      ]
     },
     "metadata": {},
     "output_type": "display_data"
    },
    {
     "data": {
      "application/vnd.jupyter.widget-view+json": {
       "model_id": "13bcd9d3be454ea9a5243ba49ada1c63",
       "version_major": 2,
       "version_minor": 0
      },
      "text/plain": [
       "CodeWidget(program='{\"task\": \"process_tweets\", \"language\": \"python-functional\", \"plan\": {}, \"source\": \"def pro…"
      ]
     },
     "metadata": {},
     "output_type": "display_data"
    }
   ],
   "source": [
    "python_functional.widget(task)"
   ]
  },
  {
   "cell_type": "code",
   "execution_count": 40,
   "metadata": {
    "ExecuteTime": {
     "end_time": "2020-12-30T18:57:04.229408Z",
     "start_time": "2020-12-30T18:57:04.190797Z"
    }
   },
   "outputs": [
    {
     "data": {
      "application/vnd.jupyter.widget-view+json": {
       "model_id": "e1321981af0f4c14945f1206785aad1a",
       "version_major": 2,
       "version_minor": 0
      },
      "text/plain": [
       "Output()"
      ]
     },
     "metadata": {},
     "output_type": "display_data"
    },
    {
     "data": {
      "application/vnd.jupyter.widget-view+json": {
       "model_id": "4144298841b241658c5e1056b82755c1",
       "version_major": 2,
       "version_minor": 0
      },
      "text/plain": [
       "CodeWidget(program='{\"task\": \"process_tweets\", \"language\": \"python-imperative\", \"plan\": {}, \"source\": \"def pro…"
      ]
     },
     "metadata": {},
     "output_type": "display_data"
    }
   ],
   "source": [
    "python_imperative.widget(task)"
   ]
  },
  {
   "cell_type": "code",
   "execution_count": 41,
   "metadata": {
    "ExecuteTime": {
     "end_time": "2020-12-30T18:57:34.085085Z",
     "start_time": "2020-12-30T18:57:34.052654Z"
    }
   },
   "outputs": [
    {
     "data": {
      "application/vnd.jupyter.widget-view+json": {
       "model_id": "8628963fb1a94f4e8eb2f12c722bdcd3",
       "version_major": 2,
       "version_minor": 0
      },
      "text/plain": [
       "Output()"
      ]
     },
     "metadata": {},
     "output_type": "display_data"
    },
    {
     "data": {
      "application/vnd.jupyter.widget-view+json": {
       "model_id": "ac0da63380d84662b456e8d1aecb797c",
       "version_major": 2,
       "version_minor": 0
      },
      "text/plain": [
       "CodeWidget(program='{\"task\": \"process_tweets\", \"language\": \"python-pandas\", \"plan\": {}, \"source\": \"def process…"
      ]
     },
     "metadata": {},
     "output_type": "display_data"
    }
   ],
   "source": [
    "python_pandas.widget(task)"
   ]
  }
 ],
 "metadata": {
  "kernelspec": {
   "display_name": "Python 3",
   "language": "python",
   "name": "python3"
  },
  "language_info": {
   "codemirror_mode": {
    "name": "ipython",
    "version": 3
   },
   "file_extension": ".py",
   "mimetype": "text/x-python",
   "name": "python",
   "nbconvert_exporter": "python",
   "pygments_lexer": "ipython3",
   "version": "3.9.1"
  },
  "toc": {
   "base_numbering": 1,
   "nav_menu": {},
   "number_sections": true,
   "sideBar": true,
   "skip_h1_title": false,
   "title_cell": "Table of Contents",
   "title_sidebar": "Contents",
   "toc_cell": false,
   "toc_position": {},
   "toc_section_display": true,
   "toc_window_display": false
  },
  "varInspector": {
   "cols": {
    "lenName": 16,
    "lenType": 16,
    "lenVar": 40
   },
   "kernels_config": {
    "python": {
     "delete_cmd_postfix": "",
     "delete_cmd_prefix": "del ",
     "library": "var_list.py",
     "varRefreshCmd": "print(var_dic_list())"
    },
    "r": {
     "delete_cmd_postfix": ") ",
     "delete_cmd_prefix": "rm(",
     "library": "var_list.r",
     "varRefreshCmd": "cat(var_dic_list()) "
    }
   },
   "types_to_exclude": [
    "module",
    "function",
    "builtin_function_or_method",
    "instance",
    "_Feature"
   ],
   "window_display": false
  }
 },
 "nbformat": 4,
 "nbformat_minor": 4
}
