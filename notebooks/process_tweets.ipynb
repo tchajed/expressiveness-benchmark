{
 "cells": [
  {
   "cell_type": "code",
   "execution_count": 202,
   "metadata": {
    "ExecuteTime": {
     "end_time": "2020-10-28T23:52:54.228684Z",
     "start_time": "2020-10-28T23:52:53.908677Z"
    }
   },
   "outputs": [
    {
     "name": "stdout",
     "output_type": "stream",
     "text": [
      "The autoreload extension is already loaded. To reload it, use:\n",
      "  %reload_ext autoreload\n"
     ]
    }
   ],
   "source": [
    "%load_ext autoreload\n",
    "%autoreload 2\n",
    "from expressiveness_benchmark.types import Program, Task\n",
    "import pandas as pd\n",
    "from dataclasses import replace\n",
    "\n",
    "from code_widget.example import CodeWidget\n",
    "import json"
   ]
  },
  {
   "cell_type": "code",
   "execution_count": 203,
   "metadata": {
    "ExecuteTime": {
     "end_time": "2020-10-28T23:52:54.248549Z",
     "start_time": "2020-10-28T23:52:54.231333Z"
    }
   },
   "outputs": [],
   "source": [
    "# CHANGE ME!\n",
    "TASK_ID = 'process_tweets'\n",
    "AUTHOR = 'scott'"
   ]
  },
  {
   "cell_type": "code",
   "execution_count": 205,
   "metadata": {
    "ExecuteTime": {
     "end_time": "2020-10-28T23:52:54.268868Z",
     "start_time": "2020-10-28T23:52:54.252064Z"
    }
   },
   "outputs": [],
   "source": [
    "task = Task(\n",
    "    id=TASK_ID,\n",
    "    name=\"process tweets\",\n",
    "    description=\"select english tweets that are not retweets, return timestamp and lower-cased tweet contents\",\n",
    "    category=\"Method Chaining\",\n",
    "    plan=[{\n",
    "        \"id\": \"filter\",\n",
    "        \"description\": \"select english non-retweets\",\n",
    "    }, {\n",
    "        \"id\": \"lowercase\",\n",
    "        \"description\": \"lowercase tweet text\"\n",
    "    }, {\n",
    "        \"id\": \"select\",\n",
    "        \"description\": \"select ts and body\"\n",
    "    }\n",
    "    ],\n",
    "    sample_input={\n",
    "        \"data\": [\n",
    "            {\"language\": \"en\", \"is_retweet\": \"false\", \"likes\": 8, \"body\": \"Some Text\", \"ts\": 1604534320 },\n",
    "            {\"language\": \"en\", \"is_retweet\": \"true\", \"likes\": 8, \"body\": \"some Text\", \"ts\": 1604534321 },\n",
    "            {\"language\": \"en\", \"is_retweet\": \"false\", \"likes\": 8, \"body\": \"some Text\", \"ts\": 1604534322 },\n",
    "            {\"language\": \"fr\", \"is_retweet\": \"false\", \"likes\": 8, \"body\": \"some Text\", \"ts\": 1604534322 }\n",
    "        ],\n",
    "    },\n",
    "    sample_output=[\n",
    "        { \"body\": \"some text\", \"ts\": 1604534320 },\n",
    "        { \"body\": \"some text\", \"ts\": 1604534322 },\n",
    "    ]\n",
    ")\n",
    "task.save()\n",
    "prototype = Program(\n",
    "    task=TASK_ID,\n",
    "    author=AUTHOR,\n",
    "    language=''\n",
    ")"
   ]
  },
  {
   "cell_type": "code",
   "execution_count": 196,
   "metadata": {},
   "outputs": [],
   "source": [
    "python_imperative = replace(prototype,\n",
    "    language='python-imperative',\n",
    "    implementation='',\n",
    "    source='''def process_tweets(data):\n",
    "    result = []\n",
    "    for value in data:\n",
    "        if value[\"language\"] == \"en\" and \\\n",
    "           value[\"is_retweet\"] == \"false\":\n",
    "            result.append({\"body\": value[\"body\"].lower(), \"ts\": value[\"ts\"]})\n",
    "    return result''').load_plan()\n",
    "python_imperative.execute(task)\n",
    "python_imperative.save()"
   ]
  },
  {
   "cell_type": "code",
   "execution_count": 197,
   "metadata": {},
   "outputs": [],
   "source": [
    "python_functional = replace(prototype,\n",
    "    language='python-functional',\n",
    "    implementation='',\n",
    "    source='''def process_tweets(data):\n",
    "    return [{\n",
    "        \"body\": value[\"body\"].lower(),\n",
    "        \"ts\": value[\"ts\"]}\n",
    "      for value in data\n",
    "      if value[\"language\"] == \"en\" and value[\"is_retweet\"] == \"false\" \n",
    "    ]''').load_plan()\n",
    "python_functional.execute(task)\n",
    "python_functional.save()"
   ]
  },
  {
   "cell_type": "code",
   "execution_count": 198,
   "metadata": {
    "ExecuteTime": {
     "end_time": "2020-10-28T23:52:54.357843Z",
     "start_time": "2020-10-28T23:52:54.292098Z"
    }
   },
   "outputs": [],
   "source": [
    "# ignoring datalog; missing string primitives"
   ]
  },
  {
   "cell_type": "code",
   "execution_count": 199,
   "metadata": {
    "ExecuteTime": {
     "end_time": "2020-10-28T23:52:54.290013Z",
     "start_time": "2020-10-28T23:52:54.270985Z"
    }
   },
   "outputs": [],
   "source": [
    "python_pandas = replace(prototype,\n",
    "    language='python-pandas',\n",
    "    implementation='',\n",
    "    source='''def process_tweets(data):\n",
    "    result = data[(data.language == 'en') & (data.is_retweet == 'false')]\n",
    "    result.body = result.body.apply(lambda s: s.lower())\n",
    "    return result[[\"body\", \"ts\"]]''').load_plan()\n",
    "python_pandas.execute(task)\n",
    "python_pandas.save()"
   ]
  },
  {
   "cell_type": "code",
   "execution_count": 200,
   "metadata": {},
   "outputs": [],
   "source": [
    "sql = replace(prototype,\n",
    "    language='sql',\n",
    "    source='''SELECT LOWER(body) as body, ts\n",
    "FROM data\n",
    "WHERE language = \"en\" and is_retweet = \"false\"''').load_plan()\n",
    "sql.execute(task)\n",
    "sql.save()"
   ]
  },
  {
   "cell_type": "code",
   "execution_count": null,
   "metadata": {},
   "outputs": [],
   "source": []
  }
 ],
 "metadata": {
  "kernelspec": {
   "display_name": "Python 3",
   "language": "python",
   "name": "python3"
  },
  "language_info": {
   "codemirror_mode": {
    "name": "ipython",
    "version": 3
   },
   "file_extension": ".py",
   "mimetype": "text/x-python",
   "name": "python",
   "nbconvert_exporter": "python",
   "pygments_lexer": "ipython3",
   "version": "3.8.6"
  },
  "toc": {
   "base_numbering": 1,
   "nav_menu": {},
   "number_sections": true,
   "sideBar": true,
   "skip_h1_title": false,
   "title_cell": "Table of Contents",
   "title_sidebar": "Contents",
   "toc_cell": false,
   "toc_position": {},
   "toc_section_display": true,
   "toc_window_display": false
  },
  "varInspector": {
   "cols": {
    "lenName": 16,
    "lenType": 16,
    "lenVar": 40
   },
   "kernels_config": {
    "python": {
     "delete_cmd_postfix": "",
     "delete_cmd_prefix": "del ",
     "library": "var_list.py",
     "varRefreshCmd": "print(var_dic_list())"
    },
    "r": {
     "delete_cmd_postfix": ") ",
     "delete_cmd_prefix": "rm(",
     "library": "var_list.r",
     "varRefreshCmd": "cat(var_dic_list()) "
    }
   },
   "types_to_exclude": [
    "module",
    "function",
    "builtin_function_or_method",
    "instance",
    "_Feature"
   ],
   "window_display": false
  }
 },
 "nbformat": 4,
 "nbformat_minor": 4
}
