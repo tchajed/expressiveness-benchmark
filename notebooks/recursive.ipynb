{
 "cells": [
  {
   "cell_type": "code",
   "execution_count": 53,
   "metadata": {
    "ExecuteTime": {
     "end_time": "2020-10-28T23:52:54.228684Z",
     "start_time": "2020-10-28T23:52:53.908677Z"
    }
   },
   "outputs": [
    {
     "name": "stdout",
     "output_type": "stream",
     "text": [
      "The autoreload extension is already loaded. To reload it, use:\n",
      "  %reload_ext autoreload\n"
     ]
    }
   ],
   "source": [
    "%load_ext autoreload\n",
    "%autoreload 2\n",
    "from expressiveness_benchmark.types import Program, Task\n",
    "import pandas as pd\n",
    "from dataclasses import replace\n",
    "\n",
    "from code_widget.example import CodeWidget\n",
    "import json"
   ]
  },
  {
   "cell_type": "code",
   "execution_count": 54,
   "metadata": {
    "ExecuteTime": {
     "end_time": "2020-10-28T23:52:54.248549Z",
     "start_time": "2020-10-28T23:52:54.231333Z"
    }
   },
   "outputs": [],
   "source": [
    "# CHANGE ME!\n",
    "TASK_ID = 'scc'\n",
    "AUTHOR = 'scott'"
   ]
  },
  {
   "cell_type": "code",
   "execution_count": 99,
   "metadata": {
    "ExecuteTime": {
     "end_time": "2020-10-28T23:52:54.268868Z",
     "start_time": "2020-10-28T23:52:54.252064Z"
    }
   },
   "outputs": [],
   "source": [
    "task = Task(\n",
    "    id=TASK_ID,\n",
    "    name=\"strongly-connected components\",\n",
    "    description=\"\\\n",
    "A path is a sequence of edges such that the target of each edge is the source of the next. \\\n",
    "Given a graph and a vertex v, list each vertex u such that u is reachable from v and v is reachable from u.\",\n",
    "    category=\"Graph Reachability\",\n",
    "    plan=[       \n",
    "    {\n",
    "        \"id\": \"graph\",\n",
    "        \"description\": \"a graph\",\n",
    "    }, {\n",
    "        \"id\": \"source<->target\",\n",
    "        \"description\": \"u is reachable from v and v is reachable from u\",\n",
    "    }, {\n",
    "        \"id\": \"edge_match\",\n",
    "        \"description\": \"target of each edge is the source of the next\",\n",
    "    }, {\n",
    "        \"id\": \"edge_sequence\",\n",
    "        \"description\": \"a sequence of edges\",\n",
    "    }, {\n",
    "        \"id\": \"vertices\",\n",
    "        \"description\": \"the vertices reachable by a path\",\n",
    "    }\n",
    "    ],\n",
    "    sample_input={\n",
    "        \"graph\": [\n",
    "            {\"source\": \"a\", \"target\": \"b\"},\n",
    "            {\"source\": \"b\", \"target\": \"b\"},\n",
    "            {\"source\": \"b\", \"target\": \"c\"},\n",
    "            {\"source\": \"c\", \"target\": \"b\"},\n",
    "            {\"source\": \"c\", \"target\": \"a\"},\n",
    "            {\"source\": \"a\", \"target\": \"d\"},\n",
    "        ],\n",
    "        \"query\": [{\"source\": \"c\"}]\n",
    "    },\n",
    "    sample_output=[\"a\", \"b\", \"c\"],\n",
    ")\n",
    "task.save()\n",
    "\n",
    "prototype = Program(\n",
    "    task=TASK_ID,\n",
    "    author=AUTHOR,\n",
    "    language=''    \n",
    ")"
   ]
  },
  {
   "cell_type": "code",
   "execution_count": 100,
   "metadata": {
    "ExecuteTime": {
     "end_time": "2020-10-28T23:52:54.357843Z",
     "start_time": "2020-10-28T23:52:54.292098Z"
    }
   },
   "outputs": [],
   "source": [
    "datalog = replace(prototype,\n",
    "    language='datalog',\n",
    "    source='''.decl scc1(x: symbol, y: symbol)\n",
    ".decl path(x: symbol, y: symbol)\n",
    ".decl vertex(x: symbol)\n",
    "\n",
    "scc(x) :- query(src), scc1(src, x).\n",
    "scc1(x, x) :- vertex(x).\n",
    "scc1(x, y) :- path(x, y), path(y, x).\n",
    "path(x, y) :- graph(x, y).\n",
    "path(x,y) :- graph(x, z), path(z, y).\n",
    "vertex(x)  :- graph(x, _).\n",
    "vertex(x)  :- graph(_, x).''').load_plan()\n",
    "datalog.execute(task)\n",
    "datalog.save()"
   ]
  },
  {
   "cell_type": "code",
   "execution_count": 101,
   "metadata": {},
   "outputs": [],
   "source": [
    "sql = replace(prototype,\n",
    "    language='sql',\n",
    "    source='''WITH RECURSIVE\n",
    "closure(source, target) AS (\n",
    "  SELECT DISTINCT source, target FROM graph\n",
    "  UNION\n",
    "  SELECT edge.source, path.target\n",
    "  FROM closure as path JOIN graph as edge\n",
    "  ON edge.target = path.source\n",
    "),\n",
    "component(v1, v2) AS (\n",
    "  SELECT path.source, path.target\n",
    "  FROM closure as path JOIN closure as path_\n",
    "  ON path.source = path_.target AND path.target = path_.source\n",
    ")\n",
    "SELECT S.v2 FROM component as S\n",
    "JOIN query ON S.v1 = query.source''').load_plan()\n",
    "sql.execute(task)\n",
    "sql.save()"
   ]
  },
  {
   "cell_type": "code",
   "execution_count": 102,
   "metadata": {
    "ExecuteTime": {
     "end_time": "2020-10-28T23:52:54.290013Z",
     "start_time": "2020-10-28T23:52:54.270985Z"
    }
   },
   "outputs": [],
   "source": [
    "python_imp = replace(prototype,\n",
    "    language='python-imperative',\n",
    "    implementation='',\n",
    "    source='''def scc(graph, query):\n",
    "  reachable = set()\n",
    "  vertices = set()\n",
    "  for edge in graph:\n",
    "    reachable.add((edge[\"source\"], edge[\"target\"]))\n",
    "    vertices.add(edge[\"source\"])\n",
    "    vertices.add(edge[\"target\"])\n",
    "  changed = True\n",
    "  while changed:\n",
    "    changed = False\n",
    "    for edge in graph:\n",
    "      for vertex in vertices:\n",
    "        if ((edge[\"source\"], vertex) not in reachable\n",
    "            and (edge[\"target\"], vertex) in reachable):\n",
    "          changed = True\n",
    "          reachable.add((edge[\"source\"], vertex))\n",
    "  source = query[0][\"source\"]\n",
    "  result = []\n",
    "  for vertex in vertices:\n",
    "    if ((source, vertex) in reachable and\n",
    "        (vertex, source) in reachable):\n",
    "      result.append(vertex)\n",
    "  return result''')\n",
    "python_imp.execute(task)\n",
    "python_imp.save()"
   ]
  },
  {
   "cell_type": "code",
   "execution_count": 103,
   "metadata": {},
   "outputs": [],
   "source": [
    "python_fun = replace(prototype,\n",
    "    language='python-functional',\n",
    "    implementation='',\n",
    "    source='''def scc(graph, query):\n",
    "    def step(relation):\n",
    "        return set([\n",
    "            (source, edge[\"target\"])\n",
    "            for (source, target) in relation\n",
    "            for edge in graph\n",
    "            if target == edge[\"source\"]\n",
    "        ]).union(relation)\n",
    "\n",
    "    def fix(f, x):\n",
    "        next = f(x)\n",
    "        return x if next == x else fix(f, next)\n",
    "\n",
    "    source = query[0][\"source\"]\n",
    "    init = set([(edge[\"source\"], edge[\"target\"]) for edge in graph])\n",
    "    reachable = fix(step, init)\n",
    "    return list(set([v for (_, v) in reachable\n",
    "      if (v, source) in reachable and (source, v) in reachable]))''')\n",
    "python_fun.execute(task)\n",
    "python_fun.save()"
   ]
  },
  {
   "cell_type": "code",
   "execution_count": 93,
   "metadata": {},
   "outputs": [
    {
     "data": {
      "application/vnd.jupyter.widget-view+json": {
       "model_id": "",
       "version_major": 2,
       "version_minor": 0
      },
      "text/plain": [
       "Output()"
      ]
     },
     "metadata": {},
     "output_type": "display_data"
    },
    {
     "data": {
      "application/vnd.jupyter.widget-view+json": {
       "model_id": "",
       "version_major": 2,
       "version_minor": 0
      },
      "text/plain": [
       "CodeWidget(program='{\"task\": \"scc\", \"language\": \"sql\", \"plan\": {}, \"source\": \"WITH RECURSIVE\\\\nclosure(source,…"
      ]
     },
     "metadata": {},
     "output_type": "display_data"
    }
   ],
   "source": [
    "sql.widget(task)"
   ]
  },
  {
   "cell_type": "code",
   "execution_count": 104,
   "metadata": {},
   "outputs": [
    {
     "data": {
      "application/vnd.jupyter.widget-view+json": {
       "model_id": "a913fd6799e84fcc831085c75dde4612",
       "version_major": 2,
       "version_minor": 0
      },
      "text/plain": [
       "Output()"
      ]
     },
     "metadata": {},
     "output_type": "display_data"
    },
    {
     "data": {
      "application/vnd.jupyter.widget-view+json": {
       "model_id": "7347c60aa8e642a08c1195c84d1296fe",
       "version_major": 2,
       "version_minor": 0
      },
      "text/plain": [
       "CodeWidget(program='{\"task\": \"scc\", \"language\": \"python-imperative\", \"plan\": {}, \"source\": \"def scc(graph, que…"
      ]
     },
     "metadata": {},
     "output_type": "display_data"
    }
   ],
   "source": [
    "python_imp.widget(task)"
   ]
  },
  {
   "cell_type": "code",
   "execution_count": 93,
   "metadata": {},
   "outputs": [
    {
     "data": {
      "application/vnd.jupyter.widget-view+json": {
       "model_id": "",
       "version_major": 2,
       "version_minor": 0
      },
      "text/plain": [
       "Output()"
      ]
     },
     "metadata": {},
     "output_type": "display_data"
    },
    {
     "data": {
      "application/vnd.jupyter.widget-view+json": {
       "model_id": "",
       "version_major": 2,
       "version_minor": 0
      },
      "text/plain": [
       "CodeWidget(program='{\"task\": \"scc\", \"language\": \"sql\", \"plan\": {}, \"source\": \"WITH RECURSIVE\\\\nclosure(source,…"
      ]
     },
     "metadata": {},
     "output_type": "display_data"
    }
   ],
   "source": [
    "sql.widget(task)"
   ]
  },
  {
   "cell_type": "code",
   "execution_count": 62,
   "metadata": {
    "ExecuteTime": {
     "end_time": "2020-10-28T23:52:54.290013Z",
     "start_time": "2020-10-28T23:52:54.270985Z"
    },
    "collapsed": true
   },
   "outputs": [
    {
     "ename": "SyntaxError",
     "evalue": "unexpected EOF while parsing (<string>, line 6)",
     "output_type": "error",
     "traceback": [
      "Traceback \u001b[0;36m(most recent call last)\u001b[0m:\n",
      "  File \u001b[1;32m\"/home/scott/Dropbox/2020-fall/expressiveness-benchmark/.env/lib/python3.8/site-packages/IPython/core/interactiveshell.py\"\u001b[0m, line \u001b[1;32m3417\u001b[0m, in \u001b[1;35mrun_code\u001b[0m\n    exec(code_obj, self.user_global_ns, self.user_ns)\n",
      "  File \u001b[1;32m\"<ipython-input-62-78dcbbb3909a>\"\u001b[0m, line \u001b[1;32m7\u001b[0m, in \u001b[1;35m<module>\u001b[0m\n    pandas.execute(task)\n",
      "\u001b[0;36m  File \u001b[0;32m\"/home/scott/Dropbox/2020-fall/expressiveness-benchmark/expressiveness_benchmark/types.py\"\u001b[0;36m, line \u001b[0;32m176\u001b[0;36m, in \u001b[0;35mexecute\u001b[0;36m\u001b[0m\n\u001b[0;31m    exec(\u001b[0m\n",
      "\u001b[0;36m  File \u001b[0;32m\"<string>\"\u001b[0;36m, line \u001b[0;32m6\u001b[0m\n\u001b[0;31m    \u001b[0m\n\u001b[0m    ^\u001b[0m\n\u001b[0;31mSyntaxError\u001b[0m\u001b[0;31m:\u001b[0m unexpected EOF while parsing\n"
     ]
    }
   ],
   "source": [
    "# todo?\n",
    "pandas = replace(prototype,\n",
    "    language='python-pandas',\n",
    "    implementation='',\n",
    "    source='''def scc(graph):\n",
    "    \n",
    "''')\n",
    "pandas.execute(task)\n",
    "pandas.save()"
   ]
  }
 ],
 "metadata": {
  "kernelspec": {
   "display_name": "Python 3",
   "language": "python",
   "name": "python3"
  },
  "language_info": {
   "codemirror_mode": {
    "name": "ipython",
    "version": 3
   },
   "file_extension": ".py",
   "mimetype": "text/x-python",
   "name": "python",
   "nbconvert_exporter": "python",
   "pygments_lexer": "ipython3",
   "version": "3.8.6"
  },
  "toc": {
   "base_numbering": 1,
   "nav_menu": {},
   "number_sections": true,
   "sideBar": true,
   "skip_h1_title": false,
   "title_cell": "Table of Contents",
   "title_sidebar": "Contents",
   "toc_cell": false,
   "toc_position": {},
   "toc_section_display": true,
   "toc_window_display": false
  },
  "varInspector": {
   "cols": {
    "lenName": 16,
    "lenType": 16,
    "lenVar": 40
   },
   "kernels_config": {
    "python": {
     "delete_cmd_postfix": "",
     "delete_cmd_prefix": "del ",
     "library": "var_list.py",
     "varRefreshCmd": "print(var_dic_list())"
    },
    "r": {
     "delete_cmd_postfix": ") ",
     "delete_cmd_prefix": "rm(",
     "library": "var_list.r",
     "varRefreshCmd": "cat(var_dic_list()) "
    }
   },
   "types_to_exclude": [
    "module",
    "function",
    "builtin_function_or_method",
    "instance",
    "_Feature"
   ],
   "window_display": false
  }
 },
 "nbformat": 4,
 "nbformat_minor": 4
}
