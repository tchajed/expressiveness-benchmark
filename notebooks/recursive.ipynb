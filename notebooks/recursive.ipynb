{
 "cells": [
  {
   "cell_type": "code",
   "execution_count": 1,
   "metadata": {
    "ExecuteTime": {
     "end_time": "2020-10-28T23:52:54.228684Z",
     "start_time": "2020-10-28T23:52:53.908677Z"
    }
   },
   "outputs": [],
   "source": [
    "%load_ext autoreload\n",
    "%autoreload 2\n",
    "from expressiveness_benchmark.types import Program, Task\n",
    "import pandas as pd\n",
    "from dataclasses import replace\n",
    "\n",
    "from code_widget.example import CodeWidget\n",
    "import json"
   ]
  },
  {
   "cell_type": "code",
   "execution_count": 2,
   "metadata": {
    "ExecuteTime": {
     "end_time": "2020-10-28T23:52:54.248549Z",
     "start_time": "2020-10-28T23:52:54.231333Z"
    }
   },
   "outputs": [],
   "source": [
    "# CHANGE ME!\n",
    "TASK_ID = 'scc'\n",
    "AUTHOR = 'scott'"
   ]
  },
  {
   "cell_type": "code",
   "execution_count": 36,
   "metadata": {
    "ExecuteTime": {
     "end_time": "2020-10-28T23:52:54.268868Z",
     "start_time": "2020-10-28T23:52:54.252064Z"
    }
   },
   "outputs": [],
   "source": [
    "task = Task(\n",
    "    id=TASK_ID,\n",
    "    description=\"Given a graph and a vertex v, list the vertices in the strongly-connected component of v.\",\n",
    "    plan=[{\n",
    "        \"id\": \"reachability\",\n",
    "        \"description\": \"get TC from edge relation\",\n",
    "    }, {\n",
    "        \"id\": \"scc\",\n",
    "        \"description\": \"get mutually reachable vertices\",\n",
    "    }, {\n",
    "        \"id\": \"query\",\n",
    "        \"description\": \"list SCC vertices from the query vertex\",\n",
    "    }\n",
    "    ],\n",
    "    sample_input={\n",
    "        \"graph\": [\n",
    "            {\"source\": \"a\", \"target\": \"b\"},\n",
    "            {\"source\": \"b\", \"target\": \"b\"},\n",
    "            {\"source\": \"b\", \"target\": \"c\"},\n",
    "            {\"source\": \"c\", \"target\": \"b\"},\n",
    "            {\"source\": \"c\", \"target\": \"a\"},\n",
    "            {\"source\": \"a\", \"target\": \"d\"},\n",
    "        ],\n",
    "        \"query\": [{\"source\": \"c\"}]\n",
    "    },\n",
    "    sample_output=[\"a\", \"b\", \"c\"],\n",
    ")\n",
    "task.save()\n",
    "\n",
    "prototype = Program(\n",
    "    task=TASK_ID,\n",
    "    author=AUTHOR,\n",
    "    language=''    \n",
    ")"
   ]
  },
  {
   "cell_type": "code",
   "execution_count": 6,
   "metadata": {},
   "outputs": [
    {
     "data": {
      "application/vnd.jupyter.widget-view+json": {
       "model_id": "f7fa1302e0644e26b6aea8db6c33b1ff",
       "version_major": 2,
       "version_minor": 0
      },
      "text/plain": [
       "Output()"
      ]
     },
     "metadata": {},
     "output_type": "display_data"
    },
    {
     "data": {
      "application/vnd.jupyter.widget-view+json": {
       "model_id": "416626bdeeab47b8b0ee7349c155721a",
       "version_major": 2,
       "version_minor": 0
      },
      "text/plain": [
       "CodeWidget(program='{\"task\": \"scc\", \"language\": \"datalog\", \"plan\": {}, \"source\": \"\\\\n.decl scc1(x: symbol, y: …"
      ]
     },
     "metadata": {},
     "output_type": "display_data"
    }
   ],
   "source": [
    "program = datalog\n",
    "# widget = CodeWidget(program=program.to_json(), task=task.to_json())\n",
    "# widget\n",
    "program.widget(task)"
   ]
  },
  {
   "cell_type": "code",
   "execution_count": 82,
   "metadata": {},
   "outputs": [],
   "source": [
    "# new_program = replace(program, plan=json.loads(widget.plans))\n",
    "# new_program.save()"
   ]
  },
  {
   "cell_type": "code",
   "execution_count": 12,
   "metadata": {
    "ExecuteTime": {
     "end_time": "2020-10-28T23:52:54.357843Z",
     "start_time": "2020-10-28T23:52:54.292098Z"
    }
   },
   "outputs": [],
   "source": [
    "datalog = replace(prototype,\n",
    "    language='datalog',\n",
    "    source='''\n",
    ".decl scc1(x: symbol, y: symbol)\n",
    ".decl path(x: symbol, y: symbol)\n",
    ".decl vertex(x: symbol)\n",
    "\n",
    "scc(x) :- query(src), scc1(src, x).\n",
    "scc1(x, x) :- vertex(x).\n",
    "scc1(x, y) :- path(x, y), path(y, x).\n",
    "path(x, y) :- graph(x, y).\n",
    "path(x, y) :- graph(x, z), path(z, y).\n",
    "vertex(x)  :- graph(x, _).\n",
    "vertex(x)  :- graph(_, x).\n",
    "''').load_plan()\n",
    "datalog.execute(task)\n",
    "datalog.save()"
   ]
  },
  {
   "cell_type": "code",
   "execution_count": 38,
   "metadata": {},
   "outputs": [],
   "source": [
    "sql = replace(prototype,\n",
    "    language='sql',\n",
    "    source='''\n",
    "WITH RECURSIVE\n",
    "closure(source, target) AS (\n",
    "  SELECT DISTINCT source, target FROM graph\n",
    "  UNION\n",
    "  SELECT edge.source, path.target\n",
    "  FROM closure as path JOIN graph as edge\n",
    "  ON edge.target = path.source\n",
    "),\n",
    "component(v1, v2) AS (\n",
    "  SELECT path.source, path.target\n",
    "  FROM closure as path JOIN closure as path_\n",
    "  ON path.source = path_.target AND path.target = path_.source\n",
    ")\n",
    "SELECT S.v2 FROM component as S\n",
    "JOIN query ON S.v1 = query.source\n",
    "''').load_plan()\n",
    "sql.execute(task)\n",
    "sql.save()"
   ]
  },
  {
   "cell_type": "code",
   "execution_count": 4,
   "metadata": {
    "ExecuteTime": {
     "end_time": "2020-10-28T23:52:54.290013Z",
     "start_time": "2020-10-28T23:52:54.270985Z"
    }
   },
   "outputs": [],
   "source": [
    "pandas = replace(prototype,\n",
    "    language='python-pandas',\n",
    "    implementation='',\n",
    "    source='''\n",
    "import pandas as pd\n",
    "def find_uncommon_words(documents):\n",
    "  return documents[0][\"text\"].split(\" \")[0]\n",
    "''')\n",
    "pandas.execute(task)\n",
    "pandas.save()"
   ]
  },
  {
   "cell_type": "code",
   "execution_count": 39,
   "metadata": {
    "ExecuteTime": {
     "end_time": "2020-10-28T23:52:54.290013Z",
     "start_time": "2020-10-28T23:52:54.270985Z"
    }
   },
   "outputs": [],
   "source": [
    "python_imp = replace(prototype,\n",
    "    language='python-imperative',\n",
    "    implementation='',\n",
    "    source='''\n",
    "def scc(graph, query):\n",
    "    reachable = set()\n",
    "    vertices = set()\n",
    "    for edge in graph:\n",
    "        reachable.add((edge[\"source\"], edge[\"target\"]))\n",
    "        vertices.add(edge[\"source\"])\n",
    "        vertices.add(edge[\"target\"])\n",
    "    changed = True\n",
    "    while changed:\n",
    "        changed = False\n",
    "        for edge in graph:\n",
    "            for vertex in vertices:\n",
    "                if (edge[\"source\"], vertex) not in reachable and (edge[\"target\"], vertex) in reachable:\n",
    "                    changed = True\n",
    "                    reachable.add((edge[\"source\"], vertex))\n",
    "    source = query[0][\"source\"]\n",
    "    result = []\n",
    "    for vertex in vertices:\n",
    "        if (source, vertex) in reachable and (vertex, source) in reachable:\n",
    "            result.append(vertex)\n",
    "    return result\n",
    "''')\n",
    "python_imp.execute(task)\n",
    "python_imp.save()"
   ]
  },
  {
   "cell_type": "code",
   "execution_count": 46,
   "metadata": {},
   "outputs": [],
   "source": [
    "def scc(graph, query):\n",
    "    reachable = set()\n",
    "    vertices = set()\n",
    "    for edge in graph:\n",
    "        reachable.add((edge[\"source\"], edge[\"target\"]))\n",
    "        vertices.add(edge[\"source\"])\n",
    "        vertices.add(edge[\"target\"])\n",
    "    changed = True\n",
    "    while changed:\n",
    "        changed = False\n",
    "        for edge in graph:\n",
    "            for vertex in vertices:\n",
    "                if (edge[\"source\"], vertex) not in reachable and (edge[\"target\"], vertex) in reachable:\n",
    "                    changed = True\n",
    "                    reachable.add((edge[\"source\"], vertex))\n",
    "    source = query[\"source\"]\n",
    "    result = []\n",
    "    for vertex in vertices:\n",
    "        if (source, vertex) in reachable and (vertex, source) in reachable:\n",
    "            result.append(vertex)\n",
    "    return result"
   ]
  },
  {
   "cell_type": "code",
   "execution_count": 40,
   "metadata": {},
   "outputs": [],
   "source": [
    "# todo: pandas. maybe: make python-imperative more idiomatic\n",
    "# not sure if a separate python-functional case makes sense"
   ]
  }
 ],
 "metadata": {
  "kernelspec": {
   "display_name": "Python 3",
   "language": "python",
   "name": "python3"
  },
  "language_info": {
   "codemirror_mode": {
    "name": "ipython",
    "version": 3
   },
   "file_extension": ".py",
   "mimetype": "text/x-python",
   "name": "python",
   "nbconvert_exporter": "python",
   "pygments_lexer": "ipython3",
   "version": "3.8.6"
  },
  "toc": {
   "base_numbering": 1,
   "nav_menu": {},
   "number_sections": true,
   "sideBar": true,
   "skip_h1_title": false,
   "title_cell": "Table of Contents",
   "title_sidebar": "Contents",
   "toc_cell": false,
   "toc_position": {},
   "toc_section_display": true,
   "toc_window_display": false
  },
  "varInspector": {
   "cols": {
    "lenName": 16,
    "lenType": 16,
    "lenVar": 40
   },
   "kernels_config": {
    "python": {
     "delete_cmd_postfix": "",
     "delete_cmd_prefix": "del ",
     "library": "var_list.py",
     "varRefreshCmd": "print(var_dic_list())"
    },
    "r": {
     "delete_cmd_postfix": ") ",
     "delete_cmd_prefix": "rm(",
     "library": "var_list.r",
     "varRefreshCmd": "cat(var_dic_list()) "
    }
   },
   "types_to_exclude": [
    "module",
    "function",
    "builtin_function_or_method",
    "instance",
    "_Feature"
   ],
   "window_display": false
  }
 },
 "nbformat": 4,
 "nbformat_minor": 4
}
