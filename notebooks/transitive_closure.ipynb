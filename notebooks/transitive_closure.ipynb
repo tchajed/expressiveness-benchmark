{
 "cells": [
  {
   "cell_type": "code",
   "execution_count": 93,
   "metadata": {
    "ExecuteTime": {
     "end_time": "2020-10-28T23:52:54.228684Z",
     "start_time": "2020-10-28T23:52:53.908677Z"
    }
   },
   "outputs": [
    {
     "name": "stdout",
     "output_type": "stream",
     "text": [
      "The autoreload extension is already loaded. To reload it, use:\n",
      "  %reload_ext autoreload\n"
     ]
    }
   ],
   "source": [
    "%load_ext autoreload\n",
    "%autoreload 2\n",
    "from expressiveness_benchmark.types import Program, Task\n",
    "import pandas as pd\n",
    "from dataclasses import replace\n",
    "\n",
    "from code_widget.example import CodeWidget\n",
    "import json"
   ]
  },
  {
   "cell_type": "code",
   "execution_count": 94,
   "metadata": {
    "ExecuteTime": {
     "end_time": "2020-10-28T23:52:54.248549Z",
     "start_time": "2020-10-28T23:52:54.231333Z"
    }
   },
   "outputs": [],
   "source": [
    "# CHANGE ME!\n",
    "TASK_ID = 'reachable'\n",
    "AUTHOR = 'scott'"
   ]
  },
  {
   "cell_type": "code",
   "execution_count": 96,
   "metadata": {
    "ExecuteTime": {
     "end_time": "2020-10-28T23:52:54.268868Z",
     "start_time": "2020-10-28T23:52:54.252064Z"
    }
   },
   "outputs": [],
   "source": [
    "task = Task(\n",
    "    id=TASK_ID,\n",
    "    name=\"reflexive-transitive closure\",\n",
    "    description=\"Given a graph and a vertex v, list the vertices reachable from v (including v)\",\n",
    "    category=\"Graph Reachability\",\n",
    "    plan=[{\n",
    "        \"id\": \"necessary\",\n",
    "        \"description\": \"compute (subset of) reachability relation\",\n",
    "    }, {\n",
    "        \"id\": \"source\",\n",
    "        \"description\": \"select only vertices reachable from v\",\n",
    "    }\n",
    "    ],\n",
    "    sample_input={\n",
    "        \"graph\": [\n",
    "            {\"source\": \"a\", \"target\": \"b\"},\n",
    "            {\"source\": \"b\", \"target\": \"b\"},\n",
    "            {\"source\": \"b\", \"target\": \"c\"},\n",
    "            {\"source\": \"c\", \"target\": \"f\"},\n",
    "            {\"source\": \"c\", \"target\": \"b\"},\n",
    "            {\"source\": \"a\", \"target\": \"d\"},\n",
    "            {\"source\": \"e\", \"target\": \"a\"},\n",
    "        ],\n",
    "        \"query\": [{\"source\": \"a\"}]\n",
    "    },\n",
    "    sample_output=[\"a\", \"b\", \"c\", \"d\", \"f\"],\n",
    ")\n",
    "task.save()\n",
    "\n",
    "prototype = Program(\n",
    "    task=TASK_ID,\n",
    "    author=AUTHOR,\n",
    "    language=''    \n",
    ")"
   ]
  },
  {
   "cell_type": "code",
   "execution_count": 59,
   "metadata": {
    "ExecuteTime": {
     "end_time": "2020-10-28T23:52:54.357843Z",
     "start_time": "2020-10-28T23:52:54.292098Z"
    }
   },
   "outputs": [],
   "source": [
    "datalog = replace(prototype,\n",
    "    language='datalog',\n",
    "    source='''.decl path(x: symbol, y: symbol)\n",
    "path(x, y) :- graph(x, y).\n",
    "path(x, y) :- graph(x, z), path(z, y).\n",
    "reachable(x) :- query(source), path(source, x).''').load_plan()\n",
    "datalog.execute(task)\n",
    "datalog.save()"
   ]
  },
  {
   "cell_type": "code",
   "execution_count": 60,
   "metadata": {},
   "outputs": [],
   "source": [
    "sql = replace(prototype,\n",
    "    language='sql',\n",
    "    source='''WITH RECURSIVE\n",
    "closure(source, target) AS (\n",
    "  SELECT DISTINCT source, target FROM graph\n",
    "  UNION\n",
    "  SELECT edge.source, path.target\n",
    "  FROM closure as path JOIN graph as edge\n",
    "  ON edge.target = path.source\n",
    ")\n",
    "SELECT S.target FROM closure as S\n",
    "JOIN query ON S.source = query.source''').load_plan()\n",
    "sql.execute(task)\n",
    "sql.save()"
   ]
  },
  {
   "cell_type": "code",
   "execution_count": 92,
   "metadata": {
    "ExecuteTime": {
     "end_time": "2020-10-28T23:52:54.290013Z",
     "start_time": "2020-10-28T23:52:54.270985Z"
    }
   },
   "outputs": [],
   "source": [
    "python_imp = replace(prototype,\n",
    "    language='python-imperative',\n",
    "    implementation='',\n",
    "    source='''def reachable(graph, query):\n",
    "    adjacency_list = defaultdict(list)\n",
    "    for edge in graph:\n",
    "        adjacency_list[edge[\"source\"]].append(edge[\"target\"])\n",
    "    source = query[0][\"source\"]\n",
    "    \n",
    "    visited = set()\n",
    "    to_visit = set([source])\n",
    "    \n",
    "    while len(to_visit) > 0:\n",
    "        current = to_visit.pop()\n",
    "        if current in visited:\n",
    "            continue\n",
    "        for neighbor in adjacency_list[current]:\n",
    "            to_visit.add(neighbor)\n",
    "        visited.add(current)\n",
    "            \n",
    "    return list(visited)''')\n",
    "python_imp.execute(task)\n",
    "python_imp.save()"
   ]
  },
  {
   "cell_type": "code",
   "execution_count": 81,
   "metadata": {
    "ExecuteTime": {
     "end_time": "2020-10-28T23:52:54.290013Z",
     "start_time": "2020-10-28T23:52:54.270985Z"
    }
   },
   "outputs": [],
   "source": [
    "# python_fun = replace(prototype,\n",
    "#     language='python-functional',\n",
    "#     implementation='',\n",
    "#     source='''def reachable(graph, query):\n",
    "#     def step(relation):\n",
    "#         return set([\n",
    "#             (source, edge[\"target\"])\n",
    "#             for (source, target) in relation\n",
    "#             for edge in graph\n",
    "#             if target == edge[\"source\"]\n",
    "#         ]).union(relation)\n",
    "\n",
    "#     def fix(f, x):\n",
    "#         next = f(x)\n",
    "#         return x if next == x else fix(f, next)\n",
    "\n",
    "#     source = query[0][\"source\"]\n",
    "#     initial = set([(source, source)])\n",
    "#     return list(set([v for (_, v) in fix(step, initial)]))''')\n",
    "# python_fun.execute(task)\n",
    "# python_fun.save()"
   ]
  },
  {
   "cell_type": "code",
   "execution_count": 85,
   "metadata": {
    "ExecuteTime": {
     "end_time": "2020-10-28T23:52:54.290013Z",
     "start_time": "2020-10-28T23:52:54.270985Z"
    }
   },
   "outputs": [],
   "source": [
    "python_fun = replace(prototype,\n",
    "    language='python-functional',\n",
    "    implementation='',\n",
    "    source='''def reachable(graph, query):\n",
    "    def step(visited):\n",
    "        return set([\n",
    "            edge[\"target\"]\n",
    "            for vertex in visited\n",
    "            for edge in graph\n",
    "            if vertex == edge[\"source\"]\n",
    "        ]).union(visited)\n",
    "\n",
    "    def fix(f, x):\n",
    "        next = f(x)\n",
    "        return x if next == x else fix(f, next)\n",
    "\n",
    "    source = query[0][\"source\"]\n",
    "    return list(fix(step, set([source])))''')\n",
    "python_fun.execute(task)\n",
    "python_fun.save()"
   ]
  },
  {
   "cell_type": "code",
   "execution_count": 64,
   "metadata": {
    "ExecuteTime": {
     "end_time": "2020-10-28T23:52:54.290013Z",
     "start_time": "2020-10-28T23:52:54.270985Z"
    }
   },
   "outputs": [
    {
     "ename": "SyntaxError",
     "evalue": "unexpected EOF while parsing (<string>, line 6)",
     "output_type": "error",
     "traceback": [
      "Traceback \u001b[0;36m(most recent call last)\u001b[0m:\n",
      "  File \u001b[1;32m\"/home/scott/Dropbox/2020-fall/expressiveness-benchmark/.env/lib/python3.8/site-packages/IPython/core/interactiveshell.py\"\u001b[0m, line \u001b[1;32m3417\u001b[0m, in \u001b[1;35mrun_code\u001b[0m\n    exec(code_obj, self.user_global_ns, self.user_ns)\n",
      "  File \u001b[1;32m\"<ipython-input-64-f7e09dd40fd7>\"\u001b[0m, line \u001b[1;32m8\u001b[0m, in \u001b[1;35m<module>\u001b[0m\n    pandas.execute(task)\n",
      "\u001b[0;36m  File \u001b[0;32m\"/home/scott/Dropbox/2020-fall/expressiveness-benchmark/expressiveness_benchmark/types.py\"\u001b[0;36m, line \u001b[0;32m176\u001b[0;36m, in \u001b[0;35mexecute\u001b[0;36m\u001b[0m\n\u001b[0;31m    exec(\u001b[0m\n",
      "\u001b[0;36m  File \u001b[0;32m\"<string>\"\u001b[0;36m, line \u001b[0;32m6\u001b[0m\n\u001b[0;31m    \u001b[0m\n\u001b[0m    ^\u001b[0m\n\u001b[0;31mSyntaxError\u001b[0m\u001b[0;31m:\u001b[0m unexpected EOF while parsing\n"
     ]
    }
   ],
   "source": [
    "# todo\n",
    "pandas = replace(prototype,\n",
    "    language='python-pandas',\n",
    "    implementation='',\n",
    "    source='''def scc(graph):\n",
    "    \n",
    "''')\n",
    "pandas.execute(task)\n",
    "pandas.save()"
   ]
  }
 ],
 "metadata": {
  "kernelspec": {
   "display_name": "Python 3",
   "language": "python",
   "name": "python3"
  },
  "language_info": {
   "codemirror_mode": {
    "name": "ipython",
    "version": 3
   },
   "file_extension": ".py",
   "mimetype": "text/x-python",
   "name": "python",
   "nbconvert_exporter": "python",
   "pygments_lexer": "ipython3",
   "version": "3.8.6"
  },
  "toc": {
   "base_numbering": 1,
   "nav_menu": {},
   "number_sections": true,
   "sideBar": true,
   "skip_h1_title": false,
   "title_cell": "Table of Contents",
   "title_sidebar": "Contents",
   "toc_cell": false,
   "toc_position": {},
   "toc_section_display": true,
   "toc_window_display": false
  },
  "varInspector": {
   "cols": {
    "lenName": 16,
    "lenType": 16,
    "lenVar": 40
   },
   "kernels_config": {
    "python": {
     "delete_cmd_postfix": "",
     "delete_cmd_prefix": "del ",
     "library": "var_list.py",
     "varRefreshCmd": "print(var_dic_list())"
    },
    "r": {
     "delete_cmd_postfix": ") ",
     "delete_cmd_prefix": "rm(",
     "library": "var_list.r",
     "varRefreshCmd": "cat(var_dic_list()) "
    }
   },
   "types_to_exclude": [
    "module",
    "function",
    "builtin_function_or_method",
    "instance",
    "_Feature"
   ],
   "window_display": false
  }
 },
 "nbformat": 4,
 "nbformat_minor": 4
}
