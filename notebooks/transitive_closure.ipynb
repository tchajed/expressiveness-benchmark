{
 "cells": [
  {
   "cell_type": "code",
   "execution_count": 1,
   "metadata": {
    "ExecuteTime": {
     "end_time": "2020-12-18T00:25:37.919616Z",
     "start_time": "2020-12-18T00:25:37.343669Z"
    }
   },
   "outputs": [],
   "source": [
    "%load_ext autoreload\n",
    "%autoreload 2\n",
    "from expressiveness_benchmark.types import Program, Task\n",
    "import pandas as pd\n",
    "from dataclasses import replace\n",
    "\n",
    "from code_widget.example import CodeWidget\n",
    "import json"
   ]
  },
  {
   "cell_type": "code",
   "execution_count": 2,
   "metadata": {
    "ExecuteTime": {
     "end_time": "2020-12-18T00:25:38.150277Z",
     "start_time": "2020-12-18T00:25:38.128595Z"
    }
   },
   "outputs": [],
   "source": [
    "# CHANGE ME!\n",
    "TASK_ID = 'reachable'\n",
    "AUTHOR = 'scott'"
   ]
  },
  {
   "cell_type": "code",
   "execution_count": 3,
   "metadata": {
    "ExecuteTime": {
     "end_time": "2020-12-18T00:25:38.679669Z",
     "start_time": "2020-12-18T00:25:38.654090Z"
    }
   },
   "outputs": [],
   "source": [
    "task = Task(\n",
    "    id=TASK_ID,\n",
    "    name=\"Reflexive-transitive closure\",\n",
    "    description=\"A path is a sequence of edges such that the target of each edge is the source of the next. \\\n",
    "Given a graph and a vertex v, list the vertices reachable by a path from v.\",\n",
    "    category=\"Graphs\",\n",
    "    plan=[\n",
    "    {\n",
    "        \"id\": \"graph\",\n",
    "        \"description\": \"a graph\",\n",
    "    }, {\n",
    "        \"id\": \"source\",\n",
    "        \"description\": \"from v\",\n",
    "    }, {\n",
    "        \"id\": \"edge_match\",\n",
    "        \"description\": \"target of each edge is the source of the next\",\n",
    "    }, {\n",
    "        \"id\": \"edge_sequence\",\n",
    "        \"description\": \"a sequence of edges\",\n",
    "    }, {\n",
    "        \"id\": \"vertices\",\n",
    "        \"description\": \"the vertices reachable by a path\",\n",
    "    }\n",
    "    ],\n",
    "    sample_input={\n",
    "        \"graph\": [\n",
    "            {\"source\": \"a\", \"target\": \"b\"},\n",
    "            {\"source\": \"b\", \"target\": \"b\"},\n",
    "            {\"source\": \"b\", \"target\": \"c\"},\n",
    "            {\"source\": \"c\", \"target\": \"f\"},\n",
    "            {\"source\": \"c\", \"target\": \"b\"},\n",
    "            {\"source\": \"a\", \"target\": \"d\"},\n",
    "            {\"source\": \"e\", \"target\": \"a\"},\n",
    "        ],\n",
    "        \"query\": [{\"source\": \"a\"}]\n",
    "    },\n",
    "    sample_output=[\"a\", \"b\", \"c\", \"d\", \"f\"],\n",
    ")\n",
    "task.save()\n",
    "\n",
    "prototype = Program(\n",
    "    task=TASK_ID,\n",
    "    author=AUTHOR,\n",
    "    language=''    \n",
    ")"
   ]
  },
  {
   "cell_type": "code",
   "execution_count": 9,
   "metadata": {
    "ExecuteTime": {
     "end_time": "2020-12-18T02:16:30.878967Z",
     "start_time": "2020-12-18T02:16:25.619907Z"
    }
   },
   "outputs": [
    {
     "name": "stdout",
     "output_type": "stream",
     "text": [
      "/var/folders/6p/3bzglbgn2ts3v16zf_27zq3r0000gn/T/tmpqplluty3\n",
      "graph:(\"**\"; enlist \",\") 0:`:/var/folders/6p/3bzglbgn2ts3v16zf_27zq3r0000gn/T/tmpqplluty3/graph.csv\n",
      "query:(\"**\"; enlist \",\") 0:`:/var/folders/6p/3bzglbgn2ts3v16zf_27zq3r0000gn/T/tmpqplluty3/query.csv\n",
      "reachable: {[graph; query]\n",
      "  graph: (first') each graph;\n",
      "  nodes:: asc distinct graph[`source], graph[`target];\n",
      "  adj_list: `source xgroup graph;\n",
      "  adj_matrix: {in[;x] each nodes} each nodes ,' (adj_list each nodes) `target;\n",
      "  reachable: last ({x | any each (x *\\: x)} \\) adj_matrix;\n",
      "  query_idx: nodes ? (first first query[`source]);\n",
      "  nodes where reachable[query_idx]\n",
      "  }\n",
      "\n",
      "output: reachable[graph; query]\n",
      "output: ([] c:output)\n",
      "output: (asc cols output) xcols output\n",
      "save `:output.csv\n",
      "\n"
     ]
    }
   ],
   "source": [
    "q = replace(prototype,\n",
    "    language='q',\n",
    "    source='''reachable: {[graph; query]\n",
    "  graph: (first') each graph;\n",
    "  nodes:: asc distinct graph[`source], graph[`target];\n",
    "  adj_list: `source xgroup graph;\n",
    "  adj_matrix: {in[;x] each nodes} each nodes ,' (adj_list each nodes) `target;\n",
    "  reachable: last ({x | any each (x *\\: x)} \\) adj_matrix;\n",
    "  query_idx: nodes ? (first first query[`source]);\n",
    "  nodes where reachable[query_idx]\n",
    "  }''').load_plan()\n",
    "q.execute(task, debug=True)\n",
    "q.save()"
   ]
  },
  {
   "cell_type": "code",
   "execution_count": 136,
   "metadata": {
    "ExecuteTime": {
     "end_time": "2020-10-28T23:52:54.357843Z",
     "start_time": "2020-10-28T23:52:54.292098Z"
    }
   },
   "outputs": [],
   "source": [
    "datalog = replace(prototype,\n",
    "    language='datalog',\n",
    "    source='''.decl path(x: symbol, y: symbol)\n",
    "path(x, y) :- graph(x, y).\n",
    "path(x, y) :- graph(x, z), path(z, y).\n",
    "reachable(source) :- query(source).\n",
    "reachable(x) :- query(source), path(source, x).''').load_plan()\n",
    "datalog.execute(task)\n",
    "datalog.save()"
   ]
  },
  {
   "cell_type": "code",
   "execution_count": 141,
   "metadata": {},
   "outputs": [],
   "source": [
    "sql = replace(prototype,\n",
    "    language='sql',\n",
    "    source='''WITH RECURSIVE\n",
    "closure(source, target) AS (\n",
    "  SELECT source, source FROM graph\n",
    "  UNION\n",
    "  SELECT source, target FROM graph\n",
    "  UNION\n",
    "  SELECT edge.source, path.target\n",
    "  FROM closure as path JOIN graph as edge\n",
    "  ON edge.target = path.source\n",
    ")\n",
    "SELECT S.target FROM closure as S\n",
    "JOIN query ON S.source = query.source''').load_plan()\n",
    "sql.execute(task)\n",
    "sql.save()"
   ]
  },
  {
   "cell_type": "code",
   "execution_count": 142,
   "metadata": {
    "ExecuteTime": {
     "end_time": "2020-10-28T23:52:54.290013Z",
     "start_time": "2020-10-28T23:52:54.270985Z"
    }
   },
   "outputs": [],
   "source": [
    "python_imp = replace(prototype,\n",
    "    language='python-imperative',\n",
    "    implementation='',\n",
    "    source='''def reachable(graph, query):\n",
    "  adjacency_list = defaultdict(list)\n",
    "  for edge in graph:\n",
    "    adjacency_list[edge[\"source\"]].append(edge[\"target\"])\n",
    "  source = query[0][\"source\"]\n",
    "\n",
    "  visited = set()\n",
    "  to_visit = set([source])\n",
    "    \n",
    "  while len(to_visit) > 0:\n",
    "    current = to_visit.pop()\n",
    "    if current in visited:\n",
    "      continue\n",
    "    for neighbor in adjacency_list[current]:\n",
    "      to_visit.add(neighbor)\n",
    "    visited.add(current)\n",
    "            \n",
    "  return list(visited)''')\n",
    "python_imp.execute(task)\n",
    "python_imp.save()"
   ]
  },
  {
   "cell_type": "code",
   "execution_count": 143,
   "metadata": {
    "ExecuteTime": {
     "end_time": "2020-10-28T23:52:54.290013Z",
     "start_time": "2020-10-28T23:52:54.270985Z"
    }
   },
   "outputs": [],
   "source": [
    "python_fun = replace(prototype,\n",
    "    language='python-functional',\n",
    "    implementation='',\n",
    "    source='''def reachable(graph, query):\n",
    "  def step(visited):\n",
    "    frontier = set([\n",
    "      edge[\"target\"]\n",
    "      for vertex in visited\n",
    "      for edge in graph\n",
    "      if vertex == edge[\"source\"]\n",
    "    ])\n",
    "    return frontier.union(visited)\n",
    "\n",
    "  def fix(f, x):\n",
    "    next = f(x)\n",
    "    return x if next == x else fix(f, next)\n",
    "\n",
    "  source = query[0][\"source\"]\n",
    "  return list(fix(step, set([source])))''')\n",
    "python_fun.execute(task)\n",
    "python_fun.save()"
   ]
  },
  {
   "cell_type": "code",
   "execution_count": 144,
   "metadata": {},
   "outputs": [
    {
     "data": {
      "application/vnd.jupyter.widget-view+json": {
       "model_id": "4f8cc17bf78241468506a0ac491e1a10",
       "version_major": 2,
       "version_minor": 0
      },
      "text/plain": [
       "Output()"
      ]
     },
     "metadata": {},
     "output_type": "display_data"
    },
    {
     "data": {
      "application/vnd.jupyter.widget-view+json": {
       "model_id": "d4b2d4144351462a9bdaee0281062b6d",
       "version_major": 2,
       "version_minor": 0
      },
      "text/plain": [
       "CodeWidget(program='{\"task\": \"reachable\", \"language\": \"datalog\", \"plan\": {\"graph\": [], \"source\": [{\"line\": 4, …"
      ]
     },
     "metadata": {},
     "output_type": "display_data"
    }
   ],
   "source": [
    "datalog.widget(task)"
   ]
  },
  {
   "cell_type": "code",
   "execution_count": 145,
   "metadata": {},
   "outputs": [
    {
     "data": {
      "application/vnd.jupyter.widget-view+json": {
       "model_id": "71736fc0f80d41f98ececfdd43ed0c1e",
       "version_major": 2,
       "version_minor": 0
      },
      "text/plain": [
       "Output()"
      ]
     },
     "metadata": {},
     "output_type": "display_data"
    },
    {
     "data": {
      "application/vnd.jupyter.widget-view+json": {
       "model_id": "1f02cabb634c400cba951d5a05f374fc",
       "version_major": 2,
       "version_minor": 0
      },
      "text/plain": [
       "CodeWidget(program='{\"task\": \"reachable\", \"language\": \"python-imperative\", \"plan\": {}, \"source\": \"def reachabl…"
      ]
     },
     "metadata": {},
     "output_type": "display_data"
    }
   ],
   "source": [
    "python_imp.widget(task)"
   ]
  },
  {
   "cell_type": "code",
   "execution_count": 146,
   "metadata": {},
   "outputs": [
    {
     "data": {
      "application/vnd.jupyter.widget-view+json": {
       "model_id": "b20194dffe214c769514406722c40d3e",
       "version_major": 2,
       "version_minor": 0
      },
      "text/plain": [
       "Output()"
      ]
     },
     "metadata": {},
     "output_type": "display_data"
    },
    {
     "data": {
      "application/vnd.jupyter.widget-view+json": {
       "model_id": "46005e3e281b42c08c6da2fabf328f1b",
       "version_major": 2,
       "version_minor": 0
      },
      "text/plain": [
       "CodeWidget(program='{\"task\": \"reachable\", \"language\": \"python-functional\", \"plan\": {}, \"source\": \"def reachabl…"
      ]
     },
     "metadata": {},
     "output_type": "display_data"
    }
   ],
   "source": [
    "python_fun.widget(task)"
   ]
  },
  {
   "cell_type": "code",
   "execution_count": 147,
   "metadata": {},
   "outputs": [
    {
     "data": {
      "application/vnd.jupyter.widget-view+json": {
       "model_id": "65df9581acb54e51a93c6e5d4721a55b",
       "version_major": 2,
       "version_minor": 0
      },
      "text/plain": [
       "Output()"
      ]
     },
     "metadata": {},
     "output_type": "display_data"
    },
    {
     "data": {
      "application/vnd.jupyter.widget-view+json": {
       "model_id": "e070185967314946b78ad99fb63ac098",
       "version_major": 2,
       "version_minor": 0
      },
      "text/plain": [
       "CodeWidget(program='{\"task\": \"reachable\", \"language\": \"sql\", \"plan\": {\"step\": [{\"line\": 2, \"start\": 0, \"end\": …"
      ]
     },
     "metadata": {},
     "output_type": "display_data"
    }
   ],
   "source": [
    "sql.widget(task)"
   ]
  },
  {
   "cell_type": "code",
   "execution_count": 64,
   "metadata": {
    "ExecuteTime": {
     "end_time": "2020-10-28T23:52:54.290013Z",
     "start_time": "2020-10-28T23:52:54.270985Z"
    },
    "collapsed": true
   },
   "outputs": [
    {
     "ename": "SyntaxError",
     "evalue": "unexpected EOF while parsing (<string>, line 6)",
     "output_type": "error",
     "traceback": [
      "Traceback \u001b[0;36m(most recent call last)\u001b[0m:\n",
      "  File \u001b[1;32m\"/home/scott/Dropbox/2020-fall/expressiveness-benchmark/.env/lib/python3.8/site-packages/IPython/core/interactiveshell.py\"\u001b[0m, line \u001b[1;32m3417\u001b[0m, in \u001b[1;35mrun_code\u001b[0m\n    exec(code_obj, self.user_global_ns, self.user_ns)\n",
      "  File \u001b[1;32m\"<ipython-input-64-f7e09dd40fd7>\"\u001b[0m, line \u001b[1;32m8\u001b[0m, in \u001b[1;35m<module>\u001b[0m\n    pandas.execute(task)\n",
      "\u001b[0;36m  File \u001b[0;32m\"/home/scott/Dropbox/2020-fall/expressiveness-benchmark/expressiveness_benchmark/types.py\"\u001b[0;36m, line \u001b[0;32m176\u001b[0;36m, in \u001b[0;35mexecute\u001b[0;36m\u001b[0m\n\u001b[0;31m    exec(\u001b[0m\n",
      "\u001b[0;36m  File \u001b[0;32m\"<string>\"\u001b[0;36m, line \u001b[0;32m6\u001b[0m\n\u001b[0;31m    \u001b[0m\n\u001b[0m    ^\u001b[0m\n\u001b[0;31mSyntaxError\u001b[0m\u001b[0;31m:\u001b[0m unexpected EOF while parsing\n"
     ]
    }
   ],
   "source": [
    "# todo?\n",
    "pandas = replace(prototype,\n",
    "    language='python-pandas',\n",
    "    implementation='',\n",
    "    source='''def scc(graph):\n",
    "    \n",
    "''')\n",
    "pandas.execute(task)\n",
    "pandas.save()"
   ]
  }
 ],
 "metadata": {
  "kernelspec": {
   "display_name": "Python 3",
   "language": "python",
   "name": "python3"
  },
  "language_info": {
   "codemirror_mode": {
    "name": "ipython",
    "version": 3
   },
   "file_extension": ".py",
   "mimetype": "text/x-python",
   "name": "python",
   "nbconvert_exporter": "python",
   "pygments_lexer": "ipython3",
   "version": "3.9.1"
  },
  "toc": {
   "base_numbering": 1,
   "nav_menu": {},
   "number_sections": true,
   "sideBar": true,
   "skip_h1_title": false,
   "title_cell": "Table of Contents",
   "title_sidebar": "Contents",
   "toc_cell": false,
   "toc_position": {},
   "toc_section_display": true,
   "toc_window_display": false
  },
  "varInspector": {
   "cols": {
    "lenName": 16,
    "lenType": 16,
    "lenVar": 40
   },
   "kernels_config": {
    "python": {
     "delete_cmd_postfix": "",
     "delete_cmd_prefix": "del ",
     "library": "var_list.py",
     "varRefreshCmd": "print(var_dic_list())"
    },
    "r": {
     "delete_cmd_postfix": ") ",
     "delete_cmd_prefix": "rm(",
     "library": "var_list.r",
     "varRefreshCmd": "cat(var_dic_list()) "
    }
   },
   "types_to_exclude": [
    "module",
    "function",
    "builtin_function_or_method",
    "instance",
    "_Feature"
   ],
   "window_display": false
  }
 },
 "nbformat": 4,
 "nbformat_minor": 4
}
