{
 "cells": [
  {
   "cell_type": "code",
   "execution_count": 1,
   "metadata": {
    "ExecuteTime": {
     "end_time": "2020-12-18T00:12:16.498786Z",
     "start_time": "2020-12-18T00:12:15.812353Z"
    }
   },
   "outputs": [],
   "source": [
    "%load_ext autoreload\n",
    "%autoreload 2\n",
    "from expressiveness_benchmark.types import Program, Task\n",
    "import pandas as pd\n",
    "from dataclasses import replace"
   ]
  },
  {
   "cell_type": "code",
   "execution_count": 2,
   "metadata": {
    "ExecuteTime": {
     "end_time": "2020-12-18T00:12:16.559857Z",
     "start_time": "2020-12-18T00:12:16.541319Z"
    }
   },
   "outputs": [],
   "source": [
    "# CHANGE ME!\n",
    "TASK_ID = 'average_window'\n",
    "AUTHOR = 'scott'"
   ]
  },
  {
   "cell_type": "code",
   "execution_count": 3,
   "metadata": {
    "ExecuteTime": {
     "end_time": "2020-12-18T00:12:17.188631Z",
     "start_time": "2020-12-18T00:12:17.159115Z"
    }
   },
   "outputs": [],
   "source": [
    "task = Task(\n",
    "    id=TASK_ID,\n",
    "    name=\"Windowed average\",\n",
    "    description=\"compute average of data points in each disjoint time window of width 7 ordered by time\",\n",
    "    category='Time Series',\n",
    "    plan=[{\n",
    "        \"id\": \"key\",\n",
    "        \"description\": \"of width 7\",\n",
    "    }, {\n",
    "        \"id\": \"group by\",\n",
    "        \"description\": \"points in each disjoint time window\",\n",
    "    }, {\n",
    "        \"id\": \"average\",\n",
    "        \"description\": \"compute average\",\n",
    "    }, {\n",
    "        \"id\": \"output_order\",\n",
    "        \"description\": \"ordered by time\",\n",
    "    }],\n",
    "    sample_input={\n",
    "        \"data\": [\n",
    "            {\"time\": 20, \"x\": 14.0},\n",
    "            {\"time\": 19, \"x\": 15.0},\n",
    "            {\"time\": 2, \"x\": 3.0},\n",
    "            {\"time\": 1, \"x\": 2.0},\n",
    "            {\"time\": 3, \"x\": 7.0},\n",
    "            {\"time\": 10, \"x\": 9.0},\n",
    "            {\"time\": 11, \"x\": 11.0},\n",
    "        ]\n",
    "    },\n",
    "    sample_output=[4.0, 10.0, 14.5]\n",
    ")\n",
    "task.save()\n",
    "\n",
    "prototype = Program(\n",
    "    task=TASK_ID,\n",
    "    author=AUTHOR,\n",
    "    language=''    \n",
    ")"
   ]
  },
  {
   "cell_type": "code",
   "execution_count": 15,
   "metadata": {
    "ExecuteTime": {
     "end_time": "2020-12-18T00:18:44.819400Z",
     "start_time": "2020-12-18T00:18:39.469727Z"
    }
   },
   "outputs": [
    {
     "name": "stdout",
     "output_type": "stream",
     "text": [
      "/var/folders/6p/3bzglbgn2ts3v16zf_27zq3r0000gn/T/tmp56461h_3\n",
      "data:(\"IF\"; enlist \",\") 0:`:/var/folders/6p/3bzglbgn2ts3v16zf_27zq3r0000gn/T/tmp56461h_3/data.csv\n",
      "average_window: {[data]\n",
      "  (value select avg x by 7 xbar time from data) `x}\n",
      "\n",
      "output: average_window[data]\n",
      "output: ([] c:output)\n",
      "output: (asc cols output) xcols output\n",
      "save `:output.csv\n",
      "\n"
     ]
    }
   ],
   "source": [
    "q = replace(prototype,\n",
    "    language='q',\n",
    "    source='''average_window: {[data]\n",
    "  (value select avg x by 7 xbar time from data) `x}''').load_plan()\n",
    "q.execute(task, debug=True)\n",
    "q.save()"
   ]
  },
  {
   "cell_type": "code",
   "execution_count": 16,
   "metadata": {
    "ExecuteTime": {
     "end_time": "2020-12-18T00:18:46.103365Z",
     "start_time": "2020-12-18T00:18:46.067165Z"
    }
   },
   "outputs": [
    {
     "data": {
      "application/vnd.jupyter.widget-view+json": {
       "model_id": "6959facdb78d4143af36c292b2f650c5",
       "version_major": 2,
       "version_minor": 0
      },
      "text/plain": [
       "Output()"
      ]
     },
     "metadata": {},
     "output_type": "display_data"
    },
    {
     "data": {
      "application/vnd.jupyter.widget-view+json": {
       "model_id": "5c5454e25a2c415ba97e0fcf559d79a3",
       "version_major": 2,
       "version_minor": 0
      },
      "text/plain": [
       "CodeWidget(program='{\"task\": \"average_window\", \"language\": \"q\", \"plan\": {}, \"source\": \"average_window: {[data]…"
      ]
     },
     "metadata": {},
     "output_type": "display_data"
    }
   ],
   "source": [
    "q.widget(task)"
   ]
  },
  {
   "cell_type": "code",
   "execution_count": 7,
   "metadata": {
    "ExecuteTime": {
     "end_time": "2020-12-18T00:15:04.378754Z",
     "start_time": "2020-12-18T00:15:04.329630Z"
    }
   },
   "outputs": [
    {
     "name": "stdout",
     "output_type": "stream",
     "text": [
      "`summarise()` ungrouping output (override with `.groups` argument)\n"
     ]
    }
   ],
   "source": [
    "r = replace(prototype,\n",
    "    language='r',\n",
    "    source='''average_window <- function(data) {\n",
    "  data %>% \n",
    "    group_by(floor(time / 7)) %>% \n",
    "    summarize(avg = mean(x)) %>% \n",
    "    pull(avg)\n",
    "}''').load_plan()\n",
    "r.execute(task)\n",
    "r.save()"
   ]
  },
  {
   "cell_type": "code",
   "execution_count": 8,
   "metadata": {
    "ExecuteTime": {
     "end_time": "2020-12-18T00:15:06.272999Z",
     "start_time": "2020-12-18T00:15:06.221285Z"
    }
   },
   "outputs": [
    {
     "data": {
      "application/vnd.jupyter.widget-view+json": {
       "model_id": "f482b6740a014b13ac5261ebafedac0d",
       "version_major": 2,
       "version_minor": 0
      },
      "text/plain": [
       "Output()"
      ]
     },
     "metadata": {},
     "output_type": "display_data"
    },
    {
     "data": {
      "application/vnd.jupyter.widget-view+json": {
       "model_id": "466bf096594f42acb23c813392708c7b",
       "version_major": 2,
       "version_minor": 0
      },
      "text/plain": [
       "CodeWidget(program='{\"task\": \"average_window\", \"language\": \"r\", \"plan\": {}, \"source\": \"average_window <- funct…"
      ]
     },
     "metadata": {},
     "output_type": "display_data"
    }
   ],
   "source": [
    "r.widget(task)"
   ]
  },
  {
   "cell_type": "code",
   "execution_count": 77,
   "metadata": {
    "ExecuteTime": {
     "end_time": "2020-10-28T23:52:54.290013Z",
     "start_time": "2020-10-28T23:52:54.270985Z"
    }
   },
   "outputs": [],
   "source": [
    "python_imp = replace(prototype,\n",
    "    language='python-imperative',\n",
    "    implementation='',\n",
    "    source='''def average_window(data):\n",
    "  def window(value):\n",
    "    return math.floor(value[\"time\"] / 7)\n",
    "  if len(data) < 1:\n",
    "    return []\n",
    "  data.sort(key=lambda v: v[\"time\"])\n",
    "  result = []\n",
    "  current_window = window(data[0])\n",
    "  total, count = data[0][\"x\"], 1\n",
    "  for value in data[1:]:\n",
    "    time_window = window(value)\n",
    "    if time_window != current_window:\n",
    "      result.append(total / count)\n",
    "      current_window, total, count = time_window, 0, 0\n",
    "    total += value[\"x\"]\n",
    "    count += 1\n",
    "  result.append(total / count)\n",
    "  return result''').load_plan()\n",
    "python_imp.execute(task)\n",
    "python_imp.save()"
   ]
  },
  {
   "cell_type": "code",
   "execution_count": 72,
   "metadata": {},
   "outputs": [],
   "source": [
    "python_fun = replace(prototype,\n",
    "    language='python-functional',\n",
    "    implementation='',\n",
    "    source='''def average_window(data):\n",
    "  def window(value):\n",
    "    return math.floor(value[\"time\"] / 7)\n",
    "  grouped_values = [\n",
    "    [point[\"x\"] for point in data if window(point) == w]\n",
    "    for w in set(map(window, data))\n",
    "  ]\n",
    "  return [\n",
    "    sum(values) / len(values)\n",
    "    for values in grouped_values\n",
    "  ]''').load_plan()\n",
    "python_fun.execute(task)\n",
    "python_fun.save()"
   ]
  },
  {
   "cell_type": "code",
   "execution_count": 75,
   "metadata": {
    "ExecuteTime": {
     "end_time": "2020-10-28T23:52:54.290013Z",
     "start_time": "2020-10-28T23:52:54.270985Z"
    }
   },
   "outputs": [],
   "source": [
    "pandas = replace(prototype,\n",
    "    language='python-pandas',\n",
    "    implementation='',\n",
    "    source='''def average_window(data):\n",
    "  def window(t):\n",
    "    return math.floor(t / 7)\n",
    "  result = (data.sort_values(\"time\")\n",
    "                .set_index(\"time\").groupby(window).mean())\n",
    "  return result['x'].tolist()''').load_plan()\n",
    "pandas.execute(task)\n",
    "pandas.save()"
   ]
  },
  {
   "cell_type": "code",
   "execution_count": 52,
   "metadata": {},
   "outputs": [],
   "source": [
    "sql = replace(prototype,\n",
    "    language='sql',\n",
    "    source='''SELECT AVG(x) as x\n",
    "FROM data\n",
    "GROUP BY cast(time / 7 as int)\n",
    "ORDER BY time''').load_plan()\n",
    "sql.execute(task)\n",
    "sql.save()"
   ]
  },
  {
   "cell_type": "code",
   "execution_count": 82,
   "metadata": {},
   "outputs": [],
   "source": [
    "datalog = replace(prototype,\n",
    "    language='datalog',\n",
    "    source='''.decl window(w: number)\n",
    "window(t/7) :- data(t, _).\n",
    ".decl windowed(w: number, x: float)\n",
    "windowed(t/7, x) :- data(t, x).\n",
    ".decl windowed_total(w: number, x: float)\n",
    "windowed_total(w, total / n) :- window(w),\n",
    "  total = sum x : { windowed(w, x) },\n",
    "      n = sum z : { windowed(w, x), z=1.0 }.\n",
    "average_window(v) :- windowed_total(_, v).''').load_plan()\n",
    "datalog.execute(task, debug=False)\n",
    "datalog.save()"
   ]
  },
  {
   "cell_type": "code",
   "execution_count": 66,
   "metadata": {},
   "outputs": [
    {
     "data": {
      "application/vnd.jupyter.widget-view+json": {
       "model_id": "e11c14922f8c40f8a449b59f7a6c8738",
       "version_major": 2,
       "version_minor": 0
      },
      "text/plain": [
       "Output()"
      ]
     },
     "metadata": {},
     "output_type": "display_data"
    },
    {
     "data": {
      "application/vnd.jupyter.widget-view+json": {
       "model_id": "d579d46c2e8e4d6383f05daaec09cac6",
       "version_major": 2,
       "version_minor": 0
      },
      "text/plain": [
       "CodeWidget(program='{\"task\": \"average_window\", \"language\": \"sql\", \"plan\": {\"key\": [{\"line\": 2, \"start\": 9, \"en…"
      ]
     },
     "metadata": {},
     "output_type": "display_data"
    }
   ],
   "source": [
    "sql.widget(task)"
   ]
  },
  {
   "cell_type": "code",
   "execution_count": 83,
   "metadata": {},
   "outputs": [
    {
     "data": {
      "application/vnd.jupyter.widget-view+json": {
       "model_id": "df3b72d42d6047bda2d7926ad0dc459c",
       "version_major": 2,
       "version_minor": 0
      },
      "text/plain": [
       "Output()"
      ]
     },
     "metadata": {},
     "output_type": "display_data"
    },
    {
     "data": {
      "application/vnd.jupyter.widget-view+json": {
       "model_id": "fb5d550ae0764854b38bfce1ab8285a3",
       "version_major": 2,
       "version_minor": 0
      },
      "text/plain": [
       "CodeWidget(program='{\"task\": \"average_window\", \"language\": \"datalog\", \"plan\": {\"average\": [{\"line\": 5, \"start\"…"
      ]
     },
     "metadata": {},
     "output_type": "display_data"
    }
   ],
   "source": [
    "datalog.widget(task)"
   ]
  },
  {
   "cell_type": "code",
   "execution_count": 87,
   "metadata": {},
   "outputs": [
    {
     "data": {
      "application/vnd.jupyter.widget-view+json": {
       "model_id": "7764c9425b6f41ee9569a97f384ed11f",
       "version_major": 2,
       "version_minor": 0
      },
      "text/plain": [
       "Output()"
      ]
     },
     "metadata": {},
     "output_type": "display_data"
    },
    {
     "data": {
      "application/vnd.jupyter.widget-view+json": {
       "model_id": "2b46359cc7614f5ab2aba31127f0b131",
       "version_major": 2,
       "version_minor": 0
      },
      "text/plain": [
       "CodeWidget(program='{\"task\": \"average_window\", \"language\": \"python-pandas\", \"plan\": {\"key\": [{\"line\": 1, \"star…"
      ]
     },
     "metadata": {},
     "output_type": "display_data"
    }
   ],
   "source": [
    "pandas.widget(task)"
   ]
  },
  {
   "cell_type": "code",
   "execution_count": 88,
   "metadata": {},
   "outputs": [
    {
     "data": {
      "application/vnd.jupyter.widget-view+json": {
       "model_id": "16bd9412df5f4ec698e070bd82e4ef13",
       "version_major": 2,
       "version_minor": 0
      },
      "text/plain": [
       "Output()"
      ]
     },
     "metadata": {},
     "output_type": "display_data"
    },
    {
     "data": {
      "application/vnd.jupyter.widget-view+json": {
       "model_id": "e9d9b9c78e99470b89110d6c8a45ecd2",
       "version_major": 2,
       "version_minor": 0
      },
      "text/plain": [
       "CodeWidget(program='{\"task\": \"average_window\", \"language\": \"python-functional\", \"plan\": {\"output_order\": [{\"li…"
      ]
     },
     "metadata": {},
     "output_type": "display_data"
    }
   ],
   "source": [
    "python_fun.widget(task)"
   ]
  },
  {
   "cell_type": "code",
   "execution_count": 89,
   "metadata": {},
   "outputs": [
    {
     "data": {
      "application/vnd.jupyter.widget-view+json": {
       "model_id": "be2a63a6efe84717b26e21b85d696e48",
       "version_major": 2,
       "version_minor": 0
      },
      "text/plain": [
       "Output()"
      ]
     },
     "metadata": {},
     "output_type": "display_data"
    },
    {
     "data": {
      "application/vnd.jupyter.widget-view+json": {
       "model_id": "0d1ced0bc5494876a435457ed9b1ecd6",
       "version_major": 2,
       "version_minor": 0
      },
      "text/plain": [
       "CodeWidget(program='{\"task\": \"average_window\", \"language\": \"python-imperative\", \"plan\": {\"key\": [{\"line\": 1, \"…"
      ]
     },
     "metadata": {},
     "output_type": "display_data"
    }
   ],
   "source": [
    "python_imp.widget(task)"
   ]
  }
 ],
 "metadata": {
  "kernelspec": {
   "display_name": "Python 3",
   "language": "python",
   "name": "python3"
  },
  "language_info": {
   "codemirror_mode": {
    "name": "ipython",
    "version": 3
   },
   "file_extension": ".py",
   "mimetype": "text/x-python",
   "name": "python",
   "nbconvert_exporter": "python",
   "pygments_lexer": "ipython3",
   "version": "3.9.1"
  },
  "toc": {
   "base_numbering": 1,
   "nav_menu": {},
   "number_sections": true,
   "sideBar": true,
   "skip_h1_title": false,
   "title_cell": "Table of Contents",
   "title_sidebar": "Contents",
   "toc_cell": false,
   "toc_position": {},
   "toc_section_display": true,
   "toc_window_display": false
  },
  "varInspector": {
   "cols": {
    "lenName": 16,
    "lenType": 16,
    "lenVar": 40
   },
   "kernels_config": {
    "python": {
     "delete_cmd_postfix": "",
     "delete_cmd_prefix": "del ",
     "library": "var_list.py",
     "varRefreshCmd": "print(var_dic_list())"
    },
    "r": {
     "delete_cmd_postfix": ") ",
     "delete_cmd_prefix": "rm(",
     "library": "var_list.r",
     "varRefreshCmd": "cat(var_dic_list()) "
    }
   },
   "types_to_exclude": [
    "module",
    "function",
    "builtin_function_or_method",
    "instance",
    "_Feature"
   ],
   "window_display": false
  }
 },
 "nbformat": 4,
 "nbformat_minor": 4
}
