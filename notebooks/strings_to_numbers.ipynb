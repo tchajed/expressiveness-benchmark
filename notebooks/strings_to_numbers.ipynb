{
 "cells": [
  {
   "cell_type": "code",
   "execution_count": 1,
   "metadata": {
    "ExecuteTime": {
     "end_time": "2020-11-04T19:44:00.472531Z",
     "start_time": "2020-11-04T19:43:59.996160Z"
    }
   },
   "outputs": [],
   "source": [
    "%load_ext autoreload\n",
    "%autoreload 2\n",
    "from expressiveness_benchmark.types import Plan, Task, Language, SourceRange, Program\n",
    "from code_widget.example import CodeWidget\n",
    "from dataclasses import replace\n",
    "import json\n",
    "import pandas as pd"
   ]
  },
  {
   "cell_type": "code",
   "execution_count": 2,
   "metadata": {
    "ExecuteTime": {
     "end_time": "2020-11-04T19:44:00.529902Z",
     "start_time": "2020-11-04T19:44:00.514340Z"
    }
   },
   "outputs": [],
   "source": [
    "# CHANGE ME!\n",
    "TASK_ID = 'strings_to_numbers'\n",
    "AUTHOR = 'will'"
   ]
  },
  {
   "cell_type": "code",
   "execution_count": 72,
   "metadata": {
    "ExecuteTime": {
     "end_time": "2020-11-04T22:38:52.866628Z",
     "start_time": "2020-11-04T22:38:52.849163Z"
    }
   },
   "outputs": [],
   "source": [
    "task = Task(\n",
    "    id=TASK_ID,\n",
    "    category=\"Strings\",\n",
    "    description=\"Convert strings with different formats to numbers\",\n",
    "    plan=[\n",
    "    ],\n",
    "    sample_input={\n",
    "        \"numbers\": [\n",
    "            {\"format\": \"comma_sep\", \"value\": \"12,337,800\"},\n",
    "            {\"format\": \"under_sep\", \"value\": \"80_999\"}\n",
    "        ]\n",
    "    },\n",
    "    sample_output=[12337800, 80999],\n",
    ")\n",
    "task.save()\n",
    "\n",
    "prototype = Program(\n",
    "    task=TASK_ID,\n",
    "    author=AUTHOR,\n",
    "    language=''    \n",
    ")"
   ]
  },
  {
   "cell_type": "code",
   "execution_count": 73,
   "metadata": {
    "ExecuteTime": {
     "end_time": "2020-11-04T22:39:14.178436Z",
     "start_time": "2020-11-04T22:39:14.145470Z"
    }
   },
   "outputs": [],
   "source": [
    "sql = replace(prototype,\n",
    "    language='sql',\n",
    "    source='''SELECT \n",
    "  CAST((CASE format\n",
    "    WHEN \"comma_sep\" THEN REPLACE(value, \",\", \"\")\n",
    "    WHEN \"under_sep\" THEN REPLACE(value, \"_\", \"\")\n",
    "    END) AS integer)\n",
    "FROM numbers''').load_plan()\n",
    "sql.execute(task)\n",
    "sql.save()"
   ]
  },
  {
   "cell_type": "code",
   "execution_count": 71,
   "metadata": {
    "ExecuteTime": {
     "end_time": "2020-11-04T22:38:51.741110Z",
     "start_time": "2020-11-04T22:38:51.626986Z"
    }
   },
   "outputs": [],
   "source": [
    "datalog = replace(prototype,\n",
    "    language='datalog',\n",
    "    source='''.decl clean(format:symbol, inp:symbol, i:number, outp:symbol) \n",
    "clean(format, inp, 0, \"\") :- numbers(format, inp).\n",
    "clean(format, inp, i+1, outp) :-\n",
    "  clean(format, inp, i, outp_rec),\n",
    "  i <= strlen(inp),\n",
    "  chr = substr(inp, i, 1),\n",
    "  ((format = \"comma_sep\", sep = \",\");\n",
    "   (format = \"under_sep\", sep = \"_\")),\n",
    "  ((chr  = sep, outp = outp_rec);\n",
    "   (chr != sep, outp = cat(outp_rec, chr))).\n",
    "\n",
    "strings_to_numbers(n) :-\n",
    "  clean(format, inp, strlen(inp), outp),\n",
    "  n = to_number(outp).''').load_plan()\n",
    "datalog.execute(task)\n",
    "datalog.save()"
   ]
  },
  {
   "cell_type": "code",
   "execution_count": 70,
   "metadata": {
    "ExecuteTime": {
     "end_time": "2020-11-04T22:38:51.360646Z",
     "start_time": "2020-11-04T22:38:51.327172Z"
    }
   },
   "outputs": [],
   "source": [
    "pandas = replace(prototype,\n",
    "    language='python-pandas',\n",
    "    source='''def strings_to_numbers(numbers):\n",
    "    def convert(row):\n",
    "      sep = \",\" if row.format == 'comma_sep' else \"_\"\n",
    "      return int(row.value.replace(sep, \"\"))\n",
    "    return numbers.apply(convert, axis=1).tolist()''').load_plan()\n",
    "pandas.execute(task)\n",
    "pandas.save()"
   ]
  },
  {
   "cell_type": "code",
   "execution_count": 69,
   "metadata": {
    "ExecuteTime": {
     "end_time": "2020-11-04T22:38:50.882895Z",
     "start_time": "2020-11-04T22:38:50.856692Z"
    }
   },
   "outputs": [],
   "source": [
    "imperative = replace(prototype,\n",
    "    language='python-imperative',\n",
    "    source='''def strings_to_numbers(numbers):\n",
    "    output = []\n",
    "    for row in numbers:\n",
    "      if row[\"format\"] == 'comma_sep':\n",
    "        sep = \",\"\n",
    "      else:\n",
    "        sep = \"_\"\n",
    "      output.append(int(row[\"value\"].replace(sep, \"\")))\n",
    "    return output''').load_plan()\n",
    "imperative.execute(task)\n",
    "imperative.save()"
   ]
  },
  {
   "cell_type": "code",
   "execution_count": 68,
   "metadata": {
    "ExecuteTime": {
     "end_time": "2020-11-04T22:38:50.614423Z",
     "start_time": "2020-11-04T22:38:50.587736Z"
    }
   },
   "outputs": [],
   "source": [
    "functional = replace(prototype,\n",
    "    language='python-functional',\n",
    "    source='''def strings_to_numbers(numbers):\n",
    "    return [\n",
    "      int(row[\"value\"].replace(\n",
    "        \",\" if row[\"format\"] == \"comma_sep\" else \"_\", \"\"))\n",
    "      for row in numbers        \n",
    "    ]''').load_plan()\n",
    "functional.execute(task)\n",
    "functional.save()"
   ]
  }
 ],
 "metadata": {
  "kernelspec": {
   "display_name": "Python 3",
   "language": "python",
   "name": "python3"
  },
  "language_info": {
   "codemirror_mode": {
    "name": "ipython",
    "version": 3
   },
   "file_extension": ".py",
   "mimetype": "text/x-python",
   "name": "python",
   "nbconvert_exporter": "python",
   "pygments_lexer": "ipython3",
   "version": "3.8.5"
  },
  "toc": {
   "base_numbering": 1,
   "nav_menu": {},
   "number_sections": true,
   "sideBar": true,
   "skip_h1_title": false,
   "title_cell": "Table of Contents",
   "title_sidebar": "Contents",
   "toc_cell": false,
   "toc_position": {},
   "toc_section_display": true,
   "toc_window_display": false
  },
  "varInspector": {
   "cols": {
    "lenName": 16,
    "lenType": 16,
    "lenVar": 40
   },
   "kernels_config": {
    "python": {
     "delete_cmd_postfix": "",
     "delete_cmd_prefix": "del ",
     "library": "var_list.py",
     "varRefreshCmd": "print(var_dic_list())"
    },
    "r": {
     "delete_cmd_postfix": ") ",
     "delete_cmd_prefix": "rm(",
     "library": "var_list.r",
     "varRefreshCmd": "cat(var_dic_list()) "
    }
   },
   "types_to_exclude": [
    "module",
    "function",
    "builtin_function_or_method",
    "instance",
    "_Feature"
   ],
   "window_display": false
  }
 },
 "nbformat": 4,
 "nbformat_minor": 4
}
