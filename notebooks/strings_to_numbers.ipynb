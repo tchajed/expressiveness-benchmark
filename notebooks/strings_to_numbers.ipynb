{
 "cells": [
  {
   "cell_type": "code",
   "execution_count": 1,
   "metadata": {
    "ExecuteTime": {
     "end_time": "2020-11-15T00:02:11.599776Z",
     "start_time": "2020-11-15T00:02:11.322474Z"
    }
   },
   "outputs": [],
   "source": [
    "%load_ext autoreload\n",
    "%autoreload 2\n",
    "from expressiveness_benchmark.types import Plan, Task, Language, SourceRange, Program\n",
    "from code_widget.example import CodeWidget\n",
    "from dataclasses import replace\n",
    "import json\n",
    "import pandas as pd"
   ]
  },
  {
   "cell_type": "code",
   "execution_count": 2,
   "metadata": {
    "ExecuteTime": {
     "end_time": "2020-11-15T00:02:11.638051Z",
     "start_time": "2020-11-15T00:02:11.622413Z"
    }
   },
   "outputs": [],
   "source": [
    "# CHANGE ME!\n",
    "TASK_ID = 'strings_to_numbers'\n",
    "AUTHOR = 'will'"
   ]
  },
  {
   "cell_type": "code",
   "execution_count": 17,
   "metadata": {
    "ExecuteTime": {
     "end_time": "2020-11-15T00:09:31.157388Z",
     "start_time": "2020-11-15T00:09:31.135169Z"
    }
   },
   "outputs": [],
   "source": [
    "task = Task(\n",
    "    id=TASK_ID,\n",
    "    category=\"Strings\",\n",
    "    name=\"Convert strings with different formats to numbers\",\n",
    "    description=\"Convert the string value in each row into a number, removing \\\n",
    "commas if format is \\\"comma_sep\\\" and underscores if format is \\\"under_sep\\\".\",\n",
    "    plan=[\n",
    "        Plan(id=\"iter\", description=\"Iterate over rows\"),\n",
    "        Plan(id=\"cond\", description=\"Check format\"),\n",
    "        Plan(id=\"clean\", description=\"Remove separator\"),\n",
    "        Plan(id=\"number\", description=\"Convert to number\")\n",
    "    ],\n",
    "    sample_input={\n",
    "        \"numbers\": [\n",
    "            {\"format\": \"comma_sep\", \"value\": \"12,337,800\"},\n",
    "            {\"format\": \"under_sep\", \"value\": \"80_999\"}\n",
    "        ]\n",
    "    },\n",
    "    sample_output=[12337800, 80999],\n",
    ")\n",
    "task.save()\n",
    "\n",
    "prototype = Program(\n",
    "    task=TASK_ID,\n",
    "    author=AUTHOR,\n",
    "    language=''    \n",
    ")"
   ]
  },
  {
   "cell_type": "code",
   "execution_count": 18,
   "metadata": {
    "ExecuteTime": {
     "end_time": "2020-11-15T00:09:34.552156Z",
     "start_time": "2020-11-15T00:09:34.521535Z"
    }
   },
   "outputs": [],
   "source": [
    "sql = replace(prototype,\n",
    "    language='sql',\n",
    "    source='''SELECT \n",
    "  CAST(\n",
    "    REPLACE(\n",
    "      value, \n",
    "      CASE format \n",
    "        WHEN \"comma_sep\" THEN \",\" \n",
    "        WHEN \"under_sep\" THEN \"_\" \n",
    "      END, \"\")\n",
    "    AS integer)\n",
    "FROM numbers''').load_plan()\n",
    "sql.execute(task)\n",
    "sql.save()"
   ]
  },
  {
   "cell_type": "code",
   "execution_count": 19,
   "metadata": {
    "ExecuteTime": {
     "end_time": "2020-11-15T00:09:34.890154Z",
     "start_time": "2020-11-15T00:09:34.841228Z"
    }
   },
   "outputs": [
    {
     "data": {
      "application/vnd.jupyter.widget-view+json": {
       "model_id": "efb09d35306a44349ee2702e2d7f71d3",
       "version_major": 2,
       "version_minor": 0
      },
      "text/plain": [
       "Output()"
      ]
     },
     "metadata": {},
     "output_type": "display_data"
    },
    {
     "data": {
      "application/vnd.jupyter.widget-view+json": {
       "model_id": "02b3d149e8ec4d11a4a40da94f44ffb7",
       "version_major": 2,
       "version_minor": 0
      },
      "text/plain": [
       "CodeWidget(program='{\"task\": \"strings_to_numbers\", \"language\": \"sql\", \"plan\": {\"cond\": [{\"line\": 1, \"start\": 8…"
      ]
     },
     "metadata": {},
     "output_type": "display_data"
    }
   ],
   "source": [
    "sql.widget(task)"
   ]
  },
  {
   "cell_type": "code",
   "execution_count": 20,
   "metadata": {
    "ExecuteTime": {
     "end_time": "2020-11-15T00:09:41.650373Z",
     "start_time": "2020-11-15T00:09:41.556423Z"
    }
   },
   "outputs": [],
   "source": [
    "datalog = replace(prototype,\n",
    "    language='datalog',\n",
    "    source='''.decl clean(Format:symbol, Inp:symbol, I:number, Outp:symbol) \n",
    "clean(Format, Inp, 0, \"\") :- numbers(Format, Inp).\n",
    "clean(Format, Inp, I+1, Outp) :-\n",
    "  clean(Format, Inp, I, Outp_rec),\n",
    "  I <= strlen(Inp),\n",
    "  Chr = substr(Inp, I, 1),\n",
    "  ((Format = \"comma_sep\", Sep = \",\");\n",
    "   (Format = \"under_sep\", Sep = \"_\")),\n",
    "  ((Chr  = Sep, Outp = Outp_rec);\n",
    "   (Chr != Sep, Outp = cat(Outp_rec, Chr))).\n",
    "\n",
    "strings_to_numbers(N) :-\n",
    "  clean(Format, Inp, strlen(Inp), Outp),\n",
    "  N = to_number(Outp).''').load_plan()\n",
    "datalog.execute(task)\n",
    "datalog.save()"
   ]
  },
  {
   "cell_type": "code",
   "execution_count": 21,
   "metadata": {
    "ExecuteTime": {
     "end_time": "2020-11-15T00:09:41.863784Z",
     "start_time": "2020-11-15T00:09:41.825450Z"
    }
   },
   "outputs": [
    {
     "data": {
      "application/vnd.jupyter.widget-view+json": {
       "model_id": "1ebd87ef3554439abe356a9ec3485c5b",
       "version_major": 2,
       "version_minor": 0
      },
      "text/plain": [
       "Output()"
      ]
     },
     "metadata": {},
     "output_type": "display_data"
    },
    {
     "data": {
      "application/vnd.jupyter.widget-view+json": {
       "model_id": "3ab6ef9d5a6f4f23b209066885758afd",
       "version_major": 2,
       "version_minor": 0
      },
      "text/plain": [
       "CodeWidget(program='{\"task\": \"strings_to_numbers\", \"language\": \"datalog\", \"plan\": {\"number\": [{\"line\": 13, \"st…"
      ]
     },
     "metadata": {},
     "output_type": "display_data"
    }
   ],
   "source": [
    "datalog.widget(task)"
   ]
  },
  {
   "cell_type": "code",
   "execution_count": 22,
   "metadata": {
    "ExecuteTime": {
     "end_time": "2020-11-15T00:10:07.860318Z",
     "start_time": "2020-11-15T00:10:07.830575Z"
    }
   },
   "outputs": [],
   "source": [
    "pandas = replace(prototype,\n",
    "    language='python-pandas',\n",
    "    source='''def strings_to_numbers(numbers):\n",
    "  def convert(row):\n",
    "    sep = \",\" if row.format == 'comma_sep' else \"_\"\n",
    "    return int(row.value.replace(sep, \"\"))\n",
    "  return numbers.apply(convert, axis=1).tolist()''').load_plan()\n",
    "pandas.execute(task)\n",
    "pandas.save()"
   ]
  },
  {
   "cell_type": "code",
   "execution_count": 23,
   "metadata": {
    "ExecuteTime": {
     "end_time": "2020-11-15T00:10:08.338003Z",
     "start_time": "2020-11-15T00:10:08.289588Z"
    }
   },
   "outputs": [
    {
     "data": {
      "application/vnd.jupyter.widget-view+json": {
       "model_id": "4e24978c3b124aa08b41fdf928e4f69e",
       "version_major": 2,
       "version_minor": 0
      },
      "text/plain": [
       "Output()"
      ]
     },
     "metadata": {},
     "output_type": "display_data"
    },
    {
     "data": {
      "application/vnd.jupyter.widget-view+json": {
       "model_id": "95f67c4f50114734bf69685c6babff43",
       "version_major": 2,
       "version_minor": 0
      },
      "text/plain": [
       "CodeWidget(program='{\"task\": \"strings_to_numbers\", \"language\": \"python-pandas\", \"plan\": {\"cond\": [{\"line\": 2, …"
      ]
     },
     "metadata": {},
     "output_type": "display_data"
    }
   ],
   "source": [
    "pandas.widget(task)"
   ]
  },
  {
   "cell_type": "code",
   "execution_count": 28,
   "metadata": {
    "ExecuteTime": {
     "end_time": "2020-11-15T00:12:16.458883Z",
     "start_time": "2020-11-15T00:12:16.424134Z"
    }
   },
   "outputs": [],
   "source": [
    "imperative = replace(prototype,\n",
    "    language='python-imperative',\n",
    "    source='''def strings_to_numbers(numbers):\n",
    "  output = []\n",
    "  for row in numbers:\n",
    "    if row[\"format\"] == 'comma_sep':\n",
    "      sep = \",\"\n",
    "    else:\n",
    "      sep = \"_\"\n",
    "    output.append(int(row[\"value\"].replace(sep, \"\")))\n",
    "  return output''').load_plan()\n",
    "imperative.execute(task)\n",
    "imperative.save()"
   ]
  },
  {
   "cell_type": "code",
   "execution_count": 29,
   "metadata": {
    "ExecuteTime": {
     "end_time": "2020-11-15T00:12:19.300073Z",
     "start_time": "2020-11-15T00:12:19.266144Z"
    }
   },
   "outputs": [
    {
     "data": {
      "application/vnd.jupyter.widget-view+json": {
       "model_id": "9ce7431913554d5abc36a5700b4e7fe3",
       "version_major": 2,
       "version_minor": 0
      },
      "text/plain": [
       "Output()"
      ]
     },
     "metadata": {},
     "output_type": "display_data"
    },
    {
     "data": {
      "application/vnd.jupyter.widget-view+json": {
       "model_id": "62b856fc59aa4411aa5aa83a8861031a",
       "version_major": 2,
       "version_minor": 0
      },
      "text/plain": [
       "CodeWidget(program='{\"task\": \"strings_to_numbers\", \"language\": \"python-imperative\", \"plan\": {}, \"source\": \"def…"
      ]
     },
     "metadata": {},
     "output_type": "display_data"
    }
   ],
   "source": [
    "imperative.widget(task)"
   ]
  },
  {
   "cell_type": "code",
   "execution_count": 32,
   "metadata": {
    "ExecuteTime": {
     "end_time": "2020-11-15T00:13:38.642925Z",
     "start_time": "2020-11-15T00:13:38.613759Z"
    }
   },
   "outputs": [],
   "source": [
    "functional = replace(prototype,\n",
    "    language='python-functional',\n",
    "    source='''def strings_to_numbers(numbers):\n",
    "  return [\n",
    "    int(row[\"value\"].replace(\n",
    "      \",\" if row[\"format\"] == \"comma_sep\" else \"_\", \"\"))\n",
    "    for row in numbers\n",
    "  ]''').load_plan()\n",
    "functional.execute(task)\n",
    "functional.save()"
   ]
  },
  {
   "cell_type": "code",
   "execution_count": 33,
   "metadata": {
    "ExecuteTime": {
     "end_time": "2020-11-15T00:13:39.041338Z",
     "start_time": "2020-11-15T00:13:39.002094Z"
    }
   },
   "outputs": [
    {
     "data": {
      "application/vnd.jupyter.widget-view+json": {
       "model_id": "ecd507283af04a83bac42acd2eecfb18",
       "version_major": 2,
       "version_minor": 0
      },
      "text/plain": [
       "Output()"
      ]
     },
     "metadata": {},
     "output_type": "display_data"
    },
    {
     "data": {
      "application/vnd.jupyter.widget-view+json": {
       "model_id": "fd46d82031e24a14b060b53c03102e28",
       "version_major": 2,
       "version_minor": 0
      },
      "text/plain": [
       "CodeWidget(program='{\"task\": \"strings_to_numbers\", \"language\": \"python-functional\", \"plan\": {\"iter\": [{\"line\":…"
      ]
     },
     "metadata": {},
     "output_type": "display_data"
    }
   ],
   "source": [
    "functional.widget(task)"
   ]
  }
 ],
 "metadata": {
  "kernelspec": {
   "display_name": "Python 3",
   "language": "python",
   "name": "python3"
  },
  "language_info": {
   "codemirror_mode": {
    "name": "ipython",
    "version": 3
   },
   "file_extension": ".py",
   "mimetype": "text/x-python",
   "name": "python",
   "nbconvert_exporter": "python",
   "pygments_lexer": "ipython3",
   "version": "3.8.5"
  },
  "toc": {
   "base_numbering": 1,
   "nav_menu": {},
   "number_sections": true,
   "sideBar": true,
   "skip_h1_title": false,
   "title_cell": "Table of Contents",
   "title_sidebar": "Contents",
   "toc_cell": false,
   "toc_position": {},
   "toc_section_display": true,
   "toc_window_display": false
  },
  "varInspector": {
   "cols": {
    "lenName": 16,
    "lenType": 16,
    "lenVar": 40
   },
   "kernels_config": {
    "python": {
     "delete_cmd_postfix": "",
     "delete_cmd_prefix": "del ",
     "library": "var_list.py",
     "varRefreshCmd": "print(var_dic_list())"
    },
    "r": {
     "delete_cmd_postfix": ") ",
     "delete_cmd_prefix": "rm(",
     "library": "var_list.r",
     "varRefreshCmd": "cat(var_dic_list()) "
    }
   },
   "types_to_exclude": [
    "module",
    "function",
    "builtin_function_or_method",
    "instance",
    "_Feature"
   ],
   "window_display": false
  }
 },
 "nbformat": 4,
 "nbformat_minor": 4
}
