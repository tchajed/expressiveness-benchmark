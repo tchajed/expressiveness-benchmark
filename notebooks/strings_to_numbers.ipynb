{
 "cells": [
  {
   "cell_type": "code",
   "execution_count": 1,
   "metadata": {
    "ExecuteTime": {
     "end_time": "2020-12-30T21:10:24.208446Z",
     "start_time": "2020-12-30T21:10:23.489383Z"
    }
   },
   "outputs": [],
   "source": [
    "%load_ext autoreload\n",
    "%autoreload 2\n",
    "from expressiveness_benchmark.types import Plan, Task, Language, SourceRange, Program\n",
    "from code_widget.example import CodeWidget\n",
    "from dataclasses import replace\n",
    "import json\n",
    "import pandas as pd"
   ]
  },
  {
   "cell_type": "code",
   "execution_count": 2,
   "metadata": {
    "ExecuteTime": {
     "end_time": "2020-12-30T21:10:25.004518Z",
     "start_time": "2020-12-30T21:10:24.977926Z"
    }
   },
   "outputs": [],
   "source": [
    "# CHANGE ME!\n",
    "TASK_ID = 'strings_to_numbers'\n",
    "AUTHOR = 'will'"
   ]
  },
  {
   "cell_type": "code",
   "execution_count": 3,
   "metadata": {
    "ExecuteTime": {
     "end_time": "2020-12-30T21:10:25.521043Z",
     "start_time": "2020-12-30T21:10:25.491104Z"
    }
   },
   "outputs": [],
   "source": [
    "task = Task(\n",
    "    id=TASK_ID,\n",
    "    category=\"Strings\",\n",
    "    name=\"Convert strings with different formats to numbers\",\n",
    "    description=\"Convert the string value in each row into a number, removing \\\n",
    "commas if format is \\\"comma_sep\\\" and underscores if format is \\\"under_sep\\\".\",\n",
    "    plan=[\n",
    "        Plan(id=\"iter\", description=\"in each row\"),\n",
    "        Plan(id=\"cond\", description=\"commas if format is \\\"comma_sep\\\" and underscores if format is \\\"under_sep\\\".\"),\n",
    "        Plan(id=\"clean\", description=\"removing\"),\n",
    "        Plan(id=\"number\", description=\"into a number\")\n",
    "    ],\n",
    "    sample_input={\n",
    "        \"numbers\": [\n",
    "            {\"format\": \"comma_sep\", \"value\": \"12,337,800\"},\n",
    "            {\"format\": \"under_sep\", \"value\": \"80_999\"}\n",
    "        ]\n",
    "    },\n",
    "    sample_output=[12337800, 80999],\n",
    ")\n",
    "task.save()\n",
    "\n",
    "prototype = Program(\n",
    "    task=TASK_ID,\n",
    "    author=AUTHOR,\n",
    "    language=''    \n",
    ")"
   ]
  },
  {
   "cell_type": "code",
   "execution_count": 11,
   "metadata": {
    "ExecuteTime": {
     "end_time": "2020-12-30T21:12:29.361171Z",
     "start_time": "2020-12-30T21:12:29.127690Z"
    }
   },
   "outputs": [],
   "source": [
    "q = replace(prototype,\n",
    "    language='q',\n",
    "    source='''convert: {[val; format] \n",
    "  sep: ((\"comma_sep\"; \"under_sep\") ! (\",\"; \"_\")) format;\n",
    "  \"J\" $ ssr[val; sep; \"\"]}\n",
    "  \n",
    "strings_to_numbers:\n",
    "  convert'[numbers[`value]; numbers[`format]]''').load_plan()\n",
    "q.execute(task)\n",
    "q.save()"
   ]
  },
  {
   "cell_type": "code",
   "execution_count": 12,
   "metadata": {
    "ExecuteTime": {
     "end_time": "2020-12-30T21:12:29.923067Z",
     "start_time": "2020-12-30T21:12:29.886611Z"
    }
   },
   "outputs": [
    {
     "data": {
      "application/vnd.jupyter.widget-view+json": {
       "model_id": "7dbcd6a32a5c4921a987ef982a94c148",
       "version_major": 2,
       "version_minor": 0
      },
      "text/plain": [
       "Output()"
      ]
     },
     "metadata": {},
     "output_type": "display_data"
    },
    {
     "data": {
      "application/vnd.jupyter.widget-view+json": {
       "model_id": "6daf30a76c204a689b3747fa1385fe7a",
       "version_major": 2,
       "version_minor": 0
      },
      "text/plain": [
       "CodeWidget(program='{\"task\": \"strings_to_numbers\", \"language\": \"q\", \"plan\": {}, \"source\": \"convert: {[val; for…"
      ]
     },
     "metadata": {},
     "output_type": "display_data"
    }
   ],
   "source": [
    "q.widget(task)"
   ]
  },
  {
   "cell_type": "code",
   "execution_count": 86,
   "metadata": {
    "ExecuteTime": {
     "end_time": "2020-12-10T00:01:44.863796Z",
     "start_time": "2020-12-10T00:01:44.615454Z"
    }
   },
   "outputs": [],
   "source": [
    "r = replace(prototype,\n",
    "    language='r',\n",
    "    source='''strings_to_numbers <- function(numbers) {\n",
    "  numbers %>%\n",
    "    mutate(output = as.numeric(str_replace_all(\n",
    "      value, ifelse(format == \"comma_sep\", \",\", \"_\"), \"\"))) %>%\n",
    "    pull(output)\n",
    "}''').load_plan()\n",
    "r.execute(task)\n",
    "r.save()"
   ]
  },
  {
   "cell_type": "code",
   "execution_count": 87,
   "metadata": {
    "ExecuteTime": {
     "end_time": "2020-12-10T00:01:50.308281Z",
     "start_time": "2020-12-10T00:01:50.263101Z"
    }
   },
   "outputs": [
    {
     "data": {
      "application/vnd.jupyter.widget-view+json": {
       "model_id": "416a7f2ffcae496b9078b8649b593094",
       "version_major": 2,
       "version_minor": 0
      },
      "text/plain": [
       "Output()"
      ]
     },
     "metadata": {},
     "output_type": "display_data"
    },
    {
     "data": {
      "application/vnd.jupyter.widget-view+json": {
       "model_id": "9310dd0bc7844fd6b79d30164866abc0",
       "version_major": 2,
       "version_minor": 0
      },
      "text/plain": [
       "CodeWidget(program='{\"task\": \"strings_to_numbers\", \"language\": \"r\", \"plan\": {}, \"source\": \"strings_to_numbers …"
      ]
     },
     "metadata": {},
     "output_type": "display_data"
    }
   ],
   "source": [
    "r.widget(task)"
   ]
  },
  {
   "cell_type": "code",
   "execution_count": 4,
   "metadata": {
    "ExecuteTime": {
     "end_time": "2020-11-15T04:49:30.278541Z",
     "start_time": "2020-11-15T04:49:30.244525Z"
    }
   },
   "outputs": [],
   "source": [
    "sql = replace(prototype,\n",
    "    language='sql',\n",
    "    source='''SELECT \n",
    "  CAST(\n",
    "    REPLACE(\n",
    "      value, \n",
    "      CASE format \n",
    "        WHEN \"comma_sep\" THEN \",\" \n",
    "        WHEN \"under_sep\" THEN \"_\" \n",
    "      END, \"\")\n",
    "    AS integer)\n",
    "FROM numbers''').load_plan()\n",
    "sql.execute(task)\n",
    "sql.save()"
   ]
  },
  {
   "cell_type": "code",
   "execution_count": 5,
   "metadata": {
    "ExecuteTime": {
     "end_time": "2020-11-15T04:49:31.259640Z",
     "start_time": "2020-11-15T04:49:31.229558Z"
    }
   },
   "outputs": [
    {
     "data": {
      "application/vnd.jupyter.widget-view+json": {
       "model_id": "fc07e936ee9c44e893017f486c014229",
       "version_major": 2,
       "version_minor": 0
      },
      "text/plain": [
       "Output()"
      ]
     },
     "metadata": {},
     "output_type": "display_data"
    },
    {
     "data": {
      "application/vnd.jupyter.widget-view+json": {
       "model_id": "f934f539c99b4749a89c578b79cad723",
       "version_major": 2,
       "version_minor": 0
      },
      "text/plain": [
       "CodeWidget(program='{\"task\": \"strings_to_numbers\", \"language\": \"sql\", \"plan\": {\"cond\": [{\"line\": 1, \"start\": 8…"
      ]
     },
     "metadata": {},
     "output_type": "display_data"
    }
   ],
   "source": [
    "sql.widget(task)"
   ]
  },
  {
   "cell_type": "code",
   "execution_count": 6,
   "metadata": {
    "ExecuteTime": {
     "end_time": "2020-11-15T04:49:36.497518Z",
     "start_time": "2020-11-15T04:49:36.362971Z"
    }
   },
   "outputs": [],
   "source": [
    "datalog = replace(prototype,\n",
    "    language='datalog',\n",
    "    source='''.decl clean(Format:symbol, Inp:symbol, I:number, Outp:symbol) \n",
    "clean(Format, Inp, 0, \"\") :- numbers(Format, Inp).\n",
    "clean(Format, Inp, I+1, Outp) :-\n",
    "  clean(Format, Inp, I, Outp_rec),\n",
    "  I <= strlen(Inp),\n",
    "  Chr = substr(Inp, I, 1),\n",
    "  ((Format = \"comma_sep\", Sep = \",\");\n",
    "   (Format = \"under_sep\", Sep = \"_\")),\n",
    "  ((Chr  = Sep, Outp = Outp_rec);\n",
    "   (Chr != Sep, Outp = cat(Outp_rec, Chr))).\n",
    "\n",
    "strings_to_numbers(N) :-\n",
    "  clean(Format, Inp, strlen(Inp), Outp),\n",
    "  N = to_number(Outp).''').load_plan()\n",
    "datalog.execute(task)\n",
    "datalog.save()"
   ]
  },
  {
   "cell_type": "code",
   "execution_count": 7,
   "metadata": {
    "ExecuteTime": {
     "end_time": "2020-11-15T04:49:36.719538Z",
     "start_time": "2020-11-15T04:49:36.678641Z"
    }
   },
   "outputs": [
    {
     "data": {
      "application/vnd.jupyter.widget-view+json": {
       "model_id": "f9da6237e8f849718acf2eb3e1511ce0",
       "version_major": 2,
       "version_minor": 0
      },
      "text/plain": [
       "Output()"
      ]
     },
     "metadata": {},
     "output_type": "display_data"
    },
    {
     "data": {
      "application/vnd.jupyter.widget-view+json": {
       "model_id": "0e0874fd59a74971a68cb234ff05e5bc",
       "version_major": 2,
       "version_minor": 0
      },
      "text/plain": [
       "CodeWidget(program='{\"task\": \"strings_to_numbers\", \"language\": \"datalog\", \"plan\": {\"number\": [{\"line\": 13, \"st…"
      ]
     },
     "metadata": {},
     "output_type": "display_data"
    }
   ],
   "source": [
    "datalog.widget(task)"
   ]
  },
  {
   "cell_type": "code",
   "execution_count": 8,
   "metadata": {
    "ExecuteTime": {
     "end_time": "2020-11-15T04:49:50.079920Z",
     "start_time": "2020-11-15T04:49:50.044263Z"
    }
   },
   "outputs": [],
   "source": [
    "pandas = replace(prototype,\n",
    "    language='python-pandas',\n",
    "    source='''def strings_to_numbers(numbers):\n",
    "  def convert(row):\n",
    "    sep = \",\" if row.format == 'comma_sep' else \"_\"\n",
    "    return int(row.value.replace(sep, \"\"))\n",
    "  return numbers.apply(convert, axis=1).tolist()''').load_plan()\n",
    "pandas.execute(task)\n",
    "pandas.save()"
   ]
  },
  {
   "cell_type": "code",
   "execution_count": 9,
   "metadata": {
    "ExecuteTime": {
     "end_time": "2020-11-15T04:49:51.694841Z",
     "start_time": "2020-11-15T04:49:51.662888Z"
    }
   },
   "outputs": [
    {
     "data": {
      "application/vnd.jupyter.widget-view+json": {
       "model_id": "4672ecafdbe54aa3910c27705fb05e29",
       "version_major": 2,
       "version_minor": 0
      },
      "text/plain": [
       "Output()"
      ]
     },
     "metadata": {},
     "output_type": "display_data"
    },
    {
     "data": {
      "application/vnd.jupyter.widget-view+json": {
       "model_id": "9e40172f5f35490592031ea921d2aebe",
       "version_major": 2,
       "version_minor": 0
      },
      "text/plain": [
       "CodeWidget(program='{\"task\": \"strings_to_numbers\", \"language\": \"python-pandas\", \"plan\": {\"cond\": [{\"line\": 2, …"
      ]
     },
     "metadata": {},
     "output_type": "display_data"
    }
   ],
   "source": [
    "pandas.widget(task)"
   ]
  },
  {
   "cell_type": "code",
   "execution_count": 10,
   "metadata": {
    "ExecuteTime": {
     "end_time": "2020-11-15T04:49:57.426135Z",
     "start_time": "2020-11-15T04:49:57.398284Z"
    }
   },
   "outputs": [],
   "source": [
    "imperative = replace(prototype,\n",
    "    language='python-imperative',\n",
    "    source='''def strings_to_numbers(numbers):\n",
    "  output = []\n",
    "  for row in numbers:\n",
    "    if row[\"format\"] == 'comma_sep':\n",
    "      sep = \",\"\n",
    "    else:\n",
    "      sep = \"_\"\n",
    "    output.append(int(row[\"value\"].replace(sep, \"\")))\n",
    "  return output''').load_plan()\n",
    "imperative.execute(task)\n",
    "imperative.save()"
   ]
  },
  {
   "cell_type": "code",
   "execution_count": 11,
   "metadata": {
    "ExecuteTime": {
     "end_time": "2020-11-15T04:49:57.802431Z",
     "start_time": "2020-11-15T04:49:57.759728Z"
    }
   },
   "outputs": [
    {
     "data": {
      "application/vnd.jupyter.widget-view+json": {
       "model_id": "83265ad505e64c768c78041e0219f5a2",
       "version_major": 2,
       "version_minor": 0
      },
      "text/plain": [
       "Output()"
      ]
     },
     "metadata": {},
     "output_type": "display_data"
    },
    {
     "data": {
      "application/vnd.jupyter.widget-view+json": {
       "model_id": "b67ef5e8332d4da58406901fea80a4f0",
       "version_major": 2,
       "version_minor": 0
      },
      "text/plain": [
       "CodeWidget(program='{\"task\": \"strings_to_numbers\", \"language\": \"python-imperative\", \"plan\": {}, \"source\": \"def…"
      ]
     },
     "metadata": {},
     "output_type": "display_data"
    }
   ],
   "source": [
    "imperative.widget(task)"
   ]
  },
  {
   "cell_type": "code",
   "execution_count": 12,
   "metadata": {
    "ExecuteTime": {
     "end_time": "2020-11-15T04:50:32.352263Z",
     "start_time": "2020-11-15T04:50:32.326791Z"
    }
   },
   "outputs": [],
   "source": [
    "functional = replace(prototype,\n",
    "    language='python-functional',\n",
    "    source='''def strings_to_numbers(numbers):\n",
    "  return [\n",
    "    int(row[\"value\"].replace(\n",
    "      \",\" if row[\"format\"] == \"comma_sep\" else \"_\", \"\"))\n",
    "    for row in numbers\n",
    "  ]''').load_plan()\n",
    "functional.execute(task)\n",
    "functional.save()"
   ]
  },
  {
   "cell_type": "code",
   "execution_count": 13,
   "metadata": {
    "ExecuteTime": {
     "end_time": "2020-11-15T04:50:32.671967Z",
     "start_time": "2020-11-15T04:50:32.636466Z"
    }
   },
   "outputs": [
    {
     "data": {
      "application/vnd.jupyter.widget-view+json": {
       "model_id": "bb5ff014d7724ebfb5537d4f14fd247d",
       "version_major": 2,
       "version_minor": 0
      },
      "text/plain": [
       "Output()"
      ]
     },
     "metadata": {},
     "output_type": "display_data"
    },
    {
     "data": {
      "application/vnd.jupyter.widget-view+json": {
       "model_id": "2e889d9527be4b11a6c5b8d485f120f8",
       "version_major": 2,
       "version_minor": 0
      },
      "text/plain": [
       "CodeWidget(program='{\"task\": \"strings_to_numbers\", \"language\": \"python-functional\", \"plan\": {\"iter\": [{\"line\":…"
      ]
     },
     "metadata": {},
     "output_type": "display_data"
    }
   ],
   "source": [
    "functional.widget(task)"
   ]
  }
 ],
 "metadata": {
  "kernelspec": {
   "display_name": "Python 3",
   "language": "python",
   "name": "python3"
  },
  "toc": {
   "base_numbering": 1,
   "nav_menu": {},
   "number_sections": true,
   "sideBar": true,
   "skip_h1_title": false,
   "title_cell": "Table of Contents",
   "title_sidebar": "Contents",
   "toc_cell": false,
   "toc_position": {},
   "toc_section_display": true,
   "toc_window_display": false
  },
  "varInspector": {
   "cols": {
    "lenName": 16,
    "lenType": 16,
    "lenVar": 40
   },
   "kernels_config": {
    "python": {
     "delete_cmd_postfix": "",
     "delete_cmd_prefix": "del ",
     "library": "var_list.py",
     "varRefreshCmd": "print(var_dic_list())"
    },
    "r": {
     "delete_cmd_postfix": ") ",
     "delete_cmd_prefix": "rm(",
     "library": "var_list.r",
     "varRefreshCmd": "cat(var_dic_list()) "
    }
   },
   "types_to_exclude": [
    "module",
    "function",
    "builtin_function_or_method",
    "instance",
    "_Feature"
   ],
   "window_display": false
  }
 },
 "nbformat": 4,
 "nbformat_minor": 4
}
