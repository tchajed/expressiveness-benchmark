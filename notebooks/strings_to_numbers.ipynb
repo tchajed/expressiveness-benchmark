{
 "cells": [
  {
   "cell_type": "code",
   "execution_count": 4,
   "metadata": {
    "ExecuteTime": {
     "end_time": "2020-11-13T19:06:33.364732Z",
     "start_time": "2020-11-13T19:06:33.336918Z"
    }
   },
   "outputs": [
    {
     "name": "stdout",
     "output_type": "stream",
     "text": [
      "The autoreload extension is already loaded. To reload it, use:\n",
      "  %reload_ext autoreload\n"
     ]
    }
   ],
   "source": [
    "%load_ext autoreload\n",
    "%autoreload 2\n",
    "from expressiveness_benchmark.types import Plan, Task, Language, SourceRange, Program\n",
    "from code_widget.example import CodeWidget\n",
    "from dataclasses import replace\n",
    "import json\n",
    "import pandas as pd"
   ]
  },
  {
   "cell_type": "code",
   "execution_count": 5,
   "metadata": {
    "ExecuteTime": {
     "end_time": "2020-11-13T19:06:33.711535Z",
     "start_time": "2020-11-13T19:06:33.684835Z"
    }
   },
   "outputs": [],
   "source": [
    "# CHANGE ME!\n",
    "TASK_ID = 'strings_to_numbers'\n",
    "AUTHOR = 'will'"
   ]
  },
  {
   "cell_type": "code",
   "execution_count": 7,
   "metadata": {
    "ExecuteTime": {
     "end_time": "2020-11-13T19:06:42.888226Z",
     "start_time": "2020-11-13T19:06:42.858310Z"
    }
   },
   "outputs": [],
   "source": [
    "task = Task(\n",
    "    id=TASK_ID,\n",
    "    category=\"Strings\",\n",
    "    name=\"Convert strings with different formats to numbers\",\n",
    "    description=\"Convert the string value in each row into a number, removing \\\n",
    "commas if format is \\\"comma_sep\\\" and underscores if format is \\\"under_sep\\\".\",\n",
    "    plan=[\n",
    "        Plan(id=\"cond\", description=\"Check format\"),\n",
    "        Plan(id=\"clean\", description=\"Remove separator\"),\n",
    "        Plan(id=\"number\", description=\"Convert to number\")\n",
    "    ],\n",
    "    sample_input={\n",
    "        \"numbers\": [\n",
    "            {\"format\": \"comma_sep\", \"value\": \"12,337,800\"},\n",
    "            {\"format\": \"under_sep\", \"value\": \"80_999\"}\n",
    "        ]\n",
    "    },\n",
    "    sample_output=[12337800, 80999],\n",
    ")\n",
    "task.save()\n",
    "\n",
    "prototype = Program(\n",
    "    task=TASK_ID,\n",
    "    author=AUTHOR,\n",
    "    language=''    \n",
    ")"
   ]
  },
  {
   "cell_type": "code",
   "execution_count": 73,
   "metadata": {
    "ExecuteTime": {
     "end_time": "2020-11-04T22:39:14.178436Z",
     "start_time": "2020-11-04T22:39:14.145470Z"
    }
   },
   "outputs": [],
   "source": [
    "sql = replace(prototype,\n",
    "    language='sql',\n",
    "    source='''SELECT \n",
    "  CAST((CASE format\n",
    "    WHEN \"comma_sep\" THEN REPLACE(value, \",\", \"\")\n",
    "    WHEN \"under_sep\" THEN REPLACE(value, \"_\", \"\")\n",
    "    END) AS integer)\n",
    "FROM numbers''').load_plan()\n",
    "sql.execute(task)\n",
    "sql.save()"
   ]
  },
  {
   "cell_type": "code",
   "execution_count": 78,
   "metadata": {
    "ExecuteTime": {
     "end_time": "2020-11-11T19:00:05.603459Z",
     "start_time": "2020-11-11T19:00:05.482362Z"
    }
   },
   "outputs": [],
   "source": [
    "datalog = replace(prototype,\n",
    "    language='datalog',\n",
    "    source='''.decl clean(Format:symbol, Inp:symbol, I:number, Outp:symbol) \n",
    "clean(Format, Inp, 0, \"\") :- numbers(Format, Inp).\n",
    "clean(Format, Inp, I+1, Outp) :-\n",
    "  clean(Format, Inp, I, Outp_rec),\n",
    "  I <= strlen(Inp),\n",
    "  Chr = substr(Inp, I, 1),\n",
    "  ((Format = \"comma_sep\", Sep = \",\");\n",
    "   (Format = \"under_sep\", Sep = \"_\")),\n",
    "  ((Chr  = Sep, Outp = Outp_rec);\n",
    "   (Chr != Sep, Outp = cat(Outp_rec, Chr))).\n",
    "\n",
    "strings_to_numbers(N) :-\n",
    "  clean(Format, Inp, strlen(Inp), Outp),\n",
    "  N = to_number(Outp).''').load_plan()\n",
    "datalog.execute(task)\n",
    "datalog.save()"
   ]
  },
  {
   "cell_type": "code",
   "execution_count": 70,
   "metadata": {
    "ExecuteTime": {
     "end_time": "2020-11-04T22:38:51.360646Z",
     "start_time": "2020-11-04T22:38:51.327172Z"
    }
   },
   "outputs": [],
   "source": [
    "pandas = replace(prototype,\n",
    "    language='python-pandas',\n",
    "    source='''def strings_to_numbers(numbers):\n",
    "    def convert(row):\n",
    "      sep = \",\" if row.format == 'comma_sep' else \"_\"\n",
    "      return int(row.value.replace(sep, \"\"))\n",
    "    return numbers.apply(convert, axis=1).tolist()''').load_plan()\n",
    "pandas.execute(task)\n",
    "pandas.save()"
   ]
  },
  {
   "cell_type": "code",
   "execution_count": 69,
   "metadata": {
    "ExecuteTime": {
     "end_time": "2020-11-04T22:38:50.882895Z",
     "start_time": "2020-11-04T22:38:50.856692Z"
    }
   },
   "outputs": [],
   "source": [
    "imperative = replace(prototype,\n",
    "    language='python-imperative',\n",
    "    source='''def strings_to_numbers(numbers):\n",
    "    output = []\n",
    "    for row in numbers:\n",
    "      if row[\"format\"] == 'comma_sep':\n",
    "        sep = \",\"\n",
    "      else:\n",
    "        sep = \"_\"\n",
    "      output.append(int(row[\"value\"].replace(sep, \"\")))\n",
    "    return output''').load_plan()\n",
    "imperative.execute(task)\n",
    "imperative.save()"
   ]
  },
  {
   "cell_type": "code",
   "execution_count": 68,
   "metadata": {
    "ExecuteTime": {
     "end_time": "2020-11-04T22:38:50.614423Z",
     "start_time": "2020-11-04T22:38:50.587736Z"
    }
   },
   "outputs": [],
   "source": [
    "functional = replace(prototype,\n",
    "    language='python-functional',\n",
    "    source='''def strings_to_numbers(numbers):\n",
    "    return [\n",
    "      int(row[\"value\"].replace(\n",
    "        \",\" if row[\"format\"] == \"comma_sep\" else \"_\", \"\"))\n",
    "      for row in numbers        \n",
    "    ]''').load_plan()\n",
    "functional.execute(task)\n",
    "functional.save()"
   ]
  }
 ],
 "metadata": {
  "kernelspec": {
   "display_name": "Python 3",
   "language": "python",
   "name": "python3"
  },
  "language_info": {
   "codemirror_mode": {
    "name": "ipython",
    "version": 3
   },
   "file_extension": ".py",
   "mimetype": "text/x-python",
   "name": "python",
   "nbconvert_exporter": "python",
   "pygments_lexer": "ipython3",
   "version": "3.8.5"
  },
  "toc": {
   "base_numbering": 1,
   "nav_menu": {},
   "number_sections": true,
   "sideBar": true,
   "skip_h1_title": false,
   "title_cell": "Table of Contents",
   "title_sidebar": "Contents",
   "toc_cell": false,
   "toc_position": {},
   "toc_section_display": true,
   "toc_window_display": false
  },
  "varInspector": {
   "cols": {
    "lenName": 16,
    "lenType": 16,
    "lenVar": 40
   },
   "kernels_config": {
    "python": {
     "delete_cmd_postfix": "",
     "delete_cmd_prefix": "del ",
     "library": "var_list.py",
     "varRefreshCmd": "print(var_dic_list())"
    },
    "r": {
     "delete_cmd_postfix": ") ",
     "delete_cmd_prefix": "rm(",
     "library": "var_list.r",
     "varRefreshCmd": "cat(var_dic_list()) "
    }
   },
   "types_to_exclude": [
    "module",
    "function",
    "builtin_function_or_method",
    "instance",
    "_Feature"
   ],
   "window_display": false
  }
 },
 "nbformat": 4,
 "nbformat_minor": 4
}
