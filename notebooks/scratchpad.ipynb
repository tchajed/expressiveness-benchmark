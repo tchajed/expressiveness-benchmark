{
 "cells": [
  {
   "cell_type": "code",
   "execution_count": 1,
   "metadata": {
    "ExecuteTime": {
     "end_time": "2020-11-10T00:35:50.493892Z",
     "start_time": "2020-11-10T00:35:50.490712Z"
    }
   },
   "outputs": [],
   "source": [
    "import json\n",
    "import glob"
   ]
  },
  {
   "cell_type": "code",
   "execution_count": 11,
   "metadata": {
    "ExecuteTime": {
     "end_time": "2020-11-10T00:37:09.069246Z",
     "start_time": "2020-11-10T00:37:09.063317Z"
    }
   },
   "outputs": [
    {
     "name": "stdout",
     "output_type": "stream",
     "text": [
      "Name of the youngest person over 35\n",
      "Convert strings with different formats to numbers\n",
      "Continent with the highest average population\n",
      "filter and clean up tweet data\n",
      "compute averages of adjacent values in time-ordering\n",
      "Find directors of movies that Tom Hanks starred in\n",
      "Documents with infrequent words\n",
      "First element you can remove that would not change the mean of the list by more than N\n",
      "Find if there exists an object that is different than all other objects\n",
      "Purchased all food\n",
      "Median population for each continent\n",
      "People who like a unique set of beer\n",
      "compute windowed averages ordered by time\n",
      "Given a graph and a vertex v, list the vertices in the strongly-connected component of v.\n"
     ]
    }
   ],
   "source": [
    "l = [json.load(open(f)) for f in glob.glob('../data/tasks/*.json')]\n",
    "for x in l:\n",
    "    print(x['description'])"
   ]
  }
 ],
 "metadata": {
  "kernelspec": {
   "display_name": "Python 3",
   "language": "python",
   "name": "python3"
  },
  "language_info": {
   "codemirror_mode": {
    "name": "ipython",
    "version": 3
   },
   "file_extension": ".py",
   "mimetype": "text/x-python",
   "name": "python",
   "nbconvert_exporter": "python",
   "pygments_lexer": "ipython3",
   "version": "3.8.5"
  },
  "toc": {
   "base_numbering": 1,
   "nav_menu": {},
   "number_sections": true,
   "sideBar": true,
   "skip_h1_title": false,
   "title_cell": "Table of Contents",
   "title_sidebar": "Contents",
   "toc_cell": false,
   "toc_position": {},
   "toc_section_display": true,
   "toc_window_display": false
  },
  "varInspector": {
   "cols": {
    "lenName": 16,
    "lenType": 16,
    "lenVar": 40
   },
   "kernels_config": {
    "python": {
     "delete_cmd_postfix": "",
     "delete_cmd_prefix": "del ",
     "library": "var_list.py",
     "varRefreshCmd": "print(var_dic_list())"
    },
    "r": {
     "delete_cmd_postfix": ") ",
     "delete_cmd_prefix": "rm(",
     "library": "var_list.r",
     "varRefreshCmd": "cat(var_dic_list()) "
    }
   },
   "types_to_exclude": [
    "module",
    "function",
    "builtin_function_or_method",
    "instance",
    "_Feature"
   ],
   "window_display": false
  }
 },
 "nbformat": 4,
 "nbformat_minor": 4
}
