{
 "cells": [
  {
   "cell_type": "code",
   "execution_count": 1,
   "metadata": {
    "ExecuteTime": {
     "end_time": "2020-12-30T21:07:33.966151Z",
     "start_time": "2020-12-30T21:07:33.400998Z"
    }
   },
   "outputs": [],
   "source": [
    "%load_ext autoreload\n",
    "%autoreload 2\n",
    "from expressiveness_benchmark.types import Program, Task\n",
    "import pandas as pd\n",
    "from dataclasses import replace"
   ]
  },
  {
   "cell_type": "code",
   "execution_count": 2,
   "metadata": {
    "ExecuteTime": {
     "end_time": "2020-12-30T21:07:34.095734Z",
     "start_time": "2020-12-30T21:07:34.076017Z"
    }
   },
   "outputs": [],
   "source": [
    "# CHANGE ME!\n",
    "TASK_ID = 'rolling_average'\n",
    "AUTHOR = 'scott'"
   ]
  },
  {
   "cell_type": "code",
   "execution_count": 3,
   "metadata": {
    "ExecuteTime": {
     "end_time": "2020-12-30T21:07:34.514435Z",
     "start_time": "2020-12-30T21:07:34.488014Z"
    }
   },
   "outputs": [],
   "source": [
    "task = Task(\n",
    "    id=TASK_ID,\n",
    "    name=\"Rolling average\",\n",
    "    description=\"for each data point, compute average of data points within last 7 days\",\n",
    "    category='Time Series',\n",
    "    plan=[{\n",
    "        \"id\": \"windows\",\n",
    "        \"description\": \"each data point\",\n",
    "    }, {\n",
    "        \"id\": \"group\",\n",
    "        \"description\": \"data points within last 7\",\n",
    "    }, {\n",
    "        \"id\": \"filter\",\n",
    "        \"description\": \"compute average\",\n",
    "    }, ],\n",
    "    sample_input={\n",
    "        \"data\": [\n",
    "            {\"time\": 20, \"x\": 14.5},\n",
    "            {\"time\": 3, \"x\": 3.0},\n",
    "            {\"time\": 1, \"x\": 1.0},\n",
    "            {\"time\": 9, \"x\": 7.0},\n",
    "            {\"time\": 10, \"x\": 11.0},\n",
    "            {\"time\": 11, \"x\": 12.0},\n",
    "        ]\n",
    "    },\n",
    "    sample_output=[\n",
    "        {\"end_time\": 1, \"average\": 1.0},\n",
    "        {\"end_time\": 3, \"average\": 2.0},\n",
    "        {\"end_time\": 9, \"average\": 5.0},\n",
    "        {\"end_time\": 10, \"average\": 9.0},\n",
    "        {\"end_time\": 11, \"average\": 10.0},\n",
    "        {\"end_time\": 20, \"average\": 14.5}\n",
    "    ]\n",
    ")\n",
    "task.save()\n",
    "\n",
    "prototype = Program(\n",
    "    task=TASK_ID,\n",
    "    author=AUTHOR,\n",
    "    language=''    \n",
    ")"
   ]
  },
  {
   "cell_type": "code",
   "execution_count": 12,
   "metadata": {
    "ExecuteTime": {
     "end_time": "2020-12-30T21:09:09.809870Z",
     "start_time": "2020-12-30T21:09:09.549173Z"
    }
   },
   "outputs": [],
   "source": [
    "q = replace(prototype,\n",
    "    language='q',\n",
    "    implementation='',\n",
    "    source='''get_avg: \n",
    "  {[t] (select avg(x) from data where time within (t - 6; t)) `x};\n",
    "rolling_average: \n",
    "  select end_time: time, average: get_avg'[time] from data''').load_plan()\n",
    "q.execute(task)\n",
    "q.save()"
   ]
  },
  {
   "cell_type": "code",
   "execution_count": 14,
   "metadata": {
    "ExecuteTime": {
     "end_time": "2020-12-30T21:09:15.776773Z",
     "start_time": "2020-12-30T21:09:15.731435Z"
    }
   },
   "outputs": [
    {
     "data": {
      "application/vnd.jupyter.widget-view+json": {
       "model_id": "98544787363c4538b314d38f1bdd3378",
       "version_major": 2,
       "version_minor": 0
      },
      "text/plain": [
       "Output()"
      ]
     },
     "metadata": {},
     "output_type": "display_data"
    },
    {
     "data": {
      "application/vnd.jupyter.widget-view+json": {
       "model_id": "046fdfc0596c4abea2dff8e3c0e5cf1b",
       "version_major": 2,
       "version_minor": 0
      },
      "text/plain": [
       "CodeWidget(program='{\"task\": \"rolling_average\", \"language\": \"q\", \"plan\": {}, \"source\": \"get_avg: \\\\n  {[t] (se…"
      ]
     },
     "metadata": {},
     "output_type": "display_data"
    }
   ],
   "source": [
    "q.widget(task)"
   ]
  },
  {
   "cell_type": "code",
   "execution_count": 13,
   "metadata": {
    "ExecuteTime": {
     "end_time": "2020-12-30T21:09:12.194296Z",
     "start_time": "2020-12-30T21:09:10.455186Z"
    }
   },
   "outputs": [
    {
     "name": "stderr",
     "output_type": "stream",
     "text": [
      "R[write to console]: ── \u001b[1mAttaching packages\u001b[22m ─────────────────────────────────────────────────────────────────────────────────────────────────────────────────────────────────────────────────────────────────────────────────────────────────── tidyverse 1.3.0 ──\n",
      "\n",
      "R[write to console]: \u001b[32m✔\u001b[39m \u001b[34mggplot2\u001b[39m 3.3.2     \u001b[32m✔\u001b[39m \u001b[34mpurrr  \u001b[39m 0.3.4\n",
      "\u001b[32m✔\u001b[39m \u001b[34mtibble \u001b[39m 3.0.4     \u001b[32m✔\u001b[39m \u001b[34mdplyr  \u001b[39m 1.0.2\n",
      "\u001b[32m✔\u001b[39m \u001b[34mtidyr  \u001b[39m 1.1.2     \u001b[32m✔\u001b[39m \u001b[34mstringr\u001b[39m 1.4.0\n",
      "\u001b[32m✔\u001b[39m \u001b[34mreadr  \u001b[39m 1.4.0     \u001b[32m✔\u001b[39m \u001b[34mforcats\u001b[39m 0.5.0\n",
      "\n",
      "R[write to console]: ── \u001b[1mConflicts\u001b[22m ────────────────────────────────────────────────────────────────────────────────────────────────────────────────────────────────────────────────────────────────────────────────────────────────────── tidyverse_conflicts() ──\n",
      "\u001b[31m✖\u001b[39m \u001b[34mdplyr\u001b[39m::\u001b[32mfilter()\u001b[39m masks \u001b[34mstats\u001b[39m::filter()\n",
      "\u001b[31m✖\u001b[39m \u001b[34mdplyr\u001b[39m::\u001b[32mlag()\u001b[39m    masks \u001b[34mstats\u001b[39m::lag()\n",
      "\n"
     ]
    },
    {
     "name": "stdout",
     "output_type": "stream",
     "text": [
      "Warning: line 4 over max line size\n",
      "Warning: line 5 over max line size\n"
     ]
    }
   ],
   "source": [
    "r = replace(prototype,\n",
    "    language='r',\n",
    "    implementation='',\n",
    "    source='''library(slider)\n",
    "rolling_average <- function(data) {\n",
    "  data <- arrange(data, time)\n",
    "  avgs <- unlist(slide_index(data$x, data$time, ~ mean(.x), .before = 6))\n",
    "  data %>% mutate(end_time = time, average = avgs) %>% select(end_time, average)\n",
    "}''').load_plan()\n",
    "r.execute(task)\n",
    "r.save()"
   ]
  },
  {
   "cell_type": "code",
   "execution_count": 54,
   "metadata": {
    "ExecuteTime": {
     "end_time": "2020-12-17T23:46:32.600865Z",
     "start_time": "2020-12-17T23:46:32.557753Z"
    }
   },
   "outputs": [
    {
     "data": {
      "application/vnd.jupyter.widget-view+json": {
       "model_id": "0faf5a47893b4f9e9cfecf381b813b13",
       "version_major": 2,
       "version_minor": 0
      },
      "text/plain": [
       "Output()"
      ]
     },
     "metadata": {},
     "output_type": "display_data"
    },
    {
     "data": {
      "application/vnd.jupyter.widget-view+json": {
       "model_id": "6ea534c2930e4f92b81c5f86a25f464a",
       "version_major": 2,
       "version_minor": 0
      },
      "text/plain": [
       "CodeWidget(program='{\"task\": \"rolling_average\", \"language\": \"r\", \"plan\": {}, \"source\": \"library(slider)\\\\nroll…"
      ]
     },
     "metadata": {},
     "output_type": "display_data"
    }
   ],
   "source": [
    "r.widget(task)"
   ]
  },
  {
   "cell_type": "code",
   "execution_count": null,
   "metadata": {
    "ExecuteTime": {
     "end_time": "2020-10-28T23:52:54.290013Z",
     "start_time": "2020-10-28T23:52:54.270985Z"
    }
   },
   "outputs": [],
   "source": [
    "pandas = replace(prototype,\n",
    "    language='python-pandas',\n",
    "    implementation='',\n",
    "    source='''def rolling_average(data):\n",
    "  d = data.copy()\n",
    "\n",
    "  data.time = pd.to_datetime(data.time * 10**9)\n",
    "  data = (data.sort_values('time').set_index('time')\n",
    "              .rolling(window='7s').mean())\n",
    "\n",
    "  return pd.DataFrame.from_dict(\n",
    "    {'end_time': d.sort_values('time').reset_index().time,\n",
    "     'average': data.reset_index().x}\n",
    "  )''').load_plan()\n",
    "pandas.execute(task)\n",
    "pandas.save()"
   ]
  },
  {
   "cell_type": "code",
   "execution_count": null,
   "metadata": {},
   "outputs": [],
   "source": [
    "sql = replace(prototype,\n",
    "    language='sql',\n",
    "    source='''SELECT\n",
    "end.time as end_time,  AVG(other.x) as average\n",
    "FROM data as end\n",
    "JOIN data as other\n",
    "ON other.time <= end.time and\n",
    "   other.time > end.time - 7\n",
    "GROUP BY end.time''').load_plan()\n",
    "sql.execute(task)\n",
    "sql.save()"
   ]
  },
  {
   "cell_type": "code",
   "execution_count": null,
   "metadata": {},
   "outputs": [],
   "source": [
    "datalog = replace(prototype,\n",
    "    language='datalog',\n",
    "    source='''.decl window(end_time: number, time: number)\n",
    "window(end_time, t) :-\n",
    "  data(end_time, _), data(t, _),\n",
    "  t <= end_time, t > end_time - 7.\n",
    ".decl bucket(end_time: number, total: float, n: float)\n",
    "bucket(end_time, total, n) :- data(end_time, _),\n",
    "  total = sum v : {data(t, v), window(end_time, t)},\n",
    "      n = sum z : {data(t, _), window(end_time, t), z = 1.0}.\n",
    "rolling_average(end_time, v) :-\n",
    "  bucket(end_time, total, n), v = total / n.''').load_plan()\n",
    "datalog.execute(task, debug=False)\n",
    "datalog.save()"
   ]
  },
  {
   "cell_type": "code",
   "execution_count": null,
   "metadata": {
    "ExecuteTime": {
     "end_time": "2020-10-28T23:52:54.290013Z",
     "start_time": "2020-10-28T23:52:54.270985Z"
    }
   },
   "outputs": [],
   "source": [
    "python_imp = replace(prototype,\n",
    "    language='python-imperative',\n",
    "    implementation='',\n",
    "    source='''def rolling_average(data):\n",
    "  data.sort(key=lambda v: v[\"time\"])\n",
    "  result = []\n",
    "  for i, value in enumerate(data):\n",
    "    end = value[\"time\"]\n",
    "    total, count = 0.0, 0\n",
    "    for j in range(i, -1, -1):\n",
    "      if data[j][\"time\"] <= end - 7:\n",
    "        break\n",
    "      total += data[j][\"x\"]; count += 1\n",
    "    result.append(\n",
    "      {\"end_time\": end,\n",
    "       \"average\": total / count}\n",
    "    )\n",
    "  return result''').load_plan()\n",
    "python_imp.execute(task)\n",
    "python_imp.save()"
   ]
  },
  {
   "cell_type": "code",
   "execution_count": null,
   "metadata": {},
   "outputs": [],
   "source": [
    "python_fun = replace(prototype,\n",
    "    language='python-functional',\n",
    "    implementation='',\n",
    "    source='''def rolling_average(data):\n",
    "  return [\n",
    "    {\"end_time\": x[\"time\"],\n",
    "     \"average\": sum(vs) / len(vs)}\n",
    "    for x in data\n",
    "    for vs in [\n",
    "      [y[\"x\"] for y in data\n",
    "              if y[\"time\"] <= x[\"time\"] and\n",
    "                 y[\"time\"] > x[\"time\"] - 7]\n",
    "    ]\n",
    "  ]''').load_plan()\n",
    "python_fun.execute(task)\n",
    "python_fun.save()"
   ]
  },
  {
   "cell_type": "code",
   "execution_count": null,
   "metadata": {},
   "outputs": [],
   "source": [
    "sql.widget(task)"
   ]
  },
  {
   "cell_type": "code",
   "execution_count": null,
   "metadata": {},
   "outputs": [],
   "source": [
    "datalog.widget(task)"
   ]
  },
  {
   "cell_type": "code",
   "execution_count": null,
   "metadata": {},
   "outputs": [],
   "source": [
    "pandas.widget(task)"
   ]
  },
  {
   "cell_type": "code",
   "execution_count": null,
   "metadata": {},
   "outputs": [],
   "source": [
    "python_imp.widget(task)"
   ]
  },
  {
   "cell_type": "code",
   "execution_count": null,
   "metadata": {},
   "outputs": [],
   "source": [
    "python_fun.widget(task)"
   ]
  }
 ],
 "metadata": {
  "kernelspec": {
   "display_name": "Python 3",
   "language": "python",
   "name": "python3"
  },
  "language_info": {
   "codemirror_mode": {
    "name": "ipython",
    "version": 3
   },
   "file_extension": ".py",
   "mimetype": "text/x-python",
   "name": "python",
   "nbconvert_exporter": "python",
   "pygments_lexer": "ipython3",
   "version": "3.9.1"
  },
  "toc": {
   "base_numbering": 1,
   "nav_menu": {},
   "number_sections": true,
   "sideBar": true,
   "skip_h1_title": false,
   "title_cell": "Table of Contents",
   "title_sidebar": "Contents",
   "toc_cell": false,
   "toc_position": {},
   "toc_section_display": true,
   "toc_window_display": false
  },
  "varInspector": {
   "cols": {
    "lenName": 16,
    "lenType": 16,
    "lenVar": 40
   },
   "kernels_config": {
    "python": {
     "delete_cmd_postfix": "",
     "delete_cmd_prefix": "del ",
     "library": "var_list.py",
     "varRefreshCmd": "print(var_dic_list())"
    },
    "r": {
     "delete_cmd_postfix": ") ",
     "delete_cmd_prefix": "rm(",
     "library": "var_list.r",
     "varRefreshCmd": "cat(var_dic_list()) "
    }
   },
   "types_to_exclude": [
    "module",
    "function",
    "builtin_function_or_method",
    "instance",
    "_Feature"
   ],
   "window_display": false
  }
 },
 "nbformat": 4,
 "nbformat_minor": 4
}
