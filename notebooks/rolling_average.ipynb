{
 "cells": [
  {
   "cell_type": "code",
   "execution_count": 4,
   "metadata": {
    "ExecuteTime": {
     "end_time": "2020-10-28T23:52:54.228684Z",
     "start_time": "2020-10-28T23:52:53.908677Z"
    }
   },
   "outputs": [
    {
     "name": "stdout",
     "output_type": "stream",
     "text": [
      "The autoreload extension is already loaded. To reload it, use:\n",
      "  %reload_ext autoreload\n"
     ]
    }
   ],
   "source": [
    "%load_ext autoreload\n",
    "%autoreload 2\n",
    "from expressiveness_benchmark.types import Program, Task\n",
    "import pandas as pd\n",
    "from dataclasses import replace"
   ]
  },
  {
   "cell_type": "code",
   "execution_count": 64,
   "metadata": {
    "ExecuteTime": {
     "end_time": "2020-10-28T23:52:54.248549Z",
     "start_time": "2020-10-28T23:52:54.231333Z"
    }
   },
   "outputs": [],
   "source": [
    "# CHANGE ME!\n",
    "TASK_ID = 'rolling_average'\n",
    "AUTHOR = 'scott'"
   ]
  },
  {
   "cell_type": "code",
   "execution_count": 65,
   "metadata": {
    "ExecuteTime": {
     "end_time": "2020-10-28T23:52:54.268868Z",
     "start_time": "2020-10-28T23:52:54.252064Z"
    }
   },
   "outputs": [],
   "source": [
    "task = Task(\n",
    "    id=TASK_ID,\n",
    "    name=\"compute rolling average\",\n",
    "    description=\"compute average of each distinct set of data points with time-diameter 7\",\n",
    "    category='Time Series',\n",
    "    plan=[],\n",
    "    sample_input={\n",
    "        \"data\": [\n",
    "            {\"time\": 20, \"x\": 14.0},\n",
    "            {\"time\": 3, \"x\": 3.0},\n",
    "            {\"time\": 1, \"x\": 1.0},\n",
    "            {\"time\": 9, \"x\": 7.0},\n",
    "            {\"time\": 10, \"x\": 11.0},\n",
    "            {\"time\": 11, \"x\": 12.0},\n",
    "        ]\n",
    "    },\n",
    "    sample_output=[\n",
    "        {\"start_time\": 1, \"average\": 2.0},\n",
    "        {\"start_time\": 3, \"average\": 5.0},\n",
    "        {\"start_time\": 9, \"average\": 10.0},\n",
    "        {\"start_time\": 10, \"average\": 11.5},\n",
    "        {\"start_time\": 11, \"average\": 12.0},\n",
    "        {\"start_time\": 20, \"average\": 14.0}\n",
    "    ]\n",
    ")\n",
    "task.save() \n",
    "\n",
    "prototype = Program(\n",
    "    task=TASK_ID,\n",
    "    author=AUTHOR,\n",
    "    language=''    \n",
    ")"
   ]
  },
  {
   "cell_type": "code",
   "execution_count": 66,
   "metadata": {},
   "outputs": [],
   "source": [
    "sql = replace(prototype,\n",
    "    language='sql',\n",
    "    source='''SELECT\n",
    "start.time as start_time,  AVG(other.x) as average\n",
    "FROM data as start\n",
    "JOIN data as other\n",
    "ON other.time >= start.time and other.time < start.time + 7\n",
    "GROUP BY start.time\n",
    "  \n",
    "''').load_plan()\n",
    "sql.execute(task)\n",
    "sql.save()"
   ]
  },
  {
   "cell_type": "code",
   "execution_count": 48,
   "metadata": {},
   "outputs": [],
   "source": [
    "datalog = replace(prototype,\n",
    "    language='datalog',\n",
    "    source='''.decl bucket(start_time: number, total: float, n: float)\n",
    "bucket(start_time, total, n) :- data(start_time, _),\n",
    "  total = sum v : {data(t, v), t >= start_time, t < start_time + 7},\n",
    "  n     = sum z : {data(t, v), t >= start_time, t < start_time + 7, z = 1.0}.\n",
    "rolling_average(start_time, v) :-\n",
    "  bucket(start_time, total, n), v = total / n.''').load_plan()\n",
    "datalog.execute(task, debug=False)\n",
    "datalog.save()"
   ]
  },
  {
   "cell_type": "code",
   "execution_count": 56,
   "metadata": {
    "ExecuteTime": {
     "end_time": "2020-10-28T23:52:54.290013Z",
     "start_time": "2020-10-28T23:52:54.270985Z"
    }
   },
   "outputs": [],
   "source": [
    "python_imp = replace(prototype,\n",
    "    language='python-imperative',\n",
    "    implementation='',\n",
    "    source='''def rolling_average(data):\n",
    "    data.sort(key=lambda v: v[\"time\"])\n",
    "    result = []\n",
    "    for i, value in enumerate(data):\n",
    "        start = value[\"time\"]\n",
    "        total, count = 0.0, 0\n",
    "        for j in range(i, len(data)):\n",
    "            if data[j][\"time\"] >= start + 7:\n",
    "                break\n",
    "            total += data[j][\"x\"]; count += 1\n",
    "        result.append({\"start_time\": start, \"average\": total / count })\n",
    "    return result''').load_plan()\n",
    "python_imp.execute(task)\n",
    "python_imp.save()"
   ]
  },
  {
   "cell_type": "code",
   "execution_count": 67,
   "metadata": {},
   "outputs": [],
   "source": [
    "python_fun = replace(prototype,\n",
    "    language='python-functional',\n",
    "    implementation='',\n",
    "    source='''def rolling_average(data):\n",
    "    return [{\n",
    "        \"start_time\": x[\"time\"],\n",
    "        \"average\": sum(vs) / len(vs)\n",
    "      }\n",
    "      for x in data\n",
    "      for vs in [\n",
    "        [y[\"x\"] for y in data\n",
    "          if y[\"time\"] >= x[\"time\"] and y[\"time\"] < x[\"time\"] + 7]]]''').load_plan()\n",
    "python_fun.execute(task)\n",
    "python_fun.save()"
   ]
  },
  {
   "cell_type": "code",
   "execution_count": 353,
   "metadata": {
    "ExecuteTime": {
     "end_time": "2020-10-28T23:52:54.290013Z",
     "start_time": "2020-10-28T23:52:54.270985Z"
    }
   },
   "outputs": [],
   "source": [
    "pandas = replace(prototype,\n",
    "    language='python-pandas',\n",
    "    implementation='',\n",
    "    source='''def average_adjacent(data):\n",
    "    data = data.sort_values(\"time\")#.set_index(\"time\")\n",
    "    lagging = data[1:].reset_index(drop=True)\n",
    "    leading = data[:-1].reset_index(drop=True)\n",
    "    leading.x = (lagging.x + leading.x)/2\n",
    "    return leading''').load_plan()\n",
    "pandas.execute(task)\n",
    "pandas.save()"
   ]
  },
  {
   "cell_type": "code",
   "execution_count": 111,
   "metadata": {},
   "outputs": [
    {
     "data": {
      "application/vnd.jupyter.widget-view+json": {
       "model_id": "52004af0da2c468e84cc48aced137145",
       "version_major": 2,
       "version_minor": 0
      },
      "text/plain": [
       "Output()"
      ]
     },
     "metadata": {},
     "output_type": "display_data"
    },
    {
     "data": {
      "application/vnd.jupyter.widget-view+json": {
       "model_id": "8a2d689da8b9498497244c78a2ae1487",
       "version_major": 2,
       "version_minor": 0
      },
      "text/plain": [
       "CodeWidget(program='{\"task\": \"time_series\", \"language\": \"sql\", \"plan\": {}, \"source\": \" \\\\n    \\\\nSELECT AVG(x)…"
      ]
     },
     "metadata": {},
     "output_type": "display_data"
    }
   ],
   "source": [
    "program = sql\n",
    "program.widget(task)"
   ]
  }
 ],
 "metadata": {
  "kernelspec": {
   "display_name": "Python 3",
   "language": "python",
   "name": "python3"
  },
  "language_info": {
   "codemirror_mode": {
    "name": "ipython",
    "version": 3
   },
   "file_extension": ".py",
   "mimetype": "text/x-python",
   "name": "python",
   "nbconvert_exporter": "python",
   "pygments_lexer": "ipython3",
   "version": "3.8.6"
  },
  "toc": {
   "base_numbering": 1,
   "nav_menu": {},
   "number_sections": true,
   "sideBar": true,
   "skip_h1_title": false,
   "title_cell": "Table of Contents",
   "title_sidebar": "Contents",
   "toc_cell": false,
   "toc_position": {},
   "toc_section_display": true,
   "toc_window_display": false
  },
  "varInspector": {
   "cols": {
    "lenName": 16,
    "lenType": 16,
    "lenVar": 40
   },
   "kernels_config": {
    "python": {
     "delete_cmd_postfix": "",
     "delete_cmd_prefix": "del ",
     "library": "var_list.py",
     "varRefreshCmd": "print(var_dic_list())"
    },
    "r": {
     "delete_cmd_postfix": ") ",
     "delete_cmd_prefix": "rm(",
     "library": "var_list.r",
     "varRefreshCmd": "cat(var_dic_list()) "
    }
   },
   "types_to_exclude": [
    "module",
    "function",
    "builtin_function_or_method",
    "instance",
    "_Feature"
   ],
   "window_display": false
  }
 },
 "nbformat": 4,
 "nbformat_minor": 4
}
