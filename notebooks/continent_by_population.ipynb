{
 "cells": [
  {
   "cell_type": "code",
   "execution_count": 23,
   "metadata": {
    "ExecuteTime": {
     "end_time": "2020-11-02T22:31:31.993250Z",
     "start_time": "2020-11-02T22:31:31.973752Z"
    }
   },
   "outputs": [
    {
     "name": "stdout",
     "output_type": "stream",
     "text": [
      "The autoreload extension is already loaded. To reload it, use:\n",
      "  %reload_ext autoreload\n"
     ]
    }
   ],
   "source": [
    "%load_ext autoreload\n",
    "%autoreload 2\n",
    "from expressiveness_benchmark.types import Plan, Task, Language, SourceRange, Program\n",
    "from code_widget.example import CodeWidget\n",
    "from dataclasses import replace\n",
    "import json\n",
    "import pandas as pd"
   ]
  },
  {
   "cell_type": "code",
   "execution_count": 24,
   "metadata": {
    "ExecuteTime": {
     "end_time": "2020-11-02T22:31:32.527931Z",
     "start_time": "2020-11-02T22:31:32.505985Z"
    }
   },
   "outputs": [],
   "source": [
    "# CHANGE ME!\n",
    "TASK_ID = 'continent_by_population'\n",
    "AUTHOR = 'will'"
   ]
  },
  {
   "cell_type": "code",
   "execution_count": 25,
   "metadata": {
    "ExecuteTime": {
     "end_time": "2020-11-02T22:31:33.007942Z",
     "start_time": "2020-11-02T22:31:32.979497Z"
    }
   },
   "outputs": [],
   "source": [
    "task = Task(\n",
    "    id=TASK_ID,\n",
    "    category=\"Aggregation\",\n",
    "    description=\"Continent with the highest average population\",\n",
    "    plan=[\n",
    "        Plan(id=\"filter\", description=\"Filter >35\"),\n",
    "    ],\n",
    "    sample_input={\n",
    "        \"countries\": [\n",
    "            {\"name\": \"USA\", \"population\": 328, \"continent\": \"North America\"},\n",
    "            {\"name\": \"Canada\", \"population\": 37, \"continent\": \"North America\"},\n",
    "            {\"name\": \"Ethiopia\", \"population\": 109, \"continent\": \"Africa\"},\n",
    "            {\"name\": \"Kenya\", \"population\": 51, \"continent\": \"Africa\"},\n",
    "        ]\n",
    "    },\n",
    "    sample_output=\"North America\",\n",
    ")\n",
    "task.save()\n",
    "\n",
    "prototype = Program(\n",
    "    task=TASK_ID,\n",
    "    author=AUTHOR,\n",
    "    language=''    \n",
    ")"
   ]
  },
  {
   "cell_type": "code",
   "execution_count": 26,
   "metadata": {
    "ExecuteTime": {
     "end_time": "2020-11-02T22:31:33.597898Z",
     "start_time": "2020-11-02T22:31:33.568427Z"
    }
   },
   "outputs": [],
   "source": [
    "sql = replace(prototype,\n",
    "    language='sql',\n",
    "    source='''SELECT continent \n",
    "FROM countries\n",
    "GROUP BY continent\n",
    "ORDER BY AVG(population) DESC\n",
    "LIMIT 1\n",
    "''')\n",
    "sql.execute(task)\n",
    "sql.save()"
   ]
  },
  {
   "cell_type": "code",
   "execution_count": 27,
   "metadata": {
    "ExecuteTime": {
     "end_time": "2020-11-02T22:31:38.657143Z",
     "start_time": "2020-11-02T22:31:38.569546Z"
    }
   },
   "outputs": [],
   "source": [
    "datalog = replace(prototype,\n",
    "    language='datalog',\n",
    "    source='''\n",
    ".decl average_population(continent:symbol, avg:number)\n",
    "\n",
    "average_population(continent, avg) :-\n",
    "  countries(continent, _, _),\n",
    "  total = sum p : countries(continent, _, p),\n",
    "  num_countries = count : countries(continent, _, _),\n",
    "  avg = total / num_countries.\n",
    "  \n",
    "continent_by_population(continent) :- \n",
    "  countries(continent, _, _), \n",
    "  average_population(continent, max_avg),\n",
    "  max_avg = max a : { countries(c, _, _), average_population(c, a) }.\n",
    "''')\n",
    "datalog.execute(task)\n",
    "datalog.save()"
   ]
  },
  {
   "cell_type": "code",
   "execution_count": 8,
   "metadata": {
    "ExecuteTime": {
     "end_time": "2020-10-29T22:03:22.242383Z",
     "start_time": "2020-10-29T22:03:22.166794Z"
    }
   },
   "outputs": [],
   "source": [
    "pandas = replace(prototype,\n",
    "    language='python-pandas',\n",
    "    source='''\n",
    "def continent_by_population(countries):\n",
    "  mean_pop = countries.groupby('continent').population.mean()\n",
    "  return mean_pop.index[mean_pop.argmax()]\n",
    "''')\n",
    "pandas.execute(task)\n",
    "pandas.save()"
   ]
  },
  {
   "cell_type": "code",
   "execution_count": 13,
   "metadata": {
    "ExecuteTime": {
     "end_time": "2020-10-29T22:09:48.179190Z",
     "start_time": "2020-10-29T22:09:48.153284Z"
    }
   },
   "outputs": [],
   "source": [
    "imperative = replace(prototype,\n",
    "    language='python-imperative',\n",
    "    source='''\n",
    "def continent_by_population(countries):\n",
    "  continent_stats = defaultdict(lambda: [0, 0])\n",
    "  for country in countries:\n",
    "    continent = country['continent']\n",
    "    continent_stats[continent][0] += country['population']\n",
    "    continent_stats[continent][1] += 1\n",
    "     \n",
    "  max_continent = None\n",
    "  max_average = None\n",
    "  for continent, [total, count] in continent_stats.items():\n",
    "    average = total / count\n",
    "    if max_average is None or max_average < average:\n",
    "      max_average = average\n",
    "      max_continent = continent\n",
    "      \n",
    "  return max_continent\n",
    "''')\n",
    "imperative.execute(task)\n",
    "imperative.save()"
   ]
  },
  {
   "cell_type": "code",
   "execution_count": 20,
   "metadata": {
    "ExecuteTime": {
     "end_time": "2020-10-29T23:50:09.714092Z",
     "start_time": "2020-10-29T23:50:09.687533Z"
    }
   },
   "outputs": [],
   "source": [
    "functional = replace(prototype,\n",
    "    language='python-functional',\n",
    "    source='''\n",
    "def continent_by_population(countries):\n",
    "  continents = set([c['continent'] for c in countries])\n",
    "  populations_by_continent = [\n",
    "    (continent, [c['population'] for c in countries if c['continent'] == continent])\n",
    "    for continent in continents\n",
    "  ]\n",
    "  averages = [\n",
    "    (continent, sum(pops) / len(pops))\n",
    "    for continent, pops in populations_by_continent\n",
    "  ]\n",
    "  return max(averages, key=lambda t: t[1])[0]\n",
    "''')\n",
    "functional.execute(task)\n",
    "functional.save()"
   ]
  }
 ],
 "metadata": {
  "kernelspec": {
   "display_name": "Python 3",
   "language": "python",
   "name": "python3"
  },
  "language_info": {
   "codemirror_mode": {
    "name": "ipython",
    "version": 3
   },
   "file_extension": ".py",
   "mimetype": "text/x-python",
   "name": "python",
   "nbconvert_exporter": "python",
   "pygments_lexer": "ipython3",
   "version": "3.6.3"
  },
  "toc": {
   "base_numbering": 1,
   "nav_menu": {},
   "number_sections": true,
   "sideBar": true,
   "skip_h1_title": false,
   "title_cell": "Table of Contents",
   "title_sidebar": "Contents",
   "toc_cell": false,
   "toc_position": {},
   "toc_section_display": true,
   "toc_window_display": false
  },
  "varInspector": {
   "cols": {
    "lenName": 16,
    "lenType": 16,
    "lenVar": 40
   },
   "kernels_config": {
    "python": {
     "delete_cmd_postfix": "",
     "delete_cmd_prefix": "del ",
     "library": "var_list.py",
     "varRefreshCmd": "print(var_dic_list())"
    },
    "r": {
     "delete_cmd_postfix": ") ",
     "delete_cmd_prefix": "rm(",
     "library": "var_list.r",
     "varRefreshCmd": "cat(var_dic_list()) "
    }
   },
   "types_to_exclude": [
    "module",
    "function",
    "builtin_function_or_method",
    "instance",
    "_Feature"
   ],
   "window_display": false
  }
 },
 "nbformat": 4,
 "nbformat_minor": 4
}
