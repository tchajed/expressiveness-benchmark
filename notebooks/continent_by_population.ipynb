{
 "cells": [
  {
   "cell_type": "code",
   "execution_count": 2,
   "metadata": {
    "ExecuteTime": {
     "end_time": "2020-12-30T20:50:55.540614Z",
     "start_time": "2020-12-30T20:50:54.629182Z"
    }
   },
   "outputs": [],
   "source": [
    "%load_ext autoreload\n",
    "%autoreload 2\n",
    "from expressiveness_benchmark.types import Plan, Task, Language, SourceRange, Program\n",
    "from code_widget.example import CodeWidget\n",
    "from dataclasses import replace\n",
    "import json\n",
    "import pandas as pd"
   ]
  },
  {
   "cell_type": "code",
   "execution_count": 3,
   "metadata": {
    "ExecuteTime": {
     "end_time": "2020-12-30T20:50:55.600800Z",
     "start_time": "2020-12-30T20:50:55.585023Z"
    }
   },
   "outputs": [],
   "source": [
    "# CHANGE ME!\n",
    "TASK_ID = 'continent_by_population'\n",
    "AUTHOR = 'will'"
   ]
  },
  {
   "cell_type": "code",
   "execution_count": 4,
   "metadata": {
    "ExecuteTime": {
     "end_time": "2020-12-30T20:50:58.113819Z",
     "start_time": "2020-12-30T20:50:58.082959Z"
    }
   },
   "outputs": [],
   "source": [
    "task = Task(\n",
    "    id=TASK_ID,\n",
    "    category=\"Aggregation\",\n",
    "    name=\"Continent with the highest average population\",\n",
    "    description=\"Find the name of the continent with the highest average population by country.\",\n",
    "    plan=[\n",
    "        Plan(id=\"name\", description=\"name of the continent\"),\n",
    "        Plan(id=\"group\", description=\"by country\"),\n",
    "        Plan(id=\"average\", description=\"average population\"),\n",
    "        Plan(id=\"max\", description=\"highest\")\n",
    "    ],\n",
    "    sample_input={\n",
    "        \"countries\": [\n",
    "            {\"name\": \"USA\", \"population\": 328, \"continent\": \"North America\"},\n",
    "            {\"name\": \"Canada\", \"population\": 37, \"continent\": \"North America\"},\n",
    "            {\"name\": \"Ethiopia\", \"population\": 109, \"continent\": \"Africa\"},\n",
    "            {\"name\": \"Kenya\", \"population\": 51, \"continent\": \"Africa\"},\n",
    "        ]\n",
    "    },\n",
    "    sample_output=\"North America\",\n",
    ")\n",
    "task.save()\n",
    "\n",
    "prototype = Program(\n",
    "    task=TASK_ID,\n",
    "    author=AUTHOR,\n",
    "    language=''    \n",
    ")"
   ]
  },
  {
   "cell_type": "code",
   "execution_count": 9,
   "metadata": {
    "ExecuteTime": {
     "end_time": "2020-12-30T20:51:59.807412Z",
     "start_time": "2020-12-30T20:51:59.475568Z"
    }
   },
   "outputs": [],
   "source": [
    "q = replace(prototype,\n",
    "    language='q',\n",
    "    source='''averages: \n",
    "  select avg(population) by continent from countries;\n",
    "continent_by_population: \n",
    "  (first select[>population] continent from averages) `continent''').load_plan()\n",
    "q.execute(task)\n",
    "q.save()"
   ]
  },
  {
   "cell_type": "code",
   "execution_count": 10,
   "metadata": {
    "ExecuteTime": {
     "end_time": "2020-12-30T20:52:00.468741Z",
     "start_time": "2020-12-30T20:52:00.433939Z"
    }
   },
   "outputs": [
    {
     "data": {
      "application/vnd.jupyter.widget-view+json": {
       "model_id": "da77348d8b8147bdb98f56f197c62a4b",
       "version_major": 2,
       "version_minor": 0
      },
      "text/plain": [
       "Output()"
      ]
     },
     "metadata": {},
     "output_type": "display_data"
    },
    {
     "data": {
      "application/vnd.jupyter.widget-view+json": {
       "model_id": "118bdd3c3f934de5a0f92df90fb94325",
       "version_major": 2,
       "version_minor": 0
      },
      "text/plain": [
       "CodeWidget(program='{\"task\": \"continent_by_population\", \"language\": \"q\", \"plan\": {}, \"source\": \"averages: \\\\n …"
      ]
     },
     "metadata": {},
     "output_type": "display_data"
    }
   ],
   "source": [
    "q.widget(task)"
   ]
  },
  {
   "cell_type": "code",
   "execution_count": 5,
   "metadata": {
    "ExecuteTime": {
     "end_time": "2020-12-07T21:03:10.252520Z",
     "start_time": "2020-12-07T21:03:10.210619Z"
    }
   },
   "outputs": [],
   "source": [
    "sql = replace(prototype,\n",
    "    language='sql',\n",
    "    source='''SELECT continent \n",
    "FROM countries\n",
    "GROUP BY continent\n",
    "ORDER BY AVG(population) DESC\n",
    "LIMIT 1''').load_plan()\n",
    "sql.execute(task)\n",
    "sql.save()"
   ]
  },
  {
   "cell_type": "code",
   "execution_count": 6,
   "metadata": {
    "ExecuteTime": {
     "end_time": "2020-12-07T21:03:10.557274Z",
     "start_time": "2020-12-07T21:03:10.500007Z"
    }
   },
   "outputs": [
    {
     "data": {
      "application/vnd.jupyter.widget-view+json": {
       "model_id": "c8ac767bf1494ef88d8fdebb7ed410b6",
       "version_major": 2,
       "version_minor": 0
      },
      "text/plain": [
       "Output()"
      ]
     },
     "metadata": {},
     "output_type": "display_data"
    },
    {
     "data": {
      "application/vnd.jupyter.widget-view+json": {
       "model_id": "5a63d251734941f39390ba1c817f9aef",
       "version_major": 2,
       "version_minor": 0
      },
      "text/plain": [
       "CodeWidget(program='{\"task\": \"continent_by_population\", \"language\": \"sql\", \"plan\": {\"max\": [{\"line\": 3, \"start…"
      ]
     },
     "metadata": {},
     "output_type": "display_data"
    }
   ],
   "source": [
    "sql.widget(task)"
   ]
  },
  {
   "cell_type": "code",
   "execution_count": 27,
   "metadata": {
    "ExecuteTime": {
     "end_time": "2020-11-16T00:32:04.061888Z",
     "start_time": "2020-11-16T00:32:03.952001Z"
    }
   },
   "outputs": [],
   "source": [
    "datalog = replace(prototype,\n",
    "    language='datalog',\n",
    "    source='''.decl average_population(Continent:symbol, Avg:number)\n",
    "average_population(Continent, Avg) :-\n",
    "  countries(Continent, _, _),\n",
    "  Total = sum P : countries(Continent, _, P),\n",
    "  Num_countries = count : countries(Continent, _, _),\n",
    "  Avg = Total / Num_countries.\n",
    "  \n",
    "continent_by_population(Continent) :- \n",
    "  countries(Continent, _, _), \n",
    "  average_population(Continent, Max_avg),\n",
    "  Max_avg = max A : { countries(C, _, _), average_population(C, A) }.''').load_plan()\n",
    "datalog.execute(task)\n",
    "datalog.save()"
   ]
  },
  {
   "cell_type": "code",
   "execution_count": 28,
   "metadata": {
    "ExecuteTime": {
     "end_time": "2020-11-16T00:32:04.381118Z",
     "start_time": "2020-11-16T00:32:04.318313Z"
    }
   },
   "outputs": [
    {
     "data": {
      "application/vnd.jupyter.widget-view+json": {
       "model_id": "a5fef882c1ea43b5975a7b8ec18835d6",
       "version_major": 2,
       "version_minor": 0
      },
      "text/plain": [
       "Output()"
      ]
     },
     "metadata": {},
     "output_type": "display_data"
    },
    {
     "data": {
      "application/vnd.jupyter.widget-view+json": {
       "model_id": "5accea58239b4945aa70226d886e3e71",
       "version_major": 2,
       "version_minor": 0
      },
      "text/plain": [
       "CodeWidget(program='{\"task\": \"continent_by_population\", \"language\": \"datalog\", \"plan\": {}, \"source\": \".decl av…"
      ]
     },
     "metadata": {},
     "output_type": "display_data"
    }
   ],
   "source": [
    "datalog.widget(task)"
   ]
  },
  {
   "cell_type": "code",
   "execution_count": 29,
   "metadata": {
    "ExecuteTime": {
     "end_time": "2020-11-16T00:33:27.178534Z",
     "start_time": "2020-11-16T00:33:27.131462Z"
    }
   },
   "outputs": [],
   "source": [
    "pandas = replace(prototype,\n",
    "    language='python-pandas',\n",
    "    source='''def continent_by_population(countries):\n",
    "  mean_pop = countries.groupby('continent').population.mean()\n",
    "  return mean_pop.index[mean_pop.argmax()]''').load_plan()\n",
    "pandas.execute(task)\n",
    "pandas.save()"
   ]
  },
  {
   "cell_type": "code",
   "execution_count": 30,
   "metadata": {
    "ExecuteTime": {
     "end_time": "2020-11-16T00:33:27.454800Z",
     "start_time": "2020-11-16T00:33:27.411638Z"
    }
   },
   "outputs": [
    {
     "data": {
      "application/vnd.jupyter.widget-view+json": {
       "model_id": "7a6f7d073cd64541b7317e7eebc3a488",
       "version_major": 2,
       "version_minor": 0
      },
      "text/plain": [
       "Output()"
      ]
     },
     "metadata": {},
     "output_type": "display_data"
    },
    {
     "data": {
      "application/vnd.jupyter.widget-view+json": {
       "model_id": "ce74136e503a4188b0dbc70f52ec2ef5",
       "version_major": 2,
       "version_minor": 0
      },
      "text/plain": [
       "CodeWidget(program='{\"task\": \"continent_by_population\", \"language\": \"python-pandas\", \"plan\": {\"group\": [{\"line…"
      ]
     },
     "metadata": {},
     "output_type": "display_data"
    }
   ],
   "source": [
    "pandas.widget(task)"
   ]
  },
  {
   "cell_type": "code",
   "execution_count": 25,
   "metadata": {
    "ExecuteTime": {
     "end_time": "2020-12-31T19:22:33.911473Z",
     "start_time": "2020-12-31T19:22:33.880682Z"
    }
   },
   "outputs": [],
   "source": [
    "imperative = replace(prototype,\n",
    "    language='python-imperative',\n",
    "    source='''def continent_by_population(countries):\n",
    "  continent_stats = defaultdict(lambda: [0, 0])\n",
    "  for country in countries:\n",
    "    continent = country['continent']\n",
    "    continent_stats[continent][0] += country['population']\n",
    "    continent_stats[continent][1] += 1\n",
    "     \n",
    "  max_continent = None\n",
    "  max_average = None\n",
    "  for continent, [total, count] in continent_stats.items():\n",
    "    average = total / count\n",
    "    if max_average is None or max_average < average:\n",
    "      max_average = average\n",
    "      max_continent = continent\n",
    "      \n",
    "  return max_continent''').load_plan()\n",
    "imperative.execute(task)\n",
    "imperative.save()"
   ]
  },
  {
   "cell_type": "code",
   "execution_count": 26,
   "metadata": {
    "ExecuteTime": {
     "end_time": "2020-12-31T19:22:34.219623Z",
     "start_time": "2020-12-31T19:22:34.184375Z"
    }
   },
   "outputs": [
    {
     "data": {
      "application/vnd.jupyter.widget-view+json": {
       "model_id": "f518ff0c3d1242c6937b3c63a0152cbc",
       "version_major": 2,
       "version_minor": 0
      },
      "text/plain": [
       "Output()"
      ]
     },
     "metadata": {},
     "output_type": "display_data"
    },
    {
     "data": {
      "application/vnd.jupyter.widget-view+json": {
       "model_id": "006e3d3e29e64ca68fae633ab318f92a",
       "version_major": 2,
       "version_minor": 0
      },
      "text/plain": [
       "CodeWidget(program='{\"task\": \"continent_by_population\", \"language\": \"python-imperative\", \"plan\": {}, \"source\":…"
      ]
     },
     "metadata": {},
     "output_type": "display_data"
    }
   ],
   "source": [
    "imperative.widget(task)"
   ]
  },
  {
   "cell_type": "code",
   "execution_count": 21,
   "metadata": {
    "ExecuteTime": {
     "end_time": "2020-12-31T19:17:13.072866Z",
     "start_time": "2020-12-31T19:17:13.041975Z"
    }
   },
   "outputs": [],
   "source": [
    "functional = replace(prototype,\n",
    "    language='python-functional',\n",
    "    source='''def continent_by_population(countries):\n",
    "  continents = set([c['continent'] for c in countries])\n",
    "  populations_by_continent = [\n",
    "    (continent, [c['population'] for c in countries \n",
    "                 if c['continent'] == continent])\n",
    "    for continent in continents\n",
    "  ]\n",
    "  averages = [\n",
    "    (continent, sum(pops) / len(pops))\n",
    "    for continent, pops in populations_by_continent\n",
    "  ]\n",
    "  return max(averages, key=lambda t: t[1])[0]''').load_plan()\n",
    "functional.execute(task)\n",
    "functional.save()"
   ]
  },
  {
   "cell_type": "code",
   "execution_count": 22,
   "metadata": {
    "ExecuteTime": {
     "end_time": "2020-12-31T19:17:13.577797Z",
     "start_time": "2020-12-31T19:17:13.543688Z"
    }
   },
   "outputs": [
    {
     "data": {
      "application/vnd.jupyter.widget-view+json": {
       "model_id": "c231af5ad71f4132a33f74483dfff151",
       "version_major": 2,
       "version_minor": 0
      },
      "text/plain": [
       "Output()"
      ]
     },
     "metadata": {},
     "output_type": "display_data"
    },
    {
     "data": {
      "application/vnd.jupyter.widget-view+json": {
       "model_id": "f114e2401ed644889330235b42b83dc9",
       "version_major": 2,
       "version_minor": 0
      },
      "text/plain": [
       "CodeWidget(program='{\"task\": \"continent_by_population\", \"language\": \"python-functional\", \"plan\": {}, \"source\":…"
      ]
     },
     "metadata": {},
     "output_type": "display_data"
    }
   ],
   "source": [
    "functional.widget(task)"
   ]
  },
  {
   "cell_type": "code",
   "execution_count": 17,
   "metadata": {
    "ExecuteTime": {
     "end_time": "2020-12-07T21:09:01.284818Z",
     "start_time": "2020-12-07T21:09:01.242166Z"
    }
   },
   "outputs": [
    {
     "name": "stdout",
     "output_type": "stream",
     "text": [
      "`summarise()` ungrouping output (override with `.groups` argument)\n"
     ]
    }
   ],
   "source": [
    "r = replace(prototype,\n",
    "    language='r',\n",
    "    source='''continent_by_population <- function(countries) {\n",
    "  countries %>%\n",
    "    group_by(continent) %>%\n",
    "    summarize(mean_pop = mean(population)) %>%\n",
    "    slice(which.max(mean_pop)) %>%\n",
    "    .$continent\n",
    "}''').load_plan()\n",
    "r.execute(task)\n",
    "r.save()"
   ]
  },
  {
   "cell_type": "code",
   "execution_count": 18,
   "metadata": {
    "ExecuteTime": {
     "end_time": "2020-12-07T21:10:11.236645Z",
     "start_time": "2020-12-07T21:10:11.204701Z"
    }
   },
   "outputs": [
    {
     "data": {
      "application/vnd.jupyter.widget-view+json": {
       "model_id": "d26518d6f4b24e75a1db989e0593d8e8",
       "version_major": 2,
       "version_minor": 0
      },
      "text/plain": [
       "Output()"
      ]
     },
     "metadata": {},
     "output_type": "display_data"
    },
    {
     "data": {
      "application/vnd.jupyter.widget-view+json": {
       "model_id": "999f0a8c0a154ab0810732f5f2ef104e",
       "version_major": 2,
       "version_minor": 0
      },
      "text/plain": [
       "CodeWidget(program='{\"task\": \"continent_by_population\", \"language\": \"r\", \"plan\": {}, \"source\": \"continent_by_p…"
      ]
     },
     "metadata": {},
     "output_type": "display_data"
    }
   ],
   "source": [
    "r.widget(task)"
   ]
  }
 ],
 "metadata": {
  "kernelspec": {
   "display_name": "Python 3",
   "language": "python",
   "name": "python3"
  },
  "language_info": {
   "codemirror_mode": {
    "name": "ipython",
    "version": 3
   },
   "file_extension": ".py",
   "mimetype": "text/x-python",
   "name": "python",
   "nbconvert_exporter": "python",
   "pygments_lexer": "ipython3",
   "version": "3.9.1"
  },
  "toc": {
   "base_numbering": 1,
   "nav_menu": {},
   "number_sections": true,
   "sideBar": true,
   "skip_h1_title": false,
   "title_cell": "Table of Contents",
   "title_sidebar": "Contents",
   "toc_cell": false,
   "toc_position": {},
   "toc_section_display": true,
   "toc_window_display": false
  },
  "varInspector": {
   "cols": {
    "lenName": 16,
    "lenType": 16,
    "lenVar": 40
   },
   "kernels_config": {
    "python": {
     "delete_cmd_postfix": "",
     "delete_cmd_prefix": "del ",
     "library": "var_list.py",
     "varRefreshCmd": "print(var_dic_list())"
    },
    "r": {
     "delete_cmd_postfix": ") ",
     "delete_cmd_prefix": "rm(",
     "library": "var_list.r",
     "varRefreshCmd": "cat(var_dic_list()) "
    }
   },
   "types_to_exclude": [
    "module",
    "function",
    "builtin_function_or_method",
    "instance",
    "_Feature"
   ],
   "window_display": false
  }
 },
 "nbformat": 4,
 "nbformat_minor": 4
}
