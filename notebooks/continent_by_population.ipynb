{
 "cells": [
  {
   "cell_type": "code",
   "execution_count": 1,
   "metadata": {
    "ExecuteTime": {
     "end_time": "2020-10-27T20:37:27.061503Z",
     "start_time": "2020-10-27T20:37:26.719997Z"
    }
   },
   "outputs": [],
   "source": [
    "%load_ext autoreload\n",
    "%autoreload 2\n",
    "from expressiveness_benchmark.types import Plan, Task, Language, SourceRange, Program, TASKS\n",
    "from code_widget.example import CodeWidget\n",
    "from dataclasses import replace\n",
    "import json\n",
    "import pandas as pd"
   ]
  },
  {
   "cell_type": "code",
   "execution_count": 2,
   "metadata": {
    "ExecuteTime": {
     "end_time": "2020-10-27T20:37:27.082745Z",
     "start_time": "2020-10-27T20:37:27.063929Z"
    }
   },
   "outputs": [],
   "source": [
    "task_id = 'continent_by_population'\n",
    "task = TASKS[task_id]"
   ]
  },
  {
   "cell_type": "code",
   "execution_count": 69,
   "metadata": {
    "ExecuteTime": {
     "end_time": "2020-10-27T21:04:59.876453Z",
     "start_time": "2020-10-27T21:04:59.847390Z"
    }
   },
   "outputs": [],
   "source": [
    "program = Program(\n",
    "    task=task_id,\n",
    "    language='sql',\n",
    "    author='will',\n",
    "    plan={},\n",
    "    source='''SELECT continent \n",
    "FROM countries\n",
    "GROUP BY continent\n",
    "ORDER BY AVG(population) DESC\n",
    "LIMIT 1\n",
    "''')\n",
    "program.execute(task)\n",
    "program.save()"
   ]
  },
  {
   "cell_type": "code",
   "execution_count": 70,
   "metadata": {
    "ExecuteTime": {
     "end_time": "2020-10-27T21:05:04.000515Z",
     "start_time": "2020-10-27T21:05:03.912395Z"
    }
   },
   "outputs": [],
   "source": [
    "program = Program(\n",
    "    task=task_id,\n",
    "    language='datalog',\n",
    "    author='will',\n",
    "    plan={},\n",
    "    source='''\n",
    ".decl average_population(continent:symbol, avg:number)\n",
    "\n",
    "average_population(continent, avg) :-\n",
    "  countries(continent, _, _),\n",
    "  total = sum p : countries(continent, _, p),\n",
    "  num_countries = count : countries(continent, _, _),\n",
    "  avg = total / num_countries.\n",
    "  \n",
    "continent_by_population(continent) :- \n",
    "  countries(continent, _, _), \n",
    "  average_population(continent, max_avg),\n",
    "  max_avg = max a : { countries(c, _, _), average_population(c, a) }.\n",
    "''')\n",
    "program.execute(task)\n",
    "program.save()"
   ]
  },
  {
   "cell_type": "code",
   "execution_count": 71,
   "metadata": {
    "ExecuteTime": {
     "end_time": "2020-10-27T21:05:08.489422Z",
     "start_time": "2020-10-27T21:05:08.462931Z"
    }
   },
   "outputs": [],
   "source": [
    "program = Program(\n",
    "    task=task_id,\n",
    "    language='python',\n",
    "    author='will',\n",
    "    plan={},\n",
    "    source='''\n",
    "def continent_by_population(countries):\n",
    "  import pandas as pd\n",
    "  countries = pd.DataFrame(countries)\n",
    "  mean_pop = countries.groupby('continent').population.mean()\n",
    "  return mean_pop.index[mean_pop.argmax()]\n",
    "''')\n",
    "program.execute(task)\n",
    "program.save()"
   ]
  }
 ],
 "metadata": {
  "kernelspec": {
   "display_name": "Python 3",
   "language": "python",
   "name": "python3"
  },
  "language_info": {
   "codemirror_mode": {
    "name": "ipython",
    "version": 3
   },
   "file_extension": ".py",
   "mimetype": "text/x-python",
   "name": "python",
   "nbconvert_exporter": "python",
   "pygments_lexer": "ipython3",
   "version": "3.8.5"
  },
  "toc": {
   "base_numbering": 1,
   "nav_menu": {},
   "number_sections": true,
   "sideBar": true,
   "skip_h1_title": false,
   "title_cell": "Table of Contents",
   "title_sidebar": "Contents",
   "toc_cell": false,
   "toc_position": {},
   "toc_section_display": true,
   "toc_window_display": false
  },
  "varInspector": {
   "cols": {
    "lenName": 16,
    "lenType": 16,
    "lenVar": 40
   },
   "kernels_config": {
    "python": {
     "delete_cmd_postfix": "",
     "delete_cmd_prefix": "del ",
     "library": "var_list.py",
     "varRefreshCmd": "print(var_dic_list())"
    },
    "r": {
     "delete_cmd_postfix": ") ",
     "delete_cmd_prefix": "rm(",
     "library": "var_list.r",
     "varRefreshCmd": "cat(var_dic_list()) "
    }
   },
   "types_to_exclude": [
    "module",
    "function",
    "builtin_function_or_method",
    "instance",
    "_Feature"
   ],
   "window_display": false
  }
 },
 "nbformat": 4,
 "nbformat_minor": 4
}
