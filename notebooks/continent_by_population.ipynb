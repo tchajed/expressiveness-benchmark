{
 "cells": [
  {
   "cell_type": "code",
   "execution_count": 28,
   "metadata": {
    "ExecuteTime": {
     "end_time": "2020-11-03T23:49:17.183857Z",
     "start_time": "2020-11-03T23:49:17.144366Z"
    }
   },
   "outputs": [
    {
     "name": "stdout",
     "output_type": "stream",
     "text": [
      "The autoreload extension is already loaded. To reload it, use:\n",
      "  %reload_ext autoreload\n"
     ]
    }
   ],
   "source": [
    "%load_ext autoreload\n",
    "%autoreload 2\n",
    "from expressiveness_benchmark.types import Plan, Task, Language, SourceRange, Program\n",
    "from code_widget.example import CodeWidget\n",
    "from dataclasses import replace\n",
    "import json\n",
    "import pandas as pd"
   ]
  },
  {
   "cell_type": "code",
   "execution_count": 29,
   "metadata": {
    "ExecuteTime": {
     "end_time": "2020-11-03T23:49:18.603743Z",
     "start_time": "2020-11-03T23:49:18.585153Z"
    }
   },
   "outputs": [],
   "source": [
    "# CHANGE ME!\n",
    "TASK_ID = 'continent_by_population'\n",
    "AUTHOR = 'will'"
   ]
  },
  {
   "cell_type": "code",
   "execution_count": 61,
   "metadata": {
    "ExecuteTime": {
     "end_time": "2020-11-11T19:46:45.748556Z",
     "start_time": "2020-11-11T19:46:45.714811Z"
    }
   },
   "outputs": [],
   "source": [
    "task = Task(\n",
    "    id=TASK_ID,\n",
    "    category=\"Aggregation\",\n",
    "    name=\"Continent with the highest average population\",\n",
    "    description=\"Find the name of the continent with the highest average population by country.\",\n",
    "    plan=[\n",
    "        Plan(id=\"group\", description=\"Group countries by continent\"),\n",
    "        Plan(id=\"average\", description=\"Compute average population\"),\n",
    "        Plan(id=\"max\", description=\"Find maximum average\")\n",
    "    ],\n",
    "    sample_input={\n",
    "        \"countries\": [\n",
    "            {\"name\": \"USA\", \"population\": 328, \"continent\": \"North America\"},\n",
    "            {\"name\": \"Canada\", \"population\": 37, \"continent\": \"North America\"},\n",
    "            {\"name\": \"Ethiopia\", \"population\": 109, \"continent\": \"Africa\"},\n",
    "            {\"name\": \"Kenya\", \"population\": 51, \"continent\": \"Africa\"},\n",
    "        ]\n",
    "    },\n",
    "    sample_output=\"North America\",\n",
    ")\n",
    "task.save()\n",
    "\n",
    "prototype = Program(\n",
    "    task=TASK_ID,\n",
    "    author=AUTHOR,\n",
    "    language=''    \n",
    ")"
   ]
  },
  {
   "cell_type": "code",
   "execution_count": 59,
   "metadata": {
    "ExecuteTime": {
     "end_time": "2020-11-11T18:55:57.251922Z",
     "start_time": "2020-11-11T18:55:57.204510Z"
    }
   },
   "outputs": [],
   "source": [
    "sql = replace(prototype,\n",
    "    language='sql',\n",
    "    source='''SELECT continent \n",
    "FROM countries\n",
    "GROUP BY continent\n",
    "ORDER BY AVG(population) DESC\n",
    "LIMIT 1''').load_plan()\n",
    "sql.execute(task)\n",
    "sql.save()"
   ]
  },
  {
   "cell_type": "code",
   "execution_count": 44,
   "metadata": {
    "ExecuteTime": {
     "end_time": "2020-11-03T23:51:38.452978Z",
     "start_time": "2020-11-03T23:51:38.422318Z"
    }
   },
   "outputs": [
    {
     "data": {
      "application/vnd.jupyter.widget-view+json": {
       "model_id": "00bf00cd167149bbb07641940ab1fa86",
       "version_major": 2,
       "version_minor": 0
      },
      "text/plain": [
       "Output()"
      ]
     },
     "metadata": {},
     "output_type": "display_data"
    },
    {
     "data": {
      "application/vnd.jupyter.widget-view+json": {
       "model_id": "35b763327805408bad0894ad37e03e02",
       "version_major": 2,
       "version_minor": 0
      },
      "text/plain": [
       "CodeWidget(program='{\"task\": \"continent_by_population\", \"language\": \"sql\", \"plan\": {\"max\": [{\"line\": 3, \"start…"
      ]
     },
     "metadata": {},
     "output_type": "display_data"
    }
   ],
   "source": [
    "sql.widget(task)"
   ]
  },
  {
   "cell_type": "code",
   "execution_count": 45,
   "metadata": {
    "ExecuteTime": {
     "end_time": "2020-11-03T23:51:40.127675Z",
     "start_time": "2020-11-03T23:51:40.024383Z"
    }
   },
   "outputs": [],
   "source": [
    "datalog = replace(prototype,\n",
    "    language='datalog',\n",
    "    source='''.decl average_population(Continent:symbol, Avg:number)\n",
    "\n",
    "average_population(Continent, Avg) :-\n",
    "  countries(Continent, _, _),\n",
    "  Total = sum P : countries(Continent, _, P),\n",
    "  Num_countries = count : countries(Continent, _, _),\n",
    "  Avg = Total / Num_countries.\n",
    "  \n",
    "continent_by_population(Continent) :- \n",
    "  countries(Continent, _, _), \n",
    "  average_population(Continent, Max_avg),\n",
    "  Max_avg = max A : { countries(C, _, _), average_population(C, A) }.''').load_plan()\n",
    "datalog.execute(task)\n",
    "datalog.save()"
   ]
  },
  {
   "cell_type": "code",
   "execution_count": 46,
   "metadata": {
    "ExecuteTime": {
     "end_time": "2020-11-03T23:51:40.626480Z",
     "start_time": "2020-11-03T23:51:40.590966Z"
    }
   },
   "outputs": [
    {
     "data": {
      "application/vnd.jupyter.widget-view+json": {
       "model_id": "fba2164754114d148c972203c2abcb85",
       "version_major": 2,
       "version_minor": 0
      },
      "text/plain": [
       "Output()"
      ]
     },
     "metadata": {},
     "output_type": "display_data"
    },
    {
     "data": {
      "application/vnd.jupyter.widget-view+json": {
       "model_id": "edaea4c7d5574e8da9c9dc21658f43dd",
       "version_major": 2,
       "version_minor": 0
      },
      "text/plain": [
       "CodeWidget(program='{\"task\": \"continent_by_population\", \"language\": \"datalog\", \"plan\": {\"group\": [{\"line\": 3, …"
      ]
     },
     "metadata": {},
     "output_type": "display_data"
    }
   ],
   "source": [
    "datalog.widget(task)"
   ]
  },
  {
   "cell_type": "code",
   "execution_count": 49,
   "metadata": {
    "ExecuteTime": {
     "end_time": "2020-11-03T23:52:52.455336Z",
     "start_time": "2020-11-03T23:52:52.422955Z"
    }
   },
   "outputs": [],
   "source": [
    "pandas = replace(prototype,\n",
    "    language='python-pandas',\n",
    "    source='''def continent_by_population(countries):\n",
    "  mean_pop = countries.groupby('continent').population.mean()\n",
    "  return mean_pop.index[mean_pop.argmax()]''').load_plan()\n",
    "pandas.execute(task)\n",
    "pandas.save()"
   ]
  },
  {
   "cell_type": "code",
   "execution_count": 50,
   "metadata": {
    "ExecuteTime": {
     "end_time": "2020-11-03T23:52:53.348446Z",
     "start_time": "2020-11-03T23:52:53.313249Z"
    }
   },
   "outputs": [
    {
     "data": {
      "application/vnd.jupyter.widget-view+json": {
       "model_id": "9e87693d0b474661b7df77811ae5e6f7",
       "version_major": 2,
       "version_minor": 0
      },
      "text/plain": [
       "Output()"
      ]
     },
     "metadata": {},
     "output_type": "display_data"
    },
    {
     "data": {
      "application/vnd.jupyter.widget-view+json": {
       "model_id": "035c6db9e4064c2d8739b3b11ce54dee",
       "version_major": 2,
       "version_minor": 0
      },
      "text/plain": [
       "CodeWidget(program='{\"task\": \"continent_by_population\", \"language\": \"python-pandas\", \"plan\": {}, \"source\": \"de…"
      ]
     },
     "metadata": {},
     "output_type": "display_data"
    }
   ],
   "source": [
    "pandas.widget(task)"
   ]
  },
  {
   "cell_type": "code",
   "execution_count": 53,
   "metadata": {
    "ExecuteTime": {
     "end_time": "2020-11-03T23:53:19.835200Z",
     "start_time": "2020-11-03T23:53:19.812942Z"
    }
   },
   "outputs": [],
   "source": [
    "imperative = replace(prototype,\n",
    "    language='python-imperative',\n",
    "    source='''def continent_by_population(countries):\n",
    "  continent_stats = defaultdict(lambda: [0, 0])\n",
    "  for country in countries:\n",
    "    continent = country['continent']\n",
    "    continent_stats[continent][0] += country['population']\n",
    "    continent_stats[continent][1] += 1\n",
    "     \n",
    "  max_continent = None\n",
    "  max_average = None\n",
    "  for continent, [total, count] in continent_stats.items():\n",
    "    average = total / count\n",
    "    if max_average is None or max_average < average:\n",
    "      max_average = average\n",
    "      max_continent = continent\n",
    "      \n",
    "  return max_continent''').load_plan()\n",
    "imperative.execute(task)\n",
    "imperative.save()"
   ]
  },
  {
   "cell_type": "code",
   "execution_count": 54,
   "metadata": {
    "ExecuteTime": {
     "end_time": "2020-11-03T23:53:20.625927Z",
     "start_time": "2020-11-03T23:53:20.562207Z"
    }
   },
   "outputs": [
    {
     "data": {
      "application/vnd.jupyter.widget-view+json": {
       "model_id": "200cd31d485845988f6676fd615755f3",
       "version_major": 2,
       "version_minor": 0
      },
      "text/plain": [
       "Output()"
      ]
     },
     "metadata": {},
     "output_type": "display_data"
    },
    {
     "data": {
      "application/vnd.jupyter.widget-view+json": {
       "model_id": "76fa3ea0cde941e1997258bcbb5f9da1",
       "version_major": 2,
       "version_minor": 0
      },
      "text/plain": [
       "CodeWidget(program='{\"task\": \"continent_by_population\", \"language\": \"python-imperative\", \"plan\": {}, \"source\":…"
      ]
     },
     "metadata": {},
     "output_type": "display_data"
    }
   ],
   "source": [
    "imperative.widget(task)"
   ]
  },
  {
   "cell_type": "code",
   "execution_count": 57,
   "metadata": {
    "ExecuteTime": {
     "end_time": "2020-11-03T23:54:34.026939Z",
     "start_time": "2020-11-03T23:54:34.001112Z"
    }
   },
   "outputs": [],
   "source": [
    "functional = replace(prototype,\n",
    "    language='python-functional',\n",
    "    source='''def continent_by_population(countries):\n",
    "  continents = set([c['continent'] for c in countries])\n",
    "  populations_by_continent = [\n",
    "    (continent, [c['population'] for c in countries if c['continent'] == continent])\n",
    "    for continent in continents\n",
    "  ]\n",
    "  averages = [\n",
    "    (continent, sum(pops) / len(pops))\n",
    "    for continent, pops in populations_by_continent\n",
    "  ]\n",
    "  return max(averages, key=lambda t: t[1])[0]''').load_plan()\n",
    "functional.execute(task)\n",
    "functional.save()"
   ]
  },
  {
   "cell_type": "code",
   "execution_count": 58,
   "metadata": {
    "ExecuteTime": {
     "end_time": "2020-11-03T23:54:35.343350Z",
     "start_time": "2020-11-03T23:54:35.296674Z"
    }
   },
   "outputs": [
    {
     "data": {
      "application/vnd.jupyter.widget-view+json": {
       "model_id": "0d1696380acd420fb10e54777e02a7e5",
       "version_major": 2,
       "version_minor": 0
      },
      "text/plain": [
       "Output()"
      ]
     },
     "metadata": {},
     "output_type": "display_data"
    },
    {
     "data": {
      "application/vnd.jupyter.widget-view+json": {
       "model_id": "4e581d08c92b4ed49060a3a4156f48a4",
       "version_major": 2,
       "version_minor": 0
      },
      "text/plain": [
       "CodeWidget(program='{\"task\": \"continent_by_population\", \"language\": \"python-functional\", \"plan\": {}, \"source\":…"
      ]
     },
     "metadata": {},
     "output_type": "display_data"
    }
   ],
   "source": [
    "functional.widget(task)"
   ]
  }
 ],
 "metadata": {
  "kernelspec": {
   "display_name": "Python 3",
   "language": "python",
   "name": "python3"
  },
  "language_info": {
   "codemirror_mode": {
    "name": "ipython",
    "version": 3
   },
   "file_extension": ".py",
   "mimetype": "text/x-python",
   "name": "python",
   "nbconvert_exporter": "python",
   "pygments_lexer": "ipython3",
   "version": "3.8.5"
  },
  "toc": {
   "base_numbering": 1,
   "nav_menu": {},
   "number_sections": true,
   "sideBar": true,
   "skip_h1_title": false,
   "title_cell": "Table of Contents",
   "title_sidebar": "Contents",
   "toc_cell": false,
   "toc_position": {},
   "toc_section_display": true,
   "toc_window_display": false
  },
  "varInspector": {
   "cols": {
    "lenName": 16,
    "lenType": 16,
    "lenVar": 40
   },
   "kernels_config": {
    "python": {
     "delete_cmd_postfix": "",
     "delete_cmd_prefix": "del ",
     "library": "var_list.py",
     "varRefreshCmd": "print(var_dic_list())"
    },
    "r": {
     "delete_cmd_postfix": ") ",
     "delete_cmd_prefix": "rm(",
     "library": "var_list.r",
     "varRefreshCmd": "cat(var_dic_list()) "
    }
   },
   "types_to_exclude": [
    "module",
    "function",
    "builtin_function_or_method",
    "instance",
    "_Feature"
   ],
   "window_display": false
  }
 },
 "nbformat": 4,
 "nbformat_minor": 4
}
