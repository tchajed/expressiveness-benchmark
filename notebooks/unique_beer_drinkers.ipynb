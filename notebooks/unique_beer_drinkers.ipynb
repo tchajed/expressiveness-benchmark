{
 "cells": [
  {
   "cell_type": "code",
   "execution_count": 188,
   "metadata": {
    "ExecuteTime": {
     "end_time": "2020-10-27T23:04:13.705211Z",
     "start_time": "2020-10-27T23:04:13.685424Z"
    }
   },
   "outputs": [
    {
     "name": "stdout",
     "output_type": "stream",
     "text": [
      "The autoreload extension is already loaded. To reload it, use:\n",
      "  %reload_ext autoreload\n"
     ]
    }
   ],
   "source": [
    "%load_ext autoreload\n",
    "%autoreload 2\n",
    "from expressiveness_benchmark.types import Plan, Task, Language, SourceRange, Program, TASKS\n",
    "from code_widget.example import CodeWidget\n",
    "from dataclasses import replace\n",
    "import json\n",
    "import pandas as pd"
   ]
  },
  {
   "cell_type": "code",
   "execution_count": 189,
   "metadata": {
    "ExecuteTime": {
     "end_time": "2020-10-27T23:04:13.965363Z",
     "start_time": "2020-10-27T23:04:13.948422Z"
    }
   },
   "outputs": [],
   "source": [
    "task_id = 'unique_beer_drinkers'\n",
    "task = TASKS[task_id]"
   ]
  },
  {
   "cell_type": "code",
   "execution_count": 217,
   "metadata": {
    "ExecuteTime": {
     "end_time": "2020-10-28T00:54:21.132352Z",
     "start_time": "2020-10-28T00:54:20.704871Z"
    }
   },
   "outputs": [],
   "source": [
    "program = Program(\n",
    "    task=task_id,\n",
    "    language='sql',\n",
    "    author='will',\n",
    "    plan={},\n",
    "    source='''\n",
    "SELECT DISTINCT L1.name\n",
    "FROM likes L1\n",
    "WHERE NOT EXISTS(\n",
    "    SELECT *\n",
    "    FROM likes L2\n",
    "    WHERE L1.name != L2.name\n",
    "    AND NOT EXISTS(\n",
    "        SELECT *\n",
    "        FROM likes L3\n",
    "        WHERE L3.name = L2.name\n",
    "        AND NOT EXISTS(\n",
    "            SELECT *\n",
    "            FROM likes L4\n",
    "            WHERE L4.name = L1.name\n",
    "            AND L4.beer = L3.beer))\n",
    "    AND NOT EXISTS(\n",
    "        SELECT *\n",
    "        FROM likes L5\n",
    "        WHERE L5.name = L1.name\n",
    "        AND NOT EXISTS(\n",
    "            SELECT *\n",
    "            FROM likes L6\n",
    "            WHERE L6.name = L2.name\n",
    "            AND L6.beer= L5.beer)))\n",
    "''')\n",
    "program.execute(task)\n",
    "program.save()"
   ]
  },
  {
   "cell_type": "code",
   "execution_count": 239,
   "metadata": {
    "ExecuteTime": {
     "end_time": "2020-10-28T01:15:21.233046Z",
     "start_time": "2020-10-28T01:15:21.203936Z"
    }
   },
   "outputs": [
    {
     "ename": "OperationalError",
     "evalue": "a GROUP BY clause is required before HAVING",
     "output_type": "error",
     "traceback": [
      "\u001b[0;31m---------------------------------------------------------------------------\u001b[0m",
      "\u001b[0;31mOperationalError\u001b[0m                          Traceback (most recent call last)",
      "\u001b[0;32m<ipython-input-239-94b4277315e5>\u001b[0m in \u001b[0;36m<module>\u001b[0;34m\u001b[0m\n\u001b[1;32m     20\u001b[0m     ))\n\u001b[1;32m     21\u001b[0m ''')\n\u001b[0;32m---> 22\u001b[0;31m \u001b[0mprogram\u001b[0m\u001b[0;34m.\u001b[0m\u001b[0mexecute\u001b[0m\u001b[0;34m(\u001b[0m\u001b[0mtask\u001b[0m\u001b[0;34m)\u001b[0m\u001b[0;34m\u001b[0m\u001b[0;34m\u001b[0m\u001b[0m\n\u001b[0m\u001b[1;32m     23\u001b[0m \u001b[0mprogram\u001b[0m\u001b[0;34m.\u001b[0m\u001b[0msave\u001b[0m\u001b[0;34m(\u001b[0m\u001b[0;34m)\u001b[0m\u001b[0;34m\u001b[0m\u001b[0;34m\u001b[0m\u001b[0m\n",
      "\u001b[0;32m~/Code/expressiveness-benchmark/expressiveness_benchmark/types.py\u001b[0m in \u001b[0;36mexecute\u001b[0;34m(self, task)\u001b[0m\n\u001b[1;32m    125\u001b[0m                 \u001b[0mconn\u001b[0m\u001b[0;34m.\u001b[0m\u001b[0mcommit\u001b[0m\u001b[0;34m(\u001b[0m\u001b[0;34m)\u001b[0m\u001b[0;34m\u001b[0m\u001b[0;34m\u001b[0m\u001b[0m\n\u001b[1;32m    126\u001b[0m                 \u001b[0mc\u001b[0m \u001b[0;34m=\u001b[0m \u001b[0mconn\u001b[0m\u001b[0;34m.\u001b[0m\u001b[0mcursor\u001b[0m\u001b[0;34m(\u001b[0m\u001b[0;34m)\u001b[0m\u001b[0;34m\u001b[0m\u001b[0;34m\u001b[0m\u001b[0m\n\u001b[0;32m--> 127\u001b[0;31m                 \u001b[0mc\u001b[0m\u001b[0;34m.\u001b[0m\u001b[0mexecute\u001b[0m\u001b[0;34m(\u001b[0m\u001b[0mself\u001b[0m\u001b[0;34m.\u001b[0m\u001b[0msource\u001b[0m\u001b[0;34m)\u001b[0m\u001b[0;34m\u001b[0m\u001b[0;34m\u001b[0m\u001b[0m\n\u001b[0m\u001b[1;32m    128\u001b[0m                 \u001b[0mret\u001b[0m \u001b[0;34m=\u001b[0m \u001b[0;34m[\u001b[0m\u001b[0mlist\u001b[0m\u001b[0;34m(\u001b[0m\u001b[0mr\u001b[0m\u001b[0;34m)\u001b[0m \u001b[0;32mfor\u001b[0m \u001b[0mr\u001b[0m \u001b[0;32min\u001b[0m \u001b[0mc\u001b[0m\u001b[0;34m.\u001b[0m\u001b[0mfetchall\u001b[0m\u001b[0;34m(\u001b[0m\u001b[0;34m)\u001b[0m\u001b[0;34m]\u001b[0m\u001b[0;34m\u001b[0m\u001b[0;34m\u001b[0m\u001b[0m\n\u001b[1;32m    129\u001b[0m                 \u001b[0;32mif\u001b[0m \u001b[0mlen\u001b[0m\u001b[0;34m(\u001b[0m\u001b[0mret\u001b[0m\u001b[0;34m)\u001b[0m \u001b[0;34m>\u001b[0m \u001b[0;36m0\u001b[0m \u001b[0;32mand\u001b[0m \u001b[0mlen\u001b[0m\u001b[0;34m(\u001b[0m\u001b[0mret\u001b[0m\u001b[0;34m[\u001b[0m\u001b[0;36m0\u001b[0m\u001b[0;34m]\u001b[0m\u001b[0;34m)\u001b[0m \u001b[0;34m==\u001b[0m \u001b[0;36m1\u001b[0m\u001b[0;34m:\u001b[0m\u001b[0;34m\u001b[0m\u001b[0;34m\u001b[0m\u001b[0m\n",
      "\u001b[0;31mOperationalError\u001b[0m: a GROUP BY clause is required before HAVING"
     ]
    }
   ],
   "source": [
    "program = Program(\n",
    "    task=task_id,\n",
    "    language='sql',\n",
    "    author='will',\n",
    "    plan={},\n",
    "    source='''\n",
    "SELECT DISTINCT L1.name\n",
    "FROM likes L1\n",
    "WHERE NOT EXISTS(\n",
    "    SELECT *\n",
    "    FROM likes L2\n",
    "    WHERE L1.name != L2.name\n",
    "    AND NOT EXISTS(\n",
    "        SELECT *\n",
    "        FROM \n",
    "          (SELECT beer FROM likes WHERE name = L1.name\n",
    "          UNION\n",
    "          SELECT beer FROM likes WHERE name = L2.name) L5\n",
    "        GROUP BY \n",
    "        HAVING COUNT(*) > 0\n",
    "    ))\n",
    "''')\n",
    "program.execute(task)\n",
    "program.save()"
   ]
  },
  {
   "cell_type": "code",
   "execution_count": 44,
   "metadata": {
    "ExecuteTime": {
     "end_time": "2020-10-27T22:14:16.398444Z",
     "start_time": "2020-10-27T22:14:16.307084Z"
    }
   },
   "outputs": [],
   "source": [
    "program = Program(\n",
    "    task=task_id,\n",
    "    language='datalog',\n",
    "    author='will',\n",
    "    plan={},\n",
    "    source='''\n",
    "unique_beer_drinkers(name) :-\n",
    "  likes(_, name),\n",
    "  0 = count : {\n",
    "    likes(_, other),\n",
    "    other != name,\n",
    "    shared_count = count : { likes(beer, other), likes(beer, name) },\n",
    "    count : likes(_, other) = shared_count,\n",
    "    count : likes(_, name) = shared_count\n",
    "  }.\n",
    "''')\n",
    "program.execute(task)\n",
    "program.save()"
   ]
  },
  {
   "cell_type": "code",
   "execution_count": 208,
   "metadata": {
    "ExecuteTime": {
     "end_time": "2020-10-27T23:12:04.983423Z",
     "start_time": "2020-10-27T23:12:04.946579Z"
    }
   },
   "outputs": [],
   "source": [
    "program = Program(\n",
    "    task=task_id,\n",
    "    language='python',\n",
    "    author='will',\n",
    "    plan={},\n",
    "    source='''\n",
    "import pandas as pd\n",
    "def unique_beer_drinkers(likes):\n",
    "  likes = pd.DataFrame(likes)\n",
    "  likes_per_person = likes.groupby('name').beer.unique().map(set).reset_index()\n",
    "\n",
    "  def check_not_exists(row):\n",
    "      other_people = likes_per_person[likes_per_person.name != row['name']]\n",
    "      return not (other_people.beer == row['beer']).any()\n",
    "\n",
    "  return likes_per_person[likes_per_person.apply(check_not_exists, axis=1)].name.tolist()\n",
    "''')\n",
    "program.execute(task)\n",
    "program.save()"
   ]
  },
  {
   "cell_type": "code",
   "execution_count": 213,
   "metadata": {
    "ExecuteTime": {
     "end_time": "2020-10-27T23:18:07.277460Z",
     "start_time": "2020-10-27T23:18:07.254544Z"
    }
   },
   "outputs": [],
   "source": [
    "program = Program(\n",
    "    task=task_id,\n",
    "    language='python',\n",
    "    author='will',\n",
    "    plan={},\n",
    "    source='''\n",
    "from collections import defaultdict    \n",
    "def unique_beer_drinkers(likes):\n",
    "  likes_per_person = defaultdict(set)\n",
    "  for row in likes:\n",
    "    likes_per_person[row['name']].add(row['beer'])\n",
    "    \n",
    "  unique_drinkers = []\n",
    "  for name, beers in likes_per_person.items():\n",
    "    unique = True\n",
    "    for other_name, other_beers in likes_per_person.items():\n",
    "        if other_name != name and beers == other_beers:\n",
    "            unique = False\n",
    "    if unique:\n",
    "      unique_drinkers.append(name)\n",
    "      \n",
    "  return unique_drinkers\n",
    "''')\n",
    "program.execute(task)"
   ]
  }
 ],
 "metadata": {
  "kernelspec": {
   "display_name": "Python 3",
   "language": "python",
   "name": "python3"
  },
  "language_info": {
   "codemirror_mode": {
    "name": "ipython",
    "version": 3
   },
   "file_extension": ".py",
   "mimetype": "text/x-python",
   "name": "python",
   "nbconvert_exporter": "python",
   "pygments_lexer": "ipython3",
   "version": "3.8.5"
  },
  "toc": {
   "base_numbering": 1,
   "nav_menu": {},
   "number_sections": true,
   "sideBar": true,
   "skip_h1_title": false,
   "title_cell": "Table of Contents",
   "title_sidebar": "Contents",
   "toc_cell": false,
   "toc_position": {},
   "toc_section_display": true,
   "toc_window_display": false
  },
  "varInspector": {
   "cols": {
    "lenName": 16,
    "lenType": 16,
    "lenVar": 40
   },
   "kernels_config": {
    "python": {
     "delete_cmd_postfix": "",
     "delete_cmd_prefix": "del ",
     "library": "var_list.py",
     "varRefreshCmd": "print(var_dic_list())"
    },
    "r": {
     "delete_cmd_postfix": ") ",
     "delete_cmd_prefix": "rm(",
     "library": "var_list.r",
     "varRefreshCmd": "cat(var_dic_list()) "
    }
   },
   "types_to_exclude": [
    "module",
    "function",
    "builtin_function_or_method",
    "instance",
    "_Feature"
   ],
   "window_display": false
  }
 },
 "nbformat": 4,
 "nbformat_minor": 4
}
