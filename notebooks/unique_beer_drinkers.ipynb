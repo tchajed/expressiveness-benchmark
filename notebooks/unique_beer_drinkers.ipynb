{
 "cells": [
  {
   "cell_type": "code",
   "execution_count": 1,
   "metadata": {
    "ExecuteTime": {
     "end_time": "2020-12-30T21:15:39.684232Z",
     "start_time": "2020-12-30T21:15:39.115028Z"
    }
   },
   "outputs": [],
   "source": [
    "%load_ext autoreload\n",
    "%autoreload 2\n",
    "from expressiveness_benchmark.types import Plan, Task, Language, SourceRange, Program\n",
    "from code_widget.example import CodeWidget\n",
    "from dataclasses import replace\n",
    "import json\n",
    "import pandas as pd"
   ]
  },
  {
   "cell_type": "code",
   "execution_count": 2,
   "metadata": {
    "ExecuteTime": {
     "end_time": "2020-12-30T21:15:39.773545Z",
     "start_time": "2020-12-30T21:15:39.754111Z"
    }
   },
   "outputs": [],
   "source": [
    "# CHANGE ME!\n",
    "TASK_ID = 'unique_beer_drinkers'\n",
    "AUTHOR = 'will'"
   ]
  },
  {
   "cell_type": "code",
   "execution_count": 3,
   "metadata": {
    "ExecuteTime": {
     "end_time": "2020-12-30T21:15:40.313014Z",
     "start_time": "2020-12-30T21:15:40.288335Z"
    }
   },
   "outputs": [],
   "source": [
    "task = Task(\n",
    "    id=TASK_ID,\n",
    "    category=\"First-order logic\",\n",
    "    name=\"People who like a unique set of beer\",\n",
    "    description=\"Find all people whose preferred set of beers is distinct from each other person's preferred set\",\n",
    "    plan=[\n",
    "        Plan(id=\"collect\", description=\"preferred set of beers\"),\n",
    "        Plan(id=\"iter\", description=\"all people\"),\n",
    "        Plan(id=\"compare\", description=\"distinct from each other person's preferred set\")\n",
    "    ],\n",
    "    sample_input={\n",
    "        \"likes\": [\n",
    "            {\"name\": \"will\", \"beer\": \"ipa\"},\n",
    "            {\"name\": \"will\", \"beer\": \"lager\"},\n",
    "            {\"name\": \"scott\", \"beer\": \"ipa\"},\n",
    "            {\"name\": \"scott\", \"beer\": \"stout\"},\n",
    "            {\"name\": \"gleb\", \"beer\": \"ipa\"},\n",
    "            {\"name\": \"gleb\", \"beer\": \"stout\"},\n",
    "            {\"name\": \"fred\", \"beer\": \"ipa\"},\n",
    "            {\"name\": \"fred\", \"beer\": \"lager\"},\n",
    "            {\"name\": \"fred\", \"beer\": \"stout\"},\n",
    "        ]\n",
    "    },\n",
    "    sample_output=[\"will\", \"fred\"],\n",
    ")\n",
    "task.save()\n",
    "\n",
    "prototype = Program(\n",
    "    task=TASK_ID,\n",
    "    author=AUTHOR,\n",
    "    language=''    \n",
    ")"
   ]
  },
  {
   "cell_type": "code",
   "execution_count": 13,
   "metadata": {
    "ExecuteTime": {
     "end_time": "2020-12-30T21:16:55.570316Z",
     "start_time": "2020-12-30T21:16:55.347362Z"
    }
   },
   "outputs": [],
   "source": [
    "q = replace(prototype,\n",
    "    language='q',\n",
    "    source='''likes_per_person: `name xgroup likes;\n",
    "counts: count each group likes_per_person;\n",
    "unique_beer_drinkers: \n",
    "  (select name from likes_per_person where beer in\\: where[counts=1])\n",
    "  `name''').load_plan()\n",
    "q.execute(task)\n",
    "q.save()"
   ]
  },
  {
   "cell_type": "code",
   "execution_count": 11,
   "metadata": {
    "ExecuteTime": {
     "end_time": "2020-12-30T21:16:15.349202Z",
     "start_time": "2020-12-30T21:16:15.314175Z"
    }
   },
   "outputs": [
    {
     "data": {
      "application/vnd.jupyter.widget-view+json": {
       "model_id": "83088099f6704ca196e72d927439ba56",
       "version_major": 2,
       "version_minor": 0
      },
      "text/plain": [
       "Output()"
      ]
     },
     "metadata": {},
     "output_type": "display_data"
    },
    {
     "data": {
      "application/vnd.jupyter.widget-view+json": {
       "model_id": "a1de80b9b2794c658d3367fc64ce1c7d",
       "version_major": 2,
       "version_minor": 0
      },
      "text/plain": [
       "CodeWidget(program='{\"task\": \"unique_beer_drinkers\", \"language\": \"q\", \"plan\": {}, \"source\": \"likes_per_person:…"
      ]
     },
     "metadata": {},
     "output_type": "display_data"
    }
   ],
   "source": [
    "q.widget(task)"
   ]
  },
  {
   "cell_type": "code",
   "execution_count": 95,
   "metadata": {
    "ExecuteTime": {
     "end_time": "2020-12-10T18:52:37.141474Z",
     "start_time": "2020-12-10T18:52:37.086681Z"
    }
   },
   "outputs": [
    {
     "name": "stdout",
     "output_type": "stream",
     "text": [
      "`summarise()` ungrouping output (override with `.groups` argument)\n"
     ]
    }
   ],
   "source": [
    "r = replace(prototype,\n",
    "    language='r',\n",
    "    source='''unique_beer_drinkers <- function(likes) {\n",
    "  likes %>%\n",
    "    group_by(name) %>%\n",
    "    summarize(beer_set = list(sort(unique(beer)))) %>%\n",
    "    add_count(beer_set, name = 'num_people_likes') %>%\n",
    "    filter(num_people_likes == 1) %>%\n",
    "    pull(name)\n",
    "}''').load_plan()\n",
    "r.execute(task)\n",
    "r.save()"
   ]
  },
  {
   "cell_type": "code",
   "execution_count": 96,
   "metadata": {
    "ExecuteTime": {
     "end_time": "2020-12-10T18:53:04.826367Z",
     "start_time": "2020-12-10T18:53:04.787613Z"
    }
   },
   "outputs": [
    {
     "data": {
      "application/vnd.jupyter.widget-view+json": {
       "model_id": "1a0683ec262341938641818aa1589008",
       "version_major": 2,
       "version_minor": 0
      },
      "text/plain": [
       "Output()"
      ]
     },
     "metadata": {},
     "output_type": "display_data"
    },
    {
     "data": {
      "application/vnd.jupyter.widget-view+json": {
       "model_id": "70a4ece396554cda9f7a347ea73ace87",
       "version_major": 2,
       "version_minor": 0
      },
      "text/plain": [
       "CodeWidget(program='{\"task\": \"unique_beer_drinkers\", \"language\": \"r\", \"plan\": {}, \"source\": \"unique_beer_drink…"
      ]
     },
     "metadata": {},
     "output_type": "display_data"
    }
   ],
   "source": [
    "r.widget(task)"
   ]
  },
  {
   "cell_type": "raw",
   "metadata": {
    "ExecuteTime": {
     "end_time": "2020-11-16T01:56:22.659168Z",
     "start_time": "2020-11-16T01:56:22.631557Z"
    }
   },
   "source": [
    "sql = replace(\n",
    "    prototype,\n",
    "    language='sql',\n",
    "    source='''SELECT DISTINCT L1.name\n",
    "FROM likes L1\n",
    "WHERE NOT EXISTS(\n",
    "    SELECT *\n",
    "    FROM likes L2\n",
    "    WHERE L1.name != L2.name\n",
    "    AND NOT EXISTS(\n",
    "        SELECT *\n",
    "        FROM likes L3\n",
    "        WHERE L3.name = L2.name\n",
    "        AND NOT EXISTS(\n",
    "            SELECT *\n",
    "            FROM likes L4\n",
    "            WHERE L4.name = L1.name\n",
    "            AND L4.beer = L3.beer))\n",
    "    AND NOT EXISTS(\n",
    "        SELECT *\n",
    "        FROM likes L5\n",
    "        WHERE L5.name = L1.name\n",
    "        AND NOT EXISTS(\n",
    "            SELECT *\n",
    "            FROM likes L6\n",
    "            WHERE L6.name = L2.name\n",
    "            AND L6.beer= L5.beer)))''')\n",
    "sql.execute(task)\n",
    "sql.save()"
   ]
  },
  {
   "cell_type": "code",
   "execution_count": 17,
   "metadata": {
    "ExecuteTime": {
     "end_time": "2020-11-16T01:56:24.861367Z",
     "start_time": "2020-11-16T01:56:24.822260Z"
    }
   },
   "outputs": [
    {
     "data": {
      "application/vnd.jupyter.widget-view+json": {
       "model_id": "9d6a3d7599b84e5b9f73d98c00fd9e41",
       "version_major": 2,
       "version_minor": 0
      },
      "text/plain": [
       "Output()"
      ]
     },
     "metadata": {},
     "output_type": "display_data"
    },
    {
     "data": {
      "application/vnd.jupyter.widget-view+json": {
       "model_id": "e18e909cfa764a7ea817baa80b7d362f",
       "version_major": 2,
       "version_minor": 0
      },
      "text/plain": [
       "CodeWidget(program='{\"task\": \"unique_beer_drinkers\", \"language\": \"sql\", \"plan\": {}, \"source\": \"SELECT DISTINCT…"
      ]
     },
     "metadata": {},
     "output_type": "display_data"
    }
   ],
   "source": [
    "sql.widget(task)"
   ]
  },
  {
   "cell_type": "code",
   "execution_count": 10,
   "metadata": {
    "ExecuteTime": {
     "end_time": "2020-11-13T19:41:42.598516Z",
     "start_time": "2020-11-13T19:41:42.488126Z"
    }
   },
   "outputs": [],
   "source": [
    "datalog1 = replace(\n",
    "    prototype,\n",
    "    language='datalog',\n",
    "    implementation='count',\n",
    "    source='''unique_beer_drinkers(Name) :-\n",
    "  likes(_, Name),\n",
    "  0 = count : {\n",
    "    likes(_, Other),\n",
    "    Other != Name,\n",
    "    Shared_count = count : { likes(Beer, Other), likes(Beer, Name) },\n",
    "    count : likes(_, Other) = Shared_count,\n",
    "    count : likes(_, Name) = Shared_count\n",
    "  }.''')\n",
    "datalog1.execute(task)\n",
    "datalog1.save()"
   ]
  },
  {
   "cell_type": "code",
   "execution_count": 25,
   "metadata": {
    "ExecuteTime": {
     "end_time": "2020-11-16T01:59:49.534786Z",
     "start_time": "2020-11-16T01:59:49.452666Z"
    }
   },
   "outputs": [],
   "source": [
    "datalog2 = replace(\n",
    "    prototype,\n",
    "    language='datalog',\n",
    "    implementation='neg_exist',\n",
    "    source='''.decl differ(a:symbol, b:symbol)\n",
    "differ(A, B) :- likes(Beer, A), likes(_, B), !likes(Beer, B).\n",
    "differ(A, B) :- likes(_, A), likes(Beer, B), !likes(Beer, A).\n",
    "\n",
    ".decl exists_same(a:symbol)\n",
    "exists_same(Name) :- \n",
    "  likes(_, Other), \n",
    "  likes(_, Name), \n",
    "  Name != Other, \n",
    "  !differ(Name, Other).\n",
    "\n",
    "unique_beer_drinkers(Name) :- \n",
    "  likes(_, Name), \n",
    "  !exists_same(Name).''')\n",
    "datalog2.execute(task)\n",
    "datalog2.save()"
   ]
  },
  {
   "cell_type": "code",
   "execution_count": 26,
   "metadata": {
    "ExecuteTime": {
     "end_time": "2020-11-16T01:59:49.796345Z",
     "start_time": "2020-11-16T01:59:49.741112Z"
    }
   },
   "outputs": [
    {
     "data": {
      "application/vnd.jupyter.widget-view+json": {
       "model_id": "b9040918ca7d4e84b014562dc1e69366",
       "version_major": 2,
       "version_minor": 0
      },
      "text/plain": [
       "Output()"
      ]
     },
     "metadata": {},
     "output_type": "display_data"
    },
    {
     "data": {
      "application/vnd.jupyter.widget-view+json": {
       "model_id": "1b8ae74f841844ff89ff2bc3ace8a896",
       "version_major": 2,
       "version_minor": 0
      },
      "text/plain": [
       "CodeWidget(program='{\"task\": \"unique_beer_drinkers\", \"language\": \"datalog\", \"plan\": {}, \"source\": \".decl diffe…"
      ]
     },
     "metadata": {},
     "output_type": "display_data"
    }
   ],
   "source": [
    "datalog2.widget(task)"
   ]
  },
  {
   "cell_type": "code",
   "execution_count": 14,
   "metadata": {
    "ExecuteTime": {
     "end_time": "2020-11-16T01:55:33.346999Z",
     "start_time": "2020-11-16T01:55:33.298117Z"
    }
   },
   "outputs": [],
   "source": [
    "pandas = replace(\n",
    "    prototype,\n",
    "    language='python-pandas',\n",
    "    author='will',\n",
    "    source='''def unique_beer_drinkers(likes):\n",
    "  likes_per_person = (likes\n",
    "    .groupby('name')\n",
    "    .beer.unique().map(set)\n",
    "    .reset_index())\n",
    "\n",
    "  def check_not_exists(row):\n",
    "    other_people = likes_per_person[\n",
    "      likes_per_person.name != row['name']]\n",
    "    return not (other_people.beer == row['beer']).any()\n",
    "  \n",
    "  unique_drinkers = likes_per_person[\n",
    "    likes_per_person.apply(check_not_exists, axis=1)]\n",
    "  return unique_drinkers.name.tolist()''')\n",
    "pandas.execute(task)\n",
    "pandas.save()"
   ]
  },
  {
   "cell_type": "code",
   "execution_count": 15,
   "metadata": {
    "ExecuteTime": {
     "end_time": "2020-11-16T01:55:33.638978Z",
     "start_time": "2020-11-16T01:55:33.600726Z"
    }
   },
   "outputs": [
    {
     "data": {
      "application/vnd.jupyter.widget-view+json": {
       "model_id": "b46a0732e9034f8490e8942d46a66fc3",
       "version_major": 2,
       "version_minor": 0
      },
      "text/plain": [
       "Output()"
      ]
     },
     "metadata": {},
     "output_type": "display_data"
    },
    {
     "data": {
      "application/vnd.jupyter.widget-view+json": {
       "model_id": "27718d098feb4f969965a7923f124e3d",
       "version_major": 2,
       "version_minor": 0
      },
      "text/plain": [
       "CodeWidget(program='{\"task\": \"unique_beer_drinkers\", \"language\": \"python-pandas\", \"plan\": {}, \"source\": \"def u…"
      ]
     },
     "metadata": {},
     "output_type": "display_data"
    }
   ],
   "source": [
    "pandas.widget(task)"
   ]
  },
  {
   "cell_type": "code",
   "execution_count": 10,
   "metadata": {
    "ExecuteTime": {
     "end_time": "2020-11-16T01:50:35.042159Z",
     "start_time": "2020-11-16T01:50:35.016683Z"
    }
   },
   "outputs": [],
   "source": [
    "python_functional = replace(\n",
    "    prototype,\n",
    "    language='python-functional',\n",
    "    source='''def unique_beer_drinkers(likes):\n",
    "  people = set([row['name'] for row in likes])\n",
    "  likes_per_person = {\n",
    "    name: set([row['beer'] for row in likes if row['name'] == name])\n",
    "    for name in people\n",
    "  }\n",
    "    \n",
    "  return [\n",
    "    name\n",
    "    for name, beers in likes_per_person.items()\n",
    "    if not any([\n",
    "      other_name != name and beers == other_beers\n",
    "      for other_name, other_beers in likes_per_person.items()\n",
    "    ])\n",
    "  ]''')\n",
    "python_functional.execute(task)\n",
    "python_functional.save()"
   ]
  },
  {
   "cell_type": "code",
   "execution_count": 11,
   "metadata": {
    "ExecuteTime": {
     "end_time": "2020-11-16T01:50:35.607647Z",
     "start_time": "2020-11-16T01:50:35.572877Z"
    }
   },
   "outputs": [
    {
     "data": {
      "application/vnd.jupyter.widget-view+json": {
       "model_id": "9f0dfe92cfe84f41b9be19a5e7bb40ad",
       "version_major": 2,
       "version_minor": 0
      },
      "text/plain": [
       "Output()"
      ]
     },
     "metadata": {},
     "output_type": "display_data"
    },
    {
     "data": {
      "application/vnd.jupyter.widget-view+json": {
       "model_id": "acde9be1ccc144c6b605195a4f8d1159",
       "version_major": 2,
       "version_minor": 0
      },
      "text/plain": [
       "CodeWidget(program='{\"task\": \"unique_beer_drinkers\", \"language\": \"python-functional\", \"plan\": {}, \"source\": \"d…"
      ]
     },
     "metadata": {},
     "output_type": "display_data"
    }
   ],
   "source": [
    "python_functional.widget(task)"
   ]
  },
  {
   "cell_type": "code",
   "execution_count": 12,
   "metadata": {
    "ExecuteTime": {
     "end_time": "2020-11-16T01:52:20.817646Z",
     "start_time": "2020-11-16T01:52:20.793424Z"
    }
   },
   "outputs": [],
   "source": [
    "python_imperative = replace(\n",
    "    prototype,\n",
    "    language='python-imperative',\n",
    "    source='''def unique_beer_drinkers(likes):\n",
    "  likes_per_person = defaultdict(set)\n",
    "  for row in likes:\n",
    "    likes_per_person[row['name']].add(row['beer'])\n",
    "    \n",
    "  unique = []\n",
    "  for p1, p1_likes in likes_per_person.items():\n",
    "    is_unique = True\n",
    "    for p2, p2_likes in likes_per_person.items():\n",
    "      if p1 == p2:\n",
    "        continue\n",
    "        \n",
    "      if p1_likes == p2_likes:\n",
    "        is_unique = False\n",
    "        break\n",
    "    if is_unique:\n",
    "      unique.append(p1)\n",
    "      \n",
    "  return unique''')\n",
    "python_imperative.execute(task)\n",
    "python_imperative.save()"
   ]
  },
  {
   "cell_type": "code",
   "execution_count": 13,
   "metadata": {
    "ExecuteTime": {
     "end_time": "2020-11-16T01:52:28.104933Z",
     "start_time": "2020-11-16T01:52:28.065358Z"
    }
   },
   "outputs": [
    {
     "data": {
      "application/vnd.jupyter.widget-view+json": {
       "model_id": "08c3c0fcbfe94ddbbd9ad0c8874888be",
       "version_major": 2,
       "version_minor": 0
      },
      "text/plain": [
       "Output()"
      ]
     },
     "metadata": {},
     "output_type": "display_data"
    },
    {
     "data": {
      "application/vnd.jupyter.widget-view+json": {
       "model_id": "6c583936482647dc87aabf0ec08ef95b",
       "version_major": 2,
       "version_minor": 0
      },
      "text/plain": [
       "CodeWidget(program='{\"task\": \"unique_beer_drinkers\", \"language\": \"python-imperative\", \"plan\": {}, \"source\": \"d…"
      ]
     },
     "metadata": {},
     "output_type": "display_data"
    }
   ],
   "source": [
    "python_imperative.widget(task)"
   ]
  }
 ],
 "metadata": {
  "kernelspec": {
   "display_name": "Python 3",
   "language": "python",
   "name": "python3"
  },
  "language_info": {
   "codemirror_mode": {
    "name": "ipython",
    "version": 3
   },
   "file_extension": ".py",
   "mimetype": "text/x-python",
   "name": "python",
   "nbconvert_exporter": "python",
   "pygments_lexer": "ipython3",
   "version": "3.9.1"
  },
  "toc": {
   "base_numbering": 1,
   "nav_menu": {},
   "number_sections": true,
   "sideBar": true,
   "skip_h1_title": false,
   "title_cell": "Table of Contents",
   "title_sidebar": "Contents",
   "toc_cell": false,
   "toc_position": {},
   "toc_section_display": true,
   "toc_window_display": false
  },
  "varInspector": {
   "cols": {
    "lenName": 16,
    "lenType": 16,
    "lenVar": 40
   },
   "kernels_config": {
    "python": {
     "delete_cmd_postfix": "",
     "delete_cmd_prefix": "del ",
     "library": "var_list.py",
     "varRefreshCmd": "print(var_dic_list())"
    },
    "r": {
     "delete_cmd_postfix": ") ",
     "delete_cmd_prefix": "rm(",
     "library": "var_list.r",
     "varRefreshCmd": "cat(var_dic_list()) "
    }
   },
   "types_to_exclude": [
    "module",
    "function",
    "builtin_function_or_method",
    "instance",
    "_Feature"
   ],
   "window_display": false
  }
 },
 "nbformat": 4,
 "nbformat_minor": 4
}
