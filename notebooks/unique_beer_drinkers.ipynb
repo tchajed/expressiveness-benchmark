{
 "cells": [
  {
   "cell_type": "code",
   "execution_count": 6,
   "metadata": {
    "ExecuteTime": {
     "end_time": "2020-11-13T19:41:42.402565Z",
     "start_time": "2020-11-13T19:41:42.381516Z"
    }
   },
   "outputs": [
    {
     "name": "stdout",
     "output_type": "stream",
     "text": [
      "The autoreload extension is already loaded. To reload it, use:\n",
      "  %reload_ext autoreload\n"
     ]
    }
   ],
   "source": [
    "%load_ext autoreload\n",
    "%autoreload 2\n",
    "from expressiveness_benchmark.types import Plan, Task, Language, SourceRange, Program\n",
    "from code_widget.example import CodeWidget\n",
    "from dataclasses import replace\n",
    "import json\n",
    "import pandas as pd"
   ]
  },
  {
   "cell_type": "code",
   "execution_count": 7,
   "metadata": {
    "ExecuteTime": {
     "end_time": "2020-11-13T19:41:42.421284Z",
     "start_time": "2020-11-13T19:41:42.404696Z"
    }
   },
   "outputs": [],
   "source": [
    "# CHANGE ME!\n",
    "TASK_ID = 'unique_beer_drinkers'\n",
    "AUTHOR = 'will'"
   ]
  },
  {
   "cell_type": "code",
   "execution_count": 8,
   "metadata": {
    "ExecuteTime": {
     "end_time": "2020-11-13T19:41:42.448947Z",
     "start_time": "2020-11-13T19:41:42.423771Z"
    }
   },
   "outputs": [],
   "source": [
    "task = Task(\n",
    "    id=TASK_ID,\n",
    "    category=\"First-order logic\",\n",
    "    name=\"People who like a unique set of beer\",\n",
    "    description=\"Find all people whose preferred set of beers is distinct from each other person's preferred set\",\n",
    "    plan=[\n",
    "        Plan(id=\"collect\", description=\"Get all beers that a person likes\"),\n",
    "        Plan(id=\"iter\", description=\"Iterate over all other people in the dataset\"),\n",
    "        Plan(id=\"compare\", description=\"Compare two beer sets for equality\")\n",
    "    ],\n",
    "    sample_input={\n",
    "        \"likes\": [\n",
    "            {\"name\": \"will\", \"beer\": \"ipa\"},\n",
    "            {\"name\": \"will\", \"beer\": \"lager\"},\n",
    "            {\"name\": \"scott\", \"beer\": \"ipa\"},\n",
    "            {\"name\": \"scott\", \"beer\": \"stout\"},\n",
    "            {\"name\": \"gleb\", \"beer\": \"ipa\"},\n",
    "            {\"name\": \"gleb\", \"beer\": \"stout\"},\n",
    "            {\"name\": \"fred\", \"beer\": \"ipa\"},\n",
    "            {\"name\": \"fred\", \"beer\": \"lager\"},\n",
    "            {\"name\": \"fred\", \"beer\": \"stout\"},\n",
    "        ]\n",
    "    },\n",
    "    sample_output=[\"will\", \"fred\"],\n",
    ")\n",
    "task.save()\n",
    "\n",
    "prototype = Program(\n",
    "    task=TASK_ID,\n",
    "    author=AUTHOR,\n",
    "    language=''    \n",
    ")"
   ]
  },
  {
   "cell_type": "code",
   "execution_count": 9,
   "metadata": {
    "ExecuteTime": {
     "end_time": "2020-11-13T19:41:42.484715Z",
     "start_time": "2020-11-13T19:41:42.452021Z"
    }
   },
   "outputs": [],
   "source": [
    "sql = replace(\n",
    "    prototype,\n",
    "    language='sql',\n",
    "    source='''SELECT DISTINCT L1.name\n",
    "FROM likes L1\n",
    "WHERE NOT EXISTS(\n",
    "    SELECT *\n",
    "    FROM likes L2\n",
    "    WHERE L1.name != L2.name\n",
    "    AND NOT EXISTS(\n",
    "        SELECT *\n",
    "        FROM likes L3\n",
    "        WHERE L3.name = L2.name\n",
    "        AND NOT EXISTS(\n",
    "            SELECT *\n",
    "            FROM likes L4\n",
    "            WHERE L4.name = L1.name\n",
    "            AND L4.beer = L3.beer))\n",
    "    AND NOT EXISTS(\n",
    "        SELECT *\n",
    "        FROM likes L5\n",
    "        WHERE L5.name = L1.name\n",
    "        AND NOT EXISTS(\n",
    "            SELECT *\n",
    "            FROM likes L6\n",
    "            WHERE L6.name = L2.name\n",
    "            AND L6.beer= L5.beer)))''')\n",
    "sql.execute(task)\n",
    "sql.save()"
   ]
  },
  {
   "cell_type": "code",
   "execution_count": 10,
   "metadata": {
    "ExecuteTime": {
     "end_time": "2020-11-13T19:41:42.598516Z",
     "start_time": "2020-11-13T19:41:42.488126Z"
    }
   },
   "outputs": [],
   "source": [
    "datalog1 = replace(\n",
    "    prototype,\n",
    "    language='datalog',\n",
    "    implementation='count',\n",
    "    source='''unique_beer_drinkers(Name) :-\n",
    "  likes(_, Name),\n",
    "  0 = count : {\n",
    "    likes(_, Other),\n",
    "    Other != Name,\n",
    "    Shared_count = count : { likes(Beer, Other), likes(Beer, Name) },\n",
    "    count : likes(_, Other) = Shared_count,\n",
    "    count : likes(_, Name) = Shared_count\n",
    "  }.''')\n",
    "datalog1.execute(task)\n",
    "datalog1.save()"
   ]
  },
  {
   "cell_type": "code",
   "execution_count": 11,
   "metadata": {
    "ExecuteTime": {
     "end_time": "2020-11-13T19:41:42.680386Z",
     "start_time": "2020-11-13T19:41:42.600534Z"
    }
   },
   "outputs": [],
   "source": [
    "datalog2 = replace(\n",
    "    prototype,\n",
    "    language='datalog',\n",
    "    implementation='neg_exist',\n",
    "    source='''.decl differ(a:symbol, b:symbol)\n",
    "differ(A, B) :- likes(Beer, A), likes(_, B), !likes(Beer, B).\n",
    "differ(A, B) :- likes(_, A), likes(Beer, B), !likes(Beer, A).\n",
    "\n",
    ".decl exists_same(a:symbol)\n",
    "exists_same(Name) :- likes(_, Other), likes(_, Name), Name != Other, !differ(Name, Other).\n",
    "\n",
    "unique_beer_drinkers(Name) :- likes(_, Name), !exists_same(Name).''')\n",
    "datalog2.execute(task)\n",
    "datalog2.save()"
   ]
  },
  {
   "cell_type": "code",
   "execution_count": 12,
   "metadata": {
    "ExecuteTime": {
     "end_time": "2020-11-13T19:41:42.750240Z",
     "start_time": "2020-11-13T19:41:42.683243Z"
    }
   },
   "outputs": [],
   "source": [
    "pandas = replace(\n",
    "    prototype,\n",
    "    language='python-pandas',\n",
    "    author='will',\n",
    "    source='''def unique_beer_drinkers(likes):\n",
    "  likes_per_person = (likes\n",
    "    .groupby('name')\n",
    "    .beer.unique().map(set)\n",
    "    .reset_index())\n",
    "\n",
    "  def check_not_exists(row):\n",
    "      other_people = likes_per_person[likes_per_person.name != row['name']]\n",
    "      return not (other_people.beer == row['beer']).any()\n",
    "  \n",
    "  unique_drinkers = likes_per_person[likes_per_person.apply(check_not_exists, axis=1)]\n",
    "  return unique_drinkers.name.tolist()''')\n",
    "pandas.execute(task)\n",
    "pandas.save()"
   ]
  },
  {
   "cell_type": "code",
   "execution_count": 13,
   "metadata": {
    "ExecuteTime": {
     "end_time": "2020-11-13T19:41:42.786949Z",
     "start_time": "2020-11-13T19:41:42.756822Z"
    }
   },
   "outputs": [],
   "source": [
    "python_functional = replace(\n",
    "    prototype,\n",
    "    language='python-functional',\n",
    "    source='''def unique_beer_drinkers(likes):\n",
    "  people = set([row['name'] for row in likes])\n",
    "  likes_per_person = {\n",
    "    name: set([row['beer'] for row in likes if row['name'] == name])\n",
    "    for name in people\n",
    "  }\n",
    "    \n",
    "  return [\n",
    "      name\n",
    "      for name, beers in likes_per_person.items()\n",
    "      if not any([\n",
    "          other_name != name and beers == other_beers\n",
    "          for other_name, other_beers in likes_per_person.items()\n",
    "      ])\n",
    "  ]''')\n",
    "python_functional.execute(task)\n",
    "python_functional.save()"
   ]
  },
  {
   "cell_type": "code",
   "execution_count": 14,
   "metadata": {
    "ExecuteTime": {
     "end_time": "2020-11-13T19:41:42.818344Z",
     "start_time": "2020-11-13T19:41:42.790846Z"
    }
   },
   "outputs": [],
   "source": [
    "python_imperative = replace(\n",
    "    prototype,\n",
    "    language='python-imperative',\n",
    "    source='''def unique_beer_drinkers(likes):\n",
    "  likes_per_person = defaultdict(set)\n",
    "  for row in likes:\n",
    "    likes_per_person[row['name']].add(row['beer'])\n",
    "    \n",
    "  unique = []\n",
    "  for p1, p1_likes in likes_per_person.items():\n",
    "    is_unique = True\n",
    "    for p2, p2_likes in likes_per_person.items():\n",
    "      if p1 == p2:\n",
    "        continue\n",
    "        \n",
    "      if p1_likes == p2_likes:\n",
    "        is_unique = False\n",
    "        break\n",
    "    if is_unique:\n",
    "      unique.append(p1)\n",
    "      \n",
    "  return unique''')\n",
    "python_imperative.execute(task)\n",
    "python_imperative.save()"
   ]
  }
 ],
 "metadata": {
  "kernelspec": {
   "display_name": "Python 3",
   "language": "python",
   "name": "python3"
  },
  "language_info": {
   "codemirror_mode": {
    "name": "ipython",
    "version": 3
   },
   "file_extension": ".py",
   "mimetype": "text/x-python",
   "name": "python",
   "nbconvert_exporter": "python",
   "pygments_lexer": "ipython3",
   "version": "3.8.5"
  },
  "toc": {
   "base_numbering": 1,
   "nav_menu": {},
   "number_sections": true,
   "sideBar": true,
   "skip_h1_title": false,
   "title_cell": "Table of Contents",
   "title_sidebar": "Contents",
   "toc_cell": false,
   "toc_position": {},
   "toc_section_display": true,
   "toc_window_display": false
  },
  "varInspector": {
   "cols": {
    "lenName": 16,
    "lenType": 16,
    "lenVar": 40
   },
   "kernels_config": {
    "python": {
     "delete_cmd_postfix": "",
     "delete_cmd_prefix": "del ",
     "library": "var_list.py",
     "varRefreshCmd": "print(var_dic_list())"
    },
    "r": {
     "delete_cmd_postfix": ") ",
     "delete_cmd_prefix": "rm(",
     "library": "var_list.r",
     "varRefreshCmd": "cat(var_dic_list()) "
    }
   },
   "types_to_exclude": [
    "module",
    "function",
    "builtin_function_or_method",
    "instance",
    "_Feature"
   ],
   "window_display": false
  }
 },
 "nbformat": 4,
 "nbformat_minor": 4
}
