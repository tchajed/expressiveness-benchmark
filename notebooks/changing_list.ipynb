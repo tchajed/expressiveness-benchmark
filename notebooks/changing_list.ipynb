{
 "cells": [
  {
   "cell_type": "code",
   "execution_count": 1,
   "metadata": {
    "ExecuteTime": {
     "end_time": "2020-11-16T03:59:35.912146Z",
     "start_time": "2020-11-16T03:59:35.576699Z"
    },
    "scrolled": true
   },
   "outputs": [],
   "source": [
    "%load_ext autoreload\n",
    "%autoreload 2\n",
    "from expressiveness_benchmark.types import Plan, Task, Language, SourceRange, Program\n",
    "from code_widget.example import CodeWidget\n",
    "from dataclasses import replace\n",
    "import json\n",
    "import pandas as pd"
   ]
  },
  {
   "cell_type": "code",
   "execution_count": 2,
   "metadata": {
    "ExecuteTime": {
     "end_time": "2020-11-16T03:59:35.972180Z",
     "start_time": "2020-11-16T03:59:35.955663Z"
    }
   },
   "outputs": [],
   "source": [
    "# CHANGE ME!\n",
    "TASK_ID = 'changing_mean'\n",
    "AUTHOR = 'g'\n"
   ]
  },
  {
   "cell_type": "code",
   "execution_count": 13,
   "metadata": {
    "ExecuteTime": {
     "end_time": "2020-11-16T04:05:45.600580Z",
     "start_time": "2020-11-16T04:05:45.576561Z"
    }
   },
   "outputs": [],
   "source": [
    "task = Task(\n",
    "    id=TASK_ID,\n",
    "    name=\"Changing mean\",\n",
    "    description=\"Return index of the first element you can remove that does not change the mean of the list by more than 0.1\",\n",
    "    plan=[\n",
    "        {\n",
    "        \"id\": \"remove\",\n",
    "        \"description\": \"remove\",\n",
    "    }, {\n",
    "        \"id\": \"orig\",\n",
    "        \"description\": \"mean of the list\",\n",
    "    }, {\n",
    "        \"id\": \"new\",\n",
    "        \"description\": \"change the mean\",\n",
    "    }, \n",
    "        {\n",
    "        \"id\": \"diff\",\n",
    "        \"description\": \"by more than 0.1\",\n",
    "    }, \n",
    "        {\n",
    "        \"id\": \"first\",\n",
    "        \"description\": \"index of the first element\",\n",
    "    }, \n",
    "    ],\n",
    "    sample_input={\n",
    "       \"vals\":[{\"id\":0,\"value\":1.0},{\"id\":1,\"value\":2.0},{\"id\":2,\"value\":3.0},{\"id\":3,\"value\":1.0}],\n",
    "    },\n",
    "    sample_output=1,\n",
    "    category=\"Basic\",\n",
    ")\n",
    "task.save()\n",
    "\n",
    "prototype = Program(\n",
    "    task=TASK_ID,\n",
    "    author=AUTHOR,\n",
    "    language=''    \n",
    ")"
   ]
  },
  {
   "cell_type": "code",
   "execution_count": 4,
   "metadata": {
    "ExecuteTime": {
     "end_time": "2020-11-16T03:59:37.292005Z",
     "start_time": "2020-11-16T03:59:37.271293Z"
    }
   },
   "outputs": [],
   "source": [
    "imp = replace(prototype,\n",
    "    language='python-imperative',\n",
    "    source='''\n",
    "def get_mean(ls):\n",
    "  sum = 0\n",
    "  for e in ls:\n",
    "    sum += e['value']\n",
    "  return sum/len(ls)\n",
    "\n",
    "def changing_mean(vals):\n",
    "  start_mean = get_mean(vals)\n",
    "  for i,elem in enumerate(vals):\n",
    "    new_ls = vals[:i] + vals[i+1:]\n",
    "    mean = get_mean(new_ls)\n",
    "    if abs(mean - start_mean) < 0.1:\n",
    "      return i\n",
    "  return None\n",
    "''').load_plan()\n",
    "imp.execute(task)\n",
    "imp.save()"
   ]
  },
  {
   "cell_type": "code",
   "execution_count": 11,
   "metadata": {
    "ExecuteTime": {
     "end_time": "2020-11-16T03:59:37.996455Z",
     "start_time": "2020-11-16T03:59:37.971776Z"
    }
   },
   "outputs": [],
   "source": [
    "func = replace(prototype,\n",
    "    language='python-functional',\n",
    "    source='''\n",
    "def changing_mean(vals):\n",
    "  start_mean = sum([l['value'] for l in vals])/len(vals)\n",
    "  diff = lambda m, sm: abs(m - sm)\n",
    "    \n",
    "  for i,elem in enumerate(vals):\n",
    "    new_ls = [x['value'] for x in vals if x != elem]\n",
    "    mean = sum(new_ls)/len(new_ls)\n",
    "    if diff(mean,start_mean) < 0.1:\n",
    "      return i\n",
    "  return None\n",
    "''').load_plan()\n",
    "func.execute(task)\n",
    "func.save()"
   ]
  },
  {
   "cell_type": "code",
   "execution_count": 6,
   "metadata": {
    "ExecuteTime": {
     "end_time": "2020-11-16T04:11:24.197267Z",
     "start_time": "2020-11-16T04:11:24.162158Z"
    }
   },
   "outputs": [],
   "source": [
    "pandas = replace(prototype,\n",
    "    language='python-pandas',\n",
    "    source='''\n",
    "def changing_mean(vals):\n",
    "  mean = vals.value.mean()\n",
    "  mean_without = vals.apply(lambda row: vals[vals.id != row.id].value.mean(), axis=1)\n",
    "  return vals[(mean_without - mean).abs() < 0.1].id.tolist()\n",
    "''').load_plan()\n",
    "pandas.execute(task)\n",
    "pandas.save()"
   ]
  },
  {
   "cell_type": "code",
   "execution_count": 10,
   "metadata": {
    "ExecuteTime": {
     "end_time": "2020-11-16T04:04:54.028570Z",
     "start_time": "2020-11-16T04:04:53.934554Z"
    }
   },
   "outputs": [
    {
     "name": "stdout",
     "output_type": "stream",
     "text": [
      "Segmentation violation signal in rule:\n",
      "avg_except(I,(sum  V1 : { vals(J, V1),I != J }/sum 1.0 : { vals(J,_),I != J })) :- \n",
      "   vals(I,_).\n",
      "in file /tmp/tmpd10n7wr4/program.dl [6:1-10:19]\n",
      "\n"
     ]
    },
    {
     "ename": "CalledProcessError",
     "evalue": "Command 'souffle -F. -D. program.dl' returned non-zero exit status 1.",
     "output_type": "error",
     "traceback": [
      "\u001b[0;31m---------------------------------------------------------------------------\u001b[0m",
      "\u001b[0;31mCalledProcessError\u001b[0m                        Traceback (most recent call last)",
      "\u001b[0;32m<ipython-input-10-501183b47197>\u001b[0m in \u001b[0;36m<module>\u001b[0;34m\u001b[0m\n\u001b[1;32m     17\u001b[0m   ((Avg > AvgExcept, Avg - AvgExcept < 0.1);\n\u001b[1;32m     18\u001b[0m    (Avg < AvgExcept, AvgExcept - Avg < 0.1)).''').load_plan()\n\u001b[0;32m---> 19\u001b[0;31m \u001b[0mdatalog\u001b[0m\u001b[0;34m.\u001b[0m\u001b[0mexecute\u001b[0m\u001b[0;34m(\u001b[0m\u001b[0mtask\u001b[0m\u001b[0;34m)\u001b[0m\u001b[0;34m\u001b[0m\u001b[0;34m\u001b[0m\u001b[0m\n\u001b[0m\u001b[1;32m     20\u001b[0m \u001b[0mdatalog\u001b[0m\u001b[0;34m.\u001b[0m\u001b[0msave\u001b[0m\u001b[0;34m(\u001b[0m\u001b[0;34m)\u001b[0m\u001b[0;34m\u001b[0m\u001b[0;34m\u001b[0m\u001b[0m\n",
      "\u001b[0;32m~/dev/expressiveness-benchmark/expressiveness_benchmark/types.py\u001b[0m in \u001b[0;36mexecute\u001b[0;34m(self, task, debug)\u001b[0m\n\u001b[1;32m    291\u001b[0m                         \u001b[0mcwd\u001b[0m\u001b[0;34m=\u001b[0m\u001b[0mpath\u001b[0m\u001b[0;34m,\u001b[0m\u001b[0;34m\u001b[0m\u001b[0;34m\u001b[0m\u001b[0m\n\u001b[1;32m    292\u001b[0m                         \u001b[0mshell\u001b[0m\u001b[0;34m=\u001b[0m\u001b[0;32mTrue\u001b[0m\u001b[0;34m,\u001b[0m\u001b[0;34m\u001b[0m\u001b[0;34m\u001b[0m\u001b[0m\n\u001b[0;32m--> 293\u001b[0;31m                         \u001b[0mstderr\u001b[0m\u001b[0;34m=\u001b[0m\u001b[0msp\u001b[0m\u001b[0;34m.\u001b[0m\u001b[0mPIPE\u001b[0m\u001b[0;34m,\u001b[0m\u001b[0;34m\u001b[0m\u001b[0;34m\u001b[0m\u001b[0m\n\u001b[0m\u001b[1;32m    294\u001b[0m                     )\n\u001b[1;32m    295\u001b[0m                 \u001b[0;32mexcept\u001b[0m \u001b[0msp\u001b[0m\u001b[0;34m.\u001b[0m\u001b[0mCalledProcessError\u001b[0m \u001b[0;32mas\u001b[0m \u001b[0me\u001b[0m\u001b[0;34m:\u001b[0m\u001b[0;34m\u001b[0m\u001b[0;34m\u001b[0m\u001b[0m\n",
      "\u001b[0;32m~/anaconda3/lib/python3.7/subprocess.py\u001b[0m in \u001b[0;36mcheck_output\u001b[0;34m(timeout, *popenargs, **kwargs)\u001b[0m\n\u001b[1;32m    409\u001b[0m \u001b[0;34m\u001b[0m\u001b[0m\n\u001b[1;32m    410\u001b[0m     return run(*popenargs, stdout=PIPE, timeout=timeout, check=True,\n\u001b[0;32m--> 411\u001b[0;31m                **kwargs).stdout\n\u001b[0m\u001b[1;32m    412\u001b[0m \u001b[0;34m\u001b[0m\u001b[0m\n\u001b[1;32m    413\u001b[0m \u001b[0;34m\u001b[0m\u001b[0m\n",
      "\u001b[0;32m~/anaconda3/lib/python3.7/subprocess.py\u001b[0m in \u001b[0;36mrun\u001b[0;34m(input, capture_output, timeout, check, *popenargs, **kwargs)\u001b[0m\n\u001b[1;32m    510\u001b[0m         \u001b[0;32mif\u001b[0m \u001b[0mcheck\u001b[0m \u001b[0;32mand\u001b[0m \u001b[0mretcode\u001b[0m\u001b[0;34m:\u001b[0m\u001b[0;34m\u001b[0m\u001b[0;34m\u001b[0m\u001b[0m\n\u001b[1;32m    511\u001b[0m             raise CalledProcessError(retcode, process.args,\n\u001b[0;32m--> 512\u001b[0;31m                                      output=stdout, stderr=stderr)\n\u001b[0m\u001b[1;32m    513\u001b[0m     \u001b[0;32mreturn\u001b[0m \u001b[0mCompletedProcess\u001b[0m\u001b[0;34m(\u001b[0m\u001b[0mprocess\u001b[0m\u001b[0;34m.\u001b[0m\u001b[0margs\u001b[0m\u001b[0;34m,\u001b[0m \u001b[0mretcode\u001b[0m\u001b[0;34m,\u001b[0m \u001b[0mstdout\u001b[0m\u001b[0;34m,\u001b[0m \u001b[0mstderr\u001b[0m\u001b[0;34m)\u001b[0m\u001b[0;34m\u001b[0m\u001b[0;34m\u001b[0m\u001b[0m\n\u001b[1;32m    514\u001b[0m \u001b[0;34m\u001b[0m\u001b[0m\n",
      "\u001b[0;31mCalledProcessError\u001b[0m: Command 'souffle -F. -D. program.dl' returned non-zero exit status 1."
     ]
    }
   ],
   "source": [
    "#NOTE: Issue with float conversion\n",
    "datalog = replace(prototype,\n",
    "    language='datalog',\n",
    "    source='''.decl avg_except(I:number, Avg:float)    \n",
    "avg_except(I, Avg) :- \n",
    "  vals(I, _),\n",
    "  N = sum 1.0 : { vals(J, _), I != J },\n",
    "  Total = sum V : { vals(J, V), I != J },\n",
    "  Avg = Total / N.\n",
    "  \n",
    "changing_mean(I) :-\n",
    "  vals(I, _),\n",
    "  N = sum 1.0 : vals(_, _),\n",
    "  Total = sum V : vals(_, V),\n",
    "  Avg = Total / N,\n",
    "  avg_except(I, AvgExcept),\n",
    "  ((Avg > AvgExcept, Avg - AvgExcept < 0.1);\n",
    "   (Avg < AvgExcept, AvgExcept - Avg < 0.1)).''').load_plan()\n",
    "datalog.execute(task)\n",
    "datalog.save()"
   ]
  },
  {
   "cell_type": "code",
   "execution_count": 8,
   "metadata": {
    "ExecuteTime": {
     "end_time": "2020-11-16T04:06:43.614853Z",
     "start_time": "2020-11-16T04:06:43.584968Z"
    }
   },
   "outputs": [],
   "source": [
    "#NOTE issue with getting average of dataset without current value\n",
    "sql = replace(prototype,\n",
    "    language='sql',\n",
    "    source='''SELECT id\n",
    "FROM vals v1\n",
    "WHERE ABS((\n",
    "  SELECT AVG(value)\n",
    "  FROM vals v2\n",
    "  WHERE v1.id != v2.id\n",
    ") - (SELECT AVG(value) FROM vals)) < 0.1''').load_plan()\n",
    "sql.execute(task)x\n",
    "sql.save()"
   ]
  },
  {
   "cell_type": "code",
   "execution_count": 23,
   "metadata": {
    "scrolled": true
   },
   "outputs": [
    {
     "data": {
      "application/vnd.jupyter.widget-view+json": {
       "model_id": "5b9f3a3ef4d6437faa9c0c1fce387d15",
       "version_major": 2,
       "version_minor": 0
      },
      "text/plain": [
       "Output()"
      ]
     },
     "metadata": {},
     "output_type": "display_data"
    },
    {
     "data": {
      "application/vnd.jupyter.widget-view+json": {
       "model_id": "c5e5472dc039410aa4e1b971bea58c33",
       "version_major": 2,
       "version_minor": 0
      },
      "text/plain": [
       "CodeWidget(program='{\"task\": \"changing_mean\", \"language\": \"datalog\", \"plan\": {\"orig\": [{\"line\": 9, \"start\": 2,…"
      ]
     },
     "metadata": {},
     "output_type": "display_data"
    }
   ],
   "source": [
    "program = datalog\n",
    "program.widget(task)"
   ]
  },
  {
   "cell_type": "code",
   "execution_count": null,
   "metadata": {},
   "outputs": [],
   "source": []
  }
 ],
 "metadata": {
  "kernelspec": {
   "display_name": "Python 3",
   "language": "python",
   "name": "python3"
  },
  "language_info": {
   "codemirror_mode": {
    "name": "ipython",
    "version": 3
   },
   "file_extension": ".py",
   "mimetype": "text/x-python",
   "name": "python",
   "nbconvert_exporter": "python",
   "pygments_lexer": "ipython3",
   "version": "3.7.6"
  },
  "toc": {
   "base_numbering": 1,
   "nav_menu": {},
   "number_sections": true,
   "sideBar": true,
   "skip_h1_title": false,
   "title_cell": "Table of Contents",
   "title_sidebar": "Contents",
   "toc_cell": false,
   "toc_position": {},
   "toc_section_display": true,
   "toc_window_display": false
  },
  "varInspector": {
   "cols": {
    "lenName": 16,
    "lenType": 16,
    "lenVar": 40
   },
   "kernels_config": {
    "python": {
     "delete_cmd_postfix": "",
     "delete_cmd_prefix": "del ",
     "library": "var_list.py",
     "varRefreshCmd": "print(var_dic_list())"
    },
    "r": {
     "delete_cmd_postfix": ") ",
     "delete_cmd_prefix": "rm(",
     "library": "var_list.r",
     "varRefreshCmd": "cat(var_dic_list()) "
    }
   },
   "types_to_exclude": [
    "module",
    "function",
    "builtin_function_or_method",
    "instance",
    "_Feature"
   ],
   "window_display": false
  }
 },
 "nbformat": 4,
 "nbformat_minor": 2
}
