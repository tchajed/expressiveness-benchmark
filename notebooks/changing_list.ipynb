{
 "cells": [
  {
   "cell_type": "code",
   "execution_count": null,
   "metadata": {
    "scrolled": true
   },
   "outputs": [],
   "source": [
    "%load_ext autoreload\n",
    "%autoreload 2\n",
    "from expressiveness_benchmark.types import Plan, Task, Language, SourceRange, Program\n",
    "from code_widget.example import CodeWidget\n",
    "from dataclasses import replace\n",
    "import json\n",
    "import pandas as pd"
   ]
  },
  {
   "cell_type": "code",
   "execution_count": null,
   "metadata": {},
   "outputs": [],
   "source": [
    "# CHANGE ME!\n",
    "TASK_ID = 'changing_list'\n",
    "AUTHOR = 'g'\n"
   ]
  },
  {
   "cell_type": "code",
   "execution_count": null,
   "metadata": {},
   "outputs": [],
   "source": [
    "task = Task(\n",
    "    id=TASK_ID,\n",
    "    description=\"First element you can remove that would not change the mean of the list by more than N\",\n",
    "    plan=[\n",
    "    ],\n",
    "    sample_input={\n",
    "    },\n",
    "    sample_output=\"\",\n",
    ")\n",
    "task.save()\n",
    "\n",
    "prototype = Program(\n",
    "    task=TASK_ID,\n",
    "    author=AUTHOR,\n",
    "    language=''    \n",
    ")"
   ]
  },
  {
   "cell_type": "code",
   "execution_count": null,
   "metadata": {},
   "outputs": [],
   "source": [
    "imp = replace(prototype,\n",
    "    language='python-imperative',\n",
    "    source='''\n",
    "    def get_mean(ls):\n",
    "    sum = 0\n",
    "    for e in ls:\n",
    "        sum += e\n",
    "    return sum/len(ls)\n",
    "\n",
    "def first_elem(ls, N):\n",
    "    start_mean = get_mean(ls)\n",
    "    for i,elem in enuemrate(ls):\n",
    "        new_ls = copy.deepcopy(ls)\n",
    "        new_ls.remove(i)\n",
    "        mean = get_mean(new_ls)\n",
    "        if abs(mean - start_mean) < N:\n",
    "            return i\n",
    "''')\n",
    "imp.execute(task)\n",
    "imp.save()"
   ]
  },
  {
   "cell_type": "code",
   "execution_count": null,
   "metadata": {},
   "outputs": [],
   "source": [
    "func = replace(prototype,\n",
    "    language='python-functional',\n",
    "    source='''\n",
    "   def first_elem(ls, N):\n",
    "    start_mean = sum(ls)/len(ls)\n",
    "    diff = lambda m, sm: abs(m - sm)\n",
    "    \n",
    "    for i,elem in enuemrate(ls):\n",
    "        new_ls = [x for x in ls if x != elem]\n",
    "        mean = sum(new_ls)/len(new_ls)\n",
    "        if diff(mean,start_mean) < N:\n",
    "            return i\n",
    "''')\n",
    "func.execute(task)\n",
    "func.save()"
   ]
  },
  {
   "cell_type": "code",
   "execution_count": null,
   "metadata": {},
   "outputs": [],
   "source": [
    "func = replace(prototype,\n",
    "    language='sql',\n",
    "    source='''\n",
    "    DECLARE @Counter INT \n",
    "    DECLARE @FirstIndex INT \n",
    "    DECLARE @N FLOAT\n",
    "    SET @Counter=0\n",
    "    SET @FirstIndex=-1\n",
    "    SET @N=0.2\n",
    "\n",
    "    WHILE ( @Counter < COUNT(Elems))\n",
    "    BEGIN\n",
    "        IF ABS(AVG(Elems) - AVG(DELETE FROM Elems WHERE Id = Counter)) > N\n",
    "        BEGIN\n",
    "            SET @FirstIndex=Counter\n",
    "        END\n",
    "        SET @Counter  = @Counter  + 1\n",
    "    END\n",
    "    RETURN FirstIndex\n",
    "''')\n",
    "func.execute(task)\n",
    "func.save()"
   ]
  }
 ],
 "metadata": {
  "kernelspec": {
   "display_name": "Python 3",
   "language": "python",
   "name": "python3"
  },
  "language_info": {
   "codemirror_mode": {
    "name": "ipython",
    "version": 3
   },
   "file_extension": ".py",
   "mimetype": "text/x-python",
   "name": "python",
   "nbconvert_exporter": "python",
   "pygments_lexer": "ipython3",
   "version": "3.6.3"
  }
 },
 "nbformat": 4,
 "nbformat_minor": 2
}
