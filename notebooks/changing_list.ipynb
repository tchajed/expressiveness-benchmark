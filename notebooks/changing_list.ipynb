{
 "cells": [
  {
   "cell_type": "code",
   "execution_count": 1,
   "metadata": {
    "scrolled": true
   },
   "outputs": [],
   "source": [
    "%load_ext autoreload\n",
    "%autoreload 2\n",
    "from expressiveness_benchmark.types import Plan, Task, Language, SourceRange, Program\n",
    "from code_widget.example import CodeWidget\n",
    "from dataclasses import replace\n",
    "import json\n",
    "import pandas as pd"
   ]
  },
  {
   "cell_type": "code",
   "execution_count": 2,
   "metadata": {},
   "outputs": [],
   "source": [
    "# CHANGE ME!\n",
    "TASK_ID = 'changing_list'\n",
    "AUTHOR = 'g'\n"
   ]
  },
  {
   "cell_type": "code",
   "execution_count": 14,
   "metadata": {},
   "outputs": [],
   "source": [
    "task = Task(\n",
    "    id=TASK_ID,\n",
    "    description=\"First element you can remove that would not change the mean of the list by more than N\",\n",
    "    plan=[\n",
    "    ],\n",
    "    sample_input={\n",
    "       \"list\":[{\"value\":1},{\"value\":2},{\"value\":3},{\"value\":1}],\n",
    "    },\n",
    "    sample_output=1,\n",
    ")\n",
    "task.save()\n",
    "\n",
    "prototype = Program(\n",
    "    task=TASK_ID,\n",
    "    author=AUTHOR,\n",
    "    language=''    \n",
    ")"
   ]
  },
  {
   "cell_type": "code",
   "execution_count": 16,
   "metadata": {},
   "outputs": [],
   "source": [
    "imp = replace(prototype,\n",
    "    language='python-imperative',\n",
    "    source='''\n",
    "import copy\n",
    "def get_mean(ls):\n",
    "    sum = 0\n",
    "    for e in ls:\n",
    "        sum += e['value']\n",
    "    return sum/len(ls)\n",
    "\n",
    "def changing_list(list):\n",
    "    start_mean = get_mean(list)\n",
    "    for i,elem in enumerate(list):\n",
    "        new_ls = copy.deepcopy(list)\n",
    "        del new_ls[i]\n",
    "        mean = get_mean(new_ls)\n",
    "        if abs(mean - start_mean) < 0.1:\n",
    "            return i\n",
    "''')\n",
    "imp.execute(task)\n",
    "imp.save()"
   ]
  },
  {
   "cell_type": "code",
   "execution_count": 20,
   "metadata": {},
   "outputs": [],
   "source": [
    "func = replace(prototype,\n",
    "    language='python-functional',\n",
    "    source='''\n",
    "def changing_list(list):\n",
    "    start_mean = sum([l['value'] for l in list])/len(list)\n",
    "    diff = lambda m, sm: abs(m - sm)\n",
    "    \n",
    "    for i,elem in enumerate(list):\n",
    "        new_ls = [x['value'] for x in list if x != elem]\n",
    "        mean = sum(new_ls)/len(new_ls)\n",
    "        if diff(mean,start_mean) < 0.1:\n",
    "            return i\n",
    "''')\n",
    "func.execute(task)\n",
    "func.save()"
   ]
  },
  {
   "cell_type": "code",
   "execution_count": 33,
   "metadata": {},
   "outputs": [
    {
     "name": "stdout",
     "output_type": "stream",
     "text": [
      "Mismatch between target and actual output.\n",
      "Target:     0\n",
      "0  1\n",
      "Actual:     0\n",
      "0  1\n",
      "1  1\n",
      "2  1\n",
      "3  1\n",
      "4  2\n",
      "5  2\n",
      "6  2\n",
      "7  3\n",
      "8  3\n",
      "9  3\n"
     ]
    },
    {
     "ename": "AssertionError",
     "evalue": "",
     "output_type": "error",
     "traceback": [
      "\u001b[0;31m---------------------------------------------------------------------------\u001b[0m",
      "\u001b[0;31mAssertionError\u001b[0m                            Traceback (most recent call last)",
      "\u001b[0;32m<ipython-input-33-57af48cc4e70>\u001b[0m in \u001b[0;36m<module>\u001b[0;34m\u001b[0m\n\u001b[1;32m      6\u001b[0m   \u001b[0mlist\u001b[0m \u001b[0;32mas\u001b[0m \u001b[0mm2\u001b[0m \u001b[0mON\u001b[0m \u001b[0;34m(\u001b[0m\u001b[0mm1\u001b[0m\u001b[0;34m.\u001b[0m\u001b[0mvalue\u001b[0m \u001b[0;34m!=\u001b[0m \u001b[0mm2\u001b[0m\u001b[0;34m.\u001b[0m\u001b[0mvalue\u001b[0m\u001b[0;34m)\u001b[0m\u001b[0;34m\u001b[0m\u001b[0m\n\u001b[1;32m      7\u001b[0m ''')\n\u001b[0;32m----> 8\u001b[0;31m \u001b[0mfunc\u001b[0m\u001b[0;34m.\u001b[0m\u001b[0mexecute\u001b[0m\u001b[0;34m(\u001b[0m\u001b[0mtask\u001b[0m\u001b[0;34m)\u001b[0m\u001b[0;34m\u001b[0m\u001b[0m\n\u001b[0m\u001b[1;32m      9\u001b[0m \u001b[0mfunc\u001b[0m\u001b[0;34m.\u001b[0m\u001b[0msave\u001b[0m\u001b[0;34m(\u001b[0m\u001b[0;34m)\u001b[0m\u001b[0;34m\u001b[0m\u001b[0m\n",
      "\u001b[0;32m~/dev/expressiveness-benchmark/expressiveness_benchmark/types.py\u001b[0m in \u001b[0;36mexecute\u001b[0;34m(self, task, debug)\u001b[0m\n\u001b[1;32m    283\u001b[0m                     \u001b[0mret\u001b[0m \u001b[0;34m=\u001b[0m \u001b[0mpd\u001b[0m\u001b[0;34m.\u001b[0m\u001b[0mDataFrame\u001b[0m\u001b[0;34m(\u001b[0m\u001b[0;34m)\u001b[0m\u001b[0;34m\u001b[0m\u001b[0m\n\u001b[1;32m    284\u001b[0m \u001b[0;34m\u001b[0m\u001b[0m\n\u001b[0;32m--> 285\u001b[0;31m         \u001b[0mself\u001b[0m\u001b[0;34m.\u001b[0m\u001b[0mcheck_equals\u001b[0m\u001b[0;34m(\u001b[0m\u001b[0mtask\u001b[0m\u001b[0;34m.\u001b[0m\u001b[0msample_output\u001b[0m\u001b[0;34m,\u001b[0m \u001b[0mret\u001b[0m\u001b[0;34m)\u001b[0m\u001b[0;34m\u001b[0m\u001b[0m\n\u001b[0m\u001b[1;32m    286\u001b[0m \u001b[0;34m\u001b[0m\u001b[0m\n\u001b[1;32m    287\u001b[0m \u001b[0;34m\u001b[0m\u001b[0m\n",
      "\u001b[0;32m~/dev/expressiveness-benchmark/expressiveness_benchmark/types.py\u001b[0m in \u001b[0;36mcheck_equals\u001b[0;34m(self, target, actual)\u001b[0m\n\u001b[1;32m    151\u001b[0m \u001b[0;34m\u001b[0m\u001b[0m\n\u001b[1;32m    152\u001b[0m             \u001b[0;32mif\u001b[0m \u001b[0;32mnot\u001b[0m \u001b[0mtarget\u001b[0m\u001b[0;34m.\u001b[0m\u001b[0mequals\u001b[0m\u001b[0;34m(\u001b[0m\u001b[0mactual\u001b[0m\u001b[0;34m)\u001b[0m\u001b[0;34m:\u001b[0m\u001b[0;34m\u001b[0m\u001b[0m\n\u001b[0;32m--> 153\u001b[0;31m                 \u001b[0;32massert\u001b[0m \u001b[0;32mFalse\u001b[0m\u001b[0;34m\u001b[0m\u001b[0m\n\u001b[0m\u001b[1;32m    154\u001b[0m         \u001b[0;32mexcept\u001b[0m \u001b[0mException\u001b[0m\u001b[0;34m:\u001b[0m\u001b[0;34m\u001b[0m\u001b[0m\n\u001b[1;32m    155\u001b[0m             \u001b[0mprint\u001b[0m\u001b[0;34m(\u001b[0m\u001b[0;34m\"Mismatch between target and actual output.\"\u001b[0m\u001b[0;34m)\u001b[0m\u001b[0;34m\u001b[0m\u001b[0m\n",
      "\u001b[0;31mAssertionError\u001b[0m: "
     ]
    }
   ],
   "source": [
    "func = replace(prototype,\n",
    "    language='sql',\n",
    "    source='''\n",
    "SELECT m1.value\n",
    "FROM list as m1 INNER JOIN\n",
    "  list as m2 ON (m1.value != m2.value)\n",
    "  WHERE \n",
    "''')\n",
    "func.execute(task)\n",
    "func.save()"
   ]
  },
  {
   "cell_type": "code",
   "execution_count": null,
   "metadata": {},
   "outputs": [],
   "source": []
  }
 ],
 "metadata": {
  "kernelspec": {
   "display_name": "Python 3",
   "language": "python",
   "name": "python3"
  },
  "language_info": {
   "codemirror_mode": {
    "name": "ipython",
    "version": 3
   },
   "file_extension": ".py",
   "mimetype": "text/x-python",
   "name": "python",
   "nbconvert_exporter": "python",
   "pygments_lexer": "ipython3",
   "version": "3.6.3"
  }
 },
 "nbformat": 4,
 "nbformat_minor": 2
}
