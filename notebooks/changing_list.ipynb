{
 "cells": [
  {
   "cell_type": "code",
   "execution_count": 1,
   "metadata": {
    "ExecuteTime": {
     "end_time": "2020-11-16T03:59:35.912146Z",
     "start_time": "2020-11-16T03:59:35.576699Z"
    },
    "scrolled": true
   },
   "outputs": [],
   "source": [
    "%load_ext autoreload\n",
    "%autoreload 2\n",
    "from expressiveness_benchmark.types import Plan, Task, Language, SourceRange, Program\n",
    "from code_widget.example import CodeWidget\n",
    "from dataclasses import replace\n",
    "import json\n",
    "import pandas as pd"
   ]
  },
  {
   "cell_type": "code",
   "execution_count": 2,
   "metadata": {
    "ExecuteTime": {
     "end_time": "2020-11-16T03:59:35.972180Z",
     "start_time": "2020-11-16T03:59:35.955663Z"
    }
   },
   "outputs": [],
   "source": [
    "# CHANGE ME!\n",
    "TASK_ID = 'changing_mean'\n",
    "AUTHOR = 'g'\n"
   ]
  },
  {
   "cell_type": "code",
   "execution_count": 16,
   "metadata": {
    "ExecuteTime": {
     "end_time": "2020-11-16T04:05:45.600580Z",
     "start_time": "2020-11-16T04:05:45.576561Z"
    }
   },
   "outputs": [],
   "source": [
    "task = Task(\n",
    "    id=TASK_ID,\n",
    "    name=\"Changing mean\",\n",
    "    description=\"Return index of the first element you can remove that does not change the mean of the list by more than 0.1\",\n",
    "    plan=[\n",
    "        {\n",
    "        \"id\": \"remove\",\n",
    "        \"description\": \"remove\",\n",
    "    }, {\n",
    "        \"id\": \"orig\",\n",
    "        \"description\": \"mean of the list\",\n",
    "    }, {\n",
    "        \"id\": \"new\",\n",
    "        \"description\": \"change the mean\",\n",
    "    }, \n",
    "        {\n",
    "        \"id\": \"diff\",\n",
    "        \"description\": \"by more than 0.1\",\n",
    "    }, \n",
    "    ],\n",
    "    sample_input={\n",
    "       \"vals\":[{\"id\":0,\"value\":1.0},{\"id\":1,\"value\":2.0},{\"id\":2,\"value\":3.0},{\"id\":3,\"value\":1.0}],\n",
    "    },\n",
    "    sample_output=1,\n",
    "    category=\"Basic\",\n",
    ")\n",
    "task.save()\n",
    "\n",
    "prototype = Program(\n",
    "    task=TASK_ID,\n",
    "    author=AUTHOR,\n",
    "    language=''    \n",
    ")"
   ]
  },
  {
   "cell_type": "code",
   "execution_count": 4,
   "metadata": {
    "ExecuteTime": {
     "end_time": "2020-11-16T03:59:37.292005Z",
     "start_time": "2020-11-16T03:59:37.271293Z"
    }
   },
   "outputs": [],
   "source": [
    "imp = replace(prototype,\n",
    "    language='python-imperative',\n",
    "    source='''\n",
    "def get_mean(ls):\n",
    "  sum = 0\n",
    "  for e in ls:\n",
    "    sum += e['value']\n",
    "  return sum/len(ls)\n",
    "\n",
    "def changing_mean(values):\n",
    "  start_mean = get_mean(values)\n",
    "  for i,elem in enumerate(values):\n",
    "    new_ls = values[:i] + values[i+1:]\n",
    "    mean = get_mean(new_ls)\n",
    "    if abs(mean - start_mean) < 0.1:\n",
    "      return i\n",
    "  return None\n",
    "''')\n",
    "imp.execute(task)\n",
    "imp.save()"
   ]
  },
  {
   "cell_type": "code",
   "execution_count": 5,
   "metadata": {
    "ExecuteTime": {
     "end_time": "2020-11-16T03:59:37.996455Z",
     "start_time": "2020-11-16T03:59:37.971776Z"
    }
   },
   "outputs": [],
   "source": [
    "func = replace(prototype,\n",
    "    language='python-functional',\n",
    "    source='''\n",
    "def changing_mean(values):\n",
    "  start_mean = sum([l['value'] for l in values])/len(values)\n",
    "  diff = lambda m, sm: abs(m - sm)\n",
    "    \n",
    "  for i,elem in enumerate(values):\n",
    "    new_ls = [x['value'] for x in values if x != elem]\n",
    "    mean = sum(new_ls)/len(new_ls)\n",
    "    if diff(mean,start_mean) < 0.1:\n",
    "      return i\n",
    "  return None\n",
    "''')\n",
    "func.execute(task)\n",
    "func.save()"
   ]
  },
  {
   "cell_type": "code",
   "execution_count": 34,
   "metadata": {
    "ExecuteTime": {
     "end_time": "2020-11-16T04:11:24.197267Z",
     "start_time": "2020-11-16T04:11:24.162158Z"
    }
   },
   "outputs": [],
   "source": [
    "pandas = replace(prototype,\n",
    "    language='python-pandas',\n",
    "    source='''\n",
    "def changing_mean(vals):\n",
    "  mean = vals.value.mean()\n",
    "  mean_without = vals.apply(lambda row: vals[vals.id != row.id].value.mean(), axis=1)\n",
    "  return vals[(mean_without - mean).abs() < 0.1].id.tolist()\n",
    "''')\n",
    "pandas.execute(task)\n",
    "pandas.save()"
   ]
  },
  {
   "cell_type": "code",
   "execution_count": 12,
   "metadata": {
    "ExecuteTime": {
     "end_time": "2020-11-16T04:04:54.028570Z",
     "start_time": "2020-11-16T04:04:53.934554Z"
    }
   },
   "outputs": [],
   "source": [
    "#NOTE: Issue with float conversion\n",
    "func = replace(prototype,\n",
    "    language='datalog',\n",
    "    source='''.decl avg_except(I:number, Avg:float)    \n",
    "avg_except(I, Avg) :- \n",
    "  values(I, _),\n",
    "  N = sum 1.0 : { values(J, _), I != J },\n",
    "  Total = sum V : { values(J, V), I != J },\n",
    "  Avg = Total / N.\n",
    "  \n",
    "changing_mean(I) :-\n",
    "  values(I, _),\n",
    "  N = sum 1.0 : values(_, _),\n",
    "  Total = sum V : values(_, V),\n",
    "  Avg = Total / N,\n",
    "  avg_except(I, AvgExcept),\n",
    "  ((Avg > AvgExcept, Avg - AvgExcept < 0.1);\n",
    "   (Avg < AvgExcept, AvgExcept - Avg < 0.1)).''')\n",
    "func.execute(task)\n",
    "func.save()"
   ]
  },
  {
   "cell_type": "code",
   "execution_count": 18,
   "metadata": {
    "ExecuteTime": {
     "end_time": "2020-11-16T04:06:43.614853Z",
     "start_time": "2020-11-16T04:06:43.584968Z"
    }
   },
   "outputs": [],
   "source": [
    "#NOTE issue with getting average of dataset without current value\n",
    "func = replace(prototype,\n",
    "    language='sql',\n",
    "    source='''SELECT id\n",
    "FROM vals v1\n",
    "WHERE ABS((\n",
    "  SELECT AVG(value)\n",
    "  FROM vals v2\n",
    "  WHERE v1.id != v2.id\n",
    ") - (SELECT AVG(value) FROM vals)) < 0.1''')\n",
    "func.execute(task)\n",
    "func.save()"
   ]
  }
 ],
 "metadata": {
  "kernelspec": {
   "display_name": "Python 3",
   "language": "python",
   "name": "python3"
  },
  "language_info": {
   "codemirror_mode": {
    "name": "ipython",
    "version": 3
   },
   "file_extension": ".py",
   "mimetype": "text/x-python",
   "name": "python",
   "nbconvert_exporter": "python",
   "pygments_lexer": "ipython3",
   "version": "3.8.5"
  },
  "toc": {
   "base_numbering": 1,
   "nav_menu": {},
   "number_sections": true,
   "sideBar": true,
   "skip_h1_title": false,
   "title_cell": "Table of Contents",
   "title_sidebar": "Contents",
   "toc_cell": false,
   "toc_position": {},
   "toc_section_display": true,
   "toc_window_display": false
  },
  "varInspector": {
   "cols": {
    "lenName": 16,
    "lenType": 16,
    "lenVar": 40
   },
   "kernels_config": {
    "python": {
     "delete_cmd_postfix": "",
     "delete_cmd_prefix": "del ",
     "library": "var_list.py",
     "varRefreshCmd": "print(var_dic_list())"
    },
    "r": {
     "delete_cmd_postfix": ") ",
     "delete_cmd_prefix": "rm(",
     "library": "var_list.r",
     "varRefreshCmd": "cat(var_dic_list()) "
    }
   },
   "types_to_exclude": [
    "module",
    "function",
    "builtin_function_or_method",
    "instance",
    "_Feature"
   ],
   "window_display": false
  }
 },
 "nbformat": 4,
 "nbformat_minor": 2
}
