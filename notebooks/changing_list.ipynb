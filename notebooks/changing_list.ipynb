{
 "cells": [
  {
   "cell_type": "code",
   "execution_count": 2,
   "metadata": {
    "ExecuteTime": {
     "end_time": "2020-12-30T18:59:03.246075Z",
     "start_time": "2020-12-30T18:59:02.427337Z"
    },
    "scrolled": true
   },
   "outputs": [],
   "source": [
    "%load_ext autoreload\n",
    "%autoreload 2\n",
    "from expressiveness_benchmark.types import Plan, Task, Language, SourceRange, Program\n",
    "from code_widget.example import CodeWidget\n",
    "from dataclasses import replace\n",
    "import json\n",
    "import pandas as pd"
   ]
  },
  {
   "cell_type": "code",
   "execution_count": 3,
   "metadata": {
    "ExecuteTime": {
     "end_time": "2020-12-30T18:59:03.306404Z",
     "start_time": "2020-12-30T18:59:03.290042Z"
    }
   },
   "outputs": [],
   "source": [
    "# CHANGE ME!\n",
    "TASK_ID = 'changing_mean'\n",
    "AUTHOR = 'g'\n"
   ]
  },
  {
   "cell_type": "code",
   "execution_count": 4,
   "metadata": {
    "ExecuteTime": {
     "end_time": "2020-12-30T18:59:03.858772Z",
     "start_time": "2020-12-30T18:59:03.835204Z"
    }
   },
   "outputs": [],
   "source": [
    "task = Task(\n",
    "    id=TASK_ID,\n",
    "    name=\"First element that doesn't change mean\",\n",
    "    description=\"Return index of the first element you can remove that does not change the mean of the list by more than 0.1\",\n",
    "    plan=[\n",
    "        {\n",
    "        \"id\": \"remove\",\n",
    "        \"description\": \"remove\",\n",
    "    }, {\n",
    "        \"id\": \"orig\",\n",
    "        \"description\": \"mean of the list\",\n",
    "    }, {\n",
    "        \"id\": \"new\",\n",
    "        \"description\": \"change the\",\n",
    "    }, \n",
    "        {\n",
    "        \"id\": \"diff\",\n",
    "        \"description\": \"by more than 0.1\",\n",
    "    }, \n",
    "        {\n",
    "        \"id\": \"first\",\n",
    "        \"description\": \"index of the first element\",\n",
    "    }, \n",
    "    ],\n",
    "    sample_input={\n",
    "       \"vals\":[{\"id\":0,\"value\":1.0},{\"id\":1,\"value\":2.0},{\"id\":2,\"value\":3.0},{\"id\":3,\"value\":1.0}],\n",
    "    },\n",
    "    sample_output=1,\n",
    "    category=\"Aggregation\",\n",
    ")\n",
    "task.save()\n",
    "\n",
    "prototype = Program(\n",
    "    task=TASK_ID,\n",
    "    author=AUTHOR,\n",
    "    language=''    \n",
    ")"
   ]
  },
  {
   "cell_type": "code",
   "execution_count": 5,
   "metadata": {
    "ExecuteTime": {
     "end_time": "2020-12-30T20:47:28.514939Z",
     "start_time": "2020-12-30T20:47:28.016085Z"
    }
   },
   "outputs": [],
   "source": [
    "q = replace(prototype,\n",
    "    language='q',\n",
    "    source='''diffs: \n",
    "{abs avg vals[`value] - avg (vals[`value] where vals[`id] <> x)} \n",
    "  each vals[`id];\n",
    "  \n",
    "changing_mean: first vals[`id] where diffs < 0.1''').load_plan()\n",
    "q.execute(task)\n",
    "q.save()"
   ]
  },
  {
   "cell_type": "code",
   "execution_count": 7,
   "metadata": {
    "ExecuteTime": {
     "end_time": "2020-12-30T20:49:01.831376Z",
     "start_time": "2020-12-30T20:49:01.794131Z"
    }
   },
   "outputs": [
    {
     "data": {
      "application/vnd.jupyter.widget-view+json": {
       "model_id": "d9ebe962e73b4fcc93441c9721a58c65",
       "version_major": 2,
       "version_minor": 0
      },
      "text/plain": [
       "Output()"
      ]
     },
     "metadata": {},
     "output_type": "display_data"
    },
    {
     "data": {
      "application/vnd.jupyter.widget-view+json": {
       "model_id": "98a672203d09497dab15122efa209e9d",
       "version_major": 2,
       "version_minor": 0
      },
      "text/plain": [
       "CodeWidget(program='{\"task\": \"changing_mean\", \"language\": \"q\", \"plan\": {}, \"source\": \"diffs: \\\\n  {abs avg val…"
      ]
     },
     "metadata": {},
     "output_type": "display_data"
    }
   ],
   "source": [
    "q.widget(task)"
   ]
  },
  {
   "cell_type": "code",
   "execution_count": 7,
   "metadata": {
    "ExecuteTime": {
     "end_time": "2020-12-16T16:12:39.076473Z",
     "start_time": "2020-12-16T16:12:38.882650Z"
    }
   },
   "outputs": [
    {
     "name": "stderr",
     "output_type": "stream",
     "text": [
      "R[write to console]: data.table 1.13.4 using 1 threads (see ?getDTthreads).  Latest news: r-datatable.com\n",
      "\n",
      "R[write to console]: **********\n",
      "This installation of data.table has not detected OpenMP support. It should still work but in single-threaded mode.\n",
      "This is a Mac. Please read https://mac.r-project.org/openmp/. Please engage with Apple and ask them for support. Check r-datatable.com for updates, and our Mac instructions here: https://github.com/Rdatatable/data.table/wiki/Installation. After several years of many reports of installation problems on Mac, it's time to gingerly point out that there have been no similar problems on Windows or Linux.\n",
      "**********\n",
      "\n",
      "R[write to console]: \n",
      "Attaching package: ‘data.table’\n",
      "\n",
      "\n",
      "R[write to console]: The following objects are masked from ‘package:dplyr’:\n",
      "\n",
      "    between, first, last\n",
      "\n",
      "\n",
      "R[write to console]: The following object is masked from ‘package:purrr’:\n",
      "\n",
      "    transpose\n",
      "\n",
      "\n"
     ]
    }
   ],
   "source": [
    "r = replace(prototype,\n",
    "    language='r',\n",
    "    implementation='',\n",
    "    source='''library(data.table)\n",
    "changing_mean <- function(vals) {\n",
    "   global_mean <- mean(vals$value)\n",
    "   setDT(vals)[, \n",
    "     mean_change := abs(global_mean - mean(vals[id != .BY, value])), \n",
    "     by = id] %>%\n",
    "     filter(mean_change < 0.1) %>%\n",
    "     slice(which.min(id)) %>%\n",
    "     pull(id)\n",
    "}''').load_plan()\n",
    "r.execute(task)\n",
    "r.save()"
   ]
  },
  {
   "cell_type": "code",
   "execution_count": 28,
   "metadata": {
    "ExecuteTime": {
     "end_time": "2020-12-10T19:08:44.991794Z",
     "start_time": "2020-12-10T19:08:44.961363Z"
    }
   },
   "outputs": [
    {
     "data": {
      "application/vnd.jupyter.widget-view+json": {
       "model_id": "b30d3d51d4b249c68153985f7a8be440",
       "version_major": 2,
       "version_minor": 0
      },
      "text/plain": [
       "Output()"
      ]
     },
     "metadata": {},
     "output_type": "display_data"
    },
    {
     "data": {
      "application/vnd.jupyter.widget-view+json": {
       "model_id": "b7d9426ce7f8426e89f29a83f90d6d86",
       "version_major": 2,
       "version_minor": 0
      },
      "text/plain": [
       "CodeWidget(program='{\"task\": \"changing_mean\", \"language\": \"r\", \"plan\": {}, \"source\": \"library(data.table)\\\\nch…"
      ]
     },
     "metadata": {},
     "output_type": "display_data"
    }
   ],
   "source": [
    "r.widget(task)"
   ]
  },
  {
   "cell_type": "code",
   "execution_count": 8,
   "metadata": {
    "ExecuteTime": {
     "end_time": "2020-12-16T16:12:48.672071Z",
     "start_time": "2020-12-16T16:12:48.620877Z"
    }
   },
   "outputs": [],
   "source": [
    "imp = replace(prototype,\n",
    "    language='python-imperative',\n",
    "    source='''\n",
    "def get_mean(ls):\n",
    "  sum = 0\n",
    "  for e in ls:\n",
    "    sum += e['value']\n",
    "  return sum/len(ls)\n",
    "\n",
    "def changing_mean(vals):\n",
    "  start_mean = get_mean(vals)\n",
    "  for i,elem in enumerate(vals):\n",
    "    new_ls = vals[:i] + vals[i+1:]\n",
    "    mean = get_mean(new_ls)\n",
    "    if abs(mean - start_mean) < 0.1:\n",
    "      return i\n",
    "  return None\n",
    "''').load_plan()\n",
    "imp.execute(task)\n",
    "imp.save()"
   ]
  },
  {
   "cell_type": "code",
   "execution_count": 9,
   "metadata": {
    "ExecuteTime": {
     "end_time": "2020-12-16T16:12:50.203251Z",
     "start_time": "2020-12-16T16:12:50.165069Z"
    }
   },
   "outputs": [],
   "source": [
    "func = replace(prototype,\n",
    "    language='python-functional',\n",
    "    source='''\n",
    "def changing_mean(vals):\n",
    "  start_mean = sum([l['value'] for l in vals])/len(vals)\n",
    "  diff = lambda m, sm: abs(m - sm)\n",
    "    \n",
    "  for i,elem in enumerate(vals):\n",
    "    new_ls = [x['value'] for x in vals if x != elem]\n",
    "    mean = sum(new_ls)/len(new_ls)\n",
    "    if diff(mean,start_mean) < 0.1:\n",
    "      return i\n",
    "  return None\n",
    "''').load_plan()\n",
    "func.execute(task)\n",
    "func.save()"
   ]
  },
  {
   "cell_type": "code",
   "execution_count": 10,
   "metadata": {
    "ExecuteTime": {
     "end_time": "2020-12-16T16:12:51.050401Z",
     "start_time": "2020-12-16T16:12:51.003930Z"
    }
   },
   "outputs": [],
   "source": [
    "pandas = replace(prototype,\n",
    "    language='python-pandas',\n",
    "    source='''\n",
    "def changing_mean(vals):\n",
    "  mean = vals.value.mean()\n",
    "  mean_without = vals.apply(lambda row: vals[vals.id != row.id].value.mean(), axis=1)\n",
    "  return vals[(mean_without - mean).abs() < 0.1].id.tolist()\n",
    "''').load_plan()\n",
    "pandas.execute(task)\n",
    "pandas.save()"
   ]
  },
  {
   "cell_type": "code",
   "execution_count": 11,
   "metadata": {
    "ExecuteTime": {
     "end_time": "2020-12-16T16:12:51.911399Z",
     "start_time": "2020-12-16T16:12:51.764490Z"
    }
   },
   "outputs": [
    {
     "name": "stdout",
     "output_type": "stream",
     "text": [
      "Error: Unable to deduce type for variable I in file program.dl at line 12\n",
      "changing_mean(I) :-\n",
      "--------------^-----\n",
      "Error: Unable to deduce type for variable I in file program.dl at line 13\n",
      "  vals(I, _),\n",
      "-------^------\n",
      "Error: Unable to deduce type for variable I in file program.dl at line 17\n",
      "  avg_except(I, AvgExcept),\n",
      "-------------^--------------\n",
      "3 errors generated, evaluation aborted\n",
      "\n"
     ]
    },
    {
     "ename": "CalledProcessError",
     "evalue": "Command 'souffle -F. -D. program.dl' returned non-zero exit status 1.",
     "output_type": "error",
     "traceback": [
      "\u001b[0;31m---------------------------------------------------------------------------\u001b[0m",
      "\u001b[0;31mCalledProcessError\u001b[0m                        Traceback (most recent call last)",
      "\u001b[0;32m<ipython-input-11-501183b47197>\u001b[0m in \u001b[0;36m<module>\u001b[0;34m\u001b[0m\n\u001b[1;32m     17\u001b[0m   ((Avg > AvgExcept, Avg - AvgExcept < 0.1);\n\u001b[1;32m     18\u001b[0m    (Avg < AvgExcept, AvgExcept - Avg < 0.1)).''').load_plan()\n\u001b[0;32m---> 19\u001b[0;31m \u001b[0mdatalog\u001b[0m\u001b[0;34m.\u001b[0m\u001b[0mexecute\u001b[0m\u001b[0;34m(\u001b[0m\u001b[0mtask\u001b[0m\u001b[0;34m)\u001b[0m\u001b[0;34m\u001b[0m\u001b[0;34m\u001b[0m\u001b[0m\n\u001b[0m\u001b[1;32m     20\u001b[0m \u001b[0mdatalog\u001b[0m\u001b[0;34m.\u001b[0m\u001b[0msave\u001b[0m\u001b[0;34m(\u001b[0m\u001b[0;34m)\u001b[0m\u001b[0;34m\u001b[0m\u001b[0;34m\u001b[0m\u001b[0m\n",
      "\u001b[0;32m~/Code/expressiveness-benchmark/expressiveness_benchmark/types.py\u001b[0m in \u001b[0;36mexecute\u001b[0;34m(self, task, debug)\u001b[0m\n\u001b[1;32m    197\u001b[0m             \u001b[0mdataframes\u001b[0m\u001b[0;34m[\u001b[0m\u001b[0mtable_name\u001b[0m\u001b[0;34m]\u001b[0m \u001b[0;34m=\u001b[0m \u001b[0mdf\u001b[0m\u001b[0;34m.\u001b[0m\u001b[0mreindex\u001b[0m\u001b[0;34m(\u001b[0m\u001b[0msorted\u001b[0m\u001b[0;34m(\u001b[0m\u001b[0mdf\u001b[0m\u001b[0;34m.\u001b[0m\u001b[0mcolumns\u001b[0m\u001b[0;34m)\u001b[0m\u001b[0;34m,\u001b[0m \u001b[0maxis\u001b[0m\u001b[0;34m=\u001b[0m\u001b[0;36m1\u001b[0m\u001b[0;34m)\u001b[0m\u001b[0;34m\u001b[0m\u001b[0;34m\u001b[0m\u001b[0m\n\u001b[1;32m    198\u001b[0m \u001b[0;34m\u001b[0m\u001b[0m\n\u001b[0;32m--> 199\u001b[0;31m         \u001b[0mret\u001b[0m \u001b[0;34m=\u001b[0m \u001b[0mLANGUAGES\u001b[0m\u001b[0;34m[\u001b[0m\u001b[0mself\u001b[0m\u001b[0;34m.\u001b[0m\u001b[0mlanguage\u001b[0m\u001b[0;34m]\u001b[0m\u001b[0;34m.\u001b[0m\u001b[0mexecute\u001b[0m\u001b[0;34m(\u001b[0m\u001b[0mself\u001b[0m\u001b[0;34m,\u001b[0m \u001b[0mtask\u001b[0m\u001b[0;34m,\u001b[0m \u001b[0mdataframes\u001b[0m\u001b[0;34m,\u001b[0m \u001b[0mdebug\u001b[0m\u001b[0;34m)\u001b[0m\u001b[0;34m\u001b[0m\u001b[0;34m\u001b[0m\u001b[0m\n\u001b[0m\u001b[1;32m    200\u001b[0m \u001b[0;34m\u001b[0m\u001b[0m\n\u001b[1;32m    201\u001b[0m         \u001b[0mself\u001b[0m\u001b[0;34m.\u001b[0m\u001b[0mcheck_equals\u001b[0m\u001b[0;34m(\u001b[0m\u001b[0mtask\u001b[0m\u001b[0;34m.\u001b[0m\u001b[0msample_output\u001b[0m\u001b[0;34m,\u001b[0m \u001b[0mret\u001b[0m\u001b[0;34m)\u001b[0m\u001b[0;34m\u001b[0m\u001b[0;34m\u001b[0m\u001b[0m\n",
      "\u001b[0;32m~/Code/expressiveness-benchmark/expressiveness_benchmark/languages/datalog.py\u001b[0m in \u001b[0;36mexecute\u001b[0;34m(self, program, task, dataframes, debug)\u001b[0m\n\u001b[1;32m     55\u001b[0m \u001b[0;34m\u001b[0m\u001b[0m\n\u001b[1;32m     56\u001b[0m             \u001b[0;32mtry\u001b[0m\u001b[0;34m:\u001b[0m\u001b[0;34m\u001b[0m\u001b[0;34m\u001b[0m\u001b[0m\n\u001b[0;32m---> 57\u001b[0;31m                 sp.check_output(\n\u001b[0m\u001b[1;32m     58\u001b[0m                     \u001b[0;34m\"souffle -F. -D. program.dl\"\u001b[0m\u001b[0;34m,\u001b[0m\u001b[0;34m\u001b[0m\u001b[0;34m\u001b[0m\u001b[0m\n\u001b[1;32m     59\u001b[0m                     \u001b[0mcwd\u001b[0m\u001b[0;34m=\u001b[0m\u001b[0mpath\u001b[0m\u001b[0;34m,\u001b[0m\u001b[0;34m\u001b[0m\u001b[0;34m\u001b[0m\u001b[0m\n",
      "\u001b[0;32m/usr/local/Cellar/python@3.9/3.9.1/Frameworks/Python.framework/Versions/3.9/lib/python3.9/subprocess.py\u001b[0m in \u001b[0;36mcheck_output\u001b[0;34m(timeout, *popenargs, **kwargs)\u001b[0m\n\u001b[1;32m    418\u001b[0m         \u001b[0mkwargs\u001b[0m\u001b[0;34m[\u001b[0m\u001b[0;34m'input'\u001b[0m\u001b[0;34m]\u001b[0m \u001b[0;34m=\u001b[0m \u001b[0;34m''\u001b[0m \u001b[0;32mif\u001b[0m \u001b[0mkwargs\u001b[0m\u001b[0;34m.\u001b[0m\u001b[0mget\u001b[0m\u001b[0;34m(\u001b[0m\u001b[0;34m'universal_newlines'\u001b[0m\u001b[0;34m,\u001b[0m \u001b[0;32mFalse\u001b[0m\u001b[0;34m)\u001b[0m \u001b[0;32melse\u001b[0m \u001b[0;34mb''\u001b[0m\u001b[0;34m\u001b[0m\u001b[0;34m\u001b[0m\u001b[0m\n\u001b[1;32m    419\u001b[0m \u001b[0;34m\u001b[0m\u001b[0m\n\u001b[0;32m--> 420\u001b[0;31m     return run(*popenargs, stdout=PIPE, timeout=timeout, check=True,\n\u001b[0m\u001b[1;32m    421\u001b[0m                **kwargs).stdout\n\u001b[1;32m    422\u001b[0m \u001b[0;34m\u001b[0m\u001b[0m\n",
      "\u001b[0;32m/usr/local/Cellar/python@3.9/3.9.1/Frameworks/Python.framework/Versions/3.9/lib/python3.9/subprocess.py\u001b[0m in \u001b[0;36mrun\u001b[0;34m(input, capture_output, timeout, check, *popenargs, **kwargs)\u001b[0m\n\u001b[1;32m    522\u001b[0m         \u001b[0mretcode\u001b[0m \u001b[0;34m=\u001b[0m \u001b[0mprocess\u001b[0m\u001b[0;34m.\u001b[0m\u001b[0mpoll\u001b[0m\u001b[0;34m(\u001b[0m\u001b[0;34m)\u001b[0m\u001b[0;34m\u001b[0m\u001b[0;34m\u001b[0m\u001b[0m\n\u001b[1;32m    523\u001b[0m         \u001b[0;32mif\u001b[0m \u001b[0mcheck\u001b[0m \u001b[0;32mand\u001b[0m \u001b[0mretcode\u001b[0m\u001b[0;34m:\u001b[0m\u001b[0;34m\u001b[0m\u001b[0;34m\u001b[0m\u001b[0m\n\u001b[0;32m--> 524\u001b[0;31m             raise CalledProcessError(retcode, process.args,\n\u001b[0m\u001b[1;32m    525\u001b[0m                                      output=stdout, stderr=stderr)\n\u001b[1;32m    526\u001b[0m     \u001b[0;32mreturn\u001b[0m \u001b[0mCompletedProcess\u001b[0m\u001b[0;34m(\u001b[0m\u001b[0mprocess\u001b[0m\u001b[0;34m.\u001b[0m\u001b[0margs\u001b[0m\u001b[0;34m,\u001b[0m \u001b[0mretcode\u001b[0m\u001b[0;34m,\u001b[0m \u001b[0mstdout\u001b[0m\u001b[0;34m,\u001b[0m \u001b[0mstderr\u001b[0m\u001b[0;34m)\u001b[0m\u001b[0;34m\u001b[0m\u001b[0;34m\u001b[0m\u001b[0m\n",
      "\u001b[0;31mCalledProcessError\u001b[0m: Command 'souffle -F. -D. program.dl' returned non-zero exit status 1."
     ]
    }
   ],
   "source": [
    "#NOTE: Issue with float conversion\n",
    "datalog = replace(prototype,\n",
    "    language='datalog',\n",
    "    source='''.decl avg_except(I:number, Avg:float)    \n",
    "avg_except(I, Avg) :- \n",
    "  vals(I, _),\n",
    "  N = sum 1.0 : { vals(J, _), I != J },\n",
    "  Total = sum V : { vals(J, V), I != J },\n",
    "  Avg = Total / N.\n",
    "  \n",
    "changing_mean(I) :-\n",
    "  vals(I, _),\n",
    "  N = sum 1.0 : vals(_, _),\n",
    "  Total = sum V : vals(_, V),\n",
    "  Avg = Total / N,\n",
    "  avg_except(I, AvgExcept),\n",
    "  ((Avg > AvgExcept, Avg - AvgExcept < 0.1);\n",
    "   (Avg < AvgExcept, AvgExcept - Avg < 0.1)).''').load_plan()\n",
    "datalog.execute(task)\n",
    "datalog.save()"
   ]
  },
  {
   "cell_type": "code",
   "execution_count": 12,
   "metadata": {
    "ExecuteTime": {
     "end_time": "2020-12-16T16:12:54.199239Z",
     "start_time": "2020-12-16T16:12:54.170347Z"
    }
   },
   "outputs": [],
   "source": [
    "#NOTE issue with getting average of dataset without current value\n",
    "sql = replace(prototype,\n",
    "    language='sql',\n",
    "    source='''SELECT id\n",
    "FROM vals v1\n",
    "WHERE ABS((\n",
    "  SELECT AVG(value)\n",
    "  FROM vals v2\n",
    "  WHERE v1.id != v2.id\n",
    ") - (SELECT AVG(value) FROM vals)) < 0.1''').load_plan()\n",
    "sql.save()"
   ]
  },
  {
   "cell_type": "code",
   "execution_count": 10,
   "metadata": {
    "scrolled": true
   },
   "outputs": [
    {
     "data": {
      "application/vnd.jupyter.widget-view+json": {
       "model_id": "15bd0d16097d419e88176ecf1fae3711",
       "version_major": 2,
       "version_minor": 0
      },
      "text/plain": [
       "Output()"
      ]
     },
     "metadata": {},
     "output_type": "display_data"
    },
    {
     "data": {
      "application/vnd.jupyter.widget-view+json": {
       "model_id": "534ef14861344680bbae822375fbb488",
       "version_major": 2,
       "version_minor": 0
      },
      "text/plain": [
       "CodeWidget(program='{\"task\": \"changing_mean\", \"language\": \"datalog\", \"plan\": {\"orig\": [{\"line\": 9, \"start\": 2,…"
      ]
     },
     "metadata": {},
     "output_type": "display_data"
    }
   ],
   "source": [
    "program = datalog\n",
    "program.widget(task)"
   ]
  },
  {
   "cell_type": "code",
   "execution_count": null,
   "metadata": {},
   "outputs": [],
   "source": []
  }
 ],
 "metadata": {
  "kernelspec": {
   "display_name": "Python 3",
   "language": "python",
   "name": "python3"
  },
  "language_info": {
   "codemirror_mode": {
    "name": "ipython",
    "version": 3
   },
   "file_extension": ".py",
   "mimetype": "text/x-python",
   "name": "python",
   "nbconvert_exporter": "python",
   "pygments_lexer": "ipython3",
   "version": "3.9.1"
  },
  "toc": {
   "base_numbering": 1,
   "nav_menu": {},
   "number_sections": true,
   "sideBar": true,
   "skip_h1_title": false,
   "title_cell": "Table of Contents",
   "title_sidebar": "Contents",
   "toc_cell": false,
   "toc_position": {},
   "toc_section_display": true,
   "toc_window_display": false
  },
  "varInspector": {
   "cols": {
    "lenName": 16,
    "lenType": 16,
    "lenVar": 40
   },
   "kernels_config": {
    "python": {
     "delete_cmd_postfix": "",
     "delete_cmd_prefix": "del ",
     "library": "var_list.py",
     "varRefreshCmd": "print(var_dic_list())"
    },
    "r": {
     "delete_cmd_postfix": ") ",
     "delete_cmd_prefix": "rm(",
     "library": "var_list.r",
     "varRefreshCmd": "cat(var_dic_list()) "
    }
   },
   "types_to_exclude": [
    "module",
    "function",
    "builtin_function_or_method",
    "instance",
    "_Feature"
   ],
   "window_display": false
  }
 },
 "nbformat": 4,
 "nbformat_minor": 2
}
